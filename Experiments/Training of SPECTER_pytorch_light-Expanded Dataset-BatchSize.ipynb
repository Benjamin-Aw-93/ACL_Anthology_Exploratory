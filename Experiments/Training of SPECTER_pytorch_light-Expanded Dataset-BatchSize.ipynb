{
 "cells": [
  {
   "cell_type": "markdown",
   "metadata": {},
   "source": [
    "### Importing packages"
   ]
  },
  {
   "cell_type": "code",
   "execution_count": null,
   "metadata": {},
   "outputs": [],
   "source": [
    "# Libraries\n",
    "import time\n",
    "\n",
    "# Reading in files\n",
    "import pandas as pd\n",
    "import numpy as np\n",
    "\n",
    "# Progress bar\n",
    "from tqdm.auto import tqdm\n",
    "\n",
    "# Torch modules\n",
    "import torch\n",
    "import torch.nn as nn\n",
    "from torch.utils.data import Dataset, DataLoader\n",
    "from transformers import BertTokenizerFast as AutoTokenizer, AutoModel, AdamW, get_linear_schedule_with_warmup\n",
    "\n",
    "# Lightning modules\n",
    "import pytorch_lightning as pl\n",
    "from torchmetrics.functional import accuracy, auroc\n",
    "from torchmetrics import F1Score\n",
    "from pytorch_lightning.callbacks import ModelCheckpoint, EarlyStopping\n",
    "from pytorch_lightning.loggers import TensorBoardLogger\n",
    "from torchmetrics.classification import MulticlassAccuracy, MulticlassF1Score, MulticlassPrecision, MulticlassRecall\n",
    "\n",
    "# Split dataset/validation\n",
    "from sklearn.model_selection import train_test_split\n",
    "from sklearn.metrics import classification_report, multilabel_confusion_matrix\n",
    "from sklearn.model_selection import StratifiedKFold\n",
    "\n",
    "# Importing own functions \n",
    "from extract.importing_data import get_section"
   ]
  },
  {
   "cell_type": "markdown",
   "metadata": {},
   "source": [
    "### Reading in data"
   ]
  },
  {
   "cell_type": "code",
   "execution_count": null,
   "metadata": {},
   "outputs": [],
   "source": [
    "df = pd.read_csv(\"../Data/Collated_dataset_for_scientific_papers.csv\")"
   ]
  },
  {
   "cell_type": "code",
   "execution_count": null,
   "metadata": {},
   "outputs": [],
   "source": [
    "df = df[[\"Intro Concl\", \"Labels\"]]"
   ]
  },
  {
   "cell_type": "code",
   "execution_count": null,
   "metadata": {},
   "outputs": [],
   "source": [
    "df.columns = [\"string\", \"label\"]"
   ]
  },
  {
   "cell_type": "code",
   "execution_count": null,
   "metadata": {},
   "outputs": [],
   "source": [
    "possible_labels = list(df['label'].unique())\n",
    "possible_labels_num = list(range(0,len(possible_labels)))"
   ]
  },
  {
   "cell_type": "code",
   "execution_count": null,
   "metadata": {},
   "outputs": [],
   "source": [
    "len(possible_labels)"
   ]
  },
  {
   "cell_type": "markdown",
   "metadata": {},
   "source": [
    "### Tokenizer "
   ]
  },
  {
   "cell_type": "code",
   "execution_count": null,
   "metadata": {},
   "outputs": [],
   "source": [
    "MODEL_NAME = 'allenai/specter'\n",
    "tokenizer = AutoTokenizer.from_pretrained(MODEL_NAME)"
   ]
  },
  {
   "cell_type": "code",
   "execution_count": null,
   "metadata": {},
   "outputs": [],
   "source": [
    "mapping = zip(possible_labels, possible_labels_num)\n",
    "label_to_idx = {label: num  for label, num in mapping}\n",
    "mapping = zip(possible_labels, possible_labels_num)\n",
    "idx_to_label = {num: label for label, num in mapping}"
   ]
  },
  {
   "cell_type": "code",
   "execution_count": null,
   "metadata": {},
   "outputs": [],
   "source": [
    "MAX_TOKEN_COUNT = 512\n",
    "N_EPOCHS = 5\n",
    "BATCH_SIZE = 8 # Changes: Edit the batch size here\n",
    "KFOLD = 5"
   ]
  },
  {
   "cell_type": "code",
   "execution_count": null,
   "metadata": {},
   "outputs": [],
   "source": [
    "class SpecterDataset(Dataset):\n",
    "    \n",
    "    def __init__(self, data: pd.DataFrame, tokenizer: AutoTokenizer, max_token_len: int = MAX_TOKEN_COUNT, mapping = label_to_idx):\n",
    "        self.tokenizer = tokenizer\n",
    "        self.data = data\n",
    "        self.max_token_len = max_token_len\n",
    "        self.mapping = mapping\n",
    "    \n",
    "    def __len__(self):\n",
    "        return len(self.data)\n",
    "    \n",
    "    \n",
    "    def __getitem__(self, index: int):\n",
    "    \n",
    "        data_row = self.data.iloc[index]\n",
    "        text = data_row[\"string\"]\n",
    "        labels = self.mapping[data_row[\"label\"]]\n",
    "\n",
    "        encoding = self.tokenizer.encode_plus(\n",
    "          text,\n",
    "          add_special_tokens=True,\n",
    "          max_length=self.max_token_len,\n",
    "          return_token_type_ids=False,\n",
    "          padding=\"max_length\",\n",
    "          truncation=True,\n",
    "          return_attention_mask=True,\n",
    "          return_tensors='pt',\n",
    "        )\n",
    "\n",
    "        return dict(\n",
    "          text=text,\n",
    "          input_ids=encoding[\"input_ids\"].flatten(),\n",
    "          attention_mask=encoding[\"attention_mask\"].flatten(),\n",
    "          labels=labels\n",
    "        )"
   ]
  },
  {
   "cell_type": "code",
   "execution_count": null,
   "metadata": {},
   "outputs": [],
   "source": [
    "class SpecterDataModule(pl.LightningDataModule):\n",
    "    \n",
    "    def __init__(self, df,\n",
    "                 tokenizer,\n",
    "                 k = 0,  # fold number\n",
    "                 split_seed = 123,  # split needs to be always the same for correct cross validation\n",
    "                 num_splits = KFOLD,\n",
    "                 batch_size = BATCH_SIZE, \n",
    "                 max_token_len = MAX_TOKEN_COUNT,\n",
    "                 num_workers = 0,\n",
    "                 pin_memory = False):\n",
    "        \n",
    "        super().__init__()\n",
    "\n",
    "        self.save_hyperparameters(logger=False)\n",
    "    \n",
    "    def setup(self, stage=None):\n",
    "\n",
    "        # choose fold to train on\n",
    "        kf = StratifiedKFold(n_splits=self.hparams.num_splits, shuffle=True, random_state=self.hparams.split_seed)\n",
    "        all_splits = [k for k in kf.split(df, df.label)]\n",
    "        train_indexes, val_indexes = all_splits[self.hparams.k]\n",
    "        train_indexes, val_indexes = train_indexes.tolist(), val_indexes.tolist()\n",
    "\n",
    "        self.data_train, self.data_val = df.iloc[train_indexes], df.iloc[val_indexes]\n",
    "        \n",
    "        self.train_dataset = SpecterDataset(\n",
    "          self.data_train,\n",
    "          self.hparams.tokenizer,\n",
    "          self.hparams.max_token_len\n",
    "        )\n",
    "        self.val_dataset = SpecterDataset(\n",
    "          self.data_val,\n",
    "          self.hparams.tokenizer,\n",
    "          self.hparams.max_token_len\n",
    "        )\n",
    "        \n",
    "    def train_dataloader(self):\n",
    "        return DataLoader(\n",
    "          self.train_dataset,\n",
    "          batch_size = self.hparams.batch_size,\n",
    "          shuffle=True\n",
    "        )\n",
    "    \n",
    "    def val_dataloader(self):\n",
    "        return DataLoader(\n",
    "          self.val_dataset,\n",
    "          batch_size = self.hparams.batch_size\n",
    "        )"
   ]
  },
  {
   "cell_type": "markdown",
   "metadata": {},
   "source": [
    "### Modelling"
   ]
  },
  {
   "cell_type": "code",
   "execution_count": null,
   "metadata": {},
   "outputs": [],
   "source": [
    "class SpecterClassModel(pl.LightningModule):\n",
    "    \n",
    "    def __init__(self, n_classes: int, n_training_steps=None, n_warmup_steps=None):\n",
    "    \n",
    "        super().__init__()\n",
    "        self.specter = AutoModel.from_pretrained(MODEL_NAME, return_dict=True)\n",
    "        # Changes: Edit model architecture forward pass here\n",
    "        self.classifier = nn.Linear(self.specter.config.hidden_size, n_classes)\n",
    "        self.n_training_steps = n_training_steps\n",
    "        self.n_warmup_steps = n_warmup_steps\n",
    "        self.criterion = nn.CrossEntropyLoss()\n",
    "        self.acc = MulticlassAccuracy(num_classes = 21, average = 'weighted') #measure performance based on weighted average\n",
    "        self.f1 = MulticlassF1Score(num_classes = 21, average = 'weighted')\n",
    "        self.prec = MulticlassPrecision(num_classes = 21, average = 'weighted')\n",
    "        self.rec = MulticlassRecall(num_classes = 21, average = 'weighted')\n",
    "        \n",
    "        # Changes: Comment below code to remove freezing of the SPECTER embeddings\n",
    "        for name, param in self.specter.named_parameters():\n",
    "            if name.startswith('embeddings'):\n",
    "                param.requires_grad = False\n",
    "    \n",
    "    \n",
    "    def forward(self, input_ids, attention_mask, labels=None):\n",
    "        output = self.specter(input_ids, attention_mask=attention_mask)\n",
    "        # Changes: Edit model architecture forward pass here\n",
    "        output = self.classifier(output.pooler_output)\n",
    "        loss = 0\n",
    "        if labels is not None:\n",
    "            loss = self.criterion(output, labels)\n",
    "            # acc = self.acc(output, labels)\n",
    "            # f1 = self.f1(output, labels)\n",
    "            # prec = self.prec(output, labels)\n",
    "            # rec = self.rec(output, labels)\n",
    "        return loss, output#, acc, f1, prec, rec\n",
    "\n",
    "    def training_step(self, batch, batch_idx):\n",
    "        input_ids = batch[\"input_ids\"]\n",
    "        attention_mask = batch[\"attention_mask\"]\n",
    "        labels = batch[\"labels\"]\n",
    "        #loss, output, acc, f1, prec, rec = self(input_ids, attention_mask, labels)\n",
    "        loss, output = self(input_ids, attention_mask, labels)\n",
    "        self.log(\"train_loss\", loss, prog_bar=True, logger=True)\n",
    "        return {\"loss\": loss, \"predictions\": output, \"labels\": labels}\n",
    "\n",
    "    \n",
    "    def validation_step(self, batch, batch_idx):\n",
    "        input_ids = batch[\"input_ids\"]\n",
    "        attention_mask = batch[\"attention_mask\"]\n",
    "        labels = batch[\"labels\"]\n",
    "        #loss, output, acc, f1, prec, rec = self(input_ids, attention_mask, labels)\n",
    "        loss, output = self(input_ids, attention_mask, labels)\n",
    "        self.log(\"val_loss\", loss, prog_bar=True, logger=True)\n",
    "        return {\"loss\": loss, \"predictions\": output, \"labels\": labels}\n",
    "    \n",
    "    def training_epoch_end(self, outputs):\n",
    "        avg_loss = sum(output['loss'].item() for output in outputs) / len(outputs)\n",
    "        \n",
    "        predictions = torch.cat([output['predictions'] for output in outputs])\n",
    "        labels = torch.cat([output['labels'] for output in outputs])\n",
    "        \n",
    "        acc = self.acc(predictions, labels)\n",
    "        f1 = self.f1(predictions, labels)\n",
    "        prec = self.prec(predictions, labels)\n",
    "        rec = self.rec(predictions, labels)\n",
    "        print(f\"******Train epoch {self.current_epoch} eval metrics: loss {avg_loss:.8f}, f1 {f1:.4f} prec {prec:.4f} rec {rec:.4f}, acc {acc:.4f}\")\n",
    "        \n",
    "        self.logger.experiment.add_scalars('loss', {'train': avg_loss}, self.current_epoch)    \n",
    "    \n",
    "    def validation_epoch_end(self, outputs):\n",
    "        avg_loss = sum(output['loss'].item() for output in outputs) / len(outputs)\n",
    "\n",
    "        predictions = torch.cat([output['predictions'] for output in outputs])\n",
    "        labels = torch.cat([output['labels'] for output in outputs])\n",
    "        \n",
    "        acc = self.acc(predictions, labels)\n",
    "        f1 = self.f1(predictions, labels)\n",
    "        prec = self.prec(predictions, labels)\n",
    "        rec = self.rec(predictions, labels)\n",
    "        print(f\"******Val epoch {self.current_epoch} eval metrics: loss {avg_loss:.8f}, f1 {f1:.4f} prec {prec:.4f} rec {rec:.4f}, acc {acc:.4f}\")\n",
    "        \n",
    "            \n",
    "        #For final output/Tensorboard visualisation\n",
    "        self.log(\"Ignore/acc\", acc, logger=True)\n",
    "        self.log(\"Ignore/f1\", f1, logger=True)\n",
    "        self.log(\"Ignore/prec\", prec, logger=True)\n",
    "        self.log(\"Ignore/rec\", rec, logger=True)\n",
    "        \n",
    "        #For Tensorboard visualisaion with Epoch as x axis\n",
    "        self.logger.experiment.add_scalar('Collated/acc', acc, self.current_epoch)\n",
    "        self.logger.experiment.add_scalar('Collated/f1', f1, self.current_epoch)\n",
    "        self.logger.experiment.add_scalar('Collated/prec', prec, self.current_epoch)\n",
    "        self.logger.experiment.add_scalar('Collated/rec', rec, self.current_epoch)\n",
    "    \n",
    "        self.logger.experiment.add_scalars('loss', {'val': avg_loss}, self.current_epoch)\n",
    "    \n",
    "    def configure_optimizers(self):\n",
    "        optimizer = AdamW(self.parameters(), lr=2e-5) # Changes: Edit the learning rate\n",
    "        scheduler = get_linear_schedule_with_warmup( # Changes: Edit the scheduler\n",
    "          optimizer,\n",
    "          num_warmup_steps=self.n_warmup_steps,\n",
    "          num_training_steps=self.n_training_steps\n",
    "        )\n",
    "        \n",
    "        return dict(\n",
    "          optimizer = optimizer,\n",
    "          lr_scheduler = dict(\n",
    "            scheduler = scheduler,\n",
    "            interval = 'step'\n",
    "          )\n",
    "        )"
   ]
  },
  {
   "cell_type": "code",
   "execution_count": null,
   "metadata": {},
   "outputs": [],
   "source": [
    "experiment = f\"BatchSize({BATCH_SIZE})\"\n",
    "time_now = time.strftime(\"%d_%m_%Y_%H_%M\")"
   ]
  },
  {
   "cell_type": "code",
   "execution_count": null,
   "metadata": {},
   "outputs": [],
   "source": [
    "# early_stopping_callback = EarlyStopping(monitor='val_loss', patience=2)"
   ]
  },
  {
   "cell_type": "code",
   "execution_count": null,
   "metadata": {},
   "outputs": [],
   "source": [
    "steps_per_epoch= round(len(df) * 0.8 // BATCH_SIZE)\n",
    "total_training_steps = steps_per_epoch * N_EPOCHS\n",
    "warmup_steps = total_training_steps // 5\n",
    "warmup_steps, total_training_steps"
   ]
  },
  {
   "cell_type": "code",
   "execution_count": null,
   "metadata": {},
   "outputs": [],
   "source": [
    "result_acc_lst = []\n",
    "result_f1_lst = []\n",
    "result_prec_lst = []\n",
    "result_recall_lst = []\n",
    "nums_fold = 5\n",
    "split_seed = 123\n",
    "\n",
    "for k in range(nums_fold):\n",
    "    data_module = SpecterDataModule(df, tokenizer, k = k)\n",
    "    \n",
    "    checkpoint_callback = ModelCheckpoint(\n",
    "        dirpath = \"checkpoints\",\n",
    "        filename = f\"best-checkpoint-Specter_{experiment}_{time_now}_run{k}\",\n",
    "        save_top_k = 1,\n",
    "        verbose = True,\n",
    "        monitor = \"val_loss\",\n",
    "        mode = \"min\"\n",
    "    )\n",
    "\n",
    "    # here we train the model on given split...\n",
    "    logger = TensorBoardLogger(\"lightning_logs\", name = f\"Specter_{experiment}_{time_now}_run{k}\")\n",
    "    model = SpecterClassModel(n_classes = 21, n_warmup_steps = warmup_steps, n_training_steps = total_training_steps)\n",
    "    trainer = pl.Trainer(logger = logger, callbacks = [checkpoint_callback], max_epochs = N_EPOCHS, accelerator = \"auto\")\n",
    "    trainer.fit(model, data_module)\n",
    "\n",
    "    accuracy = trainer.callback_metrics['Ignore/acc'].item()\n",
    "    f1 = trainer.callback_metrics['Ignore/f1'].item()\n",
    "    precision = trainer.callback_metrics['Ignore/_prec'].item()\n",
    "    recall = trainer.callback_metrics['Ignore/rec'].item()\n",
    "    \n",
    "    result_acc_lst.append(accuracy)\n",
    "    result_f1_lst.append(f1)\n",
    "    result_prec_lst.append(precision)\n",
    "    result_recall_lst.append(recall)\n",
    "\n",
    "average_val_acc_score = sum(result_acc_lst) / len(result_acc_lst)\n",
    "average_val_f1_score = sum(result_f1_lst) / len(result_f1_lst)\n",
    "average_val_prec_score = sum(result_prec_lst) / len(result_prec_lst)\n",
    "average_val_recall_score = sum(result_recall_lst) / len(result_recall_lst)"
   ]
  },
  {
   "cell_type": "code",
   "execution_count": null,
   "metadata": {},
   "outputs": [],
   "source": [
    "print(f\"The average accuracy of the validation set across 5 folds is: {average_val_acc_score}\")\n",
    "print(f\"The average F1 score of the validation set across 5 folds is: {average_val_f1_score}\")\n",
    "print(f\"The average precision of the validation set across 5 folds is: {average_val_prec_score}\")\n",
    "print(f\"The average recall of the validation set across 5 folds is: {average_val_recall_score}\")"
   ]
  },
  {
   "cell_type": "markdown",
   "metadata": {},
   "source": [
    "### Stop here for now We might want to take a look at creating a test set "
   ]
  }
 ],
 "metadata": {
  "kernelspec": {
   "display_name": "myenv",
   "language": "python",
   "name": "myenv"
  },
  "language_info": {
   "codemirror_mode": {
    "name": "ipython",
    "version": 3
   },
   "file_extension": ".py",
   "mimetype": "text/x-python",
   "name": "python",
   "nbconvert_exporter": "python",
   "pygments_lexer": "ipython3",
   "version": "3.9.15"
  },
  "vscode": {
   "interpreter": {
    "hash": "2b110531817a2bf0b8e1fa59ad47ae74cf2e8602bdaf1b8cf6b96ebd8cf78ed6"
   }
  }
 },
 "nbformat": 4,
 "nbformat_minor": 4
}
