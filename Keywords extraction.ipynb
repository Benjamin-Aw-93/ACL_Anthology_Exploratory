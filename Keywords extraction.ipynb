{
 "cells": [
  {
   "cell_type": "markdown",
   "metadata": {},
   "source": [
    "### Importing packages"
   ]
  },
  {
   "cell_type": "code",
   "execution_count": 1,
   "metadata": {},
   "outputs": [],
   "source": [
    "# Libraries\n",
    "\n",
    "# Reading in files\n",
    "import pandas as pd\n",
    "import numpy as np\n",
    "\n",
    "import spacy\n",
    "import scipy.sparse as sp\n",
    "from nltk.stem.snowball import SnowballStemmer\n",
    "\n",
    "from sklearn.feature_extraction.text import TfidfTransformer, TfidfVectorizer, CountVectorizer\n",
    "from sklearn.preprocessing import normalize\n",
    "from sklearn.metrics import classification_report\n",
    "\n",
    "from sklearn.metrics import confusion_matrix\n",
    "import seaborn as sns\n",
    "import matplotlib.pyplot as plt\n",
    "\n",
    "from keybert import KeyBERT\n",
    "from flair.embeddings import TransformerDocumentEmbeddings\n",
    "\n",
    "import yake\n",
    "\n",
    "import sys\n",
    "import time\n",
    "\n",
    "from tqdm import tqdm\n",
    "\n",
    "tqdm.pandas()"
   ]
  },
  {
   "cell_type": "code",
   "execution_count": 2,
   "metadata": {},
   "outputs": [],
   "source": [
    "pd.options.display.max_colwidth = 5000"
   ]
  },
  {
   "cell_type": "markdown",
   "metadata": {},
   "source": [
    "### Reading in data"
   ]
  },
  {
   "cell_type": "code",
   "execution_count": 1273,
   "metadata": {
    "scrolled": true
   },
   "outputs": [
    {
     "data": {
      "text/html": [
       "<div>\n",
       "<style scoped>\n",
       "    .dataframe tbody tr th:only-of-type {\n",
       "        vertical-align: middle;\n",
       "    }\n",
       "\n",
       "    .dataframe tbody tr th {\n",
       "        vertical-align: top;\n",
       "    }\n",
       "\n",
       "    .dataframe thead th {\n",
       "        text-align: right;\n",
       "    }\n",
       "</style>\n",
       "<table border=\"1\" class=\"dataframe\">\n",
       "  <thead>\n",
       "    <tr style=\"text-align: right;\">\n",
       "      <th></th>\n",
       "      <th>Label</th>\n",
       "      <th>Title</th>\n",
       "      <th>Abstract</th>\n",
       "    </tr>\n",
       "  </thead>\n",
       "  <tbody>\n",
       "    <tr>\n",
       "      <th>0</th>\n",
       "      <td>Linguistic Theories, Cognitive Modeling and Psycholinguistics</td>\n",
       "      <td>Overestimation of Syntactic Representation in Neural Language Models</td>\n",
       "      <td>With the advent of powerful neural language models over the last few years, research attention has increasingly focused on what aspects of language they represent that make them so successful. Several testing methodologies have been developed to probe models' syntactic representations. One popular method for determining a model's ability to induce syntactic structure trains a model on strings generated according to a template then tests the model's ability to distinguish such strings from superficially similar ones with different syntax. We illustrate a fundamental problem with this approach by reproducing positive results from a recent paper with two non-syntactic baseline language models: an n-gram model and an LSTM model trained on scrambled inputs.</td>\n",
       "    </tr>\n",
       "    <tr>\n",
       "      <th>1</th>\n",
       "      <td>Linguistic Theories, Cognitive Modeling and Psycholinguistics</td>\n",
       "      <td>Inflecting When There's No Majority: Limitations of Encoder-Decoder Neural Networks as Cognitive Models for German Plurals</td>\n",
       "      <td>Can artificial neural networks learn to represent inflectional morphology and generalize to new words as human speakers do? Kirov and Cotterell (2018) argue that the answer is yes: modern Encoder-Decoder (ED) architectures learn human-like behavior when inflecting English verbs, such as extending the regular past tense form /-(e)d/ to novel words. However, their work does not address the criticism raised by Marcus et al. (1995) : that neural models may learn to extend not the regular, but the most frequent class -and thus fail on tasks like German number inflection, where infrequent suffixes like /-s/ can still be productively generalized. To investigate this question, we first collect a new dataset from German speakers (production and ratings of plural forms for novel nouns) that is designed to avoid sources of information unavailable to the ED model. The speaker data show high variability, and two suffixes evince 'regular' behavior, appearing more often with phonologically atypical inputs. Encoder-decoder models do generalize the most frequently produced plural class, but do not show human-like variability or 'regular' extension of these other plural markers. We conclude that modern neural models may still struggle with minority-class generalization.</td>\n",
       "    </tr>\n",
       "    <tr>\n",
       "      <th>2</th>\n",
       "      <td>Linguistic Theories, Cognitive Modeling and Psycholinguistics</td>\n",
       "      <td>A Systematic Assessment of Syntactic Generalization in Neural Language Models</td>\n",
       "      <td>While state-of-the-art neural network models continue to achieve lower perplexity scores on language modeling benchmarks, it remains unknown whether optimizing for broad-coverage predictive performance leads to human-like syntactic knowledge. Furthermore, existing work has not provided a clear picture about the model properties required to produce proper syntactic generalizations. We present a systematic evaluation of the syntactic knowledge of neural language models, testing 20 combinations of model types and data sizes on a set of 34 English-language syntactic test suites. We find substantial differences in syntactic generalization performance by model architecture, with sequential models underperforming other architectures. Factorially manipulating model architecture and training dataset size (1M-40M words), we find that variability in syntactic generalization performance is substantially greater by architecture than by dataset size for the corpora tested in our experiments. Our results also reveal a dissociation between perplexity and syntactic generalization performance.</td>\n",
       "    </tr>\n",
       "    <tr>\n",
       "      <th>3</th>\n",
       "      <td>Linguistic Theories, Cognitive Modeling and Psycholinguistics</td>\n",
       "      <td>Predicting Depression in Screening Interviews from Latent Categorization of Interview Prompts</td>\n",
       "      <td>Despite the pervasiveness of clinical depression in modern society, professional help remains highly stigmatized, inaccessible, and expensive. Accurately diagnosing depression is difficult-requiring time-intensive interviews, assessments, and analysis. Hence, automated methods that can assess linguistic patterns in these interviews could help psychiatric professionals make faster, more informed decisions about diagnosis. We propose JLPC, a method that analyzes interview transcripts to identify depression while jointly categorizing interview prompts into latent categories. This latent categorization allows the model to identify high-level conversational contexts that influence patterns of language in depressed individuals. We show that the proposed model not only outperforms competitive baselines, but that its latent prompt categories provide psycholinguistic insights about depression.</td>\n",
       "    </tr>\n",
       "    <tr>\n",
       "      <th>4</th>\n",
       "      <td>Linguistic Theories, Cognitive Modeling and Psycholinguistics</td>\n",
       "      <td>Probing Linguistic Systematicity</td>\n",
       "      <td>Recently, there has been much interest in the question of whether deep natural language understanding models exhibit systematicitygeneralizing such that units like words make consistent contributions to the meaning of the sentences in which they appear. There is accumulating evidence that neural models often generalize non-systematically. We examined the notion of systematicity from a linguistic perspective, defining a set of probes and a set of metrics to measure systematic behaviour. We also identified ways in which network architectures can generalize non-systematically, and discuss why such forms of generalization may be unsatisfying. As a case study, we performed a series of experiments in the setting of natural language inference (NLI), demonstrating that some NLU systems achieve high overall performance despite being non-systematic.</td>\n",
       "    </tr>\n",
       "    <tr>\n",
       "      <th>...</th>\n",
       "      <td>...</td>\n",
       "      <td>...</td>\n",
       "      <td>...</td>\n",
       "    </tr>\n",
       "    <tr>\n",
       "      <th>771</th>\n",
       "      <td>Theory and Formalism in NLP (Linguistic and Mathematical)</td>\n",
       "      <td>Dice Loss for Data-imbalanced NLP Tasks</td>\n",
       "      <td>Many NLP tasks such as tagging and machine reading comprehension (MRC) are faced with the severe data imbalance issue: negative examples significantly outnumber positive ones, and the huge number of easy-negative examples overwhelms training. The most commonly used cross entropy criteria is actually accuracy-oriented, which creates a discrepancy between training and test. At training time, each training instance contributes equally to the objective function, while at test time F1 score concerns more about positive examples.</td>\n",
       "    </tr>\n",
       "    <tr>\n",
       "      <th>772</th>\n",
       "      <td>Theory and Formalism in NLP (Linguistic and Mathematical)</td>\n",
       "      <td>Language Models as an Alternative Evaluator of Word Order Hypotheses: A Case Study in Japanese</td>\n",
       "      <td>We examine a methodology using neural language models (LMs) for analyzing the word order of language. This LM-based method has the potential to overcome the difficulties existing methods face, such as the propagation of preprocessor errors in count-based methods. In this study, we explore whether the LMbased method is valid for analyzing the word order. As a case study, this study focuses on Japanese due to its complex and flexible word order. To validate the LM-based method, we test (i) parallels between LMs and human word order preference, and (ii) consistency of the results obtained using the LM-based method with previous linguistic studies. Through our experiments, we tentatively conclude that LMs display sufficient word order knowledge for usage as an analysis tool. Finally, using the LMbased method, we demonstrate the relationship between the canonical word order and topicalization, which had yet to be analyzed by largescale experiments.</td>\n",
       "    </tr>\n",
       "    <tr>\n",
       "      <th>773</th>\n",
       "      <td>Theory and Formalism in NLP (Linguistic and Mathematical)</td>\n",
       "      <td>A Formal Hierarchy of RNN Architectures</td>\n",
       "      <td>We develop a formal hierarchy of the expressive capacity of RNN architectures. The hierarchy is based on two formal properties: space complexity, which measures the RNN's memory, and rational recurrence, defined as whether the recurrent update can be described by a weighted finite-state machine. We place several RNN variants within this hierarchy. For example, we prove the LSTM is not rational, which formally separates it from the related QRNN (Bradbury et al., 2016). We also show how these models' expressive capacity is expanded by stacking multiple layers or composing them with different pooling functions. Our results build on the theory of \"saturated\" RNNs (Merrill, 2019) . While formally extending these findings to unsaturated RNNs is left to future work, we hypothesize that the practical learnable capacity of unsaturated RNNs obeys a similar hierarchy. Experimental findings from training unsaturated networks on formal languages support this conjecture. Proof. Choose k = 1. Fix the controller to push 1 for x t = a, and pop otherwise.</td>\n",
       "    </tr>\n",
       "    <tr>\n",
       "      <th>774</th>\n",
       "      <td>Theory and Formalism in NLP (Linguistic and Mathematical)</td>\n",
       "      <td>Emergence of Syntax Needs Minimal Supervision</td>\n",
       "      <td>This paper is a theoretical contribution to the debate on the learnability of syntax from a corpus without explicit syntax-specific guidance. Our approach originates in the observable structure of a corpus, which we use to define and isolate grammaticality (syntactic information) and meaning/pragmatics information. We describe the formal characteristics of an autonomous syntax and show that it becomes possible to search for syntax-based lexical categories with a simple optimization process, without any prior hypothesis on the form of the model.</td>\n",
       "    </tr>\n",
       "    <tr>\n",
       "      <th>775</th>\n",
       "      <td>Theory and Formalism in NLP (Linguistic and Mathematical)</td>\n",
       "      <td>Theoretical Limitations of Self-Attention in Neural Sequence Models</td>\n",
       "      <td>Transformers are emerging as the new workhorse of NLP, showing great success across tasks. Unlike LSTMs, transformers process input sequences entirely through self-attention. Previous work has suggested that the computational capabilities of self-attention to process hierarchical structures are limited. In this work, we mathematically investigate the computational power of self-attention to model formal languages. Across both soft and hard attention, we show strong theoretical limitations of the computational abilities of selfattention, finding that it cannot model periodic finite-state languages, nor hierarchical structure, unless the number of layers or heads increases with input length. These limitations seem surprising given the practical success of self-attention and the prominent role assigned to hierarchical structure in linguistics, suggesting that natural language can be approximated well with models that are too weak for the formal languages typically assumed in theoretical linguistics.</td>\n",
       "    </tr>\n",
       "  </tbody>\n",
       "</table>\n",
       "<p>705 rows × 3 columns</p>\n",
       "</div>"
      ],
      "text/plain": [
       "                                                             Label  \\\n",
       "0    Linguistic Theories, Cognitive Modeling and Psycholinguistics   \n",
       "1    Linguistic Theories, Cognitive Modeling and Psycholinguistics   \n",
       "2    Linguistic Theories, Cognitive Modeling and Psycholinguistics   \n",
       "3    Linguistic Theories, Cognitive Modeling and Psycholinguistics   \n",
       "4    Linguistic Theories, Cognitive Modeling and Psycholinguistics   \n",
       "..                                                             ...   \n",
       "771      Theory and Formalism in NLP (Linguistic and Mathematical)   \n",
       "772      Theory and Formalism in NLP (Linguistic and Mathematical)   \n",
       "773      Theory and Formalism in NLP (Linguistic and Mathematical)   \n",
       "774      Theory and Formalism in NLP (Linguistic and Mathematical)   \n",
       "775      Theory and Formalism in NLP (Linguistic and Mathematical)   \n",
       "\n",
       "                                                                                                                          Title  \\\n",
       "0                                                          Overestimation of Syntactic Representation in Neural Language Models   \n",
       "1    Inflecting When There's No Majority: Limitations of Encoder-Decoder Neural Networks as Cognitive Models for German Plurals   \n",
       "2                                                 A Systematic Assessment of Syntactic Generalization in Neural Language Models   \n",
       "3                                 Predicting Depression in Screening Interviews from Latent Categorization of Interview Prompts   \n",
       "4                                                                                              Probing Linguistic Systematicity   \n",
       "..                                                                                                                          ...   \n",
       "771                                                                                     Dice Loss for Data-imbalanced NLP Tasks   \n",
       "772                              Language Models as an Alternative Evaluator of Word Order Hypotheses: A Case Study in Japanese   \n",
       "773                                                                                     A Formal Hierarchy of RNN Architectures   \n",
       "774                                                                               Emergence of Syntax Needs Minimal Supervision   \n",
       "775                                                         Theoretical Limitations of Self-Attention in Neural Sequence Models   \n",
       "\n",
       "                                                                                                                                                                                                                                                                                                                                                                                                                                                                                                                                                                                                                                                                                                                                                                                                                                                                                                                                                                                                                                                                                                                                                                                                                                                                                                                     Abstract  \n",
       "0                                                                                                                                                                                                                                                                                                                                                                                                                                                                                                                                  With the advent of powerful neural language models over the last few years, research attention has increasingly focused on what aspects of language they represent that make them so successful. Several testing methodologies have been developed to probe models' syntactic representations. One popular method for determining a model's ability to induce syntactic structure trains a model on strings generated according to a template then tests the model's ability to distinguish such strings from superficially similar ones with different syntax. We illustrate a fundamental problem with this approach by reproducing positive results from a recent paper with two non-syntactic baseline language models: an n-gram model and an LSTM model trained on scrambled inputs.  \n",
       "1    Can artificial neural networks learn to represent inflectional morphology and generalize to new words as human speakers do? Kirov and Cotterell (2018) argue that the answer is yes: modern Encoder-Decoder (ED) architectures learn human-like behavior when inflecting English verbs, such as extending the regular past tense form /-(e)d/ to novel words. However, their work does not address the criticism raised by Marcus et al. (1995) : that neural models may learn to extend not the regular, but the most frequent class -and thus fail on tasks like German number inflection, where infrequent suffixes like /-s/ can still be productively generalized. To investigate this question, we first collect a new dataset from German speakers (production and ratings of plural forms for novel nouns) that is designed to avoid sources of information unavailable to the ED model. The speaker data show high variability, and two suffixes evince 'regular' behavior, appearing more often with phonologically atypical inputs. Encoder-decoder models do generalize the most frequently produced plural class, but do not show human-like variability or 'regular' extension of these other plural markers. We conclude that modern neural models may still struggle with minority-class generalization.  \n",
       "2                                                                                                                                                                                        While state-of-the-art neural network models continue to achieve lower perplexity scores on language modeling benchmarks, it remains unknown whether optimizing for broad-coverage predictive performance leads to human-like syntactic knowledge. Furthermore, existing work has not provided a clear picture about the model properties required to produce proper syntactic generalizations. We present a systematic evaluation of the syntactic knowledge of neural language models, testing 20 combinations of model types and data sizes on a set of 34 English-language syntactic test suites. We find substantial differences in syntactic generalization performance by model architecture, with sequential models underperforming other architectures. Factorially manipulating model architecture and training dataset size (1M-40M words), we find that variability in syntactic generalization performance is substantially greater by architecture than by dataset size for the corpora tested in our experiments. Our results also reveal a dissociation between perplexity and syntactic generalization performance.  \n",
       "3                                                                                                                                                                                                                                                                                                                                                                                           Despite the pervasiveness of clinical depression in modern society, professional help remains highly stigmatized, inaccessible, and expensive. Accurately diagnosing depression is difficult-requiring time-intensive interviews, assessments, and analysis. Hence, automated methods that can assess linguistic patterns in these interviews could help psychiatric professionals make faster, more informed decisions about diagnosis. We propose JLPC, a method that analyzes interview transcripts to identify depression while jointly categorizing interview prompts into latent categories. This latent categorization allows the model to identify high-level conversational contexts that influence patterns of language in depressed individuals. We show that the proposed model not only outperforms competitive baselines, but that its latent prompt categories provide psycholinguistic insights about depression.  \n",
       "4                                                                                                                                                                                                                                                                                                                                                                                                                                         Recently, there has been much interest in the question of whether deep natural language understanding models exhibit systematicitygeneralizing such that units like words make consistent contributions to the meaning of the sentences in which they appear. There is accumulating evidence that neural models often generalize non-systematically. We examined the notion of systematicity from a linguistic perspective, defining a set of probes and a set of metrics to measure systematic behaviour. We also identified ways in which network architectures can generalize non-systematically, and discuss why such forms of generalization may be unsatisfying. As a case study, we performed a series of experiments in the setting of natural language inference (NLI), demonstrating that some NLU systems achieve high overall performance despite being non-systematic.  \n",
       "..                                                                                                                                                                                                                                                                                                                                                                                                                                                                                                                                                                                                                                                                                                                                                                                                                                                                                                                                                                                                                                                                                                                                                                                                                                                                                                                        ...  \n",
       "771                                                                                                                                                                                                                                                                                                                                                                                                                                                                                                                                                                                                                                                                                                                                                                         Many NLP tasks such as tagging and machine reading comprehension (MRC) are faced with the severe data imbalance issue: negative examples significantly outnumber positive ones, and the huge number of easy-negative examples overwhelms training. The most commonly used cross entropy criteria is actually accuracy-oriented, which creates a discrepancy between training and test. At training time, each training instance contributes equally to the objective function, while at test time F1 score concerns more about positive examples.  \n",
       "772                                                                                                                                                                                                                                                                                                                             We examine a methodology using neural language models (LMs) for analyzing the word order of language. This LM-based method has the potential to overcome the difficulties existing methods face, such as the propagation of preprocessor errors in count-based methods. In this study, we explore whether the LMbased method is valid for analyzing the word order. As a case study, this study focuses on Japanese due to its complex and flexible word order. To validate the LM-based method, we test (i) parallels between LMs and human word order preference, and (ii) consistency of the results obtained using the LM-based method with previous linguistic studies. Through our experiments, we tentatively conclude that LMs display sufficient word order knowledge for usage as an analysis tool. Finally, using the LMbased method, we demonstrate the relationship between the canonical word order and topicalization, which had yet to be analyzed by largescale experiments.  \n",
       "773                                                                                                                                                                                                                             We develop a formal hierarchy of the expressive capacity of RNN architectures. The hierarchy is based on two formal properties: space complexity, which measures the RNN's memory, and rational recurrence, defined as whether the recurrent update can be described by a weighted finite-state machine. We place several RNN variants within this hierarchy. For example, we prove the LSTM is not rational, which formally separates it from the related QRNN (Bradbury et al., 2016). We also show how these models' expressive capacity is expanded by stacking multiple layers or composing them with different pooling functions. Our results build on the theory of \"saturated\" RNNs (Merrill, 2019) . While formally extending these findings to unsaturated RNNs is left to future work, we hypothesize that the practical learnable capacity of unsaturated RNNs obeys a similar hierarchy. Experimental findings from training unsaturated networks on formal languages support this conjecture. Proof. Choose k = 1. Fix the controller to push 1 for x t = a, and pop otherwise.  \n",
       "774                                                                                                                                                                                                                                                                                                                                                                                                                                                                                                                                                                                                                                                                                                                                                    This paper is a theoretical contribution to the debate on the learnability of syntax from a corpus without explicit syntax-specific guidance. Our approach originates in the observable structure of a corpus, which we use to define and isolate grammaticality (syntactic information) and meaning/pragmatics information. We describe the formal characteristics of an autonomous syntax and show that it becomes possible to search for syntax-based lexical categories with a simple optimization process, without any prior hypothesis on the form of the model.  \n",
       "775                                                                                                                                                                                                                                                                       Transformers are emerging as the new workhorse of NLP, showing great success across tasks. Unlike LSTMs, transformers process input sequences entirely through self-attention. Previous work has suggested that the computational capabilities of self-attention to process hierarchical structures are limited. In this work, we mathematically investigate the computational power of self-attention to model formal languages. Across both soft and hard attention, we show strong theoretical limitations of the computational abilities of selfattention, finding that it cannot model periodic finite-state languages, nor hierarchical structure, unless the number of layers or heads increases with input length. These limitations seem surprising given the practical success of self-attention and the prominent role assigned to hierarchical structure in linguistics, suggesting that natural language can be approximated well with models that are too weak for the formal languages typically assumed in theoretical linguistics.  \n",
       "\n",
       "[705 rows x 3 columns]"
      ]
     },
     "execution_count": 1273,
     "metadata": {},
     "output_type": "execute_result"
    }
   ],
   "source": [
    "df_ACL_2020 = pd.read_csv(\"./Data/Pred/BART/ACL_2022_bart_pred_231122.csv\")\n",
    "df_EMNLP_2020 = pd.read_csv(\"./Data/Pred/BART/EMNLP_2020_bart_pred_231122.csv\")\n",
    "\n",
    "df_ACL_2020 = df_ACL_2020[[\"Labels\", \"Paper Name\", \"abstract\"]]\n",
    "df_EMNLP_2020 = df_EMNLP_2020[[\"Labels\", \"Paper Name\", \"abstract\"]]\n",
    "\n",
    "df_ACL_2020.columns = [\"Label\", \"Title\", \"Abstract\"]\n",
    "df_EMNLP_2020.columns = [\"Label\", \"Title\", \"Abstract\"]\n",
    "\n",
    "df_ACL_2020 = df_ACL_2020.loc[lambda df_ACL_2020: ~df_ACL_2020[\"Label\"].isin([\"Student Research Workshop\", \"Theme\", \"NLP Applications\", \"System Demonstrations\"]), :]\n",
    "df_ACL_2020[\"Label\"].unique()\n",
    "\n",
    "\n",
    "df_ACL_2020"
   ]
  },
  {
   "cell_type": "code",
   "execution_count": 1277,
   "metadata": {},
   "outputs": [],
   "source": [
    "df_EMNLP_2020 = df_EMNLP_2020.loc[lambda df_EMNLP_2020: ~df_EMNLP_2020[\"Label\"].isin([\"Student Research Workshop\", \"Theme\", \"NLP Applications\", \"System Demonstrations\"]), :]"
   ]
  },
  {
   "cell_type": "code",
   "execution_count": 1274,
   "metadata": {},
   "outputs": [],
   "source": [
    "df_ACL_2020['Text'] = df_ACL_2020['Title'] + \" \" +df_ACL_2020['Abstract']\n",
    "df_EMNLP_2020['Text'] = df_EMNLP_2020['Title'] + \" \" +df_EMNLP_2020['Abstract']\n",
    "\n",
    "nlp = spacy.load('en_core_web_trf', disable=['parser', 'ner'])\n",
    "stemmer = SnowballStemmer(\"english\")\n",
    "\n",
    "def lemmatiser_stemmer_stopword(text, nlp, stemmer):\n",
    "    \n",
    "    doc = nlp(text)\n",
    "    lemmatised_sentence_lst = [token.lemma_ for token in doc if not token.is_stop]\n",
    "    lemmatised_sentence = \" \".join(lemmatised_sentence_lst)\n",
    "    stemmed_lemmatised_sentence = stemmer.stem(lemmatised_sentence)\n",
    "    \n",
    "    return stemmed_lemmatised_sentence.lower()"
   ]
  },
  {
   "cell_type": "code",
   "execution_count": 1275,
   "metadata": {},
   "outputs": [
    {
     "name": "stderr",
     "output_type": "stream",
     "text": [
      "100%|███████████████████████████████████████████████████████████████████████████████████████████| 705/705 [02:05<00:00,  5.64it/s]\n"
     ]
    }
   ],
   "source": [
    "df_ACL_2020['Lemm Stemmed Text'] = df_ACL_2020['Text'].progress_apply(lemmatiser_stemmer_stopword, args=(nlp, stemmer))"
   ]
  },
  {
   "cell_type": "code",
   "execution_count": 1276,
   "metadata": {},
   "outputs": [
    {
     "name": "stderr",
     "output_type": "stream",
     "text": [
      "100%|███████████████████████████████████████████████████████████████████████████████████████████| 713/713 [02:06<00:00,  5.65it/s]\n"
     ]
    }
   ],
   "source": [
    "df_EMNLP_2020['Lemm Stemmed Text'] = df_EMNLP_2020['Text'].progress_apply(lemmatiser_stemmer_stopword, args=(nlp, stemmer))"
   ]
  },
  {
   "cell_type": "code",
   "execution_count": 28,
   "metadata": {},
   "outputs": [],
   "source": [
    "df_P20 = pd.read_csv(\"./Data/ACL_2020.csv\")\n",
    "df_D20 = pd.read_csv(\"./Data/EMNLP_2020.csv\")\n",
    "df_E21 = pd.read_csv(\"./Data/EACL_2021.csv\")\n",
    "df_P21 = pd.read_csv(\"./Data/ACL_JCNLP_2021.csv\")\n",
    "df_N21 = pd.read_csv(\"./Data/NAACL_2021.csv\")"
   ]
  },
  {
   "cell_type": "code",
   "execution_count": 29,
   "metadata": {},
   "outputs": [
    {
     "name": "stdout",
     "output_type": "stream",
     "text": [
      "2894\n",
      "791 791 23\n",
      "781 781 20\n",
      "320 320 21\n",
      "528 528 22\n",
      "474 474 22\n"
     ]
    }
   ],
   "source": [
    "print(len(df_P20) + len(df_D20) + len(df_E21) + len(df_P21) + len(df_N21))\n",
    "print(len(df_P20), len(df_P20.Labels), len(df_P20.Labels.unique()))\n",
    "print(len(df_D20), len(df_D20.Labels), len(df_D20.Labels.unique()))\n",
    "print(len(df_E21), len(df_E21.Labels), len(df_E21.Labels.unique()))\n",
    "print(len(df_P21), len(df_P21.Labels), len(df_P21.Labels.unique()))\n",
    "print(len(df_N21), len(df_N21.Labels), len(df_N21.Labels.unique()))"
   ]
  },
  {
   "cell_type": "code",
   "execution_count": 30,
   "metadata": {},
   "outputs": [],
   "source": [
    "df_P20 = df_P20[df_P20[\"Labels\"] != \"NLP Applications\"]\n",
    "df_D20 = df_D20[df_D20[\"Labels\"] != \"NLP Applications\"]\n",
    "df_E21 = df_E21[df_E21[\"Labels\"] != \"NLP Applications\"]\n",
    "df_P21 = df_P21[df_P21[\"Labels\"] != \"NLP Applications\"]\n",
    "df_N21 = df_N21[df_N21[\"Labels\"] != \"NLP Applications\"]"
   ]
  },
  {
   "cell_type": "code",
   "execution_count": 31,
   "metadata": {},
   "outputs": [
    {
     "name": "stdout",
     "output_type": "stream",
     "text": [
      "2705\n",
      "742 742 22\n",
      "715 715 19\n",
      "317 317 20\n",
      "502 502 21\n",
      "429 429 21\n"
     ]
    }
   ],
   "source": [
    "print(len(df_P20) + len(df_D20) + len(df_E21) + len(df_P21) + len(df_N21))\n",
    "print(len(df_P20), len(df_P20.Labels), len(df_P20.Labels.unique()))\n",
    "print(len(df_D20), len(df_D20.Labels), len(df_D20.Labels.unique()))\n",
    "print(len(df_E21), len(df_E21.Labels), len(df_E21.Labels.unique()))\n",
    "print(len(df_P21), len(df_P21.Labels), len(df_P21.Labels.unique()))\n",
    "print(len(df_N21), len(df_N21.Labels), len(df_N21.Labels.unique()))"
   ]
  },
  {
   "cell_type": "code",
   "execution_count": 32,
   "metadata": {},
   "outputs": [
    {
     "data": {
      "text/html": [
       "<div>\n",
       "<style scoped>\n",
       "    .dataframe tbody tr th:only-of-type {\n",
       "        vertical-align: middle;\n",
       "    }\n",
       "\n",
       "    .dataframe tbody tr th {\n",
       "        vertical-align: top;\n",
       "    }\n",
       "\n",
       "    .dataframe thead th {\n",
       "        text-align: right;\n",
       "    }\n",
       "</style>\n",
       "<table border=\"1\" class=\"dataframe\">\n",
       "  <thead>\n",
       "    <tr style=\"text-align: right;\">\n",
       "      <th></th>\n",
       "      <th>Labels</th>\n",
       "      <th>Paper Name</th>\n",
       "      <th>Author Names</th>\n",
       "    </tr>\n",
       "  </thead>\n",
       "  <tbody>\n",
       "    <tr>\n",
       "      <th>0</th>\n",
       "      <td>Linguistic Theories, Cognitive Modeling and Psycholinguistics</td>\n",
       "      <td>Inflecting When There's No Majority: Limitations of Encoder-Decoder Neural Networks as Cognitive Models for German Plurals</td>\n",
       "      <td>Kate McCurdy, Sharon Goldwater, Adam Lopez</td>\n",
       "    </tr>\n",
       "    <tr>\n",
       "      <th>1</th>\n",
       "      <td>Linguistic Theories, Cognitive Modeling and Psycholinguistics</td>\n",
       "      <td>Learning to Understand Child-directed and Adult-directed Speech</td>\n",
       "      <td>Lieke Gelderloos, Grzegorz Chrupała, Afra Alishahi</td>\n",
       "    </tr>\n",
       "    <tr>\n",
       "      <th>2</th>\n",
       "      <td>Linguistic Theories, Cognitive Modeling and Psycholinguistics</td>\n",
       "      <td>Recurrent Neural Network Language Models Always Learn English-Like Relative Clause Attachment</td>\n",
       "      <td>Forrest Davis, Marten van Schijndel</td>\n",
       "    </tr>\n",
       "    <tr>\n",
       "      <th>3</th>\n",
       "      <td>Linguistic Theories, Cognitive Modeling and Psycholinguistics</td>\n",
       "      <td>You Don't Have Time to Read This: An Exploration of Document Reading Time Prediction</td>\n",
       "      <td>Orion Weller, Jordan Hildebrandt, Ilya Reznik, Christopher Challis, E. Shannon Tass, Quinn Snell, Kevin Seppi</td>\n",
       "    </tr>\n",
       "    <tr>\n",
       "      <th>4</th>\n",
       "      <td>Linguistic Theories, Cognitive Modeling and Psycholinguistics</td>\n",
       "      <td>Predicting Depression in Screening Interviews from Latent Categorization of Interview Prompts</td>\n",
       "      <td>Alex Rinaldi, Jean Fox Tree, Snigdha Chaturvedi</td>\n",
       "    </tr>\n",
       "    <tr>\n",
       "      <th>...</th>\n",
       "      <td>...</td>\n",
       "      <td>...</td>\n",
       "      <td>...</td>\n",
       "    </tr>\n",
       "    <tr>\n",
       "      <th>786</th>\n",
       "      <td>Theory and Formalism in NLP (Linguistic and Mathematical)</td>\n",
       "      <td>Emergence of Syntax Needs Minimal Supervision</td>\n",
       "      <td>Raphaël Bailly, Kata Gábor</td>\n",
       "    </tr>\n",
       "    <tr>\n",
       "      <th>787</th>\n",
       "      <td>Theory and Formalism in NLP (Linguistic and Mathematical)</td>\n",
       "      <td>A Three-Parameter Rank-Frequency Relation in Natural Languages</td>\n",
       "      <td>Chenchen Ding, Masao Utiyama, Eiichiro Sumita</td>\n",
       "    </tr>\n",
       "    <tr>\n",
       "      <th>788</th>\n",
       "      <td>Theory and Formalism in NLP (Linguistic and Mathematical)</td>\n",
       "      <td>Language Models as an Alternative Evaluator of Word Order Hypotheses: A Case Study in Japanese</td>\n",
       "      <td>Tatsuki Kuribayashi, Takumi Ito, Jun Suzuki, Kentaro Inui</td>\n",
       "    </tr>\n",
       "    <tr>\n",
       "      <th>789</th>\n",
       "      <td>Theory and Formalism in NLP (Linguistic and Mathematical)</td>\n",
       "      <td>Dice Loss for Data-imbalanced NLP Tasks</td>\n",
       "      <td>Xiaoya Li, Xiaofei Sun, Yuxian Meng, Junjun Liang, Fei Wu, Jiwei Li</td>\n",
       "    </tr>\n",
       "    <tr>\n",
       "      <th>790</th>\n",
       "      <td>Theory and Formalism in NLP (Linguistic and Mathematical)</td>\n",
       "      <td>Theoretical Limitations of Self-Attention in Neural Sequence Models</td>\n",
       "      <td>Michael Hahn</td>\n",
       "    </tr>\n",
       "  </tbody>\n",
       "</table>\n",
       "<p>742 rows × 3 columns</p>\n",
       "</div>"
      ],
      "text/plain": [
       "                                                            Labels  \\\n",
       "0    Linguistic Theories, Cognitive Modeling and Psycholinguistics   \n",
       "1    Linguistic Theories, Cognitive Modeling and Psycholinguistics   \n",
       "2    Linguistic Theories, Cognitive Modeling and Psycholinguistics   \n",
       "3    Linguistic Theories, Cognitive Modeling and Psycholinguistics   \n",
       "4    Linguistic Theories, Cognitive Modeling and Psycholinguistics   \n",
       "..                                                             ...   \n",
       "786      Theory and Formalism in NLP (Linguistic and Mathematical)   \n",
       "787      Theory and Formalism in NLP (Linguistic and Mathematical)   \n",
       "788      Theory and Formalism in NLP (Linguistic and Mathematical)   \n",
       "789      Theory and Formalism in NLP (Linguistic and Mathematical)   \n",
       "790      Theory and Formalism in NLP (Linguistic and Mathematical)   \n",
       "\n",
       "                                                                                                                     Paper Name  \\\n",
       "0    Inflecting When There's No Majority: Limitations of Encoder-Decoder Neural Networks as Cognitive Models for German Plurals   \n",
       "1                                                               Learning to Understand Child-directed and Adult-directed Speech   \n",
       "2                                 Recurrent Neural Network Language Models Always Learn English-Like Relative Clause Attachment   \n",
       "3                                          You Don't Have Time to Read This: An Exploration of Document Reading Time Prediction   \n",
       "4                                 Predicting Depression in Screening Interviews from Latent Categorization of Interview Prompts   \n",
       "..                                                                                                                          ...   \n",
       "786                                                                               Emergence of Syntax Needs Minimal Supervision   \n",
       "787                                                              A Three-Parameter Rank-Frequency Relation in Natural Languages   \n",
       "788                              Language Models as an Alternative Evaluator of Word Order Hypotheses: A Case Study in Japanese   \n",
       "789                                                                                     Dice Loss for Data-imbalanced NLP Tasks   \n",
       "790                                                         Theoretical Limitations of Self-Attention in Neural Sequence Models   \n",
       "\n",
       "                                                                                                      Author Names  \n",
       "0                                                                       Kate McCurdy, Sharon Goldwater, Adam Lopez  \n",
       "1                                                               Lieke Gelderloos, Grzegorz Chrupała, Afra Alishahi  \n",
       "2                                                                              Forrest Davis, Marten van Schijndel  \n",
       "3    Orion Weller, Jordan Hildebrandt, Ilya Reznik, Christopher Challis, E. Shannon Tass, Quinn Snell, Kevin Seppi  \n",
       "4                                                                  Alex Rinaldi, Jean Fox Tree, Snigdha Chaturvedi  \n",
       "..                                                                                                             ...  \n",
       "786                                                                                     Raphaël Bailly, Kata Gábor  \n",
       "787                                                                  Chenchen Ding, Masao Utiyama, Eiichiro Sumita  \n",
       "788                                                      Tatsuki Kuribayashi, Takumi Ito, Jun Suzuki, Kentaro Inui  \n",
       "789                                            Xiaoya Li, Xiaofei Sun, Yuxian Meng, Junjun Liang, Fei Wu, Jiwei Li  \n",
       "790                                                                                                   Michael Hahn  \n",
       "\n",
       "[742 rows x 3 columns]"
      ]
     },
     "execution_count": 32,
     "metadata": {},
     "output_type": "execute_result"
    }
   ],
   "source": [
    "df_P20"
   ]
  },
  {
   "cell_type": "code",
   "execution_count": 14,
   "metadata": {
    "collapsed": true
   },
   "outputs": [
    {
     "data": {
      "text/html": [
       "<div>\n",
       "<style scoped>\n",
       "    .dataframe tbody tr th:only-of-type {\n",
       "        vertical-align: middle;\n",
       "    }\n",
       "\n",
       "    .dataframe tbody tr th {\n",
       "        vertical-align: top;\n",
       "    }\n",
       "\n",
       "    .dataframe thead th {\n",
       "        text-align: right;\n",
       "    }\n",
       "</style>\n",
       "<table border=\"1\" class=\"dataframe\">\n",
       "  <thead>\n",
       "    <tr style=\"text-align: right;\">\n",
       "      <th></th>\n",
       "      <th>Labels</th>\n",
       "      <th>Paper Name</th>\n",
       "      <th>abstract</th>\n",
       "    </tr>\n",
       "  </thead>\n",
       "  <tbody>\n",
       "    <tr>\n",
       "      <th>0</th>\n",
       "      <td>Linguistic Theories, Cognitive Modeling and Psycholinguistics</td>\n",
       "      <td>Inflecting When There's No Majority: Limitations of Encoder-Decoder Neural Networks as Cognitive Models for German Plurals</td>\n",
       "      <td>Can artificial neural networks learn to represent inflectional morphology and generalize to new words as human speakers do? Kirov and Cotterell (2018) argue that the answer is yes: modern Encoder-Decoder (ED) architectures learn human-like behavior when inflecting English verbs, such as extending the regular past tense form /-(e)d/ to novel words. However, their work does not address the criticism raised by Marcus et al. (1995) : that neural models may learn to extend not the regular, but the most frequent class -and thus fail on tasks like German number inflection, where infrequent suffixes like /-s/ can still be productively generalized. To investigate this question, we first collect a new dataset from German speakers (production and ratings of plural forms for novel nouns) that is designed to avoid sources of information unavailable to the ED model. The speaker data show high variability, and two suffixes evince 'regular' behavior, appearing more often with phonologically atypical inputs. Encoder-decoder models do generalize the most frequently produced plural class, but do not show human-like variability or 'regular' extension of these other plural markers. We conclude that modern neural models may still struggle with minority-class generalization.</td>\n",
       "    </tr>\n",
       "    <tr>\n",
       "      <th>1</th>\n",
       "      <td>Linguistic Theories, Cognitive Modeling and Psycholinguistics</td>\n",
       "      <td>Learning to Understand Child-directed and Adult-directed Speech</td>\n",
       "      <td>Speech directed to children differs from adultdirected speech in linguistic aspects such as repetition, word choice, and sentence length, as well as in aspects of the speech signal itself, such as prosodic and phonemic variation. Human language acquisition research indicates that child-directed speech helps language learners. This study explores the effect of child-directed speech when learning to extract semantic information from speech directly. We compare the task performance of models trained on adult-directed speech (ADS) and child-directed speech (CDS). We find indications that CDS helps in the initial stages of learning, but eventually, models trained on ADS reach comparable task performance, and generalize better. The results suggest that this is at least partially due to linguistic rather than acoustic properties of the two registers, as we see the same pattern when looking at models trained on acoustically comparable synthetic speech.</td>\n",
       "    </tr>\n",
       "    <tr>\n",
       "      <th>2</th>\n",
       "      <td>Linguistic Theories, Cognitive Modeling and Psycholinguistics</td>\n",
       "      <td>Recurrent Neural Network Language Models Always Learn English-Like Relative Clause Attachment</td>\n",
       "      <td>A standard approach to evaluating language models analyzes how models assign probabilities to valid versus invalid syntactic constructions (i.e. is a grammatical sentence more probable than an ungrammatical sentence). Our work uses ambiguous relative clause attachment to extend such evaluations to cases of multiple simultaneous valid interpretations, where stark grammaticality differences are absent. We compare model performance in English and Spanish to show that non-linguistic biases in RNN LMs advantageously overlap with syntactic structure in English but not Spanish. Thus, English models may appear to acquire human-like syntactic preferences, while models trained on Spanish fail to acquire comparable human-like preferences. We conclude by relating these results to broader concerns about the relationship between comprehension (i.e. typical language model use cases) and production (which generates the training data for language models), suggesting that necessary linguistic biases are not present in the training signal at all.</td>\n",
       "    </tr>\n",
       "    <tr>\n",
       "      <th>3</th>\n",
       "      <td>Linguistic Theories, Cognitive Modeling and Psycholinguistics</td>\n",
       "      <td>You Don't Have Time to Read This: An Exploration of Document Reading Time Prediction</td>\n",
       "      <td>Predicting reading time has been a subject of much previous work, focusing on how different words affect human processing, measured by reading time. However, previous work has dealt with a limited number of participants as well as word level only predictions (i.e. predicting the time to read a single word). We seek to extend these works by examining whether or not document level predictions are effective, given additional information such as subject matter, font characteristics, and readability metrics. We perform a novel experiment to examine how different features of text contribute to the time it takes to read, distributing and collecting data from over a thousand participants. We then employ a large number of machine learning methods to predict a user's reading time. We find that despite extensive research showing that word level reading time can be most effectively predicted by neural networks, larger scale text can be easily and most accurately predicted by one factor, the number of words.</td>\n",
       "    </tr>\n",
       "    <tr>\n",
       "      <th>4</th>\n",
       "      <td>Linguistic Theories, Cognitive Modeling and Psycholinguistics</td>\n",
       "      <td>Predicting Depression in Screening Interviews from Latent Categorization of Interview Prompts</td>\n",
       "      <td>Despite the pervasiveness of clinical depression in modern society, professional help remains highly stigmatized, inaccessible, and expensive. Accurately diagnosing depression is difficult-requiring time-intensive interviews, assessments, and analysis. Hence, automated methods that can assess linguistic patterns in these interviews could help psychiatric professionals make faster, more informed decisions about diagnosis. We propose JLPC, a method that analyzes interview transcripts to identify depression while jointly categorizing interview prompts into latent categories. This latent categorization allows the model to identify high-level conversational contexts that influence patterns of language in depressed individuals. We show that the proposed model not only outperforms competitive baselines, but that its latent prompt categories provide psycholinguistic insights about depression.</td>\n",
       "    </tr>\n",
       "    <tr>\n",
       "      <th>...</th>\n",
       "      <td>...</td>\n",
       "      <td>...</td>\n",
       "      <td>...</td>\n",
       "    </tr>\n",
       "    <tr>\n",
       "      <th>2710</th>\n",
       "      <td>Summarization</td>\n",
       "      <td>QMSum: A New Benchmark for Query-based Multi-domain Meeting Summarization</td>\n",
       "      <td>Meetings are a key component of human collaboration. As increasing numbers of meetings are recorded and transcribed, meeting summaries have become essential to remind those who may or may not have attended the meetings about the key decisions made and the tasks to be completed. However, it is hard to create a single short summary that covers all the content of a long meeting involving multiple people and topics. In order to satisfy the needs of different types of users, we define a new query-based multi-domain meeting summarization task, where models have to select and summarize relevant spans of meetings in response to a query, and we introduce QMSum, a new benchmark for this task. QMSum consists of 1,808 query-summary pairs over 232 meetings in multiple domains. Besides, we investigate a locate-then-summarize method and evaluate a set of strong summarization baselines on the task. Experimental results and manual analysis reveal that QMSum presents significant challenges in long meeting summarization for future research. Dataset is available at https://github.com/Yale-LILY/ QMSum.</td>\n",
       "    </tr>\n",
       "    <tr>\n",
       "      <th>2711</th>\n",
       "      <td>Summarization</td>\n",
       "      <td>MM-AVS: A Full-Scale Dataset for Multi-modal Summarization</td>\n",
       "      <td>Multimodal summarization becomes increasingly significant as it is the basis for question answering, Web search, and many other downstream tasks. However, its learning materials have been lacking a holistic organization by integrating resources from various modalities, thereby lagging behind the research progress of this field. In this study, we present a full-scale multimodal dataset comprehensively gathering documents, summaries, images, captions, videos, audios, transcripts, and titles in English from CNN and Daily Mail. To our best knowledge, this is the first collection that spans all modalities and nearly comprises all types of materials available in this community. In addition, we devise a baseline model based on the novel dataset, which employs a newly proposed Jump-Attention mechanism based on transcripts. The experimental results validate the important assistance role of the external information for multimodal summarization.</td>\n",
       "    </tr>\n",
       "    <tr>\n",
       "      <th>2712</th>\n",
       "      <td>Summarization</td>\n",
       "      <td>MediaSum: A Large-scale Media Interview Dataset for Dialogue Summarization</td>\n",
       "      <td>This paper introduces MEDIASUM 1 , a largescale media interview dataset consisting of 463.6K transcripts with abstractive summaries. To create this dataset, we collect interview transcripts from NPR and CNN and employ the overview and topic descriptions as summaries. Compared with existing public corpora for dialogue summarization, our dataset is an order of magnitude larger and contains complex multi-party conversations from multiple domains. We conduct statistical analysis to demonstrate the unique positional bias exhibited in the transcripts of televised and radioed interviews. We also show that MEDIASUM can be used in transfer learning to improve a model's performance on other dialogue summarization tasks. * Equal contribution 1 https://github.com/zcgzcgzcg1/ MediaSum/</td>\n",
       "    </tr>\n",
       "    <tr>\n",
       "      <th>2713</th>\n",
       "      <td>Summarization</td>\n",
       "      <td>Improving Faithfulness in Abstractive Summarization with Contrast Candidate Generation and Selection</td>\n",
       "      <td>Despite significant progress in neural abstractive summarization, recent studies have shown that the current models are prone to generating summaries that are unfaithful to the original context. To address the issue, we study contrast candidate generation and selection as a model-agnostic post-processing technique to correct the extrinsic hallucinations (i.e. information not present in the source text) in unfaithful summaries. We learn a discriminative correction model by generating alternative candidate summaries where named entities and quantities in the generated summary are replaced with ones with compatible semantic types from the source document. This model is then used to select the best candidate as the final output summary. Our experiments and analysis across a number of neural summarization systems show that our proposed method is effective in identifying and correcting extrinsic hallucinations. We analyze the typical hallucination phenomenon by different types of neural summarization systems, in hope to provide insights for future work on the direction.</td>\n",
       "    </tr>\n",
       "    <tr>\n",
       "      <th>2714</th>\n",
       "      <td>Summarization</td>\n",
       "      <td>Inference Time Style Control for Summarization</td>\n",
       "      <td>How to generate summaries of different styles without requiring corpora in the target styles, or training separate models? We present two novel methods that can be deployed during summary decoding on any pre-trained Transformer-based summarization model. ( 1 ) Decoder state adjustment instantly modifies decoder final states with externally trained style scorers, to iteratively refine the output against a target style. (2) Word unit prediction constrains the word usage to impose strong lexical control during generation. In experiments of summarizing with simplicity control, automatic evaluation and human judges both find our models producing outputs in simpler languages while still informative. We also generate news headlines with various ideological leanings, which can be distinguished by humans with a reasonable probability.</td>\n",
       "    </tr>\n",
       "  </tbody>\n",
       "</table>\n",
       "<p>2534 rows × 3 columns</p>\n",
       "</div>"
      ],
      "text/plain": [
       "                                                             Labels  \\\n",
       "0     Linguistic Theories, Cognitive Modeling and Psycholinguistics   \n",
       "1     Linguistic Theories, Cognitive Modeling and Psycholinguistics   \n",
       "2     Linguistic Theories, Cognitive Modeling and Psycholinguistics   \n",
       "3     Linguistic Theories, Cognitive Modeling and Psycholinguistics   \n",
       "4     Linguistic Theories, Cognitive Modeling and Psycholinguistics   \n",
       "...                                                             ...   \n",
       "2710                                                  Summarization   \n",
       "2711                                                  Summarization   \n",
       "2712                                                  Summarization   \n",
       "2713                                                  Summarization   \n",
       "2714                                                  Summarization   \n",
       "\n",
       "                                                                                                                      Paper Name  \\\n",
       "0     Inflecting When There's No Majority: Limitations of Encoder-Decoder Neural Networks as Cognitive Models for German Plurals   \n",
       "1                                                                Learning to Understand Child-directed and Adult-directed Speech   \n",
       "2                                  Recurrent Neural Network Language Models Always Learn English-Like Relative Clause Attachment   \n",
       "3                                           You Don't Have Time to Read This: An Exploration of Document Reading Time Prediction   \n",
       "4                                  Predicting Depression in Screening Interviews from Latent Categorization of Interview Prompts   \n",
       "...                                                                                                                          ...   \n",
       "2710                                                   QMSum: A New Benchmark for Query-based Multi-domain Meeting Summarization   \n",
       "2711                                                                  MM-AVS: A Full-Scale Dataset for Multi-modal Summarization   \n",
       "2712                                                  MediaSum: A Large-scale Media Interview Dataset for Dialogue Summarization   \n",
       "2713                        Improving Faithfulness in Abstractive Summarization with Contrast Candidate Generation and Selection   \n",
       "2714                                                                              Inference Time Style Control for Summarization   \n",
       "\n",
       "                                                                                                                                                                                                                                                                                                                                                                                                                                                                                                                                                                                                                                                                                                                                                                                                                                                                                                                                                                                                                                                                                                                                                                                                                                                                                                                      abstract  \n",
       "0     Can artificial neural networks learn to represent inflectional morphology and generalize to new words as human speakers do? Kirov and Cotterell (2018) argue that the answer is yes: modern Encoder-Decoder (ED) architectures learn human-like behavior when inflecting English verbs, such as extending the regular past tense form /-(e)d/ to novel words. However, their work does not address the criticism raised by Marcus et al. (1995) : that neural models may learn to extend not the regular, but the most frequent class -and thus fail on tasks like German number inflection, where infrequent suffixes like /-s/ can still be productively generalized. To investigate this question, we first collect a new dataset from German speakers (production and ratings of plural forms for novel nouns) that is designed to avoid sources of information unavailable to the ED model. The speaker data show high variability, and two suffixes evince 'regular' behavior, appearing more often with phonologically atypical inputs. Encoder-decoder models do generalize the most frequently produced plural class, but do not show human-like variability or 'regular' extension of these other plural markers. We conclude that modern neural models may still struggle with minority-class generalization.  \n",
       "1                                                                                                                                                                                                                                                                                                                               Speech directed to children differs from adultdirected speech in linguistic aspects such as repetition, word choice, and sentence length, as well as in aspects of the speech signal itself, such as prosodic and phonemic variation. Human language acquisition research indicates that child-directed speech helps language learners. This study explores the effect of child-directed speech when learning to extract semantic information from speech directly. We compare the task performance of models trained on adult-directed speech (ADS) and child-directed speech (CDS). We find indications that CDS helps in the initial stages of learning, but eventually, models trained on ADS reach comparable task performance, and generalize better. The results suggest that this is at least partially due to linguistic rather than acoustic properties of the two registers, as we see the same pattern when looking at models trained on acoustically comparable synthetic speech.  \n",
       "2                                                                                                                                                                                                                                          A standard approach to evaluating language models analyzes how models assign probabilities to valid versus invalid syntactic constructions (i.e. is a grammatical sentence more probable than an ungrammatical sentence). Our work uses ambiguous relative clause attachment to extend such evaluations to cases of multiple simultaneous valid interpretations, where stark grammaticality differences are absent. We compare model performance in English and Spanish to show that non-linguistic biases in RNN LMs advantageously overlap with syntactic structure in English but not Spanish. Thus, English models may appear to acquire human-like syntactic preferences, while models trained on Spanish fail to acquire comparable human-like preferences. We conclude by relating these results to broader concerns about the relationship between comprehension (i.e. typical language model use cases) and production (which generates the training data for language models), suggesting that necessary linguistic biases are not present in the training signal at all.  \n",
       "3                                                                                                                                                                                                                                                                           Predicting reading time has been a subject of much previous work, focusing on how different words affect human processing, measured by reading time. However, previous work has dealt with a limited number of participants as well as word level only predictions (i.e. predicting the time to read a single word). We seek to extend these works by examining whether or not document level predictions are effective, given additional information such as subject matter, font characteristics, and readability metrics. We perform a novel experiment to examine how different features of text contribute to the time it takes to read, distributing and collecting data from over a thousand participants. We then employ a large number of machine learning methods to predict a user's reading time. We find that despite extensive research showing that word level reading time can be most effectively predicted by neural networks, larger scale text can be easily and most accurately predicted by one factor, the number of words.  \n",
       "4                                                                                                                                                                                                                                                                                                                                                                                            Despite the pervasiveness of clinical depression in modern society, professional help remains highly stigmatized, inaccessible, and expensive. Accurately diagnosing depression is difficult-requiring time-intensive interviews, assessments, and analysis. Hence, automated methods that can assess linguistic patterns in these interviews could help psychiatric professionals make faster, more informed decisions about diagnosis. We propose JLPC, a method that analyzes interview transcripts to identify depression while jointly categorizing interview prompts into latent categories. This latent categorization allows the model to identify high-level conversational contexts that influence patterns of language in depressed individuals. We show that the proposed model not only outperforms competitive baselines, but that its latent prompt categories provide psycholinguistic insights about depression.  \n",
       "...                                                                                                                                                                                                                                                                                                                                                                                                                                                                                                                                                                                                                                                                                                                                                                                                                                                                                                                                                                                                                                                                                                                                                                                                                                                                                                                        ...  \n",
       "2710                                                                                                                                                                                Meetings are a key component of human collaboration. As increasing numbers of meetings are recorded and transcribed, meeting summaries have become essential to remind those who may or may not have attended the meetings about the key decisions made and the tasks to be completed. However, it is hard to create a single short summary that covers all the content of a long meeting involving multiple people and topics. In order to satisfy the needs of different types of users, we define a new query-based multi-domain meeting summarization task, where models have to select and summarize relevant spans of meetings in response to a query, and we introduce QMSum, a new benchmark for this task. QMSum consists of 1,808 query-summary pairs over 232 meetings in multiple domains. Besides, we investigate a locate-then-summarize method and evaluate a set of strong summarization baselines on the task. Experimental results and manual analysis reveal that QMSum presents significant challenges in long meeting summarization for future research. Dataset is available at https://github.com/Yale-LILY/ QMSum.  \n",
       "2711                                                                                                                                                                                                                                                                                                                                      Multimodal summarization becomes increasingly significant as it is the basis for question answering, Web search, and many other downstream tasks. However, its learning materials have been lacking a holistic organization by integrating resources from various modalities, thereby lagging behind the research progress of this field. In this study, we present a full-scale multimodal dataset comprehensively gathering documents, summaries, images, captions, videos, audios, transcripts, and titles in English from CNN and Daily Mail. To our best knowledge, this is the first collection that spans all modalities and nearly comprises all types of materials available in this community. In addition, we devise a baseline model based on the novel dataset, which employs a newly proposed Jump-Attention mechanism based on transcripts. The experimental results validate the important assistance role of the external information for multimodal summarization.  \n",
       "2712                                                                                                                                                                                                                                                                                                                                                                                                                                                                                                           This paper introduces MEDIASUM 1 , a largescale media interview dataset consisting of 463.6K transcripts with abstractive summaries. To create this dataset, we collect interview transcripts from NPR and CNN and employ the overview and topic descriptions as summaries. Compared with existing public corpora for dialogue summarization, our dataset is an order of magnitude larger and contains complex multi-party conversations from multiple domains. We conduct statistical analysis to demonstrate the unique positional bias exhibited in the transcripts of televised and radioed interviews. We also show that MEDIASUM can be used in transfer learning to improve a model's performance on other dialogue summarization tasks. * Equal contribution 1 https://github.com/zcgzcgzcg1/ MediaSum/  \n",
       "2713                                                                                                                                                                                                  Despite significant progress in neural abstractive summarization, recent studies have shown that the current models are prone to generating summaries that are unfaithful to the original context. To address the issue, we study contrast candidate generation and selection as a model-agnostic post-processing technique to correct the extrinsic hallucinations (i.e. information not present in the source text) in unfaithful summaries. We learn a discriminative correction model by generating alternative candidate summaries where named entities and quantities in the generated summary are replaced with ones with compatible semantic types from the source document. This model is then used to select the best candidate as the final output summary. Our experiments and analysis across a number of neural summarization systems show that our proposed method is effective in identifying and correcting extrinsic hallucinations. We analyze the typical hallucination phenomenon by different types of neural summarization systems, in hope to provide insights for future work on the direction.  \n",
       "2714                                                                                                                                                                                                                                                                                                                                                                                                                                                     How to generate summaries of different styles without requiring corpora in the target styles, or training separate models? We present two novel methods that can be deployed during summary decoding on any pre-trained Transformer-based summarization model. ( 1 ) Decoder state adjustment instantly modifies decoder final states with externally trained style scorers, to iteratively refine the output against a target style. (2) Word unit prediction constrains the word usage to impose strong lexical control during generation. In experiments of summarizing with simplicity control, automatic evaluation and human judges both find our models producing outputs in simpler languages while still informative. We also generate news headlines with various ideological leanings, which can be distinguished by humans with a reasonable probability.  \n",
       "\n",
       "[2534 rows x 3 columns]"
      ]
     },
     "execution_count": 14,
     "metadata": {},
     "output_type": "execute_result"
    }
   ],
   "source": [
    "df_whole = pd.read_csv(\"./Data/Collated_dataset_for_scientific_papers.csv\")\n",
    "df_whole = df_whole[df_whole['Labels'] != 'NLP Applications']\n",
    "df_whole"
   ]
  },
  {
   "cell_type": "code",
   "execution_count": 15,
   "metadata": {
    "scrolled": true
   },
   "outputs": [
    {
     "data": {
      "text/plain": [
       "array(['Linguistic Theories, Cognitive Modeling and Psycholinguistics',\n",
       "       'Computational Social Science and Social Media',\n",
       "       'Dialogue and Interactive Systems', 'Discourse and Pragmatics',\n",
       "       'Ethics and NLP', 'Generation', 'Information Extraction',\n",
       "       'Information Retrieval and Text Mining',\n",
       "       'Interpretability and Analysis of Models for NLP',\n",
       "       'Language Grounding to Vision, Robotics and Beyond',\n",
       "       'Machine Learning for NLP',\n",
       "       'Machine Translation and Multilinguality',\n",
       "       'Phonology, Morphology and Word Segmentation',\n",
       "       'Question Answering', 'Resources and Evaluation',\n",
       "       'Semantics: Lexical Semantics',\n",
       "       'Semantics: Sentence-level Semantics, Textual Inference and Other areas',\n",
       "       'Sentiment Analysis, Stylistic Analysis, and Argument Mining',\n",
       "       'Speech and Multimodality', 'Summarization',\n",
       "       'Syntax: Tagging, Chunking and Parsing',\n",
       "       'Theory and Formalism in NLP (Linguistic and Mathematical)'],\n",
       "      dtype=object)"
      ]
     },
     "execution_count": 15,
     "metadata": {},
     "output_type": "execute_result"
    }
   ],
   "source": [
    "df_whole.Labels.unique()"
   ]
  },
  {
   "cell_type": "markdown",
   "metadata": {},
   "source": [
    "### Keyword extraction"
   ]
  },
  {
   "cell_type": "code",
   "execution_count": 1278,
   "metadata": {},
   "outputs": [],
   "source": [
    "def keybert_keyword_extraction(input_text, kw_model, use_maxsum=True, use_mmr=False, ngram=3, topn=10, nr_cand=20, div=0.5):\n",
    "    if use_maxsum:\n",
    "        keywords_res = kw_model.extract_keywords(input_text, keyphrase_ngram_range=(1, ngram), stop_words='english',\n",
    "                                        top_n=topn, use_maxsum=True, nr_candidates=nr_cand)\n",
    "    elif use_mmr:\n",
    "        keywords_res = kw_model.extract_keywords(input_text, keyphrase_ngram_range=(1, ngram), stop_words='english',\n",
    "                                        top_n=topn, use_mmr=True, diversity=div)\n",
    "    keyword_str = \"#\".join([kw[0] for kw in keywords_res])\n",
    "    return keyword_str"
   ]
  },
  {
   "cell_type": "code",
   "execution_count": 1318,
   "metadata": {},
   "outputs": [],
   "source": [
    "def yake_keyword_extraction(input_text, kw_model, useless):\n",
    "    keywords_res = kw_model.extract_keywords(input_text)\n",
    "    keyword_str = \"#\".join([kw[0] for kw in keywords_res])\n",
    "    return keyword_str"
   ]
  },
  {
   "cell_type": "code",
   "execution_count": 1280,
   "metadata": {},
   "outputs": [],
   "source": [
    "def format_str(keyword_str):\n",
    "    keyword_str = keyword_str.replace(\" \", \"_\")\n",
    "    keyword_str = keyword_str.replace(\"#\", \" \")\n",
    "    return keyword_str\n",
    "\n",
    "#format_str(df_ACL_2020[\"Keyword\"][0])"
   ]
  },
  {
   "cell_type": "markdown",
   "metadata": {},
   "source": [
    "### Different setting of keyword extraction"
   ]
  },
  {
   "cell_type": "code",
   "execution_count": null,
   "metadata": {
    "scrolled": true
   },
   "outputs": [],
   "source": [
    "# plm_name: roberta-base, allenai/scibert_scivocab_uncased, allenai/specter\n",
    "plm_name = \"allenai/scibert_scivocab_uncased\"\n",
    "plm = TransformerDocumentEmbeddings(plm_name)\n",
    "kw_model = KeyBERT(model=plm)\n",
    "    \n",
    "use_maxsum = False\n",
    "topn = 10\n",
    "nr_cand = 20\n",
    "use_mmr = True\n",
    "ngram = 1\n",
    "df_ACL_2020['Keyword'] = df_ACL_2020['Text'].progress_apply(keybert_keyword_extraction, args=(kw_model, use_maxsum, use_mmr, ngram, topn, nr_cand))\n",
    "\n",
    "df_ACL_2020.to_csv(\"./Data/ACL_2020_keywords10_mmr_unigram_nostem_261222.csv\", index = False)"
   ]
  },
  {
   "cell_type": "code",
   "execution_count": null,
   "metadata": {},
   "outputs": [],
   "source": [
    "# plm_name: roberta-base, allenai/scibert_scivocab_uncased, allenai/specter\n",
    "plm_name = \"allenai/specter\"\n",
    "plm = TransformerDocumentEmbeddings(plm_name)\n",
    "kw_model = KeyBERT(model=plm)\n",
    "    \n",
    "use_maxsum = False\n",
    "topn = 10\n",
    "nr_cand = 20\n",
    "use_mmr = True\n",
    "ngram = 1\n",
    "df_ACL_2020['Keyword'] = df_ACL_2020['Lemm Stemmed Text'].progress_apply(keybert_keyword_extraction, args=(kw_model, use_maxsum, use_mmr, ngram, topn, nr_cand))\n",
    "\n",
    "df_ACL_2020.to_csv(\"./Data/ACL_2020_keywords10_mmr_unigram_specter_261222.csv\", index = False)"
   ]
  },
  {
   "cell_type": "code",
   "execution_count": 1522,
   "metadata": {
    "scrolled": true
   },
   "outputs": [
    {
     "name": "stderr",
     "output_type": "stream",
     "text": [
      "100%|███████████████████████████████████████████████████████████████████████████████████████████| 705/705 [00:45<00:00, 15.42it/s]\n"
     ]
    }
   ],
   "source": [
    "dedup_func='seqm'\n",
    "dedup_thred=0.7\n",
    "ngram=2\n",
    "wind_size=1\n",
    "top_n=20\n",
    "kw_model = yake.KeywordExtractor(n=ngram, dedupLim=dedup_thred, dedupFunc=dedup_func, windowsSize=wind_size, top=top_n)\n",
    "useless=True\n",
    "\n",
    "df_ACL_2020['Keyword'] = df_ACL_2020['Lemm Stemmed Text'].progress_apply(yake_keyword_extraction, args=(kw_model, useless))\n",
    "\n",
    "df_ACL_2020.to_csv(\"./Data/ACL_2020_keywords_yake_030123.csv\", index = False)"
   ]
  },
  {
   "cell_type": "code",
   "execution_count": 1523,
   "metadata": {},
   "outputs": [
    {
     "name": "stderr",
     "output_type": "stream",
     "text": [
      "100%|███████████████████████████████████████████████████████████████████████████████████████████| 651/651 [00:42<00:00, 15.42it/s]\n"
     ]
    }
   ],
   "source": [
    "df_EMNLP_2020['Keyword'] = df_EMNLP_2020['Lemm Stemmed Text'].progress_apply(yake_keyword_extraction, args=(kw_model, useless))"
   ]
  },
  {
   "cell_type": "markdown",
   "metadata": {},
   "source": [
    "### Keyword matching based topic classification"
   ]
  },
  {
   "cell_type": "code",
   "execution_count": 1545,
   "metadata": {},
   "outputs": [],
   "source": [
    "#df_ACL_load = pd.read_csv(\"./Data/ACL_2020_keywords_mmr_161222.csv\")\n",
    "#df_ACL_load = pd.read_csv(\"./Data/ACL_2020_keywords_mmr_bigram_161222.csv\")\n",
    "#df_ACL_load = pd.read_csv(\"./Data/ACL_2020_keywords_maxsum_231222.csv\")\n",
    "#df_ACL_load = pd.read_csv(\"./Data/ACL_2020_keywords_maxsum_bigram_231222.csv\")\n",
    "#df_ACL_load = pd.read_csv(\"./Data/ACL_2020_keywords_maxsum_unigram_251222.csv\")\n",
    "#df_ACL_load = pd.read_csv(\"./Data/ACL_2020_keywords10_maxsum_unigram_251222.csv\")\n",
    "#df_ACL_load = pd.read_csv(\"./Data/ACL_2020_keywords10_maxsum_unigram_specter_261222.csv\")\n",
    "#df_ACL_load = pd.read_csv(\"./Data/ACL_2020_keywords10_maxsum_bigram_specter_261222.csv\")\n",
    "\n",
    "#df_ACL_load = pd.read_csv(\"./Data/ACL_2020_keywords10_mmr_unigram_specter_261222.csv\")\n",
    "#df_ACL_load = pd.read_csv(\"./Data/ACL_2020_keywords10_mmr_bigram_specter_261222.csv\")\n",
    "#df_ACL_load = pd.read_csv(\"./Data/ACL_2020_keywords20_mmr_unigram_specter_261222.csv\")\n",
    "#df_ACL_load = pd.read_csv(\"./Data/ACL_2020_keywords20_mmr_bigram_specter_261222.csv\")\n",
    "\n",
    "#df_ACL_load = pd.read_csv(\"./Data/ACL_2020_keywords30_mmr_unigram_specter_261222.csv\")\n",
    "#df_ACL_load = pd.read_csv(\"./Data/ACL_2020_keywords40_mmr_unigram_specter_261222.csv\")\n",
    "\n",
    "#df_ACL_load = pd.read_csv(\"./Data/ACL_2020_keywords20_mmr_unigram_specter_div7_261222.csv\")\n",
    "#df_ACL_load = pd.read_csv(\"./Data/ACL_2020_keywords10_mmr_unigram_261222.csv\")\n",
    "#df_ACL_load = pd.read_csv(\"./Data/ACL_2020_keywords10_mmr_unigram_roberta_261222.csv\")\n",
    "\n",
    "#df_ACL_load = pd.read_csv(\"./Data/ACL_2020_keywords10_mmr_unigram_specter_nostem_261222.csv\")\n",
    "#df_ACL_load = pd.read_csv(\"./Data/ACL_2020_keywords10_mmr_unigram_nostem_261222.csv\")\n",
    "#df_ACL_load = pd.read_csv(\"./Data/ACL_2020_keywords10_mmr_unigram_roberta_nostem_261222.csv\")\n",
    "df_ACL_load = pd.read_csv(\"./Data/ACL_2020_keywords_yake_030123.csv\")"
   ]
  },
  {
   "cell_type": "code",
   "execution_count": 1546,
   "metadata": {
    "scrolled": true
   },
   "outputs": [
    {
     "data": {
      "text/html": [
       "<div>\n",
       "<style scoped>\n",
       "    .dataframe tbody tr th:only-of-type {\n",
       "        vertical-align: middle;\n",
       "    }\n",
       "\n",
       "    .dataframe tbody tr th {\n",
       "        vertical-align: top;\n",
       "    }\n",
       "\n",
       "    .dataframe thead th {\n",
       "        text-align: right;\n",
       "    }\n",
       "</style>\n",
       "<table border=\"1\" class=\"dataframe\">\n",
       "  <thead>\n",
       "    <tr style=\"text-align: right;\">\n",
       "      <th></th>\n",
       "      <th>Label</th>\n",
       "      <th>Title</th>\n",
       "      <th>Abstract</th>\n",
       "      <th>Text</th>\n",
       "      <th>Lemm Stemmed Text</th>\n",
       "      <th>Keyword</th>\n",
       "    </tr>\n",
       "  </thead>\n",
       "  <tbody>\n",
       "    <tr>\n",
       "      <th>0</th>\n",
       "      <td>Linguistic Theories, Cognitive Modeling and Psycholinguistics</td>\n",
       "      <td>Overestimation of Syntactic Representation in Neural Language Models</td>\n",
       "      <td>With the advent of powerful neural language models over the last few years, research attention has increasingly focused on what aspects of language they represent that make them so successful. Several testing methodologies have been developed to probe models' syntactic representations. One popular method for determining a model's ability to induce syntactic structure trains a model on strings generated according to a template then tests the model's ability to distinguish such strings from superficially similar ones with different syntax. We illustrate a fundamental problem with this approach by reproducing positive results from a recent paper with two non-syntactic baseline language models: an n-gram model and an LSTM model trained on scrambled inputs.</td>\n",
       "      <td>Overestimation of Syntactic Representation in Neural Language Models With the advent of powerful neural language models over the last few years, research attention has increasingly focused on what aspects of language they represent that make them so successful. Several testing methodologies have been developed to probe models' syntactic representations. One popular method for determining a model's ability to induce syntactic structure trains a model on strings generated according to a template then tests the model's ability to distinguish such strings from superficially similar ones with different syntax. We illustrate a fundamental problem with this approach by reproducing positive results from a recent paper with two non-syntactic baseline language models: an n-gram model and an LSTM model trained on scrambled inputs.</td>\n",
       "      <td>overestimation syntactic representation neural language model advent powerful neural language model year , research attention increasingly focus aspect language represent successful . testing methodology develop probe model ' syntactic representation . popular method determine model ability induce syntactic structure train model string generate accord template test model ability distinguish string superficially similar one different syntax . illustrate fundamental problem approach reproduce positive result recent paper non - syntactic baseline language model : n - gram model lstm model train scrambled input .</td>\n",
       "      <td>language model#neural language#syntactic representation#model ability#research attention#represent successful#testing methodology#popular method#illustrate fundamental#scrambled input#representation neural#aspect language#language represent#baseline language#powerful neural#ability induce#ability distinguish#overestimation syntactic#advent powerful#attention increasingly</td>\n",
       "    </tr>\n",
       "    <tr>\n",
       "      <th>1</th>\n",
       "      <td>Linguistic Theories, Cognitive Modeling and Psycholinguistics</td>\n",
       "      <td>Inflecting When There's No Majority: Limitations of Encoder-Decoder Neural Networks as Cognitive Models for German Plurals</td>\n",
       "      <td>Can artificial neural networks learn to represent inflectional morphology and generalize to new words as human speakers do? Kirov and Cotterell (2018) argue that the answer is yes: modern Encoder-Decoder (ED) architectures learn human-like behavior when inflecting English verbs, such as extending the regular past tense form /-(e)d/ to novel words. However, their work does not address the criticism raised by Marcus et al. (1995) : that neural models may learn to extend not the regular, but the most frequent class -and thus fail on tasks like German number inflection, where infrequent suffixes like /-s/ can still be productively generalized. To investigate this question, we first collect a new dataset from German speakers (production and ratings of plural forms for novel nouns) that is designed to avoid sources of information unavailable to the ED model. The speaker data show high variability, and two suffixes evince 'regular' behavior, appearing more often with phonologically atypical inputs. Encoder-decoder models do generalize the most frequently produced plural class, but do not show human-like variability or 'regular' extension of these other plural markers. We conclude that modern neural models may still struggle with minority-class generalization.</td>\n",
       "      <td>Inflecting When There's No Majority: Limitations of Encoder-Decoder Neural Networks as Cognitive Models for German Plurals Can artificial neural networks learn to represent inflectional morphology and generalize to new words as human speakers do? Kirov and Cotterell (2018) argue that the answer is yes: modern Encoder-Decoder (ED) architectures learn human-like behavior when inflecting English verbs, such as extending the regular past tense form /-(e)d/ to novel words. However, their work does not address the criticism raised by Marcus et al. (1995) : that neural models may learn to extend not the regular, but the most frequent class -and thus fail on tasks like German number inflection, where infrequent suffixes like /-s/ can still be productively generalized. To investigate this question, we first collect a new dataset from German speakers (production and ratings of plural forms for novel nouns) that is designed to avoid sources of information unavailable to the ED model. The speaker data show high variability, and two suffixes evince 'regular' behavior, appearing more often with phonologically atypical inputs. Encoder-decoder models do generalize the most frequently produced plural class, but do not show human-like variability or 'regular' extension of these other plural markers. We conclude that modern neural models may still struggle with minority-class generalization.</td>\n",
       "      <td>inflect majority : limitation encoder - decoder neural network cognitive model german plural artificial neural network learn represent inflectional morphology generalize new word human speaker ? kirov cotterell ( 2018 ) argue answer yes : modern encoder - decoder ( ed ) architecture learn human - like behavior inflect english verb , extend regular past tense form /-(e)d/ novel word . , work address criticism raise marcus et al . ( 1995 ) : neural model learn extend regular , frequent class -and fail task like german number inflection , infrequent suffix like /-s/ productively generalize . investigate question , collect new dataset german speaker ( production rating plural form novel noun ) design avoid source information unavailable ed model . speaker datum high variability , suffix evince ' regular ' behavior , appear phonologically atypical input . encoder - decoder model generalize frequently produce plural class , human - like variability ' regular ' extension plural marker . conclude modern neural model struggle minority - class generalization .</td>\n",
       "      <td>kirov cotterell#investigate question#limitation encoder#neural network#extend regular#argue answer#english verb#work address#number inflection#production rating#design avoid#atypical input#struggle minority#high variability#inflect majority#infrequent suffix#suffix evince#conclude modern#represent inflectional#inflectional morphology</td>\n",
       "    </tr>\n",
       "    <tr>\n",
       "      <th>2</th>\n",
       "      <td>Linguistic Theories, Cognitive Modeling and Psycholinguistics</td>\n",
       "      <td>A Systematic Assessment of Syntactic Generalization in Neural Language Models</td>\n",
       "      <td>While state-of-the-art neural network models continue to achieve lower perplexity scores on language modeling benchmarks, it remains unknown whether optimizing for broad-coverage predictive performance leads to human-like syntactic knowledge. Furthermore, existing work has not provided a clear picture about the model properties required to produce proper syntactic generalizations. We present a systematic evaluation of the syntactic knowledge of neural language models, testing 20 combinations of model types and data sizes on a set of 34 English-language syntactic test suites. We find substantial differences in syntactic generalization performance by model architecture, with sequential models underperforming other architectures. Factorially manipulating model architecture and training dataset size (1M-40M words), we find that variability in syntactic generalization performance is substantially greater by architecture than by dataset size for the corpora tested in our experiments. Our results also reveal a dissociation between perplexity and syntactic generalization performance.</td>\n",
       "      <td>A Systematic Assessment of Syntactic Generalization in Neural Language Models While state-of-the-art neural network models continue to achieve lower perplexity scores on language modeling benchmarks, it remains unknown whether optimizing for broad-coverage predictive performance leads to human-like syntactic knowledge. Furthermore, existing work has not provided a clear picture about the model properties required to produce proper syntactic generalizations. We present a systematic evaluation of the syntactic knowledge of neural language models, testing 20 combinations of model types and data sizes on a set of 34 English-language syntactic test suites. We find substantial differences in syntactic generalization performance by model architecture, with sequential models underperforming other architectures. Factorially manipulating model architecture and training dataset size (1M-40M words), we find that variability in syntactic generalization performance is substantially greater by architecture than by dataset size for the corpora tested in our experiments. Our results also reveal a dissociation between perplexity and syntactic generalization performance.</td>\n",
       "      <td>systematic assessment syntactic generalization neural language model state - - - art neural network model continue achieve low perplexity score language modeling benchmark , remain unknown optimize broad - coverage predictive performance lead human - like syntactic knowledge . furthermore , exist work provide clear picture model property require produce proper syntactic generalization . present systematic evaluation syntactic knowledge neural language model , test 20 combination model type data size set 34 english - language syntactic test suite . find substantial difference syntactic generalization performance model architecture , sequential model underperform architecture . factorially manipulate model architecture training dataset size ( 1m-40 m word ) , find variability syntactic generalization performance substantially great architecture dataset size corpus test experiment . result reveal dissociation perplexity syntactic generalization performance .</td>\n",
       "      <td>syntactic generalization#generalization performance#dataset size#neural language#syntactic knowledge#generalization neural#find substantial#find variability#modeling benchmark#remain unknown#optimize broad#coverage predictive#lead human#exist work#factorially manipulate#result reveal#language model#art neural#size set#present systematic</td>\n",
       "    </tr>\n",
       "    <tr>\n",
       "      <th>3</th>\n",
       "      <td>Linguistic Theories, Cognitive Modeling and Psycholinguistics</td>\n",
       "      <td>Predicting Depression in Screening Interviews from Latent Categorization of Interview Prompts</td>\n",
       "      <td>Despite the pervasiveness of clinical depression in modern society, professional help remains highly stigmatized, inaccessible, and expensive. Accurately diagnosing depression is difficult-requiring time-intensive interviews, assessments, and analysis. Hence, automated methods that can assess linguistic patterns in these interviews could help psychiatric professionals make faster, more informed decisions about diagnosis. We propose JLPC, a method that analyzes interview transcripts to identify depression while jointly categorizing interview prompts into latent categories. This latent categorization allows the model to identify high-level conversational contexts that influence patterns of language in depressed individuals. We show that the proposed model not only outperforms competitive baselines, but that its latent prompt categories provide psycholinguistic insights about depression.</td>\n",
       "      <td>Predicting Depression in Screening Interviews from Latent Categorization of Interview Prompts Despite the pervasiveness of clinical depression in modern society, professional help remains highly stigmatized, inaccessible, and expensive. Accurately diagnosing depression is difficult-requiring time-intensive interviews, assessments, and analysis. Hence, automated methods that can assess linguistic patterns in these interviews could help psychiatric professionals make faster, more informed decisions about diagnosis. We propose JLPC, a method that analyzes interview transcripts to identify depression while jointly categorizing interview prompts into latent categories. This latent categorization allows the model to identify high-level conversational contexts that influence patterns of language in depressed individuals. We show that the proposed model not only outperforms competitive baselines, but that its latent prompt categories provide psycholinguistic insights about depression.</td>\n",
       "      <td>predict depression screening interview latent categorization interview prompt despite pervasiveness clinical depression modern society , professional help remain highly stigmatized , inaccessible , expensive . accurately diagnose depression difficult - require time - intensive interview , assessment , analysis . , automate method assess linguistic pattern interview help psychiatric professional fast , informed decision diagnosis . propose jlpc , method analyze interview transcript identify depression jointly categorize interview prompt latent category . latent categorization allow model identify high - level conversational context influence pattern language depressed individual . propose model outperform competitive baseline , latent prompt category provide psycholinguistic insight depression .</td>\n",
       "      <td>require time#propose jlpc#latent categorization#modern society#highly stigmatized#accurately diagnose#informed decision#decision diagnosis#level conversational#depressed individual#competitive baseline#automate method#professional fast#identify high#propose model#interview prompt#pervasiveness clinical#remain highly#assess linguistic#jointly categorize</td>\n",
       "    </tr>\n",
       "    <tr>\n",
       "      <th>4</th>\n",
       "      <td>Linguistic Theories, Cognitive Modeling and Psycholinguistics</td>\n",
       "      <td>Probing Linguistic Systematicity</td>\n",
       "      <td>Recently, there has been much interest in the question of whether deep natural language understanding models exhibit systematicitygeneralizing such that units like words make consistent contributions to the meaning of the sentences in which they appear. There is accumulating evidence that neural models often generalize non-systematically. We examined the notion of systematicity from a linguistic perspective, defining a set of probes and a set of metrics to measure systematic behaviour. We also identified ways in which network architectures can generalize non-systematically, and discuss why such forms of generalization may be unsatisfying. As a case study, we performed a series of experiments in the setting of natural language inference (NLI), demonstrating that some NLU systems achieve high overall performance despite being non-systematic.</td>\n",
       "      <td>Probing Linguistic Systematicity Recently, there has been much interest in the question of whether deep natural language understanding models exhibit systematicitygeneralizing such that units like words make consistent contributions to the meaning of the sentences in which they appear. There is accumulating evidence that neural models often generalize non-systematically. We examined the notion of systematicity from a linguistic perspective, defining a set of probes and a set of metrics to measure systematic behaviour. We also identified ways in which network architectures can generalize non-systematically, and discuss why such forms of generalization may be unsatisfying. As a case study, we performed a series of experiments in the setting of natural language inference (NLI), demonstrating that some NLU systems achieve high overall performance despite being non-systematic.</td>\n",
       "      <td>probe linguistic systematicity recently , interest question deep natural language understanding model exhibit systematicitygeneralizing unit like word consistent contribution meaning sentence appear . accumulate evidence neural model generalize non - systematically . examine notion systematicity linguistic perspective , define set probe set metric measure systematic behaviour . identify way network architecture generalize non - systematically , discuss form generalization unsatisfying . case study , perform series experiment setting natural language inference ( nli ) , demonstrate nlu system achieve high overall performance despite non - systematic .</td>\n",
       "      <td>case study#natural language#interest question#accumulate evidence#examine notion#discuss form#generalization unsatisfying#perform series#demonstrate nlu#language inference#systematicity recently#linguistic perspective#define set#systematic behaviour#question deep#exhibit systematicitygeneralizing#systematicitygeneralizing unit#word consistent#consistent contribution#contribution meaning</td>\n",
       "    </tr>\n",
       "    <tr>\n",
       "      <th>...</th>\n",
       "      <td>...</td>\n",
       "      <td>...</td>\n",
       "      <td>...</td>\n",
       "      <td>...</td>\n",
       "      <td>...</td>\n",
       "      <td>...</td>\n",
       "    </tr>\n",
       "    <tr>\n",
       "      <th>700</th>\n",
       "      <td>Theory and Formalism in NLP (Linguistic and Mathematical)</td>\n",
       "      <td>Dice Loss for Data-imbalanced NLP Tasks</td>\n",
       "      <td>Many NLP tasks such as tagging and machine reading comprehension (MRC) are faced with the severe data imbalance issue: negative examples significantly outnumber positive ones, and the huge number of easy-negative examples overwhelms training. The most commonly used cross entropy criteria is actually accuracy-oriented, which creates a discrepancy between training and test. At training time, each training instance contributes equally to the objective function, while at test time F1 score concerns more about positive examples.</td>\n",
       "      <td>Dice Loss for Data-imbalanced NLP Tasks Many NLP tasks such as tagging and machine reading comprehension (MRC) are faced with the severe data imbalance issue: negative examples significantly outnumber positive ones, and the huge number of easy-negative examples overwhelms training. The most commonly used cross entropy criteria is actually accuracy-oriented, which creates a discrepancy between training and test. At training time, each training instance contributes equally to the objective function, while at test time F1 score concerns more about positive examples.</td>\n",
       "      <td>dice loss data - imbalance nlp task nlp task tagging machine reading comprehension ( mrc ) face severe data imbalance issue : negative example significantly outnumber positive one , huge number easy - negative example overwhelm training . commonly cross entropy criterion actually accuracy - orient , create discrepancy training test . training time , training instance contribute equally objective function , test time f1 score concern positive example .</td>\n",
       "      <td>nlp task#dice loss#reading comprehension#face severe#huge number#number easy#commonly cross#create discrepancy#objective function#score concern#imbalance issue#test time#tagging machine#machine reading#significantly outnumber#cross entropy#entropy criterion#instance contribute#contribute equally#equally objective</td>\n",
       "    </tr>\n",
       "    <tr>\n",
       "      <th>701</th>\n",
       "      <td>Theory and Formalism in NLP (Linguistic and Mathematical)</td>\n",
       "      <td>Language Models as an Alternative Evaluator of Word Order Hypotheses: A Case Study in Japanese</td>\n",
       "      <td>We examine a methodology using neural language models (LMs) for analyzing the word order of language. This LM-based method has the potential to overcome the difficulties existing methods face, such as the propagation of preprocessor errors in count-based methods. In this study, we explore whether the LMbased method is valid for analyzing the word order. As a case study, this study focuses on Japanese due to its complex and flexible word order. To validate the LM-based method, we test (i) parallels between LMs and human word order preference, and (ii) consistency of the results obtained using the LM-based method with previous linguistic studies. Through our experiments, we tentatively conclude that LMs display sufficient word order knowledge for usage as an analysis tool. Finally, using the LMbased method, we demonstrate the relationship between the canonical word order and topicalization, which had yet to be analyzed by largescale experiments.</td>\n",
       "      <td>Language Models as an Alternative Evaluator of Word Order Hypotheses: A Case Study in Japanese We examine a methodology using neural language models (LMs) for analyzing the word order of language. This LM-based method has the potential to overcome the difficulties existing methods face, such as the propagation of preprocessor errors in count-based methods. In this study, we explore whether the LMbased method is valid for analyzing the word order. As a case study, this study focuses on Japanese due to its complex and flexible word order. To validate the LM-based method, we test (i) parallels between LMs and human word order preference, and (ii) consistency of the results obtained using the LM-based method with previous linguistic studies. Through our experiments, we tentatively conclude that LMs display sufficient word order knowledge for usage as an analysis tool. Finally, using the LMbased method, we demonstrate the relationship between the canonical word order and topicalization, which had yet to be analyzed by largescale experiments.</td>\n",
       "      <td>language model alternative evaluator word order hypothesis : case study japanese examine methodology neural language model ( lms ) analyze word order language . lm - base method potential overcome difficulty exist method face , propagation preprocessor error count - base method . study , explore lmbase method valid analyze word order . case study , study focus japanese complex flexible word order . validate lm - base method , test ( ) parallel lms human word order preference , ( ii ) consistency result obtain lm - base method previous linguistic study . experiment , tentatively conclude lms display sufficient word order knowledge usage analysis tool . finally , lmbased method , demonstrate relationship canonical word order topicalization , analyze largescale experiment .</td>\n",
       "      <td>word order#base method#case study#language model#analyze word#propagation preprocessor#error count#explore lmbase#consistency result#tentatively conclude#analysis tool#demonstrate relationship#largescale experiment#order hypothesis#order preference#order topicalization#evaluator word#flexible word#human word#sufficient word</td>\n",
       "    </tr>\n",
       "    <tr>\n",
       "      <th>702</th>\n",
       "      <td>Theory and Formalism in NLP (Linguistic and Mathematical)</td>\n",
       "      <td>A Formal Hierarchy of RNN Architectures</td>\n",
       "      <td>We develop a formal hierarchy of the expressive capacity of RNN architectures. The hierarchy is based on two formal properties: space complexity, which measures the RNN's memory, and rational recurrence, defined as whether the recurrent update can be described by a weighted finite-state machine. We place several RNN variants within this hierarchy. For example, we prove the LSTM is not rational, which formally separates it from the related QRNN (Bradbury et al., 2016). We also show how these models' expressive capacity is expanded by stacking multiple layers or composing them with different pooling functions. Our results build on the theory of \"saturated\" RNNs (Merrill, 2019) . While formally extending these findings to unsaturated RNNs is left to future work, we hypothesize that the practical learnable capacity of unsaturated RNNs obeys a similar hierarchy. Experimental findings from training unsaturated networks on formal languages support this conjecture. Proof. Choose k = 1. Fix the controller to push 1 for x t = a, and pop otherwise.</td>\n",
       "      <td>A Formal Hierarchy of RNN Architectures We develop a formal hierarchy of the expressive capacity of RNN architectures. The hierarchy is based on two formal properties: space complexity, which measures the RNN's memory, and rational recurrence, defined as whether the recurrent update can be described by a weighted finite-state machine. We place several RNN variants within this hierarchy. For example, we prove the LSTM is not rational, which formally separates it from the related QRNN (Bradbury et al., 2016). We also show how these models' expressive capacity is expanded by stacking multiple layers or composing them with different pooling functions. Our results build on the theory of \"saturated\" RNNs (Merrill, 2019) . While formally extending these findings to unsaturated RNNs is left to future work, we hypothesize that the practical learnable capacity of unsaturated RNNs obeys a similar hierarchy. Experimental findings from training unsaturated networks on formal languages support this conjecture. Proof. Choose k = 1. Fix the controller to push 1 for x t = a, and pop otherwise.</td>\n",
       "      <td>formal hierarchy rnn architecture develop formal hierarchy expressive capacity rnn architecture . hierarchy base formal property : space complexity , measure rnn memory , rational recurrence , define recurrent update describe weight finite - state machine . place rnn variant hierarchy . example , prove lstm rational , formally separate related qrnn ( bradbury et al . , 2016 ) . model ' expressive capacity expand stack multiple layer compose different pool function . result build theory \" saturated \" rnn ( merrill , 2019 ) . formally extend finding unsaturated rnn leave future work , hypothesize practical learnable capacity unsaturated rnn obey similar hierarchy . experimental finding train unsaturated network formal language support conjecture . proof . choose k = 1 . fix controller push 1 x t = , pop .</td>\n",
       "      <td>expressive capacity#space complexity#state machine#rnn architecture#formally separate#formally extend#unsaturated rnn#define recurrent#weight finite#prove lstm#related qrnn#pool function#result build#build theory#future work#hypothesize practical#support conjecture#fix controller#controller push#formal hierarchy</td>\n",
       "    </tr>\n",
       "    <tr>\n",
       "      <th>703</th>\n",
       "      <td>Theory and Formalism in NLP (Linguistic and Mathematical)</td>\n",
       "      <td>Emergence of Syntax Needs Minimal Supervision</td>\n",
       "      <td>This paper is a theoretical contribution to the debate on the learnability of syntax from a corpus without explicit syntax-specific guidance. Our approach originates in the observable structure of a corpus, which we use to define and isolate grammaticality (syntactic information) and meaning/pragmatics information. We describe the formal characteristics of an autonomous syntax and show that it becomes possible to search for syntax-based lexical categories with a simple optimization process, without any prior hypothesis on the form of the model.</td>\n",
       "      <td>Emergence of Syntax Needs Minimal Supervision This paper is a theoretical contribution to the debate on the learnability of syntax from a corpus without explicit syntax-specific guidance. Our approach originates in the observable structure of a corpus, which we use to define and isolate grammaticality (syntactic information) and meaning/pragmatics information. We describe the formal characteristics of an autonomous syntax and show that it becomes possible to search for syntax-based lexical categories with a simple optimization process, without any prior hypothesis on the form of the model.</td>\n",
       "      <td>emergence syntax need minimal supervision paper theoretical contribution debate learnability syntax corpus explicit syntax - specific guidance . approach originate observable structure corpus , use define isolate grammaticality ( syntactic information ) meaning / pragmatic information . describe formal characteristic autonomous syntax possible search syntax - base lexical category simple optimization process , prior hypothesis form model .</td>\n",
       "      <td>specific guidance#syntactic information#approach originate#isolate grammaticality#describe formal#base lexical#optimization process#prior hypothesis#form model#minimal supervision#supervision paper#paper theoretical#theoretical contribution#contribution debate#debate learnability#originate observable#observable structure#define isolate#formal characteristic#characteristic autonomous</td>\n",
       "    </tr>\n",
       "    <tr>\n",
       "      <th>704</th>\n",
       "      <td>Theory and Formalism in NLP (Linguistic and Mathematical)</td>\n",
       "      <td>Theoretical Limitations of Self-Attention in Neural Sequence Models</td>\n",
       "      <td>Transformers are emerging as the new workhorse of NLP, showing great success across tasks. Unlike LSTMs, transformers process input sequences entirely through self-attention. Previous work has suggested that the computational capabilities of self-attention to process hierarchical structures are limited. In this work, we mathematically investigate the computational power of self-attention to model formal languages. Across both soft and hard attention, we show strong theoretical limitations of the computational abilities of selfattention, finding that it cannot model periodic finite-state languages, nor hierarchical structure, unless the number of layers or heads increases with input length. These limitations seem surprising given the practical success of self-attention and the prominent role assigned to hierarchical structure in linguistics, suggesting that natural language can be approximated well with models that are too weak for the formal languages typically assumed in theoretical linguistics.</td>\n",
       "      <td>Theoretical Limitations of Self-Attention in Neural Sequence Models Transformers are emerging as the new workhorse of NLP, showing great success across tasks. Unlike LSTMs, transformers process input sequences entirely through self-attention. Previous work has suggested that the computational capabilities of self-attention to process hierarchical structures are limited. In this work, we mathematically investigate the computational power of self-attention to model formal languages. Across both soft and hard attention, we show strong theoretical limitations of the computational abilities of selfattention, finding that it cannot model periodic finite-state languages, nor hierarchical structure, unless the number of layers or heads increases with input length. These limitations seem surprising given the practical success of self-attention and the prominent role assigned to hierarchical structure in linguistics, suggesting that natural language can be approximated well with models that are too weak for the formal languages typically assumed in theoretical linguistics.</td>\n",
       "      <td>theoretical limitation self - attention neural sequence model transformer emerge new workhorse nlp , show great success task . unlike lstms , transformer process input sequence entirely self - attention . previous work suggest computational capability self - attention process hierarchical structure limited . work , mathematically investigate computational power self - attention model formal language . soft hard attention , strong theoretical limitation computational ability selfattention , find model periodic finite - state language , hierarchical structure , number layer head increase input length . limitation surprising give practical success self - attention prominent role assign hierarchical structure linguistic , suggest natural language approximate model weak formal language typically assume theoretical linguistic .</td>\n",
       "      <td>hierarchical structure#unlike lstms#theoretical limitation#formal language#structure limited#workhorse nlp#show great#mathematically investigate#soft hard#ability selfattention#periodic finite#number layer#structure linguistic#strong theoretical#success task#previous work#input length#theoretical linguistic#weak formal#assign hierarchical</td>\n",
       "    </tr>\n",
       "  </tbody>\n",
       "</table>\n",
       "<p>705 rows × 6 columns</p>\n",
       "</div>"
      ],
      "text/plain": [
       "                                                             Label  \\\n",
       "0    Linguistic Theories, Cognitive Modeling and Psycholinguistics   \n",
       "1    Linguistic Theories, Cognitive Modeling and Psycholinguistics   \n",
       "2    Linguistic Theories, Cognitive Modeling and Psycholinguistics   \n",
       "3    Linguistic Theories, Cognitive Modeling and Psycholinguistics   \n",
       "4    Linguistic Theories, Cognitive Modeling and Psycholinguistics   \n",
       "..                                                             ...   \n",
       "700      Theory and Formalism in NLP (Linguistic and Mathematical)   \n",
       "701      Theory and Formalism in NLP (Linguistic and Mathematical)   \n",
       "702      Theory and Formalism in NLP (Linguistic and Mathematical)   \n",
       "703      Theory and Formalism in NLP (Linguistic and Mathematical)   \n",
       "704      Theory and Formalism in NLP (Linguistic and Mathematical)   \n",
       "\n",
       "                                                                                                                          Title  \\\n",
       "0                                                          Overestimation of Syntactic Representation in Neural Language Models   \n",
       "1    Inflecting When There's No Majority: Limitations of Encoder-Decoder Neural Networks as Cognitive Models for German Plurals   \n",
       "2                                                 A Systematic Assessment of Syntactic Generalization in Neural Language Models   \n",
       "3                                 Predicting Depression in Screening Interviews from Latent Categorization of Interview Prompts   \n",
       "4                                                                                              Probing Linguistic Systematicity   \n",
       "..                                                                                                                          ...   \n",
       "700                                                                                     Dice Loss for Data-imbalanced NLP Tasks   \n",
       "701                              Language Models as an Alternative Evaluator of Word Order Hypotheses: A Case Study in Japanese   \n",
       "702                                                                                     A Formal Hierarchy of RNN Architectures   \n",
       "703                                                                               Emergence of Syntax Needs Minimal Supervision   \n",
       "704                                                         Theoretical Limitations of Self-Attention in Neural Sequence Models   \n",
       "\n",
       "                                                                                                                                                                                                                                                                                                                                                                                                                                                                                                                                                                                                                                                                                                                                                                                                                                                                                                                                                                                                                                                                                                                                                                                                                                                                                                                     Abstract  \\\n",
       "0                                                                                                                                                                                                                                                                                                                                                                                                                                                                                                                                  With the advent of powerful neural language models over the last few years, research attention has increasingly focused on what aspects of language they represent that make them so successful. Several testing methodologies have been developed to probe models' syntactic representations. One popular method for determining a model's ability to induce syntactic structure trains a model on strings generated according to a template then tests the model's ability to distinguish such strings from superficially similar ones with different syntax. We illustrate a fundamental problem with this approach by reproducing positive results from a recent paper with two non-syntactic baseline language models: an n-gram model and an LSTM model trained on scrambled inputs.   \n",
       "1    Can artificial neural networks learn to represent inflectional morphology and generalize to new words as human speakers do? Kirov and Cotterell (2018) argue that the answer is yes: modern Encoder-Decoder (ED) architectures learn human-like behavior when inflecting English verbs, such as extending the regular past tense form /-(e)d/ to novel words. However, their work does not address the criticism raised by Marcus et al. (1995) : that neural models may learn to extend not the regular, but the most frequent class -and thus fail on tasks like German number inflection, where infrequent suffixes like /-s/ can still be productively generalized. To investigate this question, we first collect a new dataset from German speakers (production and ratings of plural forms for novel nouns) that is designed to avoid sources of information unavailable to the ED model. The speaker data show high variability, and two suffixes evince 'regular' behavior, appearing more often with phonologically atypical inputs. Encoder-decoder models do generalize the most frequently produced plural class, but do not show human-like variability or 'regular' extension of these other plural markers. We conclude that modern neural models may still struggle with minority-class generalization.   \n",
       "2                                                                                                                                                                                        While state-of-the-art neural network models continue to achieve lower perplexity scores on language modeling benchmarks, it remains unknown whether optimizing for broad-coverage predictive performance leads to human-like syntactic knowledge. Furthermore, existing work has not provided a clear picture about the model properties required to produce proper syntactic generalizations. We present a systematic evaluation of the syntactic knowledge of neural language models, testing 20 combinations of model types and data sizes on a set of 34 English-language syntactic test suites. We find substantial differences in syntactic generalization performance by model architecture, with sequential models underperforming other architectures. Factorially manipulating model architecture and training dataset size (1M-40M words), we find that variability in syntactic generalization performance is substantially greater by architecture than by dataset size for the corpora tested in our experiments. Our results also reveal a dissociation between perplexity and syntactic generalization performance.   \n",
       "3                                                                                                                                                                                                                                                                                                                                                                                           Despite the pervasiveness of clinical depression in modern society, professional help remains highly stigmatized, inaccessible, and expensive. Accurately diagnosing depression is difficult-requiring time-intensive interviews, assessments, and analysis. Hence, automated methods that can assess linguistic patterns in these interviews could help psychiatric professionals make faster, more informed decisions about diagnosis. We propose JLPC, a method that analyzes interview transcripts to identify depression while jointly categorizing interview prompts into latent categories. This latent categorization allows the model to identify high-level conversational contexts that influence patterns of language in depressed individuals. We show that the proposed model not only outperforms competitive baselines, but that its latent prompt categories provide psycholinguistic insights about depression.   \n",
       "4                                                                                                                                                                                                                                                                                                                                                                                                                                         Recently, there has been much interest in the question of whether deep natural language understanding models exhibit systematicitygeneralizing such that units like words make consistent contributions to the meaning of the sentences in which they appear. There is accumulating evidence that neural models often generalize non-systematically. We examined the notion of systematicity from a linguistic perspective, defining a set of probes and a set of metrics to measure systematic behaviour. We also identified ways in which network architectures can generalize non-systematically, and discuss why such forms of generalization may be unsatisfying. As a case study, we performed a series of experiments in the setting of natural language inference (NLI), demonstrating that some NLU systems achieve high overall performance despite being non-systematic.   \n",
       "..                                                                                                                                                                                                                                                                                                                                                                                                                                                                                                                                                                                                                                                                                                                                                                                                                                                                                                                                                                                                                                                                                                                                                                                                                                                                                                                        ...   \n",
       "700                                                                                                                                                                                                                                                                                                                                                                                                                                                                                                                                                                                                                                                                                                                                                                         Many NLP tasks such as tagging and machine reading comprehension (MRC) are faced with the severe data imbalance issue: negative examples significantly outnumber positive ones, and the huge number of easy-negative examples overwhelms training. The most commonly used cross entropy criteria is actually accuracy-oriented, which creates a discrepancy between training and test. At training time, each training instance contributes equally to the objective function, while at test time F1 score concerns more about positive examples.   \n",
       "701                                                                                                                                                                                                                                                                                                                             We examine a methodology using neural language models (LMs) for analyzing the word order of language. This LM-based method has the potential to overcome the difficulties existing methods face, such as the propagation of preprocessor errors in count-based methods. In this study, we explore whether the LMbased method is valid for analyzing the word order. As a case study, this study focuses on Japanese due to its complex and flexible word order. To validate the LM-based method, we test (i) parallels between LMs and human word order preference, and (ii) consistency of the results obtained using the LM-based method with previous linguistic studies. Through our experiments, we tentatively conclude that LMs display sufficient word order knowledge for usage as an analysis tool. Finally, using the LMbased method, we demonstrate the relationship between the canonical word order and topicalization, which had yet to be analyzed by largescale experiments.   \n",
       "702                                                                                                                                                                                                                             We develop a formal hierarchy of the expressive capacity of RNN architectures. The hierarchy is based on two formal properties: space complexity, which measures the RNN's memory, and rational recurrence, defined as whether the recurrent update can be described by a weighted finite-state machine. We place several RNN variants within this hierarchy. For example, we prove the LSTM is not rational, which formally separates it from the related QRNN (Bradbury et al., 2016). We also show how these models' expressive capacity is expanded by stacking multiple layers or composing them with different pooling functions. Our results build on the theory of \"saturated\" RNNs (Merrill, 2019) . While formally extending these findings to unsaturated RNNs is left to future work, we hypothesize that the practical learnable capacity of unsaturated RNNs obeys a similar hierarchy. Experimental findings from training unsaturated networks on formal languages support this conjecture. Proof. Choose k = 1. Fix the controller to push 1 for x t = a, and pop otherwise.   \n",
       "703                                                                                                                                                                                                                                                                                                                                                                                                                                                                                                                                                                                                                                                                                                                                                    This paper is a theoretical contribution to the debate on the learnability of syntax from a corpus without explicit syntax-specific guidance. Our approach originates in the observable structure of a corpus, which we use to define and isolate grammaticality (syntactic information) and meaning/pragmatics information. We describe the formal characteristics of an autonomous syntax and show that it becomes possible to search for syntax-based lexical categories with a simple optimization process, without any prior hypothesis on the form of the model.   \n",
       "704                                                                                                                                                                                                                                                                       Transformers are emerging as the new workhorse of NLP, showing great success across tasks. Unlike LSTMs, transformers process input sequences entirely through self-attention. Previous work has suggested that the computational capabilities of self-attention to process hierarchical structures are limited. In this work, we mathematically investigate the computational power of self-attention to model formal languages. Across both soft and hard attention, we show strong theoretical limitations of the computational abilities of selfattention, finding that it cannot model periodic finite-state languages, nor hierarchical structure, unless the number of layers or heads increases with input length. These limitations seem surprising given the practical success of self-attention and the prominent role assigned to hierarchical structure in linguistics, suggesting that natural language can be approximated well with models that are too weak for the formal languages typically assumed in theoretical linguistics.   \n",
       "\n",
       "                                                                                                                                                                                                                                                                                                                                                                                                                                                                                                                                                                                                                                                                                                                                                                                                                                                                                                                                                                                                                                                                                                                                                                                                                                                                                                                                                                                                                                                    Text  \\\n",
       "0                                                                                                                                                                                                                                                                                                                                                                                                                                                                                                                                                                                        Overestimation of Syntactic Representation in Neural Language Models With the advent of powerful neural language models over the last few years, research attention has increasingly focused on what aspects of language they represent that make them so successful. Several testing methodologies have been developed to probe models' syntactic representations. One popular method for determining a model's ability to induce syntactic structure trains a model on strings generated according to a template then tests the model's ability to distinguish such strings from superficially similar ones with different syntax. We illustrate a fundamental problem with this approach by reproducing positive results from a recent paper with two non-syntactic baseline language models: an n-gram model and an LSTM model trained on scrambled inputs.   \n",
       "1    Inflecting When There's No Majority: Limitations of Encoder-Decoder Neural Networks as Cognitive Models for German Plurals Can artificial neural networks learn to represent inflectional morphology and generalize to new words as human speakers do? Kirov and Cotterell (2018) argue that the answer is yes: modern Encoder-Decoder (ED) architectures learn human-like behavior when inflecting English verbs, such as extending the regular past tense form /-(e)d/ to novel words. However, their work does not address the criticism raised by Marcus et al. (1995) : that neural models may learn to extend not the regular, but the most frequent class -and thus fail on tasks like German number inflection, where infrequent suffixes like /-s/ can still be productively generalized. To investigate this question, we first collect a new dataset from German speakers (production and ratings of plural forms for novel nouns) that is designed to avoid sources of information unavailable to the ED model. The speaker data show high variability, and two suffixes evince 'regular' behavior, appearing more often with phonologically atypical inputs. Encoder-decoder models do generalize the most frequently produced plural class, but do not show human-like variability or 'regular' extension of these other plural markers. We conclude that modern neural models may still struggle with minority-class generalization.   \n",
       "2                                                                                                                                                                                                                                     A Systematic Assessment of Syntactic Generalization in Neural Language Models While state-of-the-art neural network models continue to achieve lower perplexity scores on language modeling benchmarks, it remains unknown whether optimizing for broad-coverage predictive performance leads to human-like syntactic knowledge. Furthermore, existing work has not provided a clear picture about the model properties required to produce proper syntactic generalizations. We present a systematic evaluation of the syntactic knowledge of neural language models, testing 20 combinations of model types and data sizes on a set of 34 English-language syntactic test suites. We find substantial differences in syntactic generalization performance by model architecture, with sequential models underperforming other architectures. Factorially manipulating model architecture and training dataset size (1M-40M words), we find that variability in syntactic generalization performance is substantially greater by architecture than by dataset size for the corpora tested in our experiments. Our results also reveal a dissociation between perplexity and syntactic generalization performance.   \n",
       "3                                                                                                                                                                                                                                                                                                                                                                                                                        Predicting Depression in Screening Interviews from Latent Categorization of Interview Prompts Despite the pervasiveness of clinical depression in modern society, professional help remains highly stigmatized, inaccessible, and expensive. Accurately diagnosing depression is difficult-requiring time-intensive interviews, assessments, and analysis. Hence, automated methods that can assess linguistic patterns in these interviews could help psychiatric professionals make faster, more informed decisions about diagnosis. We propose JLPC, a method that analyzes interview transcripts to identify depression while jointly categorizing interview prompts into latent categories. This latent categorization allows the model to identify high-level conversational contexts that influence patterns of language in depressed individuals. We show that the proposed model not only outperforms competitive baselines, but that its latent prompt categories provide psycholinguistic insights about depression.   \n",
       "4                                                                                                                                                                                                                                                                                                                                                                                                                                                                                                                                   Probing Linguistic Systematicity Recently, there has been much interest in the question of whether deep natural language understanding models exhibit systematicitygeneralizing such that units like words make consistent contributions to the meaning of the sentences in which they appear. There is accumulating evidence that neural models often generalize non-systematically. We examined the notion of systematicity from a linguistic perspective, defining a set of probes and a set of metrics to measure systematic behaviour. We also identified ways in which network architectures can generalize non-systematically, and discuss why such forms of generalization may be unsatisfying. As a case study, we performed a series of experiments in the setting of natural language inference (NLI), demonstrating that some NLU systems achieve high overall performance despite being non-systematic.   \n",
       "..                                                                                                                                                                                                                                                                                                                                                                                                                                                                                                                                                                                                                                                                                                                                                                                                                                                                                                                                                                                                                                                                                                                                                                                                                                                                                                                                                                                                                                                   ...   \n",
       "700                                                                                                                                                                                                                                                                                                                                                                                                                                                                                                                                                                                                                                                                                                                                                                                                                                                            Dice Loss for Data-imbalanced NLP Tasks Many NLP tasks such as tagging and machine reading comprehension (MRC) are faced with the severe data imbalance issue: negative examples significantly outnumber positive ones, and the huge number of easy-negative examples overwhelms training. The most commonly used cross entropy criteria is actually accuracy-oriented, which creates a discrepancy between training and test. At training time, each training instance contributes equally to the objective function, while at test time F1 score concerns more about positive examples.   \n",
       "701                                                                                                                                                                                                                                                                                                                                                         Language Models as an Alternative Evaluator of Word Order Hypotheses: A Case Study in Japanese We examine a methodology using neural language models (LMs) for analyzing the word order of language. This LM-based method has the potential to overcome the difficulties existing methods face, such as the propagation of preprocessor errors in count-based methods. In this study, we explore whether the LMbased method is valid for analyzing the word order. As a case study, this study focuses on Japanese due to its complex and flexible word order. To validate the LM-based method, we test (i) parallels between LMs and human word order preference, and (ii) consistency of the results obtained using the LM-based method with previous linguistic studies. Through our experiments, we tentatively conclude that LMs display sufficient word order knowledge for usage as an analysis tool. Finally, using the LMbased method, we demonstrate the relationship between the canonical word order and topicalization, which had yet to be analyzed by largescale experiments.   \n",
       "702                                                                                                                                                                                                                                                                                                                A Formal Hierarchy of RNN Architectures We develop a formal hierarchy of the expressive capacity of RNN architectures. The hierarchy is based on two formal properties: space complexity, which measures the RNN's memory, and rational recurrence, defined as whether the recurrent update can be described by a weighted finite-state machine. We place several RNN variants within this hierarchy. For example, we prove the LSTM is not rational, which formally separates it from the related QRNN (Bradbury et al., 2016). We also show how these models' expressive capacity is expanded by stacking multiple layers or composing them with different pooling functions. Our results build on the theory of \"saturated\" RNNs (Merrill, 2019) . While formally extending these findings to unsaturated RNNs is left to future work, we hypothesize that the practical learnable capacity of unsaturated RNNs obeys a similar hierarchy. Experimental findings from training unsaturated networks on formal languages support this conjecture. Proof. Choose k = 1. Fix the controller to push 1 for x t = a, and pop otherwise.   \n",
       "703                                                                                                                                                                                                                                                                                                                                                                                                                                                                                                                                                                                                                                                                                                                                                                                                                                 Emergence of Syntax Needs Minimal Supervision This paper is a theoretical contribution to the debate on the learnability of syntax from a corpus without explicit syntax-specific guidance. Our approach originates in the observable structure of a corpus, which we use to define and isolate grammaticality (syntactic information) and meaning/pragmatics information. We describe the formal characteristics of an autonomous syntax and show that it becomes possible to search for syntax-based lexical categories with a simple optimization process, without any prior hypothesis on the form of the model.   \n",
       "704                                                                                                                                                                                                                                                                                                                              Theoretical Limitations of Self-Attention in Neural Sequence Models Transformers are emerging as the new workhorse of NLP, showing great success across tasks. Unlike LSTMs, transformers process input sequences entirely through self-attention. Previous work has suggested that the computational capabilities of self-attention to process hierarchical structures are limited. In this work, we mathematically investigate the computational power of self-attention to model formal languages. Across both soft and hard attention, we show strong theoretical limitations of the computational abilities of selfattention, finding that it cannot model periodic finite-state languages, nor hierarchical structure, unless the number of layers or heads increases with input length. These limitations seem surprising given the practical success of self-attention and the prominent role assigned to hierarchical structure in linguistics, suggesting that natural language can be approximated well with models that are too weak for the formal languages typically assumed in theoretical linguistics.   \n",
       "\n",
       "                                                                                                                                                                                                                                                                                                                                                                                                                                                                                                                                                                                                                                                                                                                                                                                                                                                                                                                                                                                                                                                                                              Lemm Stemmed Text  \\\n",
       "0                                                                                                                                                                                                                                                                                                                                                                                                                                                                      overestimation syntactic representation neural language model advent powerful neural language model year , research attention increasingly focus aspect language represent successful . testing methodology develop probe model ' syntactic representation . popular method determine model ability induce syntactic structure train model string generate accord template test model ability distinguish string superficially similar one different syntax . illustrate fundamental problem approach reproduce positive result recent paper non - syntactic baseline language model : n - gram model lstm model train scrambled input .   \n",
       "1    inflect majority : limitation encoder - decoder neural network cognitive model german plural artificial neural network learn represent inflectional morphology generalize new word human speaker ? kirov cotterell ( 2018 ) argue answer yes : modern encoder - decoder ( ed ) architecture learn human - like behavior inflect english verb , extend regular past tense form /-(e)d/ novel word . , work address criticism raise marcus et al . ( 1995 ) : neural model learn extend regular , frequent class -and fail task like german number inflection , infrequent suffix like /-s/ productively generalize . investigate question , collect new dataset german speaker ( production rating plural form novel noun ) design avoid source information unavailable ed model . speaker datum high variability , suffix evince ' regular ' behavior , appear phonologically atypical input . encoder - decoder model generalize frequently produce plural class , human - like variability ' regular ' extension plural marker . conclude modern neural model struggle minority - class generalization .   \n",
       "2                                                                                                     systematic assessment syntactic generalization neural language model state - - - art neural network model continue achieve low perplexity score language modeling benchmark , remain unknown optimize broad - coverage predictive performance lead human - like syntactic knowledge . furthermore , exist work provide clear picture model property require produce proper syntactic generalization . present systematic evaluation syntactic knowledge neural language model , test 20 combination model type data size set 34 english - language syntactic test suite . find substantial difference syntactic generalization performance model architecture , sequential model underperform architecture . factorially manipulate model architecture training dataset size ( 1m-40 m word ) , find variability syntactic generalization performance substantially great architecture dataset size corpus test experiment . result reveal dissociation perplexity syntactic generalization performance .   \n",
       "3                                                                                                                                                                                                                                                                         predict depression screening interview latent categorization interview prompt despite pervasiveness clinical depression modern society , professional help remain highly stigmatized , inaccessible , expensive . accurately diagnose depression difficult - require time - intensive interview , assessment , analysis . , automate method assess linguistic pattern interview help psychiatric professional fast , informed decision diagnosis . propose jlpc , method analyze interview transcript identify depression jointly categorize interview prompt latent category . latent categorization allow model identify high - level conversational context influence pattern language depressed individual . propose model outperform competitive baseline , latent prompt category provide psycholinguistic insight depression .   \n",
       "4                                                                                                                                                                                                                                                                                                                                                                                                                            probe linguistic systematicity recently , interest question deep natural language understanding model exhibit systematicitygeneralizing unit like word consistent contribution meaning sentence appear . accumulate evidence neural model generalize non - systematically . examine notion systematicity linguistic perspective , define set probe set metric measure systematic behaviour . identify way network architecture generalize non - systematically , discuss form generalization unsatisfying . case study , perform series experiment setting natural language inference ( nli ) , demonstrate nlu system achieve high overall performance despite non - systematic .   \n",
       "..                                                                                                                                                                                                                                                                                                                                                                                                                                                                                                                                                                                                                                                                                                                                                                                                                                                                                                                                                                                                                                                                                                          ...   \n",
       "700                                                                                                                                                                                                                                                                                                                                                                                                                                                                                                                                                                                                                                     dice loss data - imbalance nlp task nlp task tagging machine reading comprehension ( mrc ) face severe data imbalance issue : negative example significantly outnumber positive one , huge number easy - negative example overwhelm training . commonly cross entropy criterion actually accuracy - orient , create discrepancy training test . training time , training instance contribute equally objective function , test time f1 score concern positive example .   \n",
       "701                                                                                                                                                                                                                                                                                               language model alternative evaluator word order hypothesis : case study japanese examine methodology neural language model ( lms ) analyze word order language . lm - base method potential overcome difficulty exist method face , propagation preprocessor error count - base method . study , explore lmbase method valid analyze word order . case study , study focus japanese complex flexible word order . validate lm - base method , test ( ) parallel lms human word order preference , ( ii ) consistency result obtain lm - base method previous linguistic study . experiment , tentatively conclude lms display sufficient word order knowledge usage analysis tool . finally , lmbased method , demonstrate relationship canonical word order topicalization , analyze largescale experiment .   \n",
       "702                                                                                                                                                                                                                                                              formal hierarchy rnn architecture develop formal hierarchy expressive capacity rnn architecture . hierarchy base formal property : space complexity , measure rnn memory , rational recurrence , define recurrent update describe weight finite - state machine . place rnn variant hierarchy . example , prove lstm rational , formally separate related qrnn ( bradbury et al . , 2016 ) . model ' expressive capacity expand stack multiple layer compose different pool function . result build theory \" saturated \" rnn ( merrill , 2019 ) . formally extend finding unsaturated rnn leave future work , hypothesize practical learnable capacity unsaturated rnn obey similar hierarchy . experimental finding train unsaturated network formal language support conjecture . proof . choose k = 1 . fix controller push 1 x t = , pop .   \n",
       "703                                                                                                                                                                                                                                                                                                                                                                                                                                                                                                                                                                                                                                                 emergence syntax need minimal supervision paper theoretical contribution debate learnability syntax corpus explicit syntax - specific guidance . approach originate observable structure corpus , use define isolate grammaticality ( syntactic information ) meaning / pragmatic information . describe formal characteristic autonomous syntax possible search syntax - base lexical category simple optimization process , prior hypothesis form model .   \n",
       "704                                                                                                                                                                                                                                           theoretical limitation self - attention neural sequence model transformer emerge new workhorse nlp , show great success task . unlike lstms , transformer process input sequence entirely self - attention . previous work suggest computational capability self - attention process hierarchical structure limited . work , mathematically investigate computational power self - attention model formal language . soft hard attention , strong theoretical limitation computational ability selfattention , find model periodic finite - state language , hierarchical structure , number layer head increase input length . limitation surprising give practical success self - attention prominent role assign hierarchical structure linguistic , suggest natural language approximate model weak formal language typically assume theoretical linguistic .   \n",
       "\n",
       "                                                                                                                                                                                                                                                                                                                                                                                                   Keyword  \n",
       "0                    language model#neural language#syntactic representation#model ability#research attention#represent successful#testing methodology#popular method#illustrate fundamental#scrambled input#representation neural#aspect language#language represent#baseline language#powerful neural#ability induce#ability distinguish#overestimation syntactic#advent powerful#attention increasingly  \n",
       "1                                                          kirov cotterell#investigate question#limitation encoder#neural network#extend regular#argue answer#english verb#work address#number inflection#production rating#design avoid#atypical input#struggle minority#high variability#inflect majority#infrequent suffix#suffix evince#conclude modern#represent inflectional#inflectional morphology  \n",
       "2                                                       syntactic generalization#generalization performance#dataset size#neural language#syntactic knowledge#generalization neural#find substantial#find variability#modeling benchmark#remain unknown#optimize broad#coverage predictive#lead human#exist work#factorially manipulate#result reveal#language model#art neural#size set#present systematic  \n",
       "3                                       require time#propose jlpc#latent categorization#modern society#highly stigmatized#accurately diagnose#informed decision#decision diagnosis#level conversational#depressed individual#competitive baseline#automate method#professional fast#identify high#propose model#interview prompt#pervasiveness clinical#remain highly#assess linguistic#jointly categorize  \n",
       "4    case study#natural language#interest question#accumulate evidence#examine notion#discuss form#generalization unsatisfying#perform series#demonstrate nlu#language inference#systematicity recently#linguistic perspective#define set#systematic behaviour#question deep#exhibit systematicitygeneralizing#systematicitygeneralizing unit#word consistent#consistent contribution#contribution meaning  \n",
       "..                                                                                                                                                                                                                                                                                                                                                                                                     ...  \n",
       "700                                                                             nlp task#dice loss#reading comprehension#face severe#huge number#number easy#commonly cross#create discrepancy#objective function#score concern#imbalance issue#test time#tagging machine#machine reading#significantly outnumber#cross entropy#entropy criterion#instance contribute#contribute equally#equally objective  \n",
       "701                                                                  word order#base method#case study#language model#analyze word#propagation preprocessor#error count#explore lmbase#consistency result#tentatively conclude#analysis tool#demonstrate relationship#largescale experiment#order hypothesis#order preference#order topicalization#evaluator word#flexible word#human word#sufficient word  \n",
       "702                                                                              expressive capacity#space complexity#state machine#rnn architecture#formally separate#formally extend#unsaturated rnn#define recurrent#weight finite#prove lstm#related qrnn#pool function#result build#build theory#future work#hypothesize practical#support conjecture#fix controller#controller push#formal hierarchy  \n",
       "703      specific guidance#syntactic information#approach originate#isolate grammaticality#describe formal#base lexical#optimization process#prior hypothesis#form model#minimal supervision#supervision paper#paper theoretical#theoretical contribution#contribution debate#debate learnability#originate observable#observable structure#define isolate#formal characteristic#characteristic autonomous  \n",
       "704                                                   hierarchical structure#unlike lstms#theoretical limitation#formal language#structure limited#workhorse nlp#show great#mathematically investigate#soft hard#ability selfattention#periodic finite#number layer#structure linguistic#strong theoretical#success task#previous work#input length#theoretical linguistic#weak formal#assign hierarchical  \n",
       "\n",
       "[705 rows x 6 columns]"
      ]
     },
     "execution_count": 1546,
     "metadata": {},
     "output_type": "execute_result"
    }
   ],
   "source": [
    "df_ACL_load"
   ]
  },
  {
   "cell_type": "markdown",
   "metadata": {},
   "source": [
    "### Training on ACL2020\n",
    "\n",
    "Obtain topic_keywords{topic: \\[keywords\\]}"
   ]
  },
  {
   "cell_type": "code",
   "execution_count": 1547,
   "metadata": {},
   "outputs": [],
   "source": [
    "df_train = df_ACL_load\n",
    "text_label = \"Keyword\" # Extract keyword from which column, \"Keyword\" or \"Lemm Stemmed Text\", or \"Text\"\n",
    "topk = 10 # 10, 20, 30, 40"
   ]
  },
  {
   "cell_type": "code",
   "execution_count": 1548,
   "metadata": {},
   "outputs": [],
   "source": [
    "# used for keyword only, convert from 'kc kc#kw2#kc kc3' to \"kc_kc kw2 kc_kc3\"\n",
    "df_train[\"Keyword\"] = df_train[\"Keyword\"].apply(format_str)"
   ]
  },
  {
   "cell_type": "code",
   "execution_count": 1549,
   "metadata": {},
   "outputs": [],
   "source": [
    "topic_docs = df_train.groupby(['Label'], as_index=False).agg({text_label: ' '.join})"
   ]
  },
  {
   "cell_type": "code",
   "execution_count": 1550,
   "metadata": {},
   "outputs": [],
   "source": [
    "tfidf_model = TfidfVectorizer()\n",
    "tfidf_vals = tfidf_model.fit_transform(topic_docs[text_label])\n",
    "keyword_feas = tfidf_model.get_feature_names()"
   ]
  },
  {
   "cell_type": "code",
   "execution_count": 1551,
   "metadata": {},
   "outputs": [],
   "source": [
    "if text_label == \"Keyword\": \n",
    "    ngram_range=1\n",
    "elif text_label == \"Lemm Stemmed Text\": \n",
    "    ngram_range=(1, 2)\n",
    "\n",
    "count_vectorizer = CountVectorizer(ngram_range).fit(topic_docs[text_label])\n",
    "count = count_vectorizer.transform(topic_docs[text_label])\n",
    "words = count_vectorizer.get_feature_names()"
   ]
  },
  {
   "cell_type": "code",
   "execution_count": 1552,
   "metadata": {},
   "outputs": [],
   "source": [
    "class CTFIDFVectorizer(TfidfTransformer):\n",
    "    def __init__(self, *args, **kwargs):\n",
    "        super(CTFIDFVectorizer, self).__init__(*args, **kwargs)\n",
    "\n",
    "    def fit(self, X: sp.csr_matrix, n_samples: int):\n",
    "        \"\"\"Learn the idf vector (global term weights) \"\"\"\n",
    "        _, n_features = X.shape\n",
    "        df = np.squeeze(np.asarray(X.sum(axis=0)))\n",
    "        idf = np.log(n_samples / df)\n",
    "        self._idf_diag = sp.diags(idf, offsets=0,\n",
    "                                  shape=(n_features, n_features),\n",
    "                                  format='csr',\n",
    "                                  dtype=np.float64)\n",
    "        return self\n",
    "\n",
    "    def transform(self, X: sp.csr_matrix) -> sp.csr_matrix:\n",
    "        \"\"\"Transform a count-based matrix to c-TF-IDF \"\"\"\n",
    "        X = X * self._idf_diag\n",
    "        X = normalize(X, axis=1, norm='l1', copy=False)\n",
    "        return X"
   ]
  },
  {
   "cell_type": "code",
   "execution_count": 1553,
   "metadata": {},
   "outputs": [],
   "source": [
    "# Extract top _topk_ words per class\n",
    "ctfidf = CTFIDFVectorizer().fit_transform(count, n_samples=len(df_train)).toarray()\n",
    "\n",
    "topic_keywords = {topic_docs['Label'].iloc[label]: [words[index].replace(\"_\", \" \") for index in ctfidf[label].argsort()[-topk:]  if ctfidf[label][index]>0] for label in range(0,len(topic_docs['Label']))}\n",
    "topic_keywords_val = {topic_docs['Label'].iloc[label]: [(words[index].replace(\"_\", \" \"), ctfidf[label][index]) for index in ctfidf[label].argsort()[-topk:] if ctfidf[label][index]>0] for label in range(0,len(topic_docs['Label']))}\n",
    "\n",
    "#topic_keywords = {topic_docs['Label'].iloc[label]: [lemmatiser_stemmer_stopword(words[index].replace(\"_\", \" \"), nlp, stemmer) for index in ctfidf[label].argsort()[-topk:]  if ctfidf[label][index]>0] for label in range(0,len(topic_docs['Label']))}\n",
    "#topic_keywords_val = {topic_docs['Label'].iloc[label]: [(lemmatiser_stemmer_stopword(words[index].replace(\"_\", \" \"), nlp, stemmer), ctfidf[label][index]) for index in ctfidf[label].argsort()[-topk:] if ctfidf[label][index]>0] for label in range(0,len(topic_docs['Label']))}\n",
    "\n"
   ]
  },
  {
   "cell_type": "code",
   "execution_count": 1554,
   "metadata": {},
   "outputs": [
    {
     "data": {
      "text/plain": [
       "{'Computational Social Science and Social Media': [('live heart',\n",
       "   0.002280860792029811),\n",
       "  ('listen trust', 0.002280860792029811),\n",
       "  ('share sentiment', 0.002280860792029811),\n",
       "  ('outperform state', 0.0022954695210204113),\n",
       "  ('base model', 0.0026331768529845832),\n",
       "  ('case study', 0.0028332814485927766),\n",
       "  ('current state', 0.003115313035753343),\n",
       "  ('unseen training', 0.0035974492185221023),\n",
       "  ('medium post', 0.004079585401290862),\n",
       "  ('social medium', 0.006230626071506686)],\n",
       " 'Dialogue and Interactive Systems': [('state tracking',\n",
       "   0.0028417408794451527),\n",
       "  ('human evaluation', 0.003230101398991199),\n",
       "  ('orient dialog', 0.0033989162407980764),\n",
       "  ('dialog system', 0.0033989162407980764),\n",
       "  ('domain dialogue', 0.0038013837229970773),\n",
       "  ('dialogue state', 0.003928432582299458),\n",
       "  ('orient dialogue', 0.003928432582299458),\n",
       "  ('response generation', 0.003928432582299458),\n",
       "  ('dialogue generation', 0.0041932961530030495),\n",
       "  ('dialogue system', 0.004306550494355493)],\n",
       " 'Discourse and Pragmatics': [('art system', 0.004531926746860623),\n",
       "  ('criterion train', 0.004531926746860623),\n",
       "  ('treat tree', 0.004531926746860623),\n",
       "  ('latent geometric', 0.004531926746860623),\n",
       "  ('experimental result', 0.0046730357751328016),\n",
       "  ('address issue', 0.005148169423324707),\n",
       "  ('relation recognition', 0.00810587926313503),\n",
       "  ('discourse relation', 0.00810587926313503),\n",
       "  ('assume gold', 0.00810587926313503),\n",
       "  ('sentence encoder', 0.00810587926313503)],\n",
       " 'Ethics and NLP': [('level give', 0.004403421044153317),\n",
       "  ('spouse hypernym', 0.004403421044153317),\n",
       "  ('slow expensive', 0.004403421044153317),\n",
       "  ('base posterior', 0.004403421044153317),\n",
       "  ('word embedding', 0.004852827600202315),\n",
       "  ('sentiment analysis', 0.005170268260343232),\n",
       "  ('resolution system', 0.007876031834226051),\n",
       "  ('bias mitigation', 0.007876031834226051),\n",
       "  ('social bias', 0.010417832370218203),\n",
       "  ('gender bias', 0.012801464972443196)],\n",
       " 'Generation': [('style transfer', 0.002453972110213823),\n",
       "  ('question generation', 0.002453972110213823),\n",
       "  ('generation model', 0.002564623680229133),\n",
       "  ('human evaluation', 0.0025912111667773085),\n",
       "  ('evaluation metric', 0.0026402090034982),\n",
       "  ('art performance', 0.002666155341011188),\n",
       "  ('generate question', 0.002707278365047805),\n",
       "  ('natural language', 0.0032580429683397917),\n",
       "  ('language generation', 0.0038118725759320824),\n",
       "  ('text generation', 0.008004234480172222)],\n",
       " 'Information Extraction': [('task learning', 0.002084795219743417),\n",
       "  ('experimental result', 0.0020985312991647453),\n",
       "  ('label datum', 0.002146952120632437),\n",
       "  ('information extraction', 0.0024074450458012923),\n",
       "  ('art method', 0.0024324030594327483),\n",
       "  ('entity linking', 0.002541356822751107),\n",
       "  ('flat ner', 0.002541356822751107),\n",
       "  ('extensive experiment', 0.002908548240228298),\n",
       "  ('relation extraction', 0.004622158743824688),\n",
       "  ('entity recognition', 0.008290161632258345)],\n",
       " 'Information Retrieval and Text Mining': [('european language',\n",
       "   0.0026876883396151747),\n",
       "  ('exist method', 0.0031557440400702937),\n",
       "  ('previous work', 0.004105574585669997),\n",
       "  ('neural topic', 0.00447490751779547),\n",
       "  ('significant progress', 0.00447490751779547),\n",
       "  ('keyphrase generation', 0.00447490751779547),\n",
       "  ('document retrieval', 0.004807243893107544),\n",
       "  ('topic distribution', 0.004807243893107544),\n",
       "  ('topic modeling', 0.004807243893107544),\n",
       "  ('text classification', 0.007889360100175734)],\n",
       " 'Interpretability and Analysis of Models for NLP': [('tuning downstream',\n",
       "   0.0027262351891226963),\n",
       "  ('multilingual bert', 0.0027262351891226963),\n",
       "  ('explanation model', 0.0027262351891226963),\n",
       "  ('downstream task', 0.0027325847696711494),\n",
       "  ('neural network', 0.0028185610007021734),\n",
       "  ('natural language', 0.002863165144664769),\n",
       "  ('attention mechanism', 0.002900732803146159),\n",
       "  ('language processing', 0.003181931601781763),\n",
       "  ('language model', 0.0035232012508777167),\n",
       "  ('attention weight', 0.0048080830211391645)],\n",
       " 'Language Grounding to Vision, Robotics and Beyond': [('unified framework',\n",
       "   0.002310058333490589),\n",
       "  ('achieve state', 0.0025458194268579183),\n",
       "  ('case study', 0.002869550585602108),\n",
       "  ('improve state', 0.0036435005483875112),\n",
       "  ('language learning', 0.0041318086076843445),\n",
       "  ('action sequence', 0.0041318086076843445),\n",
       "  ('source supervision', 0.0041318086076843445),\n",
       "  ('art method', 0.004141431860905475),\n",
       "  ('natural language', 0.004339335959402167),\n",
       "  ('question answering', 0.00544644092624253)],\n",
       " 'Linguistic Theories, Cognitive Modeling and Psycholinguistics': [('high variability',\n",
       "   0.004734082158597289),\n",
       "  ('question deep', 0.004734082158597289),\n",
       "  ('represent successful', 0.004734082158597289),\n",
       "  ('collocational preference', 0.004734082158597289),\n",
       "  ('find indication', 0.004734082158597289),\n",
       "  ('represent inflectional', 0.004734082158597289),\n",
       "  ('advent powerful', 0.004734082158597289),\n",
       "  ('testing methodology', 0.004734082158597289),\n",
       "  ('language model', 0.00656566050523372),\n",
       "  ('neural language', 0.007144595697975105)],\n",
       " 'Machine Learning for NLP': [('train model', 0.0017376256207727858),\n",
       "  ('processing task', 0.0018854396720349063),\n",
       "  ('language model', 0.0022105386722358214),\n",
       "  ('experimental result', 0.0024652613595600686),\n",
       "  ('language processing', 0.0024955226643651037),\n",
       "  ('language modeling', 0.002585669899669051),\n",
       "  ('knowledge graph', 0.0029115118346804618),\n",
       "  ('natural language', 0.00299402769744438),\n",
       "  ('text classification', 0.003275038406591723),\n",
       "  ('neural network', 0.003315808008353732)],\n",
       " 'Machine Translation and Multilinguality': [('monolingual corpora',\n",
       "   0.001923805974069588),\n",
       "  ('transfer learning', 0.0019437500952485304),\n",
       "  ('german english', 0.002030815800500987),\n",
       "  ('translation task', 0.002565074632092784),\n",
       "  ('nmt model', 0.003068004507005434),\n",
       "  ('translation quality', 0.0034312885545757666),\n",
       "  ('bleu score', 0.0035459681892990036),\n",
       "  ('language pair', 0.004221255995604734),\n",
       "  ('machine translation', 0.013774502303419337),\n",
       "  ('neural machine', 0.01387499862643446)],\n",
       " 'Phonology, Morphology and Word Segmentation': [('supervised contextual',\n",
       "   0.0029067526622988268),\n",
       "  ('task map', 0.0029067526622988268),\n",
       "  ('graph auto', 0.0029067526622988268),\n",
       "  ('error analysis', 0.004584626615514763),\n",
       "  ('correspond author', 0.004839641988682152),\n",
       "  ('paradigm completion', 0.005199065970056208),\n",
       "  ('morphological paradigm', 0.005199065970056208),\n",
       "  ('model morphological', 0.005199065970056208),\n",
       "  ('word segmentation', 0.006580231987025123),\n",
       "  ('chinese word', 0.006876939923272145)],\n",
       " 'Question Answering': [('address problem', 0.0018884923279779504),\n",
       "  ('art baseline', 0.001987515644578732),\n",
       "  ('extensive experiment', 0.002079623363863458),\n",
       "  ('question generation', 0.002196086844186385),\n",
       "  ('base question', 0.0024227734195862017),\n",
       "  ('clarification question', 0.002602704676995602),\n",
       "  ('comprehension benchmark', 0.002602704676995602),\n",
       "  ('machine reading', 0.007553969311911802),\n",
       "  ('question answering', 0.008920122979052102),\n",
       "  ('reading comprehension', 0.009765918778559587)],\n",
       " 'Resources and Evaluation': [('lingual word', 0.001954207224231181),\n",
       "  ('scale dataset', 0.002062908090479973),\n",
       "  ('create large', 0.002062908090479973),\n",
       "  ('alternative approach', 0.002062908090479973),\n",
       "  ('nlp research', 0.002062908090479973),\n",
       "  ('gold standard', 0.0022161133566593757),\n",
       "  ('million user', 0.0022161133566593757),\n",
       "  ('machine translation', 0.0022813330547075297),\n",
       "  ('natural language', 0.00232742154628817),\n",
       "  ('large publicly', 0.0030943621357199594)],\n",
       " 'Semantics: Lexical Semantics': [('previous state', 0.004414413127899185),\n",
       "  ('embedding space', 0.005009402602906738),\n",
       "  ('unlike prior', 0.00523528058275147),\n",
       "  ('specific word', 0.005526487946711784),\n",
       "  ('word sense', 0.005526487946711784),\n",
       "  ('sense disambiguation', 0.005526487946711784),\n",
       "  ('hypernymy detection', 0.0059369216741379256),\n",
       "  ('lowresource scenario', 0.0059369216741379256),\n",
       "  ('prior work', 0.005950749154074434),\n",
       "  ('word embedding', 0.007316084537722541)],\n",
       " 'Semantics: Sentence-level Semantics, Textual Inference and Other areas': [('semantic dependency',\n",
       "   0.0018151686356780055),\n",
       "  ('language model', 0.0018766405578772467),\n",
       "  ('art performance', 0.0019968188583012357),\n",
       "  ('role labeling', 0.0022973801038735486),\n",
       "  ('language understanding', 0.0024258617099647667),\n",
       "  ('experimental result', 0.0027905170875167744),\n",
       "  ('logical form', 0.003063173471831398),\n",
       "  ('language inference', 0.0034653144600361864),\n",
       "  ('natural language', 0.0041939450778917175),\n",
       "  ('semantic parsing', 0.004412235780055799)],\n",
       " 'Sentiment Analysis, Stylistic Analysis, and Argument Mining': [('sentiment classification',\n",
       "   0.0037148418814143287),\n",
       "  ('experimental result', 0.00409923315685693),\n",
       "  ('aspect extraction', 0.004255063320593649),\n",
       "  ('pair extraction', 0.004255063320593649),\n",
       "  ('term extraction', 0.004255063320593649),\n",
       "  ('graph attention', 0.0046541729683207),\n",
       "  ('extensive experiment', 0.00486986196600882),\n",
       "  ('base sentiment', 0.00514258494225005),\n",
       "  ('aspect term', 0.005374468220559794),\n",
       "  ('sentiment analysis', 0.008001887956007201)],\n",
       " 'Speech and Multimodality': [('net accept', 0.00298465584883148),\n",
       "  ('sentiment analysis', 0.0035044278638197606),\n",
       "  ('experimental result', 0.004103450721104609),\n",
       "  ('model achieve', 0.004198132394352541),\n",
       "  ('learning framework', 0.004504391479301235),\n",
       "  ('propose multi', 0.004504391479301235),\n",
       "  ('speech translation', 0.0047074981026706585),\n",
       "  ('recognition system', 0.005338404900166809),\n",
       "  ('multimodal sentiment', 0.005338404900166809),\n",
       "  ('speech recognition', 0.011260978698253089)],\n",
       " 'Summarization': [('discourse unit', 0.0031856587834838542),\n",
       "  ('collect human', 0.0031856587834838542),\n",
       "  ('source word', 0.0031856587834838542),\n",
       "  ('lingual summarization', 0.0031856587834838542),\n",
       "  ('summarization paper', 0.0031856587834838542),\n",
       "  ('write reference', 0.0031856587834838542),\n",
       "  ('summarization model', 0.0031856587834838542),\n",
       "  ('document summarization', 0.005618338421103189),\n",
       "  ('generate summary', 0.00671991659898139),\n",
       "  ('abstractive summarization', 0.007766810785421102)],\n",
       " 'Syntax: Tagging, Chunking and Parsing': [('linearization constituent',\n",
       "   0.003090785747097921),\n",
       "  ('apply abstract', 0.003090785747097921),\n",
       "  ('define word', 0.003090785747097921),\n",
       "  ('deep syntactic', 0.003090785747097921),\n",
       "  ('annotation scheme', 0.003090785747097921),\n",
       "  ('recent work', 0.004011220004079356),\n",
       "  ('dependency parsing', 0.004221548795218599),\n",
       "  ('sequence labeling', 0.004221548795218599),\n",
       "  ('empirically compare', 0.004874889694877679),\n",
       "  ('constituency parsing', 0.005146050668048775)],\n",
       " 'Theory and Formalism in NLP (Linguistic and Mathematical)': [('analysis tool',\n",
       "   0.008700559729752574),\n",
       "  ('largescale experiment', 0.008700559729752574),\n",
       "  ('formulation power', 0.008700559729752574),\n",
       "  ('flexible word', 0.008700559729752574),\n",
       "  ('formulation derive', 0.008700559729752574),\n",
       "  ('space complexity', 0.008700559729752574),\n",
       "  ('human word', 0.008700559729752574),\n",
       "  ('base empirical', 0.008700559729752574),\n",
       "  ('typical impulse', 0.008700559729752574),\n",
       "  ('tentatively conclude', 0.008700559729752574)]}"
      ]
     },
     "execution_count": 1554,
     "metadata": {},
     "output_type": "execute_result"
    }
   ],
   "source": [
    "topic_keywords_val"
   ]
  },
  {
   "cell_type": "markdown",
   "metadata": {},
   "source": [
    "### Testing on ACL2020/EMNLP2020"
   ]
  },
  {
   "cell_type": "code",
   "execution_count": 1555,
   "metadata": {},
   "outputs": [],
   "source": [
    "df_test = df_EMNLP_2020"
   ]
  },
  {
   "cell_type": "code",
   "execution_count": 1556,
   "metadata": {},
   "outputs": [],
   "source": [
    "def keyword_count(text): \n",
    "\n",
    "    keyword_count_dict = {}\n",
    "    keyword_list_dict = {}\n",
    "\n",
    "    for label in topic_keywords.keys():\n",
    "\n",
    "        count = 0\n",
    "        keywords = []\n",
    "\n",
    "        list_of_key_words = topic_keywords[label]\n",
    "\n",
    "        for keyword in list_of_key_words:\n",
    "\n",
    "            count += text.count(keyword)\n",
    "            if keyword in text: keywords.append(keyword)\n",
    "\n",
    "        keyword_count_dict[label] = count\n",
    "        keyword_list_dict[label] = keywords\n",
    "    \n",
    "    return keyword_list_dict, keyword_count_dict, max(keyword_count_dict, key=keyword_count_dict.get)"
   ]
  },
  {
   "cell_type": "code",
   "execution_count": 1557,
   "metadata": {},
   "outputs": [],
   "source": [
    "# count keywords from \"Text\" or \"Lemm Stemmed Text\" or \"Keyword\", according to which column to extract keyword\n",
    "df_pred = df_test.apply(lambda row: keyword_count(row['Lemm Stemmed Text']), axis='columns', result_type='expand')\n",
    "df_pred.columns = [\"Matched Keywords\", \"Dictionary Output\", \"Predicted Label\"]\n",
    "\n",
    "df_test = pd.concat([df_test, df_pred], axis='columns')"
   ]
  },
  {
   "cell_type": "code",
   "execution_count": 1558,
   "metadata": {},
   "outputs": [
    {
     "data": {
      "text/html": [
       "<div>\n",
       "<style scoped>\n",
       "    .dataframe tbody tr th:only-of-type {\n",
       "        vertical-align: middle;\n",
       "    }\n",
       "\n",
       "    .dataframe tbody tr th {\n",
       "        vertical-align: top;\n",
       "    }\n",
       "\n",
       "    .dataframe thead th {\n",
       "        text-align: right;\n",
       "    }\n",
       "</style>\n",
       "<table border=\"1\" class=\"dataframe\">\n",
       "  <thead>\n",
       "    <tr style=\"text-align: right;\">\n",
       "      <th></th>\n",
       "      <th>Label</th>\n",
       "      <th>Title</th>\n",
       "      <th>Abstract</th>\n",
       "      <th>Text</th>\n",
       "      <th>Lemm Stemmed Text</th>\n",
       "      <th>Keyword</th>\n",
       "      <th>Matched Keywords</th>\n",
       "      <th>Dictionary Output</th>\n",
       "      <th>Predicted Label</th>\n",
       "    </tr>\n",
       "  </thead>\n",
       "  <tbody>\n",
       "    <tr>\n",
       "      <th>0</th>\n",
       "      <td>Computational Social Science and Social Media</td>\n",
       "      <td>Named Entity Recognition for Social Media Texts with Semantic Augmentation</td>\n",
       "      <td>Existing approaches for named entity recognition suffer from data sparsity problems when conducted on short and informal texts, especially user-generated social media content. Semantic augmentation is a potential way to alleviate this problem. Given that rich semantic information is implicitly preserved in pre-trained word embeddings, they are potential ideal resources for semantic augmentation. In this paper, we propose a neural-based approach to NER for social media texts where both local (from running text) and augmented semantics are taken into account. In particular, we obtain the augmented semantic information from a large-scale corpus, and propose an attentive semantic augmentation module and a gate module to encode and aggregate such information, respectively. Extensive experiments are performed on three benchmark datasets collected from English and Chinese social media platforms, where the results demonstrate the superiority of our approach to previous studies across all three datasets. 1 * Equal contribution.</td>\n",
       "      <td>Named Entity Recognition for Social Media Texts with Semantic Augmentation Existing approaches for named entity recognition suffer from data sparsity problems when conducted on short and informal texts, especially user-generated social media content. Semantic augmentation is a potential way to alleviate this problem. Given that rich semantic information is implicitly preserved in pre-trained word embeddings, they are potential ideal resources for semantic augmentation. In this paper, we propose a neural-based approach to NER for social media texts where both local (from running text) and augmented semantics are taken into account. In particular, we obtain the augmented semantic information from a large-scale corpus, and propose an attentive semantic augmentation module and a gate module to encode and aggregate such information, respectively. Extensive experiments are performed on three benchmark datasets collected from English and Chinese social media platforms, where the results demonstrate the superiority of our approach to previous studies across all three datasets. 1 * Equal contribution.</td>\n",
       "      <td>name entity recognition social medium text semantic augmentation exist approach name entity recognition suffer datum sparsity problem conduct short informal text , especially user - generate social medium content . semantic augmentation potential way alleviate problem . give rich semantic information implicitly preserve pre - trained word embedding , potential ideal resource semantic augmentation . paper , propose neural - base approach ner social medium text local ( run text ) augment semantic take account . particular , obtain augment semantic information large - scale corpus , propose attentive semantic augmentation module gate module encode aggregate information , respectively . extensive experiment perform benchmark dataset collect english chinese social medium platform , result demonstrate superiority approach previous study dataset . 1 * equal contribution .</td>\n",
       "      <td>social medium#semantic augmentation#entity recognition#medium text#augment semantic#semantic information#propose neural#scale corpus#equal contribution#medium platform#generate social#obtain augment#propose attentive#give rich#preserve pre#trained word#word embedding#extensive experiment#result demonstrate#information large</td>\n",
       "      <td>{'Computational Social Science and Social Media': ['social medium'], 'Dialogue and Interactive Systems': [], 'Discourse and Pragmatics': [], 'Ethics and NLP': ['word embedding'], 'Generation': [], 'Information Extraction': ['extensive experiment', 'entity recognition'], 'Information Retrieval and Text Mining': [], 'Interpretability and Analysis of Models for NLP': [], 'Language Grounding to Vision, Robotics and Beyond': [], 'Linguistic Theories, Cognitive Modeling and Psycholinguistics': [], 'Machine Learning for NLP': [], 'Machine Translation and Multilinguality': [], 'Phonology, Morphology and Word Segmentation': [], 'Question Answering': ['extensive experiment'], 'Resources and Evaluation': [], 'Semantics: Lexical Semantics': ['word embedding'], 'Semantics: Sentence-level Semantics, Textual Inference and Other areas': [], 'Sentiment Analysis, Stylistic Analysis, and Argument Mining': ['extensive experiment'], 'Speech and Multimodality': [], 'Summarization': [], 'Syntax: Tagging, Chunking and Parsing': [], 'Theory and Formalism in NLP (Linguistic and Mathematical)': []}</td>\n",
       "      <td>{'Computational Social Science and Social Media': 4, 'Dialogue and Interactive Systems': 0, 'Discourse and Pragmatics': 0, 'Ethics and NLP': 1, 'Generation': 0, 'Information Extraction': 3, 'Information Retrieval and Text Mining': 0, 'Interpretability and Analysis of Models for NLP': 0, 'Language Grounding to Vision, Robotics and Beyond': 0, 'Linguistic Theories, Cognitive Modeling and Psycholinguistics': 0, 'Machine Learning for NLP': 0, 'Machine Translation and Multilinguality': 0, 'Phonology, Morphology and Word Segmentation': 0, 'Question Answering': 1, 'Resources and Evaluation': 0, 'Semantics: Lexical Semantics': 1, 'Semantics: Sentence-level Semantics, Textual Inference and Other areas': 0, 'Sentiment Analysis, Stylistic Analysis, and Argument Mining': 1, 'Speech and Multimodality': 0, 'Summarization': 0, 'Syntax: Tagging, Chunking and Parsing': 0, 'Theory and Formalism in NLP (Linguistic and Mathematical)': 0}</td>\n",
       "      <td>Computational Social Science and Social Media</td>\n",
       "    </tr>\n",
       "    <tr>\n",
       "      <th>1</th>\n",
       "      <td>Computational Social Science and Social Media</td>\n",
       "      <td>Suicidal Risk Detection for Military Personnel</td>\n",
       "      <td>We analyze social media for detecting the suicidal risk of military personnel, which is especially crucial for countries with compulsory military service such as the Republic of Korea. From a widely-used Korean social Q&amp;A site, we collect posts containing military-relevant content written by active-duty military personnel. We then annotate the posts with two groups of experts: military experts and mental health experts. Our dataset includes 2,791 posts with 13,955 corresponding expert annotations of suicidal risk levels, and this dataset is available to researchers who consent to research ethics agreement. Using various finetuned state-of-the-art language models, we predict the level of suicide risk, reaching .88 F1 score for classifying the risks.</td>\n",
       "      <td>Suicidal Risk Detection for Military Personnel We analyze social media for detecting the suicidal risk of military personnel, which is especially crucial for countries with compulsory military service such as the Republic of Korea. From a widely-used Korean social Q&amp;A site, we collect posts containing military-relevant content written by active-duty military personnel. We then annotate the posts with two groups of experts: military experts and mental health experts. Our dataset includes 2,791 posts with 13,955 corresponding expert annotations of suicidal risk levels, and this dataset is available to researchers who consent to research ethics agreement. Using various finetuned state-of-the-art language models, we predict the level of suicide risk, reaching .88 F1 score for classifying the risks.</td>\n",
       "      <td>suicidal risk detection military personnel analyze social medium detect suicidal risk military personnel , especially crucial country compulsory military service republic korea . widely - korean social q&amp;a site , collect post contain military - relevant content write active - duty military personnel . annotate post group expert : military expert mental health expert . dataset include 2,791 post 13,955 correspond expert annotation suicidal risk level , dataset available researcher consent research ethic agreement . finetune state - - - art language model , predict level suicide risk , reach .88 f1 score classify risk .</td>\n",
       "      <td>suicidal risk#military personnel#finetune state#dataset include#republic korea#relevant content#write active#ethic agreement#art language#language model#score classify#korean social#predict level#personnel analyze#detect suicidal#annotation suicidal#medium detect#crucial country#country compulsory#service republic</td>\n",
       "      <td>{'Computational Social Science and Social Media': ['social medium'], 'Dialogue and Interactive Systems': [], 'Discourse and Pragmatics': [], 'Ethics and NLP': [], 'Generation': [], 'Information Extraction': [], 'Information Retrieval and Text Mining': [], 'Interpretability and Analysis of Models for NLP': ['language model'], 'Language Grounding to Vision, Robotics and Beyond': [], 'Linguistic Theories, Cognitive Modeling and Psycholinguistics': ['language model'], 'Machine Learning for NLP': ['language model'], 'Machine Translation and Multilinguality': [], 'Phonology, Morphology and Word Segmentation': [], 'Question Answering': [], 'Resources and Evaluation': [], 'Semantics: Lexical Semantics': [], 'Semantics: Sentence-level Semantics, Textual Inference and Other areas': ['language model'], 'Sentiment Analysis, Stylistic Analysis, and Argument Mining': [], 'Speech and Multimodality': [], 'Summarization': [], 'Syntax: Tagging, Chunking and Parsing': [], 'Theory and Formalism in NLP (Linguistic and Mathematical)': []}</td>\n",
       "      <td>{'Computational Social Science and Social Media': 1, 'Dialogue and Interactive Systems': 0, 'Discourse and Pragmatics': 0, 'Ethics and NLP': 0, 'Generation': 0, 'Information Extraction': 0, 'Information Retrieval and Text Mining': 0, 'Interpretability and Analysis of Models for NLP': 1, 'Language Grounding to Vision, Robotics and Beyond': 0, 'Linguistic Theories, Cognitive Modeling and Psycholinguistics': 1, 'Machine Learning for NLP': 1, 'Machine Translation and Multilinguality': 0, 'Phonology, Morphology and Word Segmentation': 0, 'Question Answering': 0, 'Resources and Evaluation': 0, 'Semantics: Lexical Semantics': 0, 'Semantics: Sentence-level Semantics, Textual Inference and Other areas': 1, 'Sentiment Analysis, Stylistic Analysis, and Argument Mining': 0, 'Speech and Multimodality': 0, 'Summarization': 0, 'Syntax: Tagging, Chunking and Parsing': 0, 'Theory and Formalism in NLP (Linguistic and Mathematical)': 0}</td>\n",
       "      <td>Computational Social Science and Social Media</td>\n",
       "    </tr>\n",
       "    <tr>\n",
       "      <th>2</th>\n",
       "      <td>Computational Social Science and Social Media</td>\n",
       "      <td>Weakly Supervised Learning of Nuanced Frames for Analyzing Polarization in News Media</td>\n",
       "      <td>In this paper, we suggest a minimallysupervised approach for identifying nuanced frames in news article coverage of politically divisive topics. We suggest to break the broad policy frames suggested by Boydstun et al., 2014 into fine-grained subframes which can capture differences in political ideology in a better way. We evaluate the suggested subframes and their embedding, learned using minimal supervision, over three topics, namely, immigration, gun-control, and abortion. We demonstrate the ability of the subframes to capture ideological differences and analyze political discourse in news media.</td>\n",
       "      <td>Weakly Supervised Learning of Nuanced Frames for Analyzing Polarization in News Media In this paper, we suggest a minimallysupervised approach for identifying nuanced frames in news article coverage of politically divisive topics. We suggest to break the broad policy frames suggested by Boydstun et al., 2014 into fine-grained subframes which can capture differences in political ideology in a better way. We evaluate the suggested subframes and their embedding, learned using minimal supervision, over three topics, namely, immigration, gun-control, and abortion. We demonstrate the ability of the subframes to capture ideological differences and analyze political discourse in news media.</td>\n",
       "      <td>weakly supervised learning nuanced frame analyze polarization news medium paper , suggest minimallysupervised approach identify nuanced frame news article coverage politically divisive topic . suggest break broad policy frame suggest boydstun et al . , 2014 fine - grained subframe capture difference political ideology well way . evaluate suggest subframe embedding , learn minimal supervision , topic , , immigration , gun - control , abortion . demonstrate ability subframe capture ideological difference analyze political discourse news medium .</td>\n",
       "      <td>nuanced frame#subframe capture#weakly supervised#learn minimal#minimal supervision#demonstrate ability#medium paper#divisive topic#grained subframe#subframe embedding#supervised learning#minimallysupervised approach#approach identify#article coverage#coverage politically#politically divisive#break broad#broad policy#learning nuanced#identify nuanced</td>\n",
       "      <td>{'Computational Social Science and Social Media': [], 'Dialogue and Interactive Systems': [], 'Discourse and Pragmatics': [], 'Ethics and NLP': [], 'Generation': [], 'Information Extraction': [], 'Information Retrieval and Text Mining': [], 'Interpretability and Analysis of Models for NLP': [], 'Language Grounding to Vision, Robotics and Beyond': [], 'Linguistic Theories, Cognitive Modeling and Psycholinguistics': [], 'Machine Learning for NLP': [], 'Machine Translation and Multilinguality': [], 'Phonology, Morphology and Word Segmentation': [], 'Question Answering': [], 'Resources and Evaluation': [], 'Semantics: Lexical Semantics': [], 'Semantics: Sentence-level Semantics, Textual Inference and Other areas': [], 'Sentiment Analysis, Stylistic Analysis, and Argument Mining': [], 'Speech and Multimodality': [], 'Summarization': [], 'Syntax: Tagging, Chunking and Parsing': [], 'Theory and Formalism in NLP (Linguistic and Mathematical)': []}</td>\n",
       "      <td>{'Computational Social Science and Social Media': 0, 'Dialogue and Interactive Systems': 0, 'Discourse and Pragmatics': 0, 'Ethics and NLP': 0, 'Generation': 0, 'Information Extraction': 0, 'Information Retrieval and Text Mining': 0, 'Interpretability and Analysis of Models for NLP': 0, 'Language Grounding to Vision, Robotics and Beyond': 0, 'Linguistic Theories, Cognitive Modeling and Psycholinguistics': 0, 'Machine Learning for NLP': 0, 'Machine Translation and Multilinguality': 0, 'Phonology, Morphology and Word Segmentation': 0, 'Question Answering': 0, 'Resources and Evaluation': 0, 'Semantics: Lexical Semantics': 0, 'Semantics: Sentence-level Semantics, Textual Inference and Other areas': 0, 'Sentiment Analysis, Stylistic Analysis, and Argument Mining': 0, 'Speech and Multimodality': 0, 'Summarization': 0, 'Syntax: Tagging, Chunking and Parsing': 0, 'Theory and Formalism in NLP (Linguistic and Mathematical)': 0}</td>\n",
       "      <td>Computational Social Science and Social Media</td>\n",
       "    </tr>\n",
       "    <tr>\n",
       "      <th>3</th>\n",
       "      <td>Computational Social Science and Social Media</td>\n",
       "      <td>Modeling Protagonist Emotions for Emotion-Aware Storytelling</td>\n",
       "      <td>Emotions and their evolution play a central role in creating a captivating story. In this paper, we present the first study on modeling the emotional trajectory of the protagonist in neural storytelling. We design methods that generate stories that adhere to given story titles and desired emotion arcs for the protagonist. Our models include Emotion Supervision (Emo-Sup) and two Emotion-Reinforced (EmoRL) models. The EmoRL models use special rewards designed to regularize the story generation process through reinforcement learning. Our automatic and manual evaluations demonstrate that these models are significantly better at generating stories that follow the desired emotion arcs compared to baseline methods, without sacrificing story quality.</td>\n",
       "      <td>Modeling Protagonist Emotions for Emotion-Aware Storytelling Emotions and their evolution play a central role in creating a captivating story. In this paper, we present the first study on modeling the emotional trajectory of the protagonist in neural storytelling. We design methods that generate stories that adhere to given story titles and desired emotion arcs for the protagonist. Our models include Emotion Supervision (Emo-Sup) and two Emotion-Reinforced (EmoRL) models. The EmoRL models use special rewards designed to regularize the story generation process through reinforcement learning. Our automatic and manual evaluations demonstrate that these models are significantly better at generating stories that follow the desired emotion arcs compared to baseline methods, without sacrificing story quality.</td>\n",
       "      <td>model protagonist emotion emotion - aware storytelling emotion evolution play central role create captivating story . paper , present study model emotional trajectory protagonist neural storytelling . design method generate story adhere give story title desire emotion arc protagonist . model include emotion supervision ( emo - sup ) emotion - reinforced ( emorl ) model . emorl model use special reward design regularize story generation process reinforcement learning . automatic manual evaluation demonstrate model significantly well generate story follow desire emotion arc compare baseline method , sacrifice story quality .</td>\n",
       "      <td>desire emotion#emotion arc#generate story#present study#reinforcement learning#automatic manual#aware storytelling#title desire#follow desire#arc compare#evolution play#play central#central role#role create#create captivating#emotional trajectory#adhere give#special reward#generation process#process reinforcement</td>\n",
       "      <td>{'Computational Social Science and Social Media': [], 'Dialogue and Interactive Systems': [], 'Discourse and Pragmatics': [], 'Ethics and NLP': [], 'Generation': [], 'Information Extraction': [], 'Information Retrieval and Text Mining': [], 'Interpretability and Analysis of Models for NLP': [], 'Language Grounding to Vision, Robotics and Beyond': [], 'Linguistic Theories, Cognitive Modeling and Psycholinguistics': [], 'Machine Learning for NLP': [], 'Machine Translation and Multilinguality': [], 'Phonology, Morphology and Word Segmentation': [], 'Question Answering': [], 'Resources and Evaluation': [], 'Semantics: Lexical Semantics': [], 'Semantics: Sentence-level Semantics, Textual Inference and Other areas': [], 'Sentiment Analysis, Stylistic Analysis, and Argument Mining': [], 'Speech and Multimodality': [], 'Summarization': [], 'Syntax: Tagging, Chunking and Parsing': [], 'Theory and Formalism in NLP (Linguistic and Mathematical)': []}</td>\n",
       "      <td>{'Computational Social Science and Social Media': 0, 'Dialogue and Interactive Systems': 0, 'Discourse and Pragmatics': 0, 'Ethics and NLP': 0, 'Generation': 0, 'Information Extraction': 0, 'Information Retrieval and Text Mining': 0, 'Interpretability and Analysis of Models for NLP': 0, 'Language Grounding to Vision, Robotics and Beyond': 0, 'Linguistic Theories, Cognitive Modeling and Psycholinguistics': 0, 'Machine Learning for NLP': 0, 'Machine Translation and Multilinguality': 0, 'Phonology, Morphology and Word Segmentation': 0, 'Question Answering': 0, 'Resources and Evaluation': 0, 'Semantics: Lexical Semantics': 0, 'Semantics: Sentence-level Semantics, Textual Inference and Other areas': 0, 'Sentiment Analysis, Stylistic Analysis, and Argument Mining': 0, 'Speech and Multimodality': 0, 'Summarization': 0, 'Syntax: Tagging, Chunking and Parsing': 0, 'Theory and Formalism in NLP (Linguistic and Mathematical)': 0}</td>\n",
       "      <td>Computational Social Science and Social Media</td>\n",
       "    </tr>\n",
       "    <tr>\n",
       "      <th>4</th>\n",
       "      <td>Computational Social Science and Social Media</td>\n",
       "      <td>Investigating African-American Vernacular English in Transformer-Based Text Generation</td>\n",
       "      <td>The growth of social media has encouraged the written use of African American Vernacular English (AAVE), which has traditionally been used only in oral contexts. However, NLP models have historically been developed using dominant English varieties, such as Standard American English (SAE), due to text corpora availability. We investigate the performance of GPT-2 on AAVE text by creating a dataset of intent-equivalent parallel AAVE/SAE tweet pairs, thereby isolating syntactic structure and AAVE-or SAE-specific language for each pair. We evaluate each sample and its GPT-2 generated text with pretrained sentiment classifiers and find that while AAVE text results in more classifications of negative sentiment than SAE, the use of GPT-2 generally increases occurrences of positive sentiment for both. Additionally, we conduct human evaluation of AAVE and SAE text generated with GPT-2 to compare contextual rigor and overall quality.</td>\n",
       "      <td>Investigating African-American Vernacular English in Transformer-Based Text Generation The growth of social media has encouraged the written use of African American Vernacular English (AAVE), which has traditionally been used only in oral contexts. However, NLP models have historically been developed using dominant English varieties, such as Standard American English (SAE), due to text corpora availability. We investigate the performance of GPT-2 on AAVE text by creating a dataset of intent-equivalent parallel AAVE/SAE tweet pairs, thereby isolating syntactic structure and AAVE-or SAE-specific language for each pair. We evaluate each sample and its GPT-2 generated text with pretrained sentiment classifiers and find that while AAVE text results in more classifications of negative sentiment than SAE, the use of GPT-2 generally increases occurrences of positive sentiment for both. Additionally, we conduct human evaluation of AAVE and SAE text generated with GPT-2 to compare contextual rigor and overall quality.</td>\n",
       "      <td>investigate african - american vernacular english transformer - base text generation growth social medium encourage write use african american vernacular english ( aave ) , traditionally oral context . , nlp model historically develop dominant english variety , standard american english ( sae ) , text corpora availability . investigate performance gpt-2 aave text create dataset intent - equivalent parallel aave / sae tweet pair , isolate syntactic structure aave - sae - specific language pair . evaluate sample gpt-2 generate text pretrained sentiment classifier find aave text result classification negative sentiment sae , use gpt-2 generally increase occurrence positive sentiment . additionally , conduct human evaluation aave sae text generate gpt-2 compare contextual rigor overall quality .</td>\n",
       "      <td>american vernacular#vernacular english#evaluate sample#investigate performance#traditionally oral#oral context#nlp model#corpora availability#dataset intent#equivalent parallel#isolate syntactic#specific language#generally increase#conduct human#compare contextual#tweet pair#language pair#standard american#investigate african#generation growth</td>\n",
       "      <td>{'Computational Social Science and Social Media': ['social medium'], 'Dialogue and Interactive Systems': ['human evaluation'], 'Discourse and Pragmatics': [], 'Ethics and NLP': [], 'Generation': ['human evaluation', 'text generation'], 'Information Extraction': [], 'Information Retrieval and Text Mining': [], 'Interpretability and Analysis of Models for NLP': [], 'Language Grounding to Vision, Robotics and Beyond': [], 'Linguistic Theories, Cognitive Modeling and Psycholinguistics': [], 'Machine Learning for NLP': [], 'Machine Translation and Multilinguality': ['language pair'], 'Phonology, Morphology and Word Segmentation': [], 'Question Answering': [], 'Resources and Evaluation': [], 'Semantics: Lexical Semantics': [], 'Semantics: Sentence-level Semantics, Textual Inference and Other areas': [], 'Sentiment Analysis, Stylistic Analysis, and Argument Mining': [], 'Speech and Multimodality': [], 'Summarization': [], 'Syntax: Tagging, Chunking and Parsing': [], 'Theory and Formalism in NLP (Linguistic and Mathematical)': []}</td>\n",
       "      <td>{'Computational Social Science and Social Media': 1, 'Dialogue and Interactive Systems': 1, 'Discourse and Pragmatics': 0, 'Ethics and NLP': 0, 'Generation': 2, 'Information Extraction': 0, 'Information Retrieval and Text Mining': 0, 'Interpretability and Analysis of Models for NLP': 0, 'Language Grounding to Vision, Robotics and Beyond': 0, 'Linguistic Theories, Cognitive Modeling and Psycholinguistics': 0, 'Machine Learning for NLP': 0, 'Machine Translation and Multilinguality': 1, 'Phonology, Morphology and Word Segmentation': 0, 'Question Answering': 0, 'Resources and Evaluation': 0, 'Semantics: Lexical Semantics': 0, 'Semantics: Sentence-level Semantics, Textual Inference and Other areas': 0, 'Sentiment Analysis, Stylistic Analysis, and Argument Mining': 0, 'Speech and Multimodality': 0, 'Summarization': 0, 'Syntax: Tagging, Chunking and Parsing': 0, 'Theory and Formalism in NLP (Linguistic and Mathematical)': 0}</td>\n",
       "      <td>Generation</td>\n",
       "    </tr>\n",
       "    <tr>\n",
       "      <th>...</th>\n",
       "      <td>...</td>\n",
       "      <td>...</td>\n",
       "      <td>...</td>\n",
       "      <td>...</td>\n",
       "      <td>...</td>\n",
       "      <td>...</td>\n",
       "      <td>...</td>\n",
       "      <td>...</td>\n",
       "      <td>...</td>\n",
       "    </tr>\n",
       "    <tr>\n",
       "      <th>708</th>\n",
       "      <td>Syntax: Tagging, Chunking and Parsing</td>\n",
       "      <td>Uncertainty-Aware Label Refinement for Sequence Labeling</td>\n",
       "      <td>Conditional random fields (CRF) for label decoding has become ubiquitous in sequence labeling tasks. However, the local label dependencies and inefficient Viterbi decoding have always been a problem to be solved. In this work, we introduce a novel two-stage label decoding framework to model long-term label dependencies, while being much more computationally efficient. A base model first predicts draft labels, and then a novel twostream self-attention model makes refinements on these draft predictions based on longrange label dependencies, which can achieve parallel decoding for a faster prediction. In addition, in order to mitigate the side effects of incorrect draft labels, Bayesian neural networks are used to indicate the labels with a high probability of being wrong, which can greatly assist in preventing error propagation. The experimental results on three sequence labeling benchmarks demonstrated that the proposed method not only outperformed the CRF-based methods but also greatly accelerated the inference process.</td>\n",
       "      <td>Uncertainty-Aware Label Refinement for Sequence Labeling Conditional random fields (CRF) for label decoding has become ubiquitous in sequence labeling tasks. However, the local label dependencies and inefficient Viterbi decoding have always been a problem to be solved. In this work, we introduce a novel two-stage label decoding framework to model long-term label dependencies, while being much more computationally efficient. A base model first predicts draft labels, and then a novel twostream self-attention model makes refinements on these draft predictions based on longrange label dependencies, which can achieve parallel decoding for a faster prediction. In addition, in order to mitigate the side effects of incorrect draft labels, Bayesian neural networks are used to indicate the labels with a high probability of being wrong, which can greatly assist in preventing error propagation. The experimental results on three sequence labeling benchmarks demonstrated that the proposed method not only outperformed the CRF-based methods but also greatly accelerated the inference process.</td>\n",
       "      <td>uncertainty - aware label refinement sequence labeling conditional random field ( crf ) label decoding ubiquitous sequence labeling task . , local label dependency inefficient viterbi decoding problem solve . work , introduce novel - stage label decoding framework model long - term label dependency , computationally efficient . base model predict draft label , novel twostream self - attention model make refinement draft prediction base longrange label dependency , achieve parallel decoding fast prediction . addition , order mitigate effect incorrect draft label , bayesian neural network indicate label high probability wrong , greatly assist prevent error propagation . experimental result sequence labeling benchmark demonstrate propose method outperform crf - base method greatly accelerate inference process .</td>\n",
       "      <td>sequence labeling#label dependency#draft label#label decoding#computationally efficient#labeling task#outperform crf#random field#problem solve#achieve parallel#order mitigate#bayesian neural#probability wrong#error propagation#experimental result#inference process#labeling conditional#ubiquitous sequence#dependency inefficient#result sequence</td>\n",
       "      <td>{'Computational Social Science and Social Media': ['base model'], 'Dialogue and Interactive Systems': [], 'Discourse and Pragmatics': ['experimental result'], 'Ethics and NLP': [], 'Generation': [], 'Information Extraction': ['experimental result'], 'Information Retrieval and Text Mining': [], 'Interpretability and Analysis of Models for NLP': ['neural network'], 'Language Grounding to Vision, Robotics and Beyond': [], 'Linguistic Theories, Cognitive Modeling and Psycholinguistics': [], 'Machine Learning for NLP': ['experimental result', 'neural network'], 'Machine Translation and Multilinguality': [], 'Phonology, Morphology and Word Segmentation': [], 'Question Answering': [], 'Resources and Evaluation': [], 'Semantics: Lexical Semantics': [], 'Semantics: Sentence-level Semantics, Textual Inference and Other areas': ['experimental result'], 'Sentiment Analysis, Stylistic Analysis, and Argument Mining': ['experimental result'], 'Speech and Multimodality': ['experimental result'], 'Summarization': [], 'Syntax: Tagging, Chunking and Parsing': ['sequence labeling'], 'Theory and Formalism in NLP (Linguistic and Mathematical)': []}</td>\n",
       "      <td>{'Computational Social Science and Social Media': 1, 'Dialogue and Interactive Systems': 0, 'Discourse and Pragmatics': 1, 'Ethics and NLP': 0, 'Generation': 0, 'Information Extraction': 1, 'Information Retrieval and Text Mining': 0, 'Interpretability and Analysis of Models for NLP': 1, 'Language Grounding to Vision, Robotics and Beyond': 0, 'Linguistic Theories, Cognitive Modeling and Psycholinguistics': 0, 'Machine Learning for NLP': 2, 'Machine Translation and Multilinguality': 0, 'Phonology, Morphology and Word Segmentation': 0, 'Question Answering': 0, 'Resources and Evaluation': 0, 'Semantics: Lexical Semantics': 0, 'Semantics: Sentence-level Semantics, Textual Inference and Other areas': 1, 'Sentiment Analysis, Stylistic Analysis, and Argument Mining': 1, 'Speech and Multimodality': 1, 'Summarization': 0, 'Syntax: Tagging, Chunking and Parsing': 3, 'Theory and Formalism in NLP (Linguistic and Mathematical)': 0}</td>\n",
       "      <td>Syntax: Tagging, Chunking and Parsing</td>\n",
       "    </tr>\n",
       "    <tr>\n",
       "      <th>709</th>\n",
       "      <td>Syntax: Tagging, Chunking and Parsing</td>\n",
       "      <td>AIN: Fast and Accurate Sequence Labeling with Approximate Inference Network</td>\n",
       "      <td>The linear-chain Conditional Random Field (CRF) model is one of the most widely-used neural sequence labeling approaches. Exact probabilistic inference algorithms such as the forward-backward and Viterbi algorithms are typically applied in training and prediction stages of the CRF model. However, these algorithms require sequential computation that makes parallelization impossible. In this paper, we propose to employ a parallelizable approximate variational inference algorithm for the CRF model. Based on this algorithm, we design an approximate inference network that can be connected with the encoder of the neural CRF model to form an end-to-end network, which is amenable to parallelization for faster training and prediction. The empirical results show that our proposed approaches achieve a 12.7-fold improvement in decoding speed with long sentences and a competitive accuracy compared with the traditional CRF approach.</td>\n",
       "      <td>AIN: Fast and Accurate Sequence Labeling with Approximate Inference Network The linear-chain Conditional Random Field (CRF) model is one of the most widely-used neural sequence labeling approaches. Exact probabilistic inference algorithms such as the forward-backward and Viterbi algorithms are typically applied in training and prediction stages of the CRF model. However, these algorithms require sequential computation that makes parallelization impossible. In this paper, we propose to employ a parallelizable approximate variational inference algorithm for the CRF model. Based on this algorithm, we design an approximate inference network that can be connected with the encoder of the neural CRF model to form an end-to-end network, which is amenable to parallelization for faster training and prediction. The empirical results show that our proposed approaches achieve a 12.7-fold improvement in decoding speed with long sentences and a competitive accuracy compared with the traditional CRF approach.</td>\n",
       "      <td>ain : fast accurate sequence labeling approximate inference network linear - chain conditional random field ( crf ) model widely - neural sequence labeling approach . exact probabilistic inference algorithm forward - backward viterbi algorithm typically apply training prediction stage crf model . , algorithm require sequential computation make parallelization impossible . paper , propose employ parallelizable approximate variational inference algorithm crf model . base algorithm , design approximate inference network connect encoder neural crf model form end - - end network , amenable parallelization fast training prediction . empirical result propose approach achieve 12.7 - fold improvement decode speed long sentence competitive accuracy compare traditional crf approach .</td>\n",
       "      <td>sequence labeling#training prediction#crf model#approximate inference#inference network#chain conditional#random field#exact probabilistic#backward viterbi#empirical result#fold improvement#model widely#inference algorithm#parallelization impossible#amenable parallelization#network linear#design approximate#conditional random#typically apply#require sequential</td>\n",
       "      <td>{'Computational Social Science and Social Media': [], 'Dialogue and Interactive Systems': [], 'Discourse and Pragmatics': [], 'Ethics and NLP': [], 'Generation': [], 'Information Extraction': [], 'Information Retrieval and Text Mining': [], 'Interpretability and Analysis of Models for NLP': [], 'Language Grounding to Vision, Robotics and Beyond': [], 'Linguistic Theories, Cognitive Modeling and Psycholinguistics': [], 'Machine Learning for NLP': [], 'Machine Translation and Multilinguality': [], 'Phonology, Morphology and Word Segmentation': [], 'Question Answering': [], 'Resources and Evaluation': [], 'Semantics: Lexical Semantics': [], 'Semantics: Sentence-level Semantics, Textual Inference and Other areas': [], 'Sentiment Analysis, Stylistic Analysis, and Argument Mining': [], 'Speech and Multimodality': [], 'Summarization': [], 'Syntax: Tagging, Chunking and Parsing': ['sequence labeling'], 'Theory and Formalism in NLP (Linguistic and Mathematical)': []}</td>\n",
       "      <td>{'Computational Social Science and Social Media': 0, 'Dialogue and Interactive Systems': 0, 'Discourse and Pragmatics': 0, 'Ethics and NLP': 0, 'Generation': 0, 'Information Extraction': 0, 'Information Retrieval and Text Mining': 0, 'Interpretability and Analysis of Models for NLP': 0, 'Language Grounding to Vision, Robotics and Beyond': 0, 'Linguistic Theories, Cognitive Modeling and Psycholinguistics': 0, 'Machine Learning for NLP': 0, 'Machine Translation and Multilinguality': 0, 'Phonology, Morphology and Word Segmentation': 0, 'Question Answering': 0, 'Resources and Evaluation': 0, 'Semantics: Lexical Semantics': 0, 'Semantics: Sentence-level Semantics, Textual Inference and Other areas': 0, 'Sentiment Analysis, Stylistic Analysis, and Argument Mining': 0, 'Speech and Multimodality': 0, 'Summarization': 0, 'Syntax: Tagging, Chunking and Parsing': 2, 'Theory and Formalism in NLP (Linguistic and Mathematical)': 0}</td>\n",
       "      <td>Syntax: Tagging, Chunking and Parsing</td>\n",
       "    </tr>\n",
       "    <tr>\n",
       "      <th>710</th>\n",
       "      <td>Syntax: Tagging, Chunking and Parsing</td>\n",
       "      <td>Position-Aware Tagging for Aspect Sentiment Triplet Extraction</td>\n",
       "      <td>Aspect Sentiment Triplet Extraction (ASTE) is the task of extracting the triplets of target entities, their associated sentiment, and opinion spans explaining the reason for the sentiment. Existing research efforts mostly solve this problem using pipeline approaches, which break the triplet extraction process into several stages. Our observation is that the three elements within a triplet are highly related to each other, and this motivates us to build a joint model to extract such triplets using a sequence tagging approach. However, how to effectively design a tagging approach to extract the triplets that can capture the rich interactions among the elements is a challenging research question. In this work, we propose the first end-to-end model with a novel positionaware tagging scheme that is capable of jointly extracting the triplets. Our experimental results on several existing datasets show that jointly capturing elements in the triplet using our approach leads to improved performance over the existing approaches. We also conducted extensive experiments to investigate the model effectiveness and robustness 1 .</td>\n",
       "      <td>Position-Aware Tagging for Aspect Sentiment Triplet Extraction Aspect Sentiment Triplet Extraction (ASTE) is the task of extracting the triplets of target entities, their associated sentiment, and opinion spans explaining the reason for the sentiment. Existing research efforts mostly solve this problem using pipeline approaches, which break the triplet extraction process into several stages. Our observation is that the three elements within a triplet are highly related to each other, and this motivates us to build a joint model to extract such triplets using a sequence tagging approach. However, how to effectively design a tagging approach to extract the triplets that can capture the rich interactions among the elements is a challenging research question. In this work, we propose the first end-to-end model with a novel positionaware tagging scheme that is capable of jointly extracting the triplets. Our experimental results on several existing datasets show that jointly capturing elements in the triplet using our approach leads to improved performance over the existing approaches. We also conducted extensive experiments to investigate the model effectiveness and robustness 1 .</td>\n",
       "      <td>position - aware tagging aspect sentiment triplet extraction aspect sentiment triplet extraction ( aste ) task extract triplet target entity , associate sentiment , opinion span explain reason sentiment . exist research effort solve problem pipeline approach , break triplet extraction process stage . observation element triplet highly related , motivate build joint model extract triplet sequence tagging approach . , effectively design tagging approach extract triplet capture rich interaction element challenging research question . work , propose end - - end model novel positionaware tagging scheme capable jointly extract triplet . experimental result exist dataset jointly capture element triplet approach lead improve performance exist approach . conduct extensive experiment investigate model effectiveness robustness 1 .</td>\n",
       "      <td>extract triplet#triplet extraction#aspect sentiment#sentiment triplet#tagging approach#task extract#target entity#opinion span#process stage#highly related#motivate build#effectively design#experimental result#conduct extensive#effectiveness robustness#break triplet#extraction aspect#observation element#reason sentiment#research question</td>\n",
       "      <td>{'Computational Social Science and Social Media': [], 'Dialogue and Interactive Systems': [], 'Discourse and Pragmatics': ['experimental result'], 'Ethics and NLP': [], 'Generation': [], 'Information Extraction': ['experimental result', 'extensive experiment'], 'Information Retrieval and Text Mining': [], 'Interpretability and Analysis of Models for NLP': [], 'Language Grounding to Vision, Robotics and Beyond': [], 'Linguistic Theories, Cognitive Modeling and Psycholinguistics': [], 'Machine Learning for NLP': ['experimental result'], 'Machine Translation and Multilinguality': [], 'Phonology, Morphology and Word Segmentation': [], 'Question Answering': ['extensive experiment'], 'Resources and Evaluation': [], 'Semantics: Lexical Semantics': [], 'Semantics: Sentence-level Semantics, Textual Inference and Other areas': ['experimental result'], 'Sentiment Analysis, Stylistic Analysis, and Argument Mining': ['experimental result', 'extensive experiment'], 'Speech and Multimodality': ['experimental result'], 'Summarization': [], 'Syntax: Tagging, Chunking and Parsing': [], 'Theory and Formalism in NLP (Linguistic and Mathematical)': []}</td>\n",
       "      <td>{'Computational Social Science and Social Media': 0, 'Dialogue and Interactive Systems': 0, 'Discourse and Pragmatics': 1, 'Ethics and NLP': 0, 'Generation': 0, 'Information Extraction': 2, 'Information Retrieval and Text Mining': 0, 'Interpretability and Analysis of Models for NLP': 0, 'Language Grounding to Vision, Robotics and Beyond': 0, 'Linguistic Theories, Cognitive Modeling and Psycholinguistics': 0, 'Machine Learning for NLP': 1, 'Machine Translation and Multilinguality': 0, 'Phonology, Morphology and Word Segmentation': 0, 'Question Answering': 1, 'Resources and Evaluation': 0, 'Semantics: Lexical Semantics': 0, 'Semantics: Sentence-level Semantics, Textual Inference and Other areas': 1, 'Sentiment Analysis, Stylistic Analysis, and Argument Mining': 2, 'Speech and Multimodality': 1, 'Summarization': 0, 'Syntax: Tagging, Chunking and Parsing': 0, 'Theory and Formalism in NLP (Linguistic and Mathematical)': 0}</td>\n",
       "      <td>Information Extraction</td>\n",
       "    </tr>\n",
       "    <tr>\n",
       "      <th>711</th>\n",
       "      <td>Syntax: Tagging, Chunking and Parsing</td>\n",
       "      <td>Keep it Surprisingly Simple: A Simple First Order Graph Based Parsing Model for Joint Morphosyntactic Parsing in Sanskrit</td>\n",
       "      <td>Morphologically rich languages seem to benefit from joint processing of morphology and syntax, as compared to pipeline architectures. We propose a graph-based model for joint morphological parsing and dependency parsing in Sanskrit. Here, we extend the Energy based model framework (Krishna et al., 2020) , proposed for several structured prediction tasks in Sanskrit, in 2 simple yet significant ways. First, the framework's default input graph generation method is modified to generate a multigraph, which enables the use of an exact search inference. Second, we prune the input search space using a linguistically motivated approach, rooted in the traditional grammatical analysis of Sanskrit. Our experiments show that the morphological parsing from our joint model outperforms standalone morphological parsers. We report state of the art results in morphological parsing, and in dependency parsing, both in standalone (with gold morphological tags) and joint morphosyntactic parsing setting.</td>\n",
       "      <td>Keep it Surprisingly Simple: A Simple First Order Graph Based Parsing Model for Joint Morphosyntactic Parsing in Sanskrit Morphologically rich languages seem to benefit from joint processing of morphology and syntax, as compared to pipeline architectures. We propose a graph-based model for joint morphological parsing and dependency parsing in Sanskrit. Here, we extend the Energy based model framework (Krishna et al., 2020) , proposed for several structured prediction tasks in Sanskrit, in 2 simple yet significant ways. First, the framework's default input graph generation method is modified to generate a multigraph, which enables the use of an exact search inference. Second, we prune the input search space using a linguistically motivated approach, rooted in the traditional grammatical analysis of Sanskrit. Our experiments show that the morphological parsing from our joint model outperforms standalone morphological parsers. We report state of the art results in morphological parsing, and in dependency parsing, both in standalone (with gold morphological tags) and joint morphosyntactic parsing setting.</td>\n",
       "      <td>surprisingly simple : simple order graph base parsing model joint morphosyntactic parsing sanskrit morphologically rich language benefit joint processing morphology syntax , compare pipeline architecture . propose graph - base model joint morphological parsing dependency parsing sanskrit . , extend energy base model framework ( krishna et al . , 2020 ) , propose structured prediction task sanskrit , 2 simple significant way . , framework default input graph generation method modify generate multigraph , enable use exact search inference . second , prune input search space linguistically motivate approach , root traditional grammatical analysis sanskrit . experiment morphological parsing joint model outperform standalone morphological parser . report state art result morphological parsing , dependency parsing , standalone ( gold morphological tag ) joint morphosyntactic parsing setting .</td>\n",
       "      <td>joint morphosyntactic#morphosyntactic parsing#morphological parsing#dependency parsing#base model#model joint#parsing sanskrit#propose structured#morphology syntax#compare pipeline#pipeline architecture#extend energy#generate multigraph#motivate approach#root traditional#report state#search inference#prune input#parsing setting#rich language</td>\n",
       "      <td>{'Computational Social Science and Social Media': ['base model'], 'Dialogue and Interactive Systems': [], 'Discourse and Pragmatics': [], 'Ethics and NLP': [], 'Generation': [], 'Information Extraction': [], 'Information Retrieval and Text Mining': [], 'Interpretability and Analysis of Models for NLP': [], 'Language Grounding to Vision, Robotics and Beyond': [], 'Linguistic Theories, Cognitive Modeling and Psycholinguistics': [], 'Machine Learning for NLP': [], 'Machine Translation and Multilinguality': [], 'Phonology, Morphology and Word Segmentation': [], 'Question Answering': [], 'Resources and Evaluation': [], 'Semantics: Lexical Semantics': [], 'Semantics: Sentence-level Semantics, Textual Inference and Other areas': [], 'Sentiment Analysis, Stylistic Analysis, and Argument Mining': [], 'Speech and Multimodality': [], 'Summarization': [], 'Syntax: Tagging, Chunking and Parsing': ['dependency parsing'], 'Theory and Formalism in NLP (Linguistic and Mathematical)': []}</td>\n",
       "      <td>{'Computational Social Science and Social Media': 2, 'Dialogue and Interactive Systems': 0, 'Discourse and Pragmatics': 0, 'Ethics and NLP': 0, 'Generation': 0, 'Information Extraction': 0, 'Information Retrieval and Text Mining': 0, 'Interpretability and Analysis of Models for NLP': 0, 'Language Grounding to Vision, Robotics and Beyond': 0, 'Linguistic Theories, Cognitive Modeling and Psycholinguistics': 0, 'Machine Learning for NLP': 0, 'Machine Translation and Multilinguality': 0, 'Phonology, Morphology and Word Segmentation': 0, 'Question Answering': 0, 'Resources and Evaluation': 0, 'Semantics: Lexical Semantics': 0, 'Semantics: Sentence-level Semantics, Textual Inference and Other areas': 0, 'Sentiment Analysis, Stylistic Analysis, and Argument Mining': 0, 'Speech and Multimodality': 0, 'Summarization': 0, 'Syntax: Tagging, Chunking and Parsing': 2, 'Theory and Formalism in NLP (Linguistic and Mathematical)': 0}</td>\n",
       "      <td>Computational Social Science and Social Media</td>\n",
       "    </tr>\n",
       "    <tr>\n",
       "      <th>712</th>\n",
       "      <td>Syntax: Tagging, Chunking and Parsing</td>\n",
       "      <td>Please Mind the Root: Decoding Arborescences for Dependency Parsing</td>\n",
       "      <td>The connection between dependency trees and spanning trees is exploited by the NLP community to train and to decode graph-based dependency parsers. However, the NLP literature has missed an important difference between the two structures: only one edge may emanate from the root in a dependency tree. We analyzed the output of state-of-the-art parsers on many languages from the Universal Dependency Treebank: although these parsers are often able to learn that trees which violate the constraint should be assigned lower probabilities, their ability to do so unsurprisingly degrades as the size of the training set decreases. In fact, the worst constraint-violation rate we observe is 24%. Prior work has proposed an inefficient algorithm to enforce the constraint, which adds a factor of n to the decoding runtime. We adapt an algorithm due to Gabow and Tarjan (1984) to dependency parsing, which satisfies the constraint without compromising the original runtime. 1</td>\n",
       "      <td>Please Mind the Root: Decoding Arborescences for Dependency Parsing The connection between dependency trees and spanning trees is exploited by the NLP community to train and to decode graph-based dependency parsers. However, the NLP literature has missed an important difference between the two structures: only one edge may emanate from the root in a dependency tree. We analyzed the output of state-of-the-art parsers on many languages from the Universal Dependency Treebank: although these parsers are often able to learn that trees which violate the constraint should be assigned lower probabilities, their ability to do so unsurprisingly degrades as the size of the training set decreases. In fact, the worst constraint-violation rate we observe is 24%. Prior work has proposed an inefficient algorithm to enforce the constraint, which adds a factor of n to the decoding runtime. We adapt an algorithm due to Gabow and Tarjan (1984) to dependency parsing, which satisfies the constraint without compromising the original runtime. 1</td>\n",
       "      <td>mind root : decode arborescence dependency parsing connection dependency tree span tree exploit nlp community train decode graph - base dependency parser . , nlp literature miss important difference structure : edge emanate root dependency tree . analyze output state - - - art parser language universal dependency treebank : parser able learn tree violate constraint assign low probability , ability unsurprisingly degrade size training set decrease . fact , bad constraint - violation rate observe 24 % . prior work propose inefficient algorithm enforce constraint , add factor n decoding runtime . adapt algorithm gabow tarjan ( 1984 ) dependency parsing , satisfy constraint compromise original runtime . 1</td>\n",
       "      <td>dependency parsing#decoding runtime#original runtime#difference structure#edge emanate#analyze output#output state#low probability#ability unsurprisingly#set decrease#violation rate#rate observe#prior work#add factor#gabow tarjan#mind root#decode graph#adapt algorithm#parsing connection#dependency tree</td>\n",
       "      <td>{'Computational Social Science and Social Media': [], 'Dialogue and Interactive Systems': [], 'Discourse and Pragmatics': [], 'Ethics and NLP': [], 'Generation': [], 'Information Extraction': [], 'Information Retrieval and Text Mining': [], 'Interpretability and Analysis of Models for NLP': [], 'Language Grounding to Vision, Robotics and Beyond': [], 'Linguistic Theories, Cognitive Modeling and Psycholinguistics': [], 'Machine Learning for NLP': [], 'Machine Translation and Multilinguality': [], 'Phonology, Morphology and Word Segmentation': [], 'Question Answering': [], 'Resources and Evaluation': [], 'Semantics: Lexical Semantics': ['prior work'], 'Semantics: Sentence-level Semantics, Textual Inference and Other areas': [], 'Sentiment Analysis, Stylistic Analysis, and Argument Mining': [], 'Speech and Multimodality': [], 'Summarization': [], 'Syntax: Tagging, Chunking and Parsing': ['dependency parsing'], 'Theory and Formalism in NLP (Linguistic and Mathematical)': []}</td>\n",
       "      <td>{'Computational Social Science and Social Media': 0, 'Dialogue and Interactive Systems': 0, 'Discourse and Pragmatics': 0, 'Ethics and NLP': 0, 'Generation': 0, 'Information Extraction': 0, 'Information Retrieval and Text Mining': 0, 'Interpretability and Analysis of Models for NLP': 0, 'Language Grounding to Vision, Robotics and Beyond': 0, 'Linguistic Theories, Cognitive Modeling and Psycholinguistics': 0, 'Machine Learning for NLP': 0, 'Machine Translation and Multilinguality': 0, 'Phonology, Morphology and Word Segmentation': 0, 'Question Answering': 0, 'Resources and Evaluation': 0, 'Semantics: Lexical Semantics': 1, 'Semantics: Sentence-level Semantics, Textual Inference and Other areas': 0, 'Sentiment Analysis, Stylistic Analysis, and Argument Mining': 0, 'Speech and Multimodality': 0, 'Summarization': 0, 'Syntax: Tagging, Chunking and Parsing': 2, 'Theory and Formalism in NLP (Linguistic and Mathematical)': 0}</td>\n",
       "      <td>Syntax: Tagging, Chunking and Parsing</td>\n",
       "    </tr>\n",
       "  </tbody>\n",
       "</table>\n",
       "<p>651 rows × 9 columns</p>\n",
       "</div>"
      ],
      "text/plain": [
       "                                             Label  \\\n",
       "0    Computational Social Science and Social Media   \n",
       "1    Computational Social Science and Social Media   \n",
       "2    Computational Social Science and Social Media   \n",
       "3    Computational Social Science and Social Media   \n",
       "4    Computational Social Science and Social Media   \n",
       "..                                             ...   \n",
       "708          Syntax: Tagging, Chunking and Parsing   \n",
       "709          Syntax: Tagging, Chunking and Parsing   \n",
       "710          Syntax: Tagging, Chunking and Parsing   \n",
       "711          Syntax: Tagging, Chunking and Parsing   \n",
       "712          Syntax: Tagging, Chunking and Parsing   \n",
       "\n",
       "                                                                                                                         Title  \\\n",
       "0                                                   Named Entity Recognition for Social Media Texts with Semantic Augmentation   \n",
       "1                                                                               Suicidal Risk Detection for Military Personnel   \n",
       "2                                        Weakly Supervised Learning of Nuanced Frames for Analyzing Polarization in News Media   \n",
       "3                                                                 Modeling Protagonist Emotions for Emotion-Aware Storytelling   \n",
       "4                                       Investigating African-American Vernacular English in Transformer-Based Text Generation   \n",
       "..                                                                                                                         ...   \n",
       "708                                                                   Uncertainty-Aware Label Refinement for Sequence Labeling   \n",
       "709                                                AIN: Fast and Accurate Sequence Labeling with Approximate Inference Network   \n",
       "710                                                             Position-Aware Tagging for Aspect Sentiment Triplet Extraction   \n",
       "711  Keep it Surprisingly Simple: A Simple First Order Graph Based Parsing Model for Joint Morphosyntactic Parsing in Sanskrit   \n",
       "712                                                        Please Mind the Root: Decoding Arborescences for Dependency Parsing   \n",
       "\n",
       "                                                                                                                                                                                                                                                                                                                                                                                                                                                                                                                                                                                                                                                                                                                                                                                                                                                                                                                                                                                                                                                                                                                                                                        Abstract  \\\n",
       "0                                                                                                     Existing approaches for named entity recognition suffer from data sparsity problems when conducted on short and informal texts, especially user-generated social media content. Semantic augmentation is a potential way to alleviate this problem. Given that rich semantic information is implicitly preserved in pre-trained word embeddings, they are potential ideal resources for semantic augmentation. In this paper, we propose a neural-based approach to NER for social media texts where both local (from running text) and augmented semantics are taken into account. In particular, we obtain the augmented semantic information from a large-scale corpus, and propose an attentive semantic augmentation module and a gate module to encode and aggregate such information, respectively. Extensive experiments are performed on three benchmark datasets collected from English and Chinese social media platforms, where the results demonstrate the superiority of our approach to previous studies across all three datasets. 1 * Equal contribution.   \n",
       "1                                                                                                                                                                                                                                                                                                                                                                                         We analyze social media for detecting the suicidal risk of military personnel, which is especially crucial for countries with compulsory military service such as the Republic of Korea. From a widely-used Korean social Q&A site, we collect posts containing military-relevant content written by active-duty military personnel. We then annotate the posts with two groups of experts: military experts and mental health experts. Our dataset includes 2,791 posts with 13,955 corresponding expert annotations of suicidal risk levels, and this dataset is available to researchers who consent to research ethics agreement. Using various finetuned state-of-the-art language models, we predict the level of suicide risk, reaching .88 F1 score for classifying the risks.   \n",
       "2                                                                                                                                                                                                                                                                                                                                                                                                                                                                                                                                                  In this paper, we suggest a minimallysupervised approach for identifying nuanced frames in news article coverage of politically divisive topics. We suggest to break the broad policy frames suggested by Boydstun et al., 2014 into fine-grained subframes which can capture differences in political ideology in a better way. We evaluate the suggested subframes and their embedding, learned using minimal supervision, over three topics, namely, immigration, gun-control, and abortion. We demonstrate the ability of the subframes to capture ideological differences and analyze political discourse in news media.   \n",
       "3                                                                                                                                                                                                                                                                                                                                                                                               Emotions and their evolution play a central role in creating a captivating story. In this paper, we present the first study on modeling the emotional trajectory of the protagonist in neural storytelling. We design methods that generate stories that adhere to given story titles and desired emotion arcs for the protagonist. Our models include Emotion Supervision (Emo-Sup) and two Emotion-Reinforced (EmoRL) models. The EmoRL models use special rewards designed to regularize the story generation process through reinforcement learning. Our automatic and manual evaluations demonstrate that these models are significantly better at generating stories that follow the desired emotion arcs compared to baseline methods, without sacrificing story quality.   \n",
       "4                                                                                                                                                                                                       The growth of social media has encouraged the written use of African American Vernacular English (AAVE), which has traditionally been used only in oral contexts. However, NLP models have historically been developed using dominant English varieties, such as Standard American English (SAE), due to text corpora availability. We investigate the performance of GPT-2 on AAVE text by creating a dataset of intent-equivalent parallel AAVE/SAE tweet pairs, thereby isolating syntactic structure and AAVE-or SAE-specific language for each pair. We evaluate each sample and its GPT-2 generated text with pretrained sentiment classifiers and find that while AAVE text results in more classifications of negative sentiment than SAE, the use of GPT-2 generally increases occurrences of positive sentiment for both. Additionally, we conduct human evaluation of AAVE and SAE text generated with GPT-2 to compare contextual rigor and overall quality.   \n",
       "..                                                                                                                                                                                                                                                                                                                                                                                                                                                                                                                                                                                                                                                                                                                                                                                                                                                                                                                                                                                                                                                                                                                                                                           ...   \n",
       "708                                                                                                  Conditional random fields (CRF) for label decoding has become ubiquitous in sequence labeling tasks. However, the local label dependencies and inefficient Viterbi decoding have always been a problem to be solved. In this work, we introduce a novel two-stage label decoding framework to model long-term label dependencies, while being much more computationally efficient. A base model first predicts draft labels, and then a novel twostream self-attention model makes refinements on these draft predictions based on longrange label dependencies, which can achieve parallel decoding for a faster prediction. In addition, in order to mitigate the side effects of incorrect draft labels, Bayesian neural networks are used to indicate the labels with a high probability of being wrong, which can greatly assist in preventing error propagation. The experimental results on three sequence labeling benchmarks demonstrated that the proposed method not only outperformed the CRF-based methods but also greatly accelerated the inference process.   \n",
       "709                                                                                                                                                                                                         The linear-chain Conditional Random Field (CRF) model is one of the most widely-used neural sequence labeling approaches. Exact probabilistic inference algorithms such as the forward-backward and Viterbi algorithms are typically applied in training and prediction stages of the CRF model. However, these algorithms require sequential computation that makes parallelization impossible. In this paper, we propose to employ a parallelizable approximate variational inference algorithm for the CRF model. Based on this algorithm, we design an approximate inference network that can be connected with the encoder of the neural CRF model to form an end-to-end network, which is amenable to parallelization for faster training and prediction. The empirical results show that our proposed approaches achieve a 12.7-fold improvement in decoding speed with long sentences and a competitive accuracy compared with the traditional CRF approach.   \n",
       "710  Aspect Sentiment Triplet Extraction (ASTE) is the task of extracting the triplets of target entities, their associated sentiment, and opinion spans explaining the reason for the sentiment. Existing research efforts mostly solve this problem using pipeline approaches, which break the triplet extraction process into several stages. Our observation is that the three elements within a triplet are highly related to each other, and this motivates us to build a joint model to extract such triplets using a sequence tagging approach. However, how to effectively design a tagging approach to extract the triplets that can capture the rich interactions among the elements is a challenging research question. In this work, we propose the first end-to-end model with a novel positionaware tagging scheme that is capable of jointly extracting the triplets. Our experimental results on several existing datasets show that jointly capturing elements in the triplet using our approach leads to improved performance over the existing approaches. We also conducted extensive experiments to investigate the model effectiveness and robustness 1 .   \n",
       "711                                                                                                                                         Morphologically rich languages seem to benefit from joint processing of morphology and syntax, as compared to pipeline architectures. We propose a graph-based model for joint morphological parsing and dependency parsing in Sanskrit. Here, we extend the Energy based model framework (Krishna et al., 2020) , proposed for several structured prediction tasks in Sanskrit, in 2 simple yet significant ways. First, the framework's default input graph generation method is modified to generate a multigraph, which enables the use of an exact search inference. Second, we prune the input search space using a linguistically motivated approach, rooted in the traditional grammatical analysis of Sanskrit. Our experiments show that the morphological parsing from our joint model outperforms standalone morphological parsers. We report state of the art results in morphological parsing, and in dependency parsing, both in standalone (with gold morphological tags) and joint morphosyntactic parsing setting.   \n",
       "712                                                                                                                                                                     The connection between dependency trees and spanning trees is exploited by the NLP community to train and to decode graph-based dependency parsers. However, the NLP literature has missed an important difference between the two structures: only one edge may emanate from the root in a dependency tree. We analyzed the output of state-of-the-art parsers on many languages from the Universal Dependency Treebank: although these parsers are often able to learn that trees which violate the constraint should be assigned lower probabilities, their ability to do so unsurprisingly degrades as the size of the training set decreases. In fact, the worst constraint-violation rate we observe is 24%. Prior work has proposed an inefficient algorithm to enforce the constraint, which adds a factor of n to the decoding runtime. We adapt an algorithm due to Gabow and Tarjan (1984) to dependency parsing, which satisfies the constraint without compromising the original runtime. 1   \n",
       "\n",
       "                                                                                                                                                                                                                                                                                                                                                                                                                                                                                                                                                                                                                                                                                                                                                                                                                                                                                                                                                                                                                                                                                                                                                                                                                                           Text  \\\n",
       "0                                                                                         Named Entity Recognition for Social Media Texts with Semantic Augmentation Existing approaches for named entity recognition suffer from data sparsity problems when conducted on short and informal texts, especially user-generated social media content. Semantic augmentation is a potential way to alleviate this problem. Given that rich semantic information is implicitly preserved in pre-trained word embeddings, they are potential ideal resources for semantic augmentation. In this paper, we propose a neural-based approach to NER for social media texts where both local (from running text) and augmented semantics are taken into account. In particular, we obtain the augmented semantic information from a large-scale corpus, and propose an attentive semantic augmentation module and a gate module to encode and aggregate such information, respectively. Extensive experiments are performed on three benchmark datasets collected from English and Chinese social media platforms, where the results demonstrate the superiority of our approach to previous studies across all three datasets. 1 * Equal contribution.   \n",
       "1                                                                                                                                                                                                                                                                                                                                                                                                         Suicidal Risk Detection for Military Personnel We analyze social media for detecting the suicidal risk of military personnel, which is especially crucial for countries with compulsory military service such as the Republic of Korea. From a widely-used Korean social Q&A site, we collect posts containing military-relevant content written by active-duty military personnel. We then annotate the posts with two groups of experts: military experts and mental health experts. Our dataset includes 2,791 posts with 13,955 corresponding expert annotations of suicidal risk levels, and this dataset is available to researchers who consent to research ethics agreement. Using various finetuned state-of-the-art language models, we predict the level of suicide risk, reaching .88 F1 score for classifying the risks.   \n",
       "2                                                                                                                                                                                                                                                                                                                                                                                                                                                                                                                           Weakly Supervised Learning of Nuanced Frames for Analyzing Polarization in News Media In this paper, we suggest a minimallysupervised approach for identifying nuanced frames in news article coverage of politically divisive topics. We suggest to break the broad policy frames suggested by Boydstun et al., 2014 into fine-grained subframes which can capture differences in political ideology in a better way. We evaluate the suggested subframes and their embedding, learned using minimal supervision, over three topics, namely, immigration, gun-control, and abortion. We demonstrate the ability of the subframes to capture ideological differences and analyze political discourse in news media.   \n",
       "3                                                                                                                                                                                                                                                                                                                                                                                                 Modeling Protagonist Emotions for Emotion-Aware Storytelling Emotions and their evolution play a central role in creating a captivating story. In this paper, we present the first study on modeling the emotional trajectory of the protagonist in neural storytelling. We design methods that generate stories that adhere to given story titles and desired emotion arcs for the protagonist. Our models include Emotion Supervision (Emo-Sup) and two Emotion-Reinforced (EmoRL) models. The EmoRL models use special rewards designed to regularize the story generation process through reinforcement learning. Our automatic and manual evaluations demonstrate that these models are significantly better at generating stories that follow the desired emotion arcs compared to baseline methods, without sacrificing story quality.   \n",
       "4                                                                                                                                                                               Investigating African-American Vernacular English in Transformer-Based Text Generation The growth of social media has encouraged the written use of African American Vernacular English (AAVE), which has traditionally been used only in oral contexts. However, NLP models have historically been developed using dominant English varieties, such as Standard American English (SAE), due to text corpora availability. We investigate the performance of GPT-2 on AAVE text by creating a dataset of intent-equivalent parallel AAVE/SAE tweet pairs, thereby isolating syntactic structure and AAVE-or SAE-specific language for each pair. We evaluate each sample and its GPT-2 generated text with pretrained sentiment classifiers and find that while AAVE text results in more classifications of negative sentiment than SAE, the use of GPT-2 generally increases occurrences of positive sentiment for both. Additionally, we conduct human evaluation of AAVE and SAE text generated with GPT-2 to compare contextual rigor and overall quality.   \n",
       "..                                                                                                                                                                                                                                                                                                                                                                                                                                                                                                                                                                                                                                                                                                                                                                                                                                                                                                                                                                                                                                                                                                                                                                                                                                          ...   \n",
       "708                                                                                                        Uncertainty-Aware Label Refinement for Sequence Labeling Conditional random fields (CRF) for label decoding has become ubiquitous in sequence labeling tasks. However, the local label dependencies and inefficient Viterbi decoding have always been a problem to be solved. In this work, we introduce a novel two-stage label decoding framework to model long-term label dependencies, while being much more computationally efficient. A base model first predicts draft labels, and then a novel twostream self-attention model makes refinements on these draft predictions based on longrange label dependencies, which can achieve parallel decoding for a faster prediction. In addition, in order to mitigate the side effects of incorrect draft labels, Bayesian neural networks are used to indicate the labels with a high probability of being wrong, which can greatly assist in preventing error propagation. The experimental results on three sequence labeling benchmarks demonstrated that the proposed method not only outperformed the CRF-based methods but also greatly accelerated the inference process.   \n",
       "709                                                                                                                                                                                            AIN: Fast and Accurate Sequence Labeling with Approximate Inference Network The linear-chain Conditional Random Field (CRF) model is one of the most widely-used neural sequence labeling approaches. Exact probabilistic inference algorithms such as the forward-backward and Viterbi algorithms are typically applied in training and prediction stages of the CRF model. However, these algorithms require sequential computation that makes parallelization impossible. In this paper, we propose to employ a parallelizable approximate variational inference algorithm for the CRF model. Based on this algorithm, we design an approximate inference network that can be connected with the encoder of the neural CRF model to form an end-to-end network, which is amenable to parallelization for faster training and prediction. The empirical results show that our proposed approaches achieve a 12.7-fold improvement in decoding speed with long sentences and a competitive accuracy compared with the traditional CRF approach.   \n",
       "710  Position-Aware Tagging for Aspect Sentiment Triplet Extraction Aspect Sentiment Triplet Extraction (ASTE) is the task of extracting the triplets of target entities, their associated sentiment, and opinion spans explaining the reason for the sentiment. Existing research efforts mostly solve this problem using pipeline approaches, which break the triplet extraction process into several stages. Our observation is that the three elements within a triplet are highly related to each other, and this motivates us to build a joint model to extract such triplets using a sequence tagging approach. However, how to effectively design a tagging approach to extract the triplets that can capture the rich interactions among the elements is a challenging research question. In this work, we propose the first end-to-end model with a novel positionaware tagging scheme that is capable of jointly extracting the triplets. Our experimental results on several existing datasets show that jointly capturing elements in the triplet using our approach leads to improved performance over the existing approaches. We also conducted extensive experiments to investigate the model effectiveness and robustness 1 .   \n",
       "711                                                                              Keep it Surprisingly Simple: A Simple First Order Graph Based Parsing Model for Joint Morphosyntactic Parsing in Sanskrit Morphologically rich languages seem to benefit from joint processing of morphology and syntax, as compared to pipeline architectures. We propose a graph-based model for joint morphological parsing and dependency parsing in Sanskrit. Here, we extend the Energy based model framework (Krishna et al., 2020) , proposed for several structured prediction tasks in Sanskrit, in 2 simple yet significant ways. First, the framework's default input graph generation method is modified to generate a multigraph, which enables the use of an exact search inference. Second, we prune the input search space using a linguistically motivated approach, rooted in the traditional grammatical analysis of Sanskrit. Our experiments show that the morphological parsing from our joint model outperforms standalone morphological parsers. We report state of the art results in morphological parsing, and in dependency parsing, both in standalone (with gold morphological tags) and joint morphosyntactic parsing setting.   \n",
       "712                                                                                                                                                                Please Mind the Root: Decoding Arborescences for Dependency Parsing The connection between dependency trees and spanning trees is exploited by the NLP community to train and to decode graph-based dependency parsers. However, the NLP literature has missed an important difference between the two structures: only one edge may emanate from the root in a dependency tree. We analyzed the output of state-of-the-art parsers on many languages from the Universal Dependency Treebank: although these parsers are often able to learn that trees which violate the constraint should be assigned lower probabilities, their ability to do so unsurprisingly degrades as the size of the training set decreases. In fact, the worst constraint-violation rate we observe is 24%. Prior work has proposed an inefficient algorithm to enforce the constraint, which adds a factor of n to the decoding runtime. We adapt an algorithm due to Gabow and Tarjan (1984) to dependency parsing, which satisfies the constraint without compromising the original runtime. 1   \n",
       "\n",
       "                                                                                                                                                                                                                                                                                                                                                                                                                                                                                                                                                                                                                                                                                                                                                                                                                                                                                                                       Lemm Stemmed Text  \\\n",
       "0                          name entity recognition social medium text semantic augmentation exist approach name entity recognition suffer datum sparsity problem conduct short informal text , especially user - generate social medium content . semantic augmentation potential way alleviate problem . give rich semantic information implicitly preserve pre - trained word embedding , potential ideal resource semantic augmentation . paper , propose neural - base approach ner social medium text local ( run text ) augment semantic take account . particular , obtain augment semantic information large - scale corpus , propose attentive semantic augmentation module gate module encode aggregate information , respectively . extensive experiment perform benchmark dataset collect english chinese social medium platform , result demonstrate superiority approach previous study dataset . 1 * equal contribution .   \n",
       "1                                                                                                                                                                                                                                                                                      suicidal risk detection military personnel analyze social medium detect suicidal risk military personnel , especially crucial country compulsory military service republic korea . widely - korean social q&a site , collect post contain military - relevant content write active - duty military personnel . annotate post group expert : military expert mental health expert . dataset include 2,791 post 13,955 correspond expert annotation suicidal risk level , dataset available researcher consent research ethic agreement . finetune state - - - art language model , predict level suicide risk , reach .88 f1 score classify risk .   \n",
       "2                                                                                                                                                                                                                                                                                                                                                                  weakly supervised learning nuanced frame analyze polarization news medium paper , suggest minimallysupervised approach identify nuanced frame news article coverage politically divisive topic . suggest break broad policy frame suggest boydstun et al . , 2014 fine - grained subframe capture difference political ideology well way . evaluate suggest subframe embedding , learn minimal supervision , topic , , immigration , gun - control , abortion . demonstrate ability subframe capture ideological difference analyze political discourse news medium .   \n",
       "3                                                                                                                                                                                                                                                                                 model protagonist emotion emotion - aware storytelling emotion evolution play central role create captivating story . paper , present study model emotional trajectory protagonist neural storytelling . design method generate story adhere give story title desire emotion arc protagonist . model include emotion supervision ( emo - sup ) emotion - reinforced ( emorl ) model . emorl model use special reward design regularize story generation process reinforcement learning . automatic manual evaluation demonstrate model significantly well generate story follow desire emotion arc compare baseline method , sacrifice story quality .   \n",
       "4                                                                                                     investigate african - american vernacular english transformer - base text generation growth social medium encourage write use african american vernacular english ( aave ) , traditionally oral context . , nlp model historically develop dominant english variety , standard american english ( sae ) , text corpora availability . investigate performance gpt-2 aave text create dataset intent - equivalent parallel aave / sae tweet pair , isolate syntactic structure aave - sae - specific language pair . evaluate sample gpt-2 generate text pretrained sentiment classifier find aave text result classification negative sentiment sae , use gpt-2 generally increase occurrence positive sentiment . additionally , conduct human evaluation aave sae text generate gpt-2 compare contextual rigor overall quality .   \n",
       "..                                                                                                                                                                                                                                                                                                                                                                                                                                                                                                                                                                                                                                                                                                                                                                                                                                                                                                                                   ...   \n",
       "708                                                                                  uncertainty - aware label refinement sequence labeling conditional random field ( crf ) label decoding ubiquitous sequence labeling task . , local label dependency inefficient viterbi decoding problem solve . work , introduce novel - stage label decoding framework model long - term label dependency , computationally efficient . base model predict draft label , novel twostream self - attention model make refinement draft prediction base longrange label dependency , achieve parallel decoding fast prediction . addition , order mitigate effect incorrect draft label , bayesian neural network indicate label high probability wrong , greatly assist prevent error propagation . experimental result sequence labeling benchmark demonstrate propose method outperform crf - base method greatly accelerate inference process .   \n",
       "709                                                                                                                      ain : fast accurate sequence labeling approximate inference network linear - chain conditional random field ( crf ) model widely - neural sequence labeling approach . exact probabilistic inference algorithm forward - backward viterbi algorithm typically apply training prediction stage crf model . , algorithm require sequential computation make parallelization impossible . paper , propose employ parallelizable approximate variational inference algorithm crf model . base algorithm , design approximate inference network connect encoder neural crf model form end - - end network , amenable parallelization fast training prediction . empirical result propose approach achieve 12.7 - fold improvement decode speed long sentence competitive accuracy compare traditional crf approach .   \n",
       "710                                                                      position - aware tagging aspect sentiment triplet extraction aspect sentiment triplet extraction ( aste ) task extract triplet target entity , associate sentiment , opinion span explain reason sentiment . exist research effort solve problem pipeline approach , break triplet extraction process stage . observation element triplet highly related , motivate build joint model extract triplet sequence tagging approach . , effectively design tagging approach extract triplet capture rich interaction element challenging research question . work , propose end - - end model novel positionaware tagging scheme capable jointly extract triplet . experimental result exist dataset jointly capture element triplet approach lead improve performance exist approach . conduct extensive experiment investigate model effectiveness robustness 1 .   \n",
       "711  surprisingly simple : simple order graph base parsing model joint morphosyntactic parsing sanskrit morphologically rich language benefit joint processing morphology syntax , compare pipeline architecture . propose graph - base model joint morphological parsing dependency parsing sanskrit . , extend energy base model framework ( krishna et al . , 2020 ) , propose structured prediction task sanskrit , 2 simple significant way . , framework default input graph generation method modify generate multigraph , enable use exact search inference . second , prune input search space linguistically motivate approach , root traditional grammatical analysis sanskrit . experiment morphological parsing joint model outperform standalone morphological parser . report state art result morphological parsing , dependency parsing , standalone ( gold morphological tag ) joint morphosyntactic parsing setting .   \n",
       "712                                                                                                                                                                                               mind root : decode arborescence dependency parsing connection dependency tree span tree exploit nlp community train decode graph - base dependency parser . , nlp literature miss important difference structure : edge emanate root dependency tree . analyze output state - - - art parser language universal dependency treebank : parser able learn tree violate constraint assign low probability , ability unsurprisingly degrade size training set decrease . fact , bad constraint - violation rate observe 24 % . prior work propose inefficient algorithm enforce constraint , add factor n decoding runtime . adapt algorithm gabow tarjan ( 1984 ) dependency parsing , satisfy constraint compromise original runtime . 1   \n",
       "\n",
       "                                                                                                                                                                                                                                                                                                                                                                        Keyword  \\\n",
       "0                                         social medium#semantic augmentation#entity recognition#medium text#augment semantic#semantic information#propose neural#scale corpus#equal contribution#medium platform#generate social#obtain augment#propose attentive#give rich#preserve pre#trained word#word embedding#extensive experiment#result demonstrate#information large   \n",
       "1                                                   suicidal risk#military personnel#finetune state#dataset include#republic korea#relevant content#write active#ethic agreement#art language#language model#score classify#korean social#predict level#personnel analyze#detect suicidal#annotation suicidal#medium detect#crucial country#country compulsory#service republic   \n",
       "2               nuanced frame#subframe capture#weakly supervised#learn minimal#minimal supervision#demonstrate ability#medium paper#divisive topic#grained subframe#subframe embedding#supervised learning#minimallysupervised approach#approach identify#article coverage#coverage politically#politically divisive#break broad#broad policy#learning nuanced#identify nuanced   \n",
       "3                                                    desire emotion#emotion arc#generate story#present study#reinforcement learning#automatic manual#aware storytelling#title desire#follow desire#arc compare#evolution play#play central#central role#role create#create captivating#emotional trajectory#adhere give#special reward#generation process#process reinforcement   \n",
       "4                     american vernacular#vernacular english#evaluate sample#investigate performance#traditionally oral#oral context#nlp model#corpora availability#dataset intent#equivalent parallel#isolate syntactic#specific language#generally increase#conduct human#compare contextual#tweet pair#language pair#standard american#investigate african#generation growth   \n",
       "..                                                                                                                                                                                                                                                                                                                                                                          ...   \n",
       "708                   sequence labeling#label dependency#draft label#label decoding#computationally efficient#labeling task#outperform crf#random field#problem solve#achieve parallel#order mitigate#bayesian neural#probability wrong#error propagation#experimental result#inference process#labeling conditional#ubiquitous sequence#dependency inefficient#result sequence   \n",
       "709  sequence labeling#training prediction#crf model#approximate inference#inference network#chain conditional#random field#exact probabilistic#backward viterbi#empirical result#fold improvement#model widely#inference algorithm#parallelization impossible#amenable parallelization#network linear#design approximate#conditional random#typically apply#require sequential   \n",
       "710                         extract triplet#triplet extraction#aspect sentiment#sentiment triplet#tagging approach#task extract#target entity#opinion span#process stage#highly related#motivate build#effectively design#experimental result#conduct extensive#effectiveness robustness#break triplet#extraction aspect#observation element#reason sentiment#research question   \n",
       "711                     joint morphosyntactic#morphosyntactic parsing#morphological parsing#dependency parsing#base model#model joint#parsing sanskrit#propose structured#morphology syntax#compare pipeline#pipeline architecture#extend energy#generate multigraph#motivate approach#root traditional#report state#search inference#prune input#parsing setting#rich language   \n",
       "712                                                             dependency parsing#decoding runtime#original runtime#difference structure#edge emanate#analyze output#output state#low probability#ability unsurprisingly#set decrease#violation rate#rate observe#prior work#add factor#gabow tarjan#mind root#decode graph#adapt algorithm#parsing connection#dependency tree   \n",
       "\n",
       "                                                                                                                                                                                                                                                                                                                                                                                                                                                                                                                                                                                                                                                                                                                                                                                                                                                                                                                                                                                                                                                                                                                                                                                  Matched Keywords  \\\n",
       "0                                                                 {'Computational Social Science and Social Media': ['social medium'], 'Dialogue and Interactive Systems': [], 'Discourse and Pragmatics': [], 'Ethics and NLP': ['word embedding'], 'Generation': [], 'Information Extraction': ['extensive experiment', 'entity recognition'], 'Information Retrieval and Text Mining': [], 'Interpretability and Analysis of Models for NLP': [], 'Language Grounding to Vision, Robotics and Beyond': [], 'Linguistic Theories, Cognitive Modeling and Psycholinguistics': [], 'Machine Learning for NLP': [], 'Machine Translation and Multilinguality': [], 'Phonology, Morphology and Word Segmentation': [], 'Question Answering': ['extensive experiment'], 'Resources and Evaluation': [], 'Semantics: Lexical Semantics': ['word embedding'], 'Semantics: Sentence-level Semantics, Textual Inference and Other areas': [], 'Sentiment Analysis, Stylistic Analysis, and Argument Mining': ['extensive experiment'], 'Speech and Multimodality': [], 'Summarization': [], 'Syntax: Tagging, Chunking and Parsing': [], 'Theory and Formalism in NLP (Linguistic and Mathematical)': []}   \n",
       "1                                                                                                                         {'Computational Social Science and Social Media': ['social medium'], 'Dialogue and Interactive Systems': [], 'Discourse and Pragmatics': [], 'Ethics and NLP': [], 'Generation': [], 'Information Extraction': [], 'Information Retrieval and Text Mining': [], 'Interpretability and Analysis of Models for NLP': ['language model'], 'Language Grounding to Vision, Robotics and Beyond': [], 'Linguistic Theories, Cognitive Modeling and Psycholinguistics': ['language model'], 'Machine Learning for NLP': ['language model'], 'Machine Translation and Multilinguality': [], 'Phonology, Morphology and Word Segmentation': [], 'Question Answering': [], 'Resources and Evaluation': [], 'Semantics: Lexical Semantics': [], 'Semantics: Sentence-level Semantics, Textual Inference and Other areas': ['language model'], 'Sentiment Analysis, Stylistic Analysis, and Argument Mining': [], 'Speech and Multimodality': [], 'Summarization': [], 'Syntax: Tagging, Chunking and Parsing': [], 'Theory and Formalism in NLP (Linguistic and Mathematical)': []}   \n",
       "2                                                                                                                                                                                                        {'Computational Social Science and Social Media': [], 'Dialogue and Interactive Systems': [], 'Discourse and Pragmatics': [], 'Ethics and NLP': [], 'Generation': [], 'Information Extraction': [], 'Information Retrieval and Text Mining': [], 'Interpretability and Analysis of Models for NLP': [], 'Language Grounding to Vision, Robotics and Beyond': [], 'Linguistic Theories, Cognitive Modeling and Psycholinguistics': [], 'Machine Learning for NLP': [], 'Machine Translation and Multilinguality': [], 'Phonology, Morphology and Word Segmentation': [], 'Question Answering': [], 'Resources and Evaluation': [], 'Semantics: Lexical Semantics': [], 'Semantics: Sentence-level Semantics, Textual Inference and Other areas': [], 'Sentiment Analysis, Stylistic Analysis, and Argument Mining': [], 'Speech and Multimodality': [], 'Summarization': [], 'Syntax: Tagging, Chunking and Parsing': [], 'Theory and Formalism in NLP (Linguistic and Mathematical)': []}   \n",
       "3                                                                                                                                                                                                        {'Computational Social Science and Social Media': [], 'Dialogue and Interactive Systems': [], 'Discourse and Pragmatics': [], 'Ethics and NLP': [], 'Generation': [], 'Information Extraction': [], 'Information Retrieval and Text Mining': [], 'Interpretability and Analysis of Models for NLP': [], 'Language Grounding to Vision, Robotics and Beyond': [], 'Linguistic Theories, Cognitive Modeling and Psycholinguistics': [], 'Machine Learning for NLP': [], 'Machine Translation and Multilinguality': [], 'Phonology, Morphology and Word Segmentation': [], 'Question Answering': [], 'Resources and Evaluation': [], 'Semantics: Lexical Semantics': [], 'Semantics: Sentence-level Semantics, Textual Inference and Other areas': [], 'Sentiment Analysis, Stylistic Analysis, and Argument Mining': [], 'Speech and Multimodality': [], 'Summarization': [], 'Syntax: Tagging, Chunking and Parsing': [], 'Theory and Formalism in NLP (Linguistic and Mathematical)': []}   \n",
       "4                                                                                                                   {'Computational Social Science and Social Media': ['social medium'], 'Dialogue and Interactive Systems': ['human evaluation'], 'Discourse and Pragmatics': [], 'Ethics and NLP': [], 'Generation': ['human evaluation', 'text generation'], 'Information Extraction': [], 'Information Retrieval and Text Mining': [], 'Interpretability and Analysis of Models for NLP': [], 'Language Grounding to Vision, Robotics and Beyond': [], 'Linguistic Theories, Cognitive Modeling and Psycholinguistics': [], 'Machine Learning for NLP': [], 'Machine Translation and Multilinguality': ['language pair'], 'Phonology, Morphology and Word Segmentation': [], 'Question Answering': [], 'Resources and Evaluation': [], 'Semantics: Lexical Semantics': [], 'Semantics: Sentence-level Semantics, Textual Inference and Other areas': [], 'Sentiment Analysis, Stylistic Analysis, and Argument Mining': [], 'Speech and Multimodality': [], 'Summarization': [], 'Syntax: Tagging, Chunking and Parsing': [], 'Theory and Formalism in NLP (Linguistic and Mathematical)': []}   \n",
       "..                                                                                                                                                                                                                                                                                                                                                                                                                                                                                                                                                                                                                                                                                                                                                                                                                                                                                                                                                                                                                                                                                                                                                                                             ...   \n",
       "708       {'Computational Social Science and Social Media': ['base model'], 'Dialogue and Interactive Systems': [], 'Discourse and Pragmatics': ['experimental result'], 'Ethics and NLP': [], 'Generation': [], 'Information Extraction': ['experimental result'], 'Information Retrieval and Text Mining': [], 'Interpretability and Analysis of Models for NLP': ['neural network'], 'Language Grounding to Vision, Robotics and Beyond': [], 'Linguistic Theories, Cognitive Modeling and Psycholinguistics': [], 'Machine Learning for NLP': ['experimental result', 'neural network'], 'Machine Translation and Multilinguality': [], 'Phonology, Morphology and Word Segmentation': [], 'Question Answering': [], 'Resources and Evaluation': [], 'Semantics: Lexical Semantics': [], 'Semantics: Sentence-level Semantics, Textual Inference and Other areas': ['experimental result'], 'Sentiment Analysis, Stylistic Analysis, and Argument Mining': ['experimental result'], 'Speech and Multimodality': ['experimental result'], 'Summarization': [], 'Syntax: Tagging, Chunking and Parsing': ['sequence labeling'], 'Theory and Formalism in NLP (Linguistic and Mathematical)': []}   \n",
       "709                                                                                                                                                                                   {'Computational Social Science and Social Media': [], 'Dialogue and Interactive Systems': [], 'Discourse and Pragmatics': [], 'Ethics and NLP': [], 'Generation': [], 'Information Extraction': [], 'Information Retrieval and Text Mining': [], 'Interpretability and Analysis of Models for NLP': [], 'Language Grounding to Vision, Robotics and Beyond': [], 'Linguistic Theories, Cognitive Modeling and Psycholinguistics': [], 'Machine Learning for NLP': [], 'Machine Translation and Multilinguality': [], 'Phonology, Morphology and Word Segmentation': [], 'Question Answering': [], 'Resources and Evaluation': [], 'Semantics: Lexical Semantics': [], 'Semantics: Sentence-level Semantics, Textual Inference and Other areas': [], 'Sentiment Analysis, Stylistic Analysis, and Argument Mining': [], 'Speech and Multimodality': [], 'Summarization': [], 'Syntax: Tagging, Chunking and Parsing': ['sequence labeling'], 'Theory and Formalism in NLP (Linguistic and Mathematical)': []}   \n",
       "710  {'Computational Social Science and Social Media': [], 'Dialogue and Interactive Systems': [], 'Discourse and Pragmatics': ['experimental result'], 'Ethics and NLP': [], 'Generation': [], 'Information Extraction': ['experimental result', 'extensive experiment'], 'Information Retrieval and Text Mining': [], 'Interpretability and Analysis of Models for NLP': [], 'Language Grounding to Vision, Robotics and Beyond': [], 'Linguistic Theories, Cognitive Modeling and Psycholinguistics': [], 'Machine Learning for NLP': ['experimental result'], 'Machine Translation and Multilinguality': [], 'Phonology, Morphology and Word Segmentation': [], 'Question Answering': ['extensive experiment'], 'Resources and Evaluation': [], 'Semantics: Lexical Semantics': [], 'Semantics: Sentence-level Semantics, Textual Inference and Other areas': ['experimental result'], 'Sentiment Analysis, Stylistic Analysis, and Argument Mining': ['experimental result', 'extensive experiment'], 'Speech and Multimodality': ['experimental result'], 'Summarization': [], 'Syntax: Tagging, Chunking and Parsing': [], 'Theory and Formalism in NLP (Linguistic and Mathematical)': []}   \n",
       "711                                                                                                                                                                      {'Computational Social Science and Social Media': ['base model'], 'Dialogue and Interactive Systems': [], 'Discourse and Pragmatics': [], 'Ethics and NLP': [], 'Generation': [], 'Information Extraction': [], 'Information Retrieval and Text Mining': [], 'Interpretability and Analysis of Models for NLP': [], 'Language Grounding to Vision, Robotics and Beyond': [], 'Linguistic Theories, Cognitive Modeling and Psycholinguistics': [], 'Machine Learning for NLP': [], 'Machine Translation and Multilinguality': [], 'Phonology, Morphology and Word Segmentation': [], 'Question Answering': [], 'Resources and Evaluation': [], 'Semantics: Lexical Semantics': [], 'Semantics: Sentence-level Semantics, Textual Inference and Other areas': [], 'Sentiment Analysis, Stylistic Analysis, and Argument Mining': [], 'Speech and Multimodality': [], 'Summarization': [], 'Syntax: Tagging, Chunking and Parsing': ['dependency parsing'], 'Theory and Formalism in NLP (Linguistic and Mathematical)': []}   \n",
       "712                                                                                                                                                                      {'Computational Social Science and Social Media': [], 'Dialogue and Interactive Systems': [], 'Discourse and Pragmatics': [], 'Ethics and NLP': [], 'Generation': [], 'Information Extraction': [], 'Information Retrieval and Text Mining': [], 'Interpretability and Analysis of Models for NLP': [], 'Language Grounding to Vision, Robotics and Beyond': [], 'Linguistic Theories, Cognitive Modeling and Psycholinguistics': [], 'Machine Learning for NLP': [], 'Machine Translation and Multilinguality': [], 'Phonology, Morphology and Word Segmentation': [], 'Question Answering': [], 'Resources and Evaluation': [], 'Semantics: Lexical Semantics': ['prior work'], 'Semantics: Sentence-level Semantics, Textual Inference and Other areas': [], 'Sentiment Analysis, Stylistic Analysis, and Argument Mining': [], 'Speech and Multimodality': [], 'Summarization': [], 'Syntax: Tagging, Chunking and Parsing': ['dependency parsing'], 'Theory and Formalism in NLP (Linguistic and Mathematical)': []}   \n",
       "\n",
       "                                                                                                                                                                                                                                                                                                                                                                                                                                                                                                                                                                                                                                                                                                                                                                                                                                                                                                                                                       Dictionary Output  \\\n",
       "0    {'Computational Social Science and Social Media': 4, 'Dialogue and Interactive Systems': 0, 'Discourse and Pragmatics': 0, 'Ethics and NLP': 1, 'Generation': 0, 'Information Extraction': 3, 'Information Retrieval and Text Mining': 0, 'Interpretability and Analysis of Models for NLP': 0, 'Language Grounding to Vision, Robotics and Beyond': 0, 'Linguistic Theories, Cognitive Modeling and Psycholinguistics': 0, 'Machine Learning for NLP': 0, 'Machine Translation and Multilinguality': 0, 'Phonology, Morphology and Word Segmentation': 0, 'Question Answering': 1, 'Resources and Evaluation': 0, 'Semantics: Lexical Semantics': 1, 'Semantics: Sentence-level Semantics, Textual Inference and Other areas': 0, 'Sentiment Analysis, Stylistic Analysis, and Argument Mining': 1, 'Speech and Multimodality': 0, 'Summarization': 0, 'Syntax: Tagging, Chunking and Parsing': 0, 'Theory and Formalism in NLP (Linguistic and Mathematical)': 0}   \n",
       "1    {'Computational Social Science and Social Media': 1, 'Dialogue and Interactive Systems': 0, 'Discourse and Pragmatics': 0, 'Ethics and NLP': 0, 'Generation': 0, 'Information Extraction': 0, 'Information Retrieval and Text Mining': 0, 'Interpretability and Analysis of Models for NLP': 1, 'Language Grounding to Vision, Robotics and Beyond': 0, 'Linguistic Theories, Cognitive Modeling and Psycholinguistics': 1, 'Machine Learning for NLP': 1, 'Machine Translation and Multilinguality': 0, 'Phonology, Morphology and Word Segmentation': 0, 'Question Answering': 0, 'Resources and Evaluation': 0, 'Semantics: Lexical Semantics': 0, 'Semantics: Sentence-level Semantics, Textual Inference and Other areas': 1, 'Sentiment Analysis, Stylistic Analysis, and Argument Mining': 0, 'Speech and Multimodality': 0, 'Summarization': 0, 'Syntax: Tagging, Chunking and Parsing': 0, 'Theory and Formalism in NLP (Linguistic and Mathematical)': 0}   \n",
       "2    {'Computational Social Science and Social Media': 0, 'Dialogue and Interactive Systems': 0, 'Discourse and Pragmatics': 0, 'Ethics and NLP': 0, 'Generation': 0, 'Information Extraction': 0, 'Information Retrieval and Text Mining': 0, 'Interpretability and Analysis of Models for NLP': 0, 'Language Grounding to Vision, Robotics and Beyond': 0, 'Linguistic Theories, Cognitive Modeling and Psycholinguistics': 0, 'Machine Learning for NLP': 0, 'Machine Translation and Multilinguality': 0, 'Phonology, Morphology and Word Segmentation': 0, 'Question Answering': 0, 'Resources and Evaluation': 0, 'Semantics: Lexical Semantics': 0, 'Semantics: Sentence-level Semantics, Textual Inference and Other areas': 0, 'Sentiment Analysis, Stylistic Analysis, and Argument Mining': 0, 'Speech and Multimodality': 0, 'Summarization': 0, 'Syntax: Tagging, Chunking and Parsing': 0, 'Theory and Formalism in NLP (Linguistic and Mathematical)': 0}   \n",
       "3    {'Computational Social Science and Social Media': 0, 'Dialogue and Interactive Systems': 0, 'Discourse and Pragmatics': 0, 'Ethics and NLP': 0, 'Generation': 0, 'Information Extraction': 0, 'Information Retrieval and Text Mining': 0, 'Interpretability and Analysis of Models for NLP': 0, 'Language Grounding to Vision, Robotics and Beyond': 0, 'Linguistic Theories, Cognitive Modeling and Psycholinguistics': 0, 'Machine Learning for NLP': 0, 'Machine Translation and Multilinguality': 0, 'Phonology, Morphology and Word Segmentation': 0, 'Question Answering': 0, 'Resources and Evaluation': 0, 'Semantics: Lexical Semantics': 0, 'Semantics: Sentence-level Semantics, Textual Inference and Other areas': 0, 'Sentiment Analysis, Stylistic Analysis, and Argument Mining': 0, 'Speech and Multimodality': 0, 'Summarization': 0, 'Syntax: Tagging, Chunking and Parsing': 0, 'Theory and Formalism in NLP (Linguistic and Mathematical)': 0}   \n",
       "4    {'Computational Social Science and Social Media': 1, 'Dialogue and Interactive Systems': 1, 'Discourse and Pragmatics': 0, 'Ethics and NLP': 0, 'Generation': 2, 'Information Extraction': 0, 'Information Retrieval and Text Mining': 0, 'Interpretability and Analysis of Models for NLP': 0, 'Language Grounding to Vision, Robotics and Beyond': 0, 'Linguistic Theories, Cognitive Modeling and Psycholinguistics': 0, 'Machine Learning for NLP': 0, 'Machine Translation and Multilinguality': 1, 'Phonology, Morphology and Word Segmentation': 0, 'Question Answering': 0, 'Resources and Evaluation': 0, 'Semantics: Lexical Semantics': 0, 'Semantics: Sentence-level Semantics, Textual Inference and Other areas': 0, 'Sentiment Analysis, Stylistic Analysis, and Argument Mining': 0, 'Speech and Multimodality': 0, 'Summarization': 0, 'Syntax: Tagging, Chunking and Parsing': 0, 'Theory and Formalism in NLP (Linguistic and Mathematical)': 0}   \n",
       "..                                                                                                                                                                                                                                                                                                                                                                                                                                                                                                                                                                                                                                                                                                                                                                                                                                                                                                                                                                   ...   \n",
       "708  {'Computational Social Science and Social Media': 1, 'Dialogue and Interactive Systems': 0, 'Discourse and Pragmatics': 1, 'Ethics and NLP': 0, 'Generation': 0, 'Information Extraction': 1, 'Information Retrieval and Text Mining': 0, 'Interpretability and Analysis of Models for NLP': 1, 'Language Grounding to Vision, Robotics and Beyond': 0, 'Linguistic Theories, Cognitive Modeling and Psycholinguistics': 0, 'Machine Learning for NLP': 2, 'Machine Translation and Multilinguality': 0, 'Phonology, Morphology and Word Segmentation': 0, 'Question Answering': 0, 'Resources and Evaluation': 0, 'Semantics: Lexical Semantics': 0, 'Semantics: Sentence-level Semantics, Textual Inference and Other areas': 1, 'Sentiment Analysis, Stylistic Analysis, and Argument Mining': 1, 'Speech and Multimodality': 1, 'Summarization': 0, 'Syntax: Tagging, Chunking and Parsing': 3, 'Theory and Formalism in NLP (Linguistic and Mathematical)': 0}   \n",
       "709  {'Computational Social Science and Social Media': 0, 'Dialogue and Interactive Systems': 0, 'Discourse and Pragmatics': 0, 'Ethics and NLP': 0, 'Generation': 0, 'Information Extraction': 0, 'Information Retrieval and Text Mining': 0, 'Interpretability and Analysis of Models for NLP': 0, 'Language Grounding to Vision, Robotics and Beyond': 0, 'Linguistic Theories, Cognitive Modeling and Psycholinguistics': 0, 'Machine Learning for NLP': 0, 'Machine Translation and Multilinguality': 0, 'Phonology, Morphology and Word Segmentation': 0, 'Question Answering': 0, 'Resources and Evaluation': 0, 'Semantics: Lexical Semantics': 0, 'Semantics: Sentence-level Semantics, Textual Inference and Other areas': 0, 'Sentiment Analysis, Stylistic Analysis, and Argument Mining': 0, 'Speech and Multimodality': 0, 'Summarization': 0, 'Syntax: Tagging, Chunking and Parsing': 2, 'Theory and Formalism in NLP (Linguistic and Mathematical)': 0}   \n",
       "710  {'Computational Social Science and Social Media': 0, 'Dialogue and Interactive Systems': 0, 'Discourse and Pragmatics': 1, 'Ethics and NLP': 0, 'Generation': 0, 'Information Extraction': 2, 'Information Retrieval and Text Mining': 0, 'Interpretability and Analysis of Models for NLP': 0, 'Language Grounding to Vision, Robotics and Beyond': 0, 'Linguistic Theories, Cognitive Modeling and Psycholinguistics': 0, 'Machine Learning for NLP': 1, 'Machine Translation and Multilinguality': 0, 'Phonology, Morphology and Word Segmentation': 0, 'Question Answering': 1, 'Resources and Evaluation': 0, 'Semantics: Lexical Semantics': 0, 'Semantics: Sentence-level Semantics, Textual Inference and Other areas': 1, 'Sentiment Analysis, Stylistic Analysis, and Argument Mining': 2, 'Speech and Multimodality': 1, 'Summarization': 0, 'Syntax: Tagging, Chunking and Parsing': 0, 'Theory and Formalism in NLP (Linguistic and Mathematical)': 0}   \n",
       "711  {'Computational Social Science and Social Media': 2, 'Dialogue and Interactive Systems': 0, 'Discourse and Pragmatics': 0, 'Ethics and NLP': 0, 'Generation': 0, 'Information Extraction': 0, 'Information Retrieval and Text Mining': 0, 'Interpretability and Analysis of Models for NLP': 0, 'Language Grounding to Vision, Robotics and Beyond': 0, 'Linguistic Theories, Cognitive Modeling and Psycholinguistics': 0, 'Machine Learning for NLP': 0, 'Machine Translation and Multilinguality': 0, 'Phonology, Morphology and Word Segmentation': 0, 'Question Answering': 0, 'Resources and Evaluation': 0, 'Semantics: Lexical Semantics': 0, 'Semantics: Sentence-level Semantics, Textual Inference and Other areas': 0, 'Sentiment Analysis, Stylistic Analysis, and Argument Mining': 0, 'Speech and Multimodality': 0, 'Summarization': 0, 'Syntax: Tagging, Chunking and Parsing': 2, 'Theory and Formalism in NLP (Linguistic and Mathematical)': 0}   \n",
       "712  {'Computational Social Science and Social Media': 0, 'Dialogue and Interactive Systems': 0, 'Discourse and Pragmatics': 0, 'Ethics and NLP': 0, 'Generation': 0, 'Information Extraction': 0, 'Information Retrieval and Text Mining': 0, 'Interpretability and Analysis of Models for NLP': 0, 'Language Grounding to Vision, Robotics and Beyond': 0, 'Linguistic Theories, Cognitive Modeling and Psycholinguistics': 0, 'Machine Learning for NLP': 0, 'Machine Translation and Multilinguality': 0, 'Phonology, Morphology and Word Segmentation': 0, 'Question Answering': 0, 'Resources and Evaluation': 0, 'Semantics: Lexical Semantics': 1, 'Semantics: Sentence-level Semantics, Textual Inference and Other areas': 0, 'Sentiment Analysis, Stylistic Analysis, and Argument Mining': 0, 'Speech and Multimodality': 0, 'Summarization': 0, 'Syntax: Tagging, Chunking and Parsing': 2, 'Theory and Formalism in NLP (Linguistic and Mathematical)': 0}   \n",
       "\n",
       "                                   Predicted Label  \n",
       "0    Computational Social Science and Social Media  \n",
       "1    Computational Social Science and Social Media  \n",
       "2    Computational Social Science and Social Media  \n",
       "3    Computational Social Science and Social Media  \n",
       "4                                       Generation  \n",
       "..                                             ...  \n",
       "708          Syntax: Tagging, Chunking and Parsing  \n",
       "709          Syntax: Tagging, Chunking and Parsing  \n",
       "710                         Information Extraction  \n",
       "711  Computational Social Science and Social Media  \n",
       "712          Syntax: Tagging, Chunking and Parsing  \n",
       "\n",
       "[651 rows x 9 columns]"
      ]
     },
     "execution_count": 1558,
     "metadata": {},
     "output_type": "execute_result"
    }
   ],
   "source": [
    "df_test"
   ]
  },
  {
   "cell_type": "code",
   "execution_count": 1559,
   "metadata": {},
   "outputs": [
    {
     "data": {
      "application/vnd.plotly.v1+json": {
       "config": {
        "plotlyServerURL": "https://plot.ly"
       },
       "data": [
        {
         "alignmentgroup": "True",
         "hovertemplate": "Label Outcome=True<br>Label=%{x}<br>Counts=%{y}<extra></extra>",
         "legendgroup": "True",
         "marker": {
          "color": "#636efa",
          "pattern": {
           "shape": ""
          }
         },
         "name": "True",
         "offsetgroup": "True",
         "orientation": "v",
         "showlegend": true,
         "textposition": "auto",
         "type": "bar",
         "x": [
          "Computational Social Science and Social Media",
          "Dialogue and Interactive Systems",
          "Discourse and Pragmatics",
          "Generation",
          "Information Extraction",
          "Information Retrieval and Text Mining",
          "Interpretability and Analysis of Models for NLP",
          "Language Grounding to Vision, Robotics and Beyond",
          "Linguistic Theories, Cognitive Modeling and Psycholinguistics",
          "Machine Learning for NLP",
          "Machine Translation and Multilinguality",
          "Phonology, Morphology and Word Segmentation",
          "Question Answering",
          "Semantics: Lexical Semantics",
          "Semantics: Sentence-level Semantics, Textual Inference and Other areas",
          "Sentiment Analysis, Stylistic Analysis, and Argument Mining",
          "Summarization",
          "Syntax: Tagging, Chunking and Parsing"
         ],
         "xaxis": "x",
         "y": [
          17,
          32,
          3,
          22,
          24,
          4,
          15,
          6,
          3,
          19,
          42,
          2,
          12,
          6,
          15,
          10,
          11,
          7
         ],
         "yaxis": "y"
        },
        {
         "alignmentgroup": "True",
         "hovertemplate": "Label Outcome=False<br>Label=%{x}<br>Counts=%{y}<extra></extra>",
         "legendgroup": "False",
         "marker": {
          "color": "#EF553B",
          "pattern": {
           "shape": ""
          }
         },
         "name": "False",
         "offsetgroup": "False",
         "orientation": "v",
         "showlegend": true,
         "textposition": "auto",
         "type": "bar",
         "x": [
          "Computational Social Science and Social Media",
          "Dialogue and Interactive Systems",
          "Discourse and Pragmatics",
          "Generation",
          "Information Extraction",
          "Information Retrieval and Text Mining",
          "Interpretability and Analysis of Models for NLP",
          "Language Grounding to Vision, Robotics and Beyond",
          "Linguistic Theories, Cognitive Modeling and Psycholinguistics",
          "Machine Learning for NLP",
          "Machine Translation and Multilinguality",
          "Phonology, Morphology and Word Segmentation",
          "Question Answering",
          "Semantics: Lexical Semantics",
          "Semantics: Sentence-level Semantics, Textual Inference and Other areas",
          "Sentiment Analysis, Stylistic Analysis, and Argument Mining",
          "Speech and Multimodality",
          "Summarization",
          "Syntax: Tagging, Chunking and Parsing"
         ],
         "xaxis": "x",
         "y": [
          11,
          26,
          8,
          20,
          30,
          18,
          37,
          23,
          6,
          51,
          27,
          10,
          28,
          10,
          39,
          18,
          9,
          20,
          10
         ],
         "yaxis": "y"
        }
       ],
       "layout": {
        "barmode": "relative",
        "height": 800,
        "legend": {
         "title": {
          "text": "Label Outcome"
         },
         "tracegroupgap": 0
        },
        "template": {
         "data": {
          "bar": [
           {
            "error_x": {
             "color": "#2a3f5f"
            },
            "error_y": {
             "color": "#2a3f5f"
            },
            "marker": {
             "line": {
              "color": "#E5ECF6",
              "width": 0.5
             },
             "pattern": {
              "fillmode": "overlay",
              "size": 10,
              "solidity": 0.2
             }
            },
            "type": "bar"
           }
          ],
          "barpolar": [
           {
            "marker": {
             "line": {
              "color": "#E5ECF6",
              "width": 0.5
             },
             "pattern": {
              "fillmode": "overlay",
              "size": 10,
              "solidity": 0.2
             }
            },
            "type": "barpolar"
           }
          ],
          "carpet": [
           {
            "aaxis": {
             "endlinecolor": "#2a3f5f",
             "gridcolor": "white",
             "linecolor": "white",
             "minorgridcolor": "white",
             "startlinecolor": "#2a3f5f"
            },
            "baxis": {
             "endlinecolor": "#2a3f5f",
             "gridcolor": "white",
             "linecolor": "white",
             "minorgridcolor": "white",
             "startlinecolor": "#2a3f5f"
            },
            "type": "carpet"
           }
          ],
          "choropleth": [
           {
            "colorbar": {
             "outlinewidth": 0,
             "ticks": ""
            },
            "type": "choropleth"
           }
          ],
          "contour": [
           {
            "colorbar": {
             "outlinewidth": 0,
             "ticks": ""
            },
            "colorscale": [
             [
              0,
              "#0d0887"
             ],
             [
              0.1111111111111111,
              "#46039f"
             ],
             [
              0.2222222222222222,
              "#7201a8"
             ],
             [
              0.3333333333333333,
              "#9c179e"
             ],
             [
              0.4444444444444444,
              "#bd3786"
             ],
             [
              0.5555555555555556,
              "#d8576b"
             ],
             [
              0.6666666666666666,
              "#ed7953"
             ],
             [
              0.7777777777777778,
              "#fb9f3a"
             ],
             [
              0.8888888888888888,
              "#fdca26"
             ],
             [
              1,
              "#f0f921"
             ]
            ],
            "type": "contour"
           }
          ],
          "contourcarpet": [
           {
            "colorbar": {
             "outlinewidth": 0,
             "ticks": ""
            },
            "type": "contourcarpet"
           }
          ],
          "heatmap": [
           {
            "colorbar": {
             "outlinewidth": 0,
             "ticks": ""
            },
            "colorscale": [
             [
              0,
              "#0d0887"
             ],
             [
              0.1111111111111111,
              "#46039f"
             ],
             [
              0.2222222222222222,
              "#7201a8"
             ],
             [
              0.3333333333333333,
              "#9c179e"
             ],
             [
              0.4444444444444444,
              "#bd3786"
             ],
             [
              0.5555555555555556,
              "#d8576b"
             ],
             [
              0.6666666666666666,
              "#ed7953"
             ],
             [
              0.7777777777777778,
              "#fb9f3a"
             ],
             [
              0.8888888888888888,
              "#fdca26"
             ],
             [
              1,
              "#f0f921"
             ]
            ],
            "type": "heatmap"
           }
          ],
          "heatmapgl": [
           {
            "colorbar": {
             "outlinewidth": 0,
             "ticks": ""
            },
            "colorscale": [
             [
              0,
              "#0d0887"
             ],
             [
              0.1111111111111111,
              "#46039f"
             ],
             [
              0.2222222222222222,
              "#7201a8"
             ],
             [
              0.3333333333333333,
              "#9c179e"
             ],
             [
              0.4444444444444444,
              "#bd3786"
             ],
             [
              0.5555555555555556,
              "#d8576b"
             ],
             [
              0.6666666666666666,
              "#ed7953"
             ],
             [
              0.7777777777777778,
              "#fb9f3a"
             ],
             [
              0.8888888888888888,
              "#fdca26"
             ],
             [
              1,
              "#f0f921"
             ]
            ],
            "type": "heatmapgl"
           }
          ],
          "histogram": [
           {
            "marker": {
             "pattern": {
              "fillmode": "overlay",
              "size": 10,
              "solidity": 0.2
             }
            },
            "type": "histogram"
           }
          ],
          "histogram2d": [
           {
            "colorbar": {
             "outlinewidth": 0,
             "ticks": ""
            },
            "colorscale": [
             [
              0,
              "#0d0887"
             ],
             [
              0.1111111111111111,
              "#46039f"
             ],
             [
              0.2222222222222222,
              "#7201a8"
             ],
             [
              0.3333333333333333,
              "#9c179e"
             ],
             [
              0.4444444444444444,
              "#bd3786"
             ],
             [
              0.5555555555555556,
              "#d8576b"
             ],
             [
              0.6666666666666666,
              "#ed7953"
             ],
             [
              0.7777777777777778,
              "#fb9f3a"
             ],
             [
              0.8888888888888888,
              "#fdca26"
             ],
             [
              1,
              "#f0f921"
             ]
            ],
            "type": "histogram2d"
           }
          ],
          "histogram2dcontour": [
           {
            "colorbar": {
             "outlinewidth": 0,
             "ticks": ""
            },
            "colorscale": [
             [
              0,
              "#0d0887"
             ],
             [
              0.1111111111111111,
              "#46039f"
             ],
             [
              0.2222222222222222,
              "#7201a8"
             ],
             [
              0.3333333333333333,
              "#9c179e"
             ],
             [
              0.4444444444444444,
              "#bd3786"
             ],
             [
              0.5555555555555556,
              "#d8576b"
             ],
             [
              0.6666666666666666,
              "#ed7953"
             ],
             [
              0.7777777777777778,
              "#fb9f3a"
             ],
             [
              0.8888888888888888,
              "#fdca26"
             ],
             [
              1,
              "#f0f921"
             ]
            ],
            "type": "histogram2dcontour"
           }
          ],
          "mesh3d": [
           {
            "colorbar": {
             "outlinewidth": 0,
             "ticks": ""
            },
            "type": "mesh3d"
           }
          ],
          "parcoords": [
           {
            "line": {
             "colorbar": {
              "outlinewidth": 0,
              "ticks": ""
             }
            },
            "type": "parcoords"
           }
          ],
          "pie": [
           {
            "automargin": true,
            "type": "pie"
           }
          ],
          "scatter": [
           {
            "fillpattern": {
             "fillmode": "overlay",
             "size": 10,
             "solidity": 0.2
            },
            "type": "scatter"
           }
          ],
          "scatter3d": [
           {
            "line": {
             "colorbar": {
              "outlinewidth": 0,
              "ticks": ""
             }
            },
            "marker": {
             "colorbar": {
              "outlinewidth": 0,
              "ticks": ""
             }
            },
            "type": "scatter3d"
           }
          ],
          "scattercarpet": [
           {
            "marker": {
             "colorbar": {
              "outlinewidth": 0,
              "ticks": ""
             }
            },
            "type": "scattercarpet"
           }
          ],
          "scattergeo": [
           {
            "marker": {
             "colorbar": {
              "outlinewidth": 0,
              "ticks": ""
             }
            },
            "type": "scattergeo"
           }
          ],
          "scattergl": [
           {
            "marker": {
             "colorbar": {
              "outlinewidth": 0,
              "ticks": ""
             }
            },
            "type": "scattergl"
           }
          ],
          "scattermapbox": [
           {
            "marker": {
             "colorbar": {
              "outlinewidth": 0,
              "ticks": ""
             }
            },
            "type": "scattermapbox"
           }
          ],
          "scatterpolar": [
           {
            "marker": {
             "colorbar": {
              "outlinewidth": 0,
              "ticks": ""
             }
            },
            "type": "scatterpolar"
           }
          ],
          "scatterpolargl": [
           {
            "marker": {
             "colorbar": {
              "outlinewidth": 0,
              "ticks": ""
             }
            },
            "type": "scatterpolargl"
           }
          ],
          "scatterternary": [
           {
            "marker": {
             "colorbar": {
              "outlinewidth": 0,
              "ticks": ""
             }
            },
            "type": "scatterternary"
           }
          ],
          "surface": [
           {
            "colorbar": {
             "outlinewidth": 0,
             "ticks": ""
            },
            "colorscale": [
             [
              0,
              "#0d0887"
             ],
             [
              0.1111111111111111,
              "#46039f"
             ],
             [
              0.2222222222222222,
              "#7201a8"
             ],
             [
              0.3333333333333333,
              "#9c179e"
             ],
             [
              0.4444444444444444,
              "#bd3786"
             ],
             [
              0.5555555555555556,
              "#d8576b"
             ],
             [
              0.6666666666666666,
              "#ed7953"
             ],
             [
              0.7777777777777778,
              "#fb9f3a"
             ],
             [
              0.8888888888888888,
              "#fdca26"
             ],
             [
              1,
              "#f0f921"
             ]
            ],
            "type": "surface"
           }
          ],
          "table": [
           {
            "cells": {
             "fill": {
              "color": "#EBF0F8"
             },
             "line": {
              "color": "white"
             }
            },
            "header": {
             "fill": {
              "color": "#C8D4E3"
             },
             "line": {
              "color": "white"
             }
            },
            "type": "table"
           }
          ]
         },
         "layout": {
          "annotationdefaults": {
           "arrowcolor": "#2a3f5f",
           "arrowhead": 0,
           "arrowwidth": 1
          },
          "autotypenumbers": "strict",
          "coloraxis": {
           "colorbar": {
            "outlinewidth": 0,
            "ticks": ""
           }
          },
          "colorscale": {
           "diverging": [
            [
             0,
             "#8e0152"
            ],
            [
             0.1,
             "#c51b7d"
            ],
            [
             0.2,
             "#de77ae"
            ],
            [
             0.3,
             "#f1b6da"
            ],
            [
             0.4,
             "#fde0ef"
            ],
            [
             0.5,
             "#f7f7f7"
            ],
            [
             0.6,
             "#e6f5d0"
            ],
            [
             0.7,
             "#b8e186"
            ],
            [
             0.8,
             "#7fbc41"
            ],
            [
             0.9,
             "#4d9221"
            ],
            [
             1,
             "#276419"
            ]
           ],
           "sequential": [
            [
             0,
             "#0d0887"
            ],
            [
             0.1111111111111111,
             "#46039f"
            ],
            [
             0.2222222222222222,
             "#7201a8"
            ],
            [
             0.3333333333333333,
             "#9c179e"
            ],
            [
             0.4444444444444444,
             "#bd3786"
            ],
            [
             0.5555555555555556,
             "#d8576b"
            ],
            [
             0.6666666666666666,
             "#ed7953"
            ],
            [
             0.7777777777777778,
             "#fb9f3a"
            ],
            [
             0.8888888888888888,
             "#fdca26"
            ],
            [
             1,
             "#f0f921"
            ]
           ],
           "sequentialminus": [
            [
             0,
             "#0d0887"
            ],
            [
             0.1111111111111111,
             "#46039f"
            ],
            [
             0.2222222222222222,
             "#7201a8"
            ],
            [
             0.3333333333333333,
             "#9c179e"
            ],
            [
             0.4444444444444444,
             "#bd3786"
            ],
            [
             0.5555555555555556,
             "#d8576b"
            ],
            [
             0.6666666666666666,
             "#ed7953"
            ],
            [
             0.7777777777777778,
             "#fb9f3a"
            ],
            [
             0.8888888888888888,
             "#fdca26"
            ],
            [
             1,
             "#f0f921"
            ]
           ]
          },
          "colorway": [
           "#636efa",
           "#EF553B",
           "#00cc96",
           "#ab63fa",
           "#FFA15A",
           "#19d3f3",
           "#FF6692",
           "#B6E880",
           "#FF97FF",
           "#FECB52"
          ],
          "font": {
           "color": "#2a3f5f"
          },
          "geo": {
           "bgcolor": "white",
           "lakecolor": "white",
           "landcolor": "#E5ECF6",
           "showlakes": true,
           "showland": true,
           "subunitcolor": "white"
          },
          "hoverlabel": {
           "align": "left"
          },
          "hovermode": "closest",
          "mapbox": {
           "style": "light"
          },
          "paper_bgcolor": "white",
          "plot_bgcolor": "#E5ECF6",
          "polar": {
           "angularaxis": {
            "gridcolor": "white",
            "linecolor": "white",
            "ticks": ""
           },
           "bgcolor": "#E5ECF6",
           "radialaxis": {
            "gridcolor": "white",
            "linecolor": "white",
            "ticks": ""
           }
          },
          "scene": {
           "xaxis": {
            "backgroundcolor": "#E5ECF6",
            "gridcolor": "white",
            "gridwidth": 2,
            "linecolor": "white",
            "showbackground": true,
            "ticks": "",
            "zerolinecolor": "white"
           },
           "yaxis": {
            "backgroundcolor": "#E5ECF6",
            "gridcolor": "white",
            "gridwidth": 2,
            "linecolor": "white",
            "showbackground": true,
            "ticks": "",
            "zerolinecolor": "white"
           },
           "zaxis": {
            "backgroundcolor": "#E5ECF6",
            "gridcolor": "white",
            "gridwidth": 2,
            "linecolor": "white",
            "showbackground": true,
            "ticks": "",
            "zerolinecolor": "white"
           }
          },
          "shapedefaults": {
           "line": {
            "color": "#2a3f5f"
           }
          },
          "ternary": {
           "aaxis": {
            "gridcolor": "white",
            "linecolor": "white",
            "ticks": ""
           },
           "baxis": {
            "gridcolor": "white",
            "linecolor": "white",
            "ticks": ""
           },
           "bgcolor": "#E5ECF6",
           "caxis": {
            "gridcolor": "white",
            "linecolor": "white",
            "ticks": ""
           }
          },
          "title": {
           "x": 0.05
          },
          "xaxis": {
           "automargin": true,
           "gridcolor": "white",
           "linecolor": "white",
           "ticks": "",
           "title": {
            "standoff": 15
           },
           "zerolinecolor": "white",
           "zerolinewidth": 2
          },
          "yaxis": {
           "automargin": true,
           "gridcolor": "white",
           "linecolor": "white",
           "ticks": "",
           "title": {
            "standoff": 15
           },
           "zerolinecolor": "white",
           "zerolinewidth": 2
          }
         }
        },
        "title": {
         "text": "Predictions for ACL Dataset"
        },
        "width": 900,
        "xaxis": {
         "anchor": "y",
         "domain": [
          0,
          1
         ],
         "title": {
          "text": "Label"
         }
        },
        "yaxis": {
         "anchor": "x",
         "domain": [
          0,
          1
         ],
         "title": {
          "text": "Counts"
         }
        }
       }
      },
      "text/html": [
       "<div>                            <div id=\"f428bae3-56f5-4fb8-9284-b4edc31c87e6\" class=\"plotly-graph-div\" style=\"height:800px; width:900px;\"></div>            <script type=\"text/javascript\">                require([\"plotly\"], function(Plotly) {                    window.PLOTLYENV=window.PLOTLYENV || {};                                    if (document.getElementById(\"f428bae3-56f5-4fb8-9284-b4edc31c87e6\")) {                    Plotly.newPlot(                        \"f428bae3-56f5-4fb8-9284-b4edc31c87e6\",                        [{\"alignmentgroup\":\"True\",\"hovertemplate\":\"Label Outcome=True<br>Label=%{x}<br>Counts=%{y}<extra></extra>\",\"legendgroup\":\"True\",\"marker\":{\"color\":\"#636efa\",\"pattern\":{\"shape\":\"\"}},\"name\":\"True\",\"offsetgroup\":\"True\",\"orientation\":\"v\",\"showlegend\":true,\"textposition\":\"auto\",\"x\":[\"Computational Social Science and Social Media\",\"Dialogue and Interactive Systems\",\"Discourse and Pragmatics\",\"Generation\",\"Information Extraction\",\"Information Retrieval and Text Mining\",\"Interpretability and Analysis of Models for NLP\",\"Language Grounding to Vision, Robotics and Beyond\",\"Linguistic Theories, Cognitive Modeling and Psycholinguistics\",\"Machine Learning for NLP\",\"Machine Translation and Multilinguality\",\"Phonology, Morphology and Word Segmentation\",\"Question Answering\",\"Semantics: Lexical Semantics\",\"Semantics: Sentence-level Semantics, Textual Inference and Other areas\",\"Sentiment Analysis, Stylistic Analysis, and Argument Mining\",\"Summarization\",\"Syntax: Tagging, Chunking and Parsing\"],\"xaxis\":\"x\",\"y\":[17,32,3,22,24,4,15,6,3,19,42,2,12,6,15,10,11,7],\"yaxis\":\"y\",\"type\":\"bar\"},{\"alignmentgroup\":\"True\",\"hovertemplate\":\"Label Outcome=False<br>Label=%{x}<br>Counts=%{y}<extra></extra>\",\"legendgroup\":\"False\",\"marker\":{\"color\":\"#EF553B\",\"pattern\":{\"shape\":\"\"}},\"name\":\"False\",\"offsetgroup\":\"False\",\"orientation\":\"v\",\"showlegend\":true,\"textposition\":\"auto\",\"x\":[\"Computational Social Science and Social Media\",\"Dialogue and Interactive Systems\",\"Discourse and Pragmatics\",\"Generation\",\"Information Extraction\",\"Information Retrieval and Text Mining\",\"Interpretability and Analysis of Models for NLP\",\"Language Grounding to Vision, Robotics and Beyond\",\"Linguistic Theories, Cognitive Modeling and Psycholinguistics\",\"Machine Learning for NLP\",\"Machine Translation and Multilinguality\",\"Phonology, Morphology and Word Segmentation\",\"Question Answering\",\"Semantics: Lexical Semantics\",\"Semantics: Sentence-level Semantics, Textual Inference and Other areas\",\"Sentiment Analysis, Stylistic Analysis, and Argument Mining\",\"Speech and Multimodality\",\"Summarization\",\"Syntax: Tagging, Chunking and Parsing\"],\"xaxis\":\"x\",\"y\":[11,26,8,20,30,18,37,23,6,51,27,10,28,10,39,18,9,20,10],\"yaxis\":\"y\",\"type\":\"bar\"}],                        {\"template\":{\"data\":{\"histogram2dcontour\":[{\"type\":\"histogram2dcontour\",\"colorbar\":{\"outlinewidth\":0,\"ticks\":\"\"},\"colorscale\":[[0.0,\"#0d0887\"],[0.1111111111111111,\"#46039f\"],[0.2222222222222222,\"#7201a8\"],[0.3333333333333333,\"#9c179e\"],[0.4444444444444444,\"#bd3786\"],[0.5555555555555556,\"#d8576b\"],[0.6666666666666666,\"#ed7953\"],[0.7777777777777778,\"#fb9f3a\"],[0.8888888888888888,\"#fdca26\"],[1.0,\"#f0f921\"]]}],\"choropleth\":[{\"type\":\"choropleth\",\"colorbar\":{\"outlinewidth\":0,\"ticks\":\"\"}}],\"histogram2d\":[{\"type\":\"histogram2d\",\"colorbar\":{\"outlinewidth\":0,\"ticks\":\"\"},\"colorscale\":[[0.0,\"#0d0887\"],[0.1111111111111111,\"#46039f\"],[0.2222222222222222,\"#7201a8\"],[0.3333333333333333,\"#9c179e\"],[0.4444444444444444,\"#bd3786\"],[0.5555555555555556,\"#d8576b\"],[0.6666666666666666,\"#ed7953\"],[0.7777777777777778,\"#fb9f3a\"],[0.8888888888888888,\"#fdca26\"],[1.0,\"#f0f921\"]]}],\"heatmap\":[{\"type\":\"heatmap\",\"colorbar\":{\"outlinewidth\":0,\"ticks\":\"\"},\"colorscale\":[[0.0,\"#0d0887\"],[0.1111111111111111,\"#46039f\"],[0.2222222222222222,\"#7201a8\"],[0.3333333333333333,\"#9c179e\"],[0.4444444444444444,\"#bd3786\"],[0.5555555555555556,\"#d8576b\"],[0.6666666666666666,\"#ed7953\"],[0.7777777777777778,\"#fb9f3a\"],[0.8888888888888888,\"#fdca26\"],[1.0,\"#f0f921\"]]}],\"heatmapgl\":[{\"type\":\"heatmapgl\",\"colorbar\":{\"outlinewidth\":0,\"ticks\":\"\"},\"colorscale\":[[0.0,\"#0d0887\"],[0.1111111111111111,\"#46039f\"],[0.2222222222222222,\"#7201a8\"],[0.3333333333333333,\"#9c179e\"],[0.4444444444444444,\"#bd3786\"],[0.5555555555555556,\"#d8576b\"],[0.6666666666666666,\"#ed7953\"],[0.7777777777777778,\"#fb9f3a\"],[0.8888888888888888,\"#fdca26\"],[1.0,\"#f0f921\"]]}],\"contourcarpet\":[{\"type\":\"contourcarpet\",\"colorbar\":{\"outlinewidth\":0,\"ticks\":\"\"}}],\"contour\":[{\"type\":\"contour\",\"colorbar\":{\"outlinewidth\":0,\"ticks\":\"\"},\"colorscale\":[[0.0,\"#0d0887\"],[0.1111111111111111,\"#46039f\"],[0.2222222222222222,\"#7201a8\"],[0.3333333333333333,\"#9c179e\"],[0.4444444444444444,\"#bd3786\"],[0.5555555555555556,\"#d8576b\"],[0.6666666666666666,\"#ed7953\"],[0.7777777777777778,\"#fb9f3a\"],[0.8888888888888888,\"#fdca26\"],[1.0,\"#f0f921\"]]}],\"surface\":[{\"type\":\"surface\",\"colorbar\":{\"outlinewidth\":0,\"ticks\":\"\"},\"colorscale\":[[0.0,\"#0d0887\"],[0.1111111111111111,\"#46039f\"],[0.2222222222222222,\"#7201a8\"],[0.3333333333333333,\"#9c179e\"],[0.4444444444444444,\"#bd3786\"],[0.5555555555555556,\"#d8576b\"],[0.6666666666666666,\"#ed7953\"],[0.7777777777777778,\"#fb9f3a\"],[0.8888888888888888,\"#fdca26\"],[1.0,\"#f0f921\"]]}],\"mesh3d\":[{\"type\":\"mesh3d\",\"colorbar\":{\"outlinewidth\":0,\"ticks\":\"\"}}],\"scatter\":[{\"fillpattern\":{\"fillmode\":\"overlay\",\"size\":10,\"solidity\":0.2},\"type\":\"scatter\"}],\"parcoords\":[{\"type\":\"parcoords\",\"line\":{\"colorbar\":{\"outlinewidth\":0,\"ticks\":\"\"}}}],\"scatterpolargl\":[{\"type\":\"scatterpolargl\",\"marker\":{\"colorbar\":{\"outlinewidth\":0,\"ticks\":\"\"}}}],\"bar\":[{\"error_x\":{\"color\":\"#2a3f5f\"},\"error_y\":{\"color\":\"#2a3f5f\"},\"marker\":{\"line\":{\"color\":\"#E5ECF6\",\"width\":0.5},\"pattern\":{\"fillmode\":\"overlay\",\"size\":10,\"solidity\":0.2}},\"type\":\"bar\"}],\"scattergeo\":[{\"type\":\"scattergeo\",\"marker\":{\"colorbar\":{\"outlinewidth\":0,\"ticks\":\"\"}}}],\"scatterpolar\":[{\"type\":\"scatterpolar\",\"marker\":{\"colorbar\":{\"outlinewidth\":0,\"ticks\":\"\"}}}],\"histogram\":[{\"marker\":{\"pattern\":{\"fillmode\":\"overlay\",\"size\":10,\"solidity\":0.2}},\"type\":\"histogram\"}],\"scattergl\":[{\"type\":\"scattergl\",\"marker\":{\"colorbar\":{\"outlinewidth\":0,\"ticks\":\"\"}}}],\"scatter3d\":[{\"type\":\"scatter3d\",\"line\":{\"colorbar\":{\"outlinewidth\":0,\"ticks\":\"\"}},\"marker\":{\"colorbar\":{\"outlinewidth\":0,\"ticks\":\"\"}}}],\"scattermapbox\":[{\"type\":\"scattermapbox\",\"marker\":{\"colorbar\":{\"outlinewidth\":0,\"ticks\":\"\"}}}],\"scatterternary\":[{\"type\":\"scatterternary\",\"marker\":{\"colorbar\":{\"outlinewidth\":0,\"ticks\":\"\"}}}],\"scattercarpet\":[{\"type\":\"scattercarpet\",\"marker\":{\"colorbar\":{\"outlinewidth\":0,\"ticks\":\"\"}}}],\"carpet\":[{\"aaxis\":{\"endlinecolor\":\"#2a3f5f\",\"gridcolor\":\"white\",\"linecolor\":\"white\",\"minorgridcolor\":\"white\",\"startlinecolor\":\"#2a3f5f\"},\"baxis\":{\"endlinecolor\":\"#2a3f5f\",\"gridcolor\":\"white\",\"linecolor\":\"white\",\"minorgridcolor\":\"white\",\"startlinecolor\":\"#2a3f5f\"},\"type\":\"carpet\"}],\"table\":[{\"cells\":{\"fill\":{\"color\":\"#EBF0F8\"},\"line\":{\"color\":\"white\"}},\"header\":{\"fill\":{\"color\":\"#C8D4E3\"},\"line\":{\"color\":\"white\"}},\"type\":\"table\"}],\"barpolar\":[{\"marker\":{\"line\":{\"color\":\"#E5ECF6\",\"width\":0.5},\"pattern\":{\"fillmode\":\"overlay\",\"size\":10,\"solidity\":0.2}},\"type\":\"barpolar\"}],\"pie\":[{\"automargin\":true,\"type\":\"pie\"}]},\"layout\":{\"autotypenumbers\":\"strict\",\"colorway\":[\"#636efa\",\"#EF553B\",\"#00cc96\",\"#ab63fa\",\"#FFA15A\",\"#19d3f3\",\"#FF6692\",\"#B6E880\",\"#FF97FF\",\"#FECB52\"],\"font\":{\"color\":\"#2a3f5f\"},\"hovermode\":\"closest\",\"hoverlabel\":{\"align\":\"left\"},\"paper_bgcolor\":\"white\",\"plot_bgcolor\":\"#E5ECF6\",\"polar\":{\"bgcolor\":\"#E5ECF6\",\"angularaxis\":{\"gridcolor\":\"white\",\"linecolor\":\"white\",\"ticks\":\"\"},\"radialaxis\":{\"gridcolor\":\"white\",\"linecolor\":\"white\",\"ticks\":\"\"}},\"ternary\":{\"bgcolor\":\"#E5ECF6\",\"aaxis\":{\"gridcolor\":\"white\",\"linecolor\":\"white\",\"ticks\":\"\"},\"baxis\":{\"gridcolor\":\"white\",\"linecolor\":\"white\",\"ticks\":\"\"},\"caxis\":{\"gridcolor\":\"white\",\"linecolor\":\"white\",\"ticks\":\"\"}},\"coloraxis\":{\"colorbar\":{\"outlinewidth\":0,\"ticks\":\"\"}},\"colorscale\":{\"sequential\":[[0.0,\"#0d0887\"],[0.1111111111111111,\"#46039f\"],[0.2222222222222222,\"#7201a8\"],[0.3333333333333333,\"#9c179e\"],[0.4444444444444444,\"#bd3786\"],[0.5555555555555556,\"#d8576b\"],[0.6666666666666666,\"#ed7953\"],[0.7777777777777778,\"#fb9f3a\"],[0.8888888888888888,\"#fdca26\"],[1.0,\"#f0f921\"]],\"sequentialminus\":[[0.0,\"#0d0887\"],[0.1111111111111111,\"#46039f\"],[0.2222222222222222,\"#7201a8\"],[0.3333333333333333,\"#9c179e\"],[0.4444444444444444,\"#bd3786\"],[0.5555555555555556,\"#d8576b\"],[0.6666666666666666,\"#ed7953\"],[0.7777777777777778,\"#fb9f3a\"],[0.8888888888888888,\"#fdca26\"],[1.0,\"#f0f921\"]],\"diverging\":[[0,\"#8e0152\"],[0.1,\"#c51b7d\"],[0.2,\"#de77ae\"],[0.3,\"#f1b6da\"],[0.4,\"#fde0ef\"],[0.5,\"#f7f7f7\"],[0.6,\"#e6f5d0\"],[0.7,\"#b8e186\"],[0.8,\"#7fbc41\"],[0.9,\"#4d9221\"],[1,\"#276419\"]]},\"xaxis\":{\"gridcolor\":\"white\",\"linecolor\":\"white\",\"ticks\":\"\",\"title\":{\"standoff\":15},\"zerolinecolor\":\"white\",\"automargin\":true,\"zerolinewidth\":2},\"yaxis\":{\"gridcolor\":\"white\",\"linecolor\":\"white\",\"ticks\":\"\",\"title\":{\"standoff\":15},\"zerolinecolor\":\"white\",\"automargin\":true,\"zerolinewidth\":2},\"scene\":{\"xaxis\":{\"backgroundcolor\":\"#E5ECF6\",\"gridcolor\":\"white\",\"linecolor\":\"white\",\"showbackground\":true,\"ticks\":\"\",\"zerolinecolor\":\"white\",\"gridwidth\":2},\"yaxis\":{\"backgroundcolor\":\"#E5ECF6\",\"gridcolor\":\"white\",\"linecolor\":\"white\",\"showbackground\":true,\"ticks\":\"\",\"zerolinecolor\":\"white\",\"gridwidth\":2},\"zaxis\":{\"backgroundcolor\":\"#E5ECF6\",\"gridcolor\":\"white\",\"linecolor\":\"white\",\"showbackground\":true,\"ticks\":\"\",\"zerolinecolor\":\"white\",\"gridwidth\":2}},\"shapedefaults\":{\"line\":{\"color\":\"#2a3f5f\"}},\"annotationdefaults\":{\"arrowcolor\":\"#2a3f5f\",\"arrowhead\":0,\"arrowwidth\":1},\"geo\":{\"bgcolor\":\"white\",\"landcolor\":\"#E5ECF6\",\"subunitcolor\":\"white\",\"showland\":true,\"showlakes\":true,\"lakecolor\":\"white\"},\"title\":{\"x\":0.05},\"mapbox\":{\"style\":\"light\"}}},\"xaxis\":{\"anchor\":\"y\",\"domain\":[0.0,1.0],\"title\":{\"text\":\"Label\"}},\"yaxis\":{\"anchor\":\"x\",\"domain\":[0.0,1.0],\"title\":{\"text\":\"Counts\"}},\"legend\":{\"title\":{\"text\":\"Label Outcome\"},\"tracegroupgap\":0},\"title\":{\"text\":\"Predictions for ACL Dataset\"},\"barmode\":\"relative\",\"height\":800,\"width\":900},                        {\"responsive\": true}                    ).then(function(){\n",
       "                            \n",
       "var gd = document.getElementById('f428bae3-56f5-4fb8-9284-b4edc31c87e6');\n",
       "var x = new MutationObserver(function (mutations, observer) {{\n",
       "        var display = window.getComputedStyle(gd).display;\n",
       "        if (!display || display === 'none') {{\n",
       "            console.log([gd, 'removed!']);\n",
       "            Plotly.purge(gd);\n",
       "            observer.disconnect();\n",
       "        }}\n",
       "}});\n",
       "\n",
       "// Listen for the removal of the full notebook cells\n",
       "var notebookContainer = gd.closest('#notebook-container');\n",
       "if (notebookContainer) {{\n",
       "    x.observe(notebookContainer, {childList: true});\n",
       "}}\n",
       "\n",
       "// Listen for the clearing of the current output cell\n",
       "var outputEl = gd.closest('.output');\n",
       "if (outputEl) {{\n",
       "    x.observe(outputEl, {childList: true});\n",
       "}}\n",
       "\n",
       "                        })                };                });            </script>        </div>"
      ]
     },
     "metadata": {},
     "output_type": "display_data"
    }
   ],
   "source": [
    "df_test[\"Label Outcome\"] = df_test.apply(lambda x: x[\"Label\"] == x[\"Predicted Label\"], axis = 1)\n",
    "df_test_outcome = df_test[['Label', 'Label Outcome']].groupby(['Label', 'Label Outcome']).size().reset_index(name='Counts')\n",
    "df_test_outcome = df_test_outcome.sort_values(by = ['Label','Label Outcome'], ascending = [True, False])\n",
    "\n",
    "import plotly.express as px\n",
    "\n",
    "fig = px.bar(df_test_outcome, x=\"Label\", y=\"Counts\", color=\"Label Outcome\", title=\"Predictions for ACL Dataset\",\n",
    "             width=900, height=800)\n",
    "fig.show()"
   ]
  },
  {
   "cell_type": "code",
   "execution_count": 1560,
   "metadata": {
    "scrolled": false
   },
   "outputs": [
    {
     "data": {
      "image/png": "[encoded data removed]",
      "text/plain": [
       "<Figure size 864x864 with 2 Axes>"
      ]
     },
     "metadata": {
      "needs_background": "light"
     },
     "output_type": "display_data"
    }
   ],
   "source": [
    "idx_labels = list(df_test[\"Label\"].unique())\n",
    "\n",
    "cm = confusion_matrix(df_test['Label'], df_test['Predicted Label'], labels = idx_labels)\n",
    "cm_df = pd.DataFrame(cm,\n",
    "                     index = idx_labels, \n",
    "                     columns = idx_labels)\n",
    "\n",
    "#Plotting the confusion matrix\n",
    "plt.figure(figsize=(12,12))\n",
    "sns.heatmap(cm_df, annot=True, cmap=\"Blues\")\n",
    "plt.title('Confusion Matrix')\n",
    "plt.ylabel('Actual Values')\n",
    "plt.xlabel('Predicted Values')\n",
    "plt.show()"
   ]
  },
  {
   "cell_type": "code",
   "execution_count": 1561,
   "metadata": {
    "scrolled": true
   },
   "outputs": [
    {
     "name": "stdout",
     "output_type": "stream",
     "text": [
      "                                                                        precision    recall  f1-score   support\n",
      "\n",
      "                         Computational Social Science and Social Media       0.18      0.61      0.27        28\n",
      "                                      Dialogue and Interactive Systems       0.76      0.55      0.64        58\n",
      "                                              Discourse and Pragmatics       0.18      0.27      0.21        11\n",
      "                                                        Ethics and NLP       0.00      0.00      0.00         0\n",
      "                                                            Generation       0.43      0.52      0.47        42\n",
      "                                                Information Extraction       0.50      0.44      0.47        54\n",
      "                                 Information Retrieval and Text Mining       0.22      0.18      0.20        22\n",
      "                       Interpretability and Analysis of Models for NLP       0.18      0.29      0.22        52\n",
      "                     Language Grounding to Vision, Robotics and Beyond       0.22      0.21      0.21        29\n",
      "         Linguistic Theories, Cognitive Modeling and Psycholinguistics       0.38      0.33      0.35         9\n",
      "                                              Machine Learning for NLP       0.31      0.27      0.29        70\n",
      "                               Machine Translation and Multilinguality       0.76      0.61      0.68        69\n",
      "                           Phonology, Morphology and Word Segmentation       0.50      0.17      0.25        12\n",
      "                                                    Question Answering       0.71      0.30      0.42        40\n",
      "                                              Resources and Evaluation       0.00      0.00      0.00         0\n",
      "                                          Semantics: Lexical Semantics       0.33      0.38      0.35        16\n",
      "Semantics: Sentence-level Semantics, Textual Inference and Other areas       0.47      0.28      0.35        54\n",
      "           Sentiment Analysis, Stylistic Analysis, and Argument Mining       0.77      0.36      0.49        28\n",
      "                                              Speech and Multimodality       0.00      0.00      0.00         9\n",
      "                                                         Summarization       0.85      0.35      0.50        31\n",
      "                                 Syntax: Tagging, Chunking and Parsing       0.50      0.41      0.45        17\n",
      "\n",
      "                                                              accuracy                           0.38       651\n",
      "                                                             macro avg       0.39      0.31      0.33       651\n",
      "                                                          weighted avg       0.49      0.38      0.41       651\n",
      "\n"
     ]
    },
    {
     "name": "stderr",
     "output_type": "stream",
     "text": [
      "/home/yanxia/anaconda3/lib/python3.9/site-packages/sklearn/metrics/_classification.py:1248: UndefinedMetricWarning:\n",
      "\n",
      "Recall and F-score are ill-defined and being set to 0.0 in labels with no true samples. Use `zero_division` parameter to control this behavior.\n",
      "\n",
      "/home/yanxia/anaconda3/lib/python3.9/site-packages/sklearn/metrics/_classification.py:1248: UndefinedMetricWarning:\n",
      "\n",
      "Recall and F-score are ill-defined and being set to 0.0 in labels with no true samples. Use `zero_division` parameter to control this behavior.\n",
      "\n",
      "/home/yanxia/anaconda3/lib/python3.9/site-packages/sklearn/metrics/_classification.py:1248: UndefinedMetricWarning:\n",
      "\n",
      "Recall and F-score are ill-defined and being set to 0.0 in labels with no true samples. Use `zero_division` parameter to control this behavior.\n",
      "\n"
     ]
    }
   ],
   "source": [
    "print(classification_report(df_test['Label'], df_test['Predicted Label']))"
   ]
  },
  {
   "cell_type": "code",
   "execution_count": 1562,
   "metadata": {},
   "outputs": [
    {
     "data": {
      "text/html": [
       "<div>\n",
       "<style scoped>\n",
       "    .dataframe tbody tr th:only-of-type {\n",
       "        vertical-align: middle;\n",
       "    }\n",
       "\n",
       "    .dataframe tbody tr th {\n",
       "        vertical-align: top;\n",
       "    }\n",
       "\n",
       "    .dataframe thead th {\n",
       "        text-align: right;\n",
       "    }\n",
       "</style>\n",
       "<table border=\"1\" class=\"dataframe\">\n",
       "  <thead>\n",
       "    <tr style=\"text-align: right;\">\n",
       "      <th>Label Outcome</th>\n",
       "      <th>Label</th>\n",
       "      <th>False</th>\n",
       "      <th>True</th>\n",
       "      <th>Accuracy</th>\n",
       "    </tr>\n",
       "  </thead>\n",
       "  <tbody>\n",
       "    <tr>\n",
       "      <th>10</th>\n",
       "      <td>Machine Translation and Multilinguality</td>\n",
       "      <td>27.0</td>\n",
       "      <td>42.0</td>\n",
       "      <td>60.869565</td>\n",
       "    </tr>\n",
       "    <tr>\n",
       "      <th>0</th>\n",
       "      <td>Computational Social Science and Social Media</td>\n",
       "      <td>11.0</td>\n",
       "      <td>17.0</td>\n",
       "      <td>60.714286</td>\n",
       "    </tr>\n",
       "    <tr>\n",
       "      <th>1</th>\n",
       "      <td>Dialogue and Interactive Systems</td>\n",
       "      <td>26.0</td>\n",
       "      <td>32.0</td>\n",
       "      <td>55.172414</td>\n",
       "    </tr>\n",
       "    <tr>\n",
       "      <th>3</th>\n",
       "      <td>Generation</td>\n",
       "      <td>20.0</td>\n",
       "      <td>22.0</td>\n",
       "      <td>52.380952</td>\n",
       "    </tr>\n",
       "    <tr>\n",
       "      <th>4</th>\n",
       "      <td>Information Extraction</td>\n",
       "      <td>30.0</td>\n",
       "      <td>24.0</td>\n",
       "      <td>44.444444</td>\n",
       "    </tr>\n",
       "    <tr>\n",
       "      <th>18</th>\n",
       "      <td>Syntax: Tagging, Chunking and Parsing</td>\n",
       "      <td>10.0</td>\n",
       "      <td>7.0</td>\n",
       "      <td>41.176471</td>\n",
       "    </tr>\n",
       "    <tr>\n",
       "      <th>13</th>\n",
       "      <td>Semantics: Lexical Semantics</td>\n",
       "      <td>10.0</td>\n",
       "      <td>6.0</td>\n",
       "      <td>37.500000</td>\n",
       "    </tr>\n",
       "    <tr>\n",
       "      <th>15</th>\n",
       "      <td>Sentiment Analysis, Stylistic Analysis, and Argument Mining</td>\n",
       "      <td>18.0</td>\n",
       "      <td>10.0</td>\n",
       "      <td>35.714286</td>\n",
       "    </tr>\n",
       "    <tr>\n",
       "      <th>17</th>\n",
       "      <td>Summarization</td>\n",
       "      <td>20.0</td>\n",
       "      <td>11.0</td>\n",
       "      <td>35.483871</td>\n",
       "    </tr>\n",
       "    <tr>\n",
       "      <th>8</th>\n",
       "      <td>Linguistic Theories, Cognitive Modeling and Psycholinguistics</td>\n",
       "      <td>6.0</td>\n",
       "      <td>3.0</td>\n",
       "      <td>33.333333</td>\n",
       "    </tr>\n",
       "    <tr>\n",
       "      <th>12</th>\n",
       "      <td>Question Answering</td>\n",
       "      <td>28.0</td>\n",
       "      <td>12.0</td>\n",
       "      <td>30.000000</td>\n",
       "    </tr>\n",
       "    <tr>\n",
       "      <th>6</th>\n",
       "      <td>Interpretability and Analysis of Models for NLP</td>\n",
       "      <td>37.0</td>\n",
       "      <td>15.0</td>\n",
       "      <td>28.846154</td>\n",
       "    </tr>\n",
       "    <tr>\n",
       "      <th>14</th>\n",
       "      <td>Semantics: Sentence-level Semantics, Textual Inference and Other areas</td>\n",
       "      <td>39.0</td>\n",
       "      <td>15.0</td>\n",
       "      <td>27.777778</td>\n",
       "    </tr>\n",
       "    <tr>\n",
       "      <th>2</th>\n",
       "      <td>Discourse and Pragmatics</td>\n",
       "      <td>8.0</td>\n",
       "      <td>3.0</td>\n",
       "      <td>27.272727</td>\n",
       "    </tr>\n",
       "    <tr>\n",
       "      <th>9</th>\n",
       "      <td>Machine Learning for NLP</td>\n",
       "      <td>51.0</td>\n",
       "      <td>19.0</td>\n",
       "      <td>27.142857</td>\n",
       "    </tr>\n",
       "    <tr>\n",
       "      <th>7</th>\n",
       "      <td>Language Grounding to Vision, Robotics and Beyond</td>\n",
       "      <td>23.0</td>\n",
       "      <td>6.0</td>\n",
       "      <td>20.689655</td>\n",
       "    </tr>\n",
       "    <tr>\n",
       "      <th>5</th>\n",
       "      <td>Information Retrieval and Text Mining</td>\n",
       "      <td>18.0</td>\n",
       "      <td>4.0</td>\n",
       "      <td>18.181818</td>\n",
       "    </tr>\n",
       "    <tr>\n",
       "      <th>11</th>\n",
       "      <td>Phonology, Morphology and Word Segmentation</td>\n",
       "      <td>10.0</td>\n",
       "      <td>2.0</td>\n",
       "      <td>16.666667</td>\n",
       "    </tr>\n",
       "    <tr>\n",
       "      <th>16</th>\n",
       "      <td>Speech and Multimodality</td>\n",
       "      <td>9.0</td>\n",
       "      <td>0.0</td>\n",
       "      <td>0.000000</td>\n",
       "    </tr>\n",
       "  </tbody>\n",
       "</table>\n",
       "</div>"
      ],
      "text/plain": [
       "Label Outcome                                                                   Label  \\\n",
       "10                                            Machine Translation and Multilinguality   \n",
       "0                                       Computational Social Science and Social Media   \n",
       "1                                                    Dialogue and Interactive Systems   \n",
       "3                                                                          Generation   \n",
       "4                                                              Information Extraction   \n",
       "18                                              Syntax: Tagging, Chunking and Parsing   \n",
       "13                                                       Semantics: Lexical Semantics   \n",
       "15                        Sentiment Analysis, Stylistic Analysis, and Argument Mining   \n",
       "17                                                                      Summarization   \n",
       "8                       Linguistic Theories, Cognitive Modeling and Psycholinguistics   \n",
       "12                                                                 Question Answering   \n",
       "6                                     Interpretability and Analysis of Models for NLP   \n",
       "14             Semantics: Sentence-level Semantics, Textual Inference and Other areas   \n",
       "2                                                            Discourse and Pragmatics   \n",
       "9                                                            Machine Learning for NLP   \n",
       "7                                   Language Grounding to Vision, Robotics and Beyond   \n",
       "5                                               Information Retrieval and Text Mining   \n",
       "11                                        Phonology, Morphology and Word Segmentation   \n",
       "16                                                           Speech and Multimodality   \n",
       "\n",
       "Label Outcome  False  True   Accuracy  \n",
       "10              27.0  42.0  60.869565  \n",
       "0               11.0  17.0  60.714286  \n",
       "1               26.0  32.0  55.172414  \n",
       "3               20.0  22.0  52.380952  \n",
       "4               30.0  24.0  44.444444  \n",
       "18              10.0   7.0  41.176471  \n",
       "13              10.0   6.0  37.500000  \n",
       "15              18.0  10.0  35.714286  \n",
       "17              20.0  11.0  35.483871  \n",
       "8                6.0   3.0  33.333333  \n",
       "12              28.0  12.0  30.000000  \n",
       "6               37.0  15.0  28.846154  \n",
       "14              39.0  15.0  27.777778  \n",
       "2                8.0   3.0  27.272727  \n",
       "9               51.0  19.0  27.142857  \n",
       "7               23.0   6.0  20.689655  \n",
       "5               18.0   4.0  18.181818  \n",
       "11              10.0   2.0  16.666667  \n",
       "16               9.0   0.0   0.000000  "
      ]
     },
     "execution_count": 1562,
     "metadata": {},
     "output_type": "execute_result"
    }
   ],
   "source": [
    "df_test_accuracy = df_test_outcome.pivot(index=\"Label\", columns=\"Label Outcome\", values=\"Counts\").reset_index().fillna(0)\n",
    "df_test_accuracy[\"Accuracy\"] = df_test_accuracy[True] / (df_test_accuracy[False] + df_test_accuracy[True]) * 100\n",
    "df_test_accuracy = df_test_accuracy.sort_values(by = 'Accuracy', axis=0, ascending=False)\n",
    "df_test_accuracy"
   ]
  }
 ],
 "metadata": {
  "kernelspec": {
   "display_name": "Python 3 (ipykernel)",
   "language": "python",
   "name": "python3"
  },
  "language_info": {
   "codemirror_mode": {
    "name": "ipython",
    "version": 3
   },
   "file_extension": ".py",
   "mimetype": "text/x-python",
   "name": "python",
   "nbconvert_exporter": "python",
   "pygments_lexer": "ipython3",
   "version": "3.9.7"
  },
  "vscode": {
   "interpreter": {
    "hash": "2b110531817a2bf0b8e1fa59ad47ae74cf2e8602bdaf1b8cf6b96ebd8cf78ed6"
   }
  }
 },
 "nbformat": 4,
 "nbformat_minor": 4
}
