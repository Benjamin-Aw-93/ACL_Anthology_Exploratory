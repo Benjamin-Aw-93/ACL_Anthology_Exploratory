{
 "cells": [
  {
   "cell_type": "markdown",
   "id": "1fe362a4-4799-4196-a0e4-262de08fc269",
   "metadata": {},
   "source": [
    "### We want to get a dataset of all the names as well as their paths"
   ]
  },
  {
   "cell_type": "code",
   "execution_count": 51,
   "id": "c83dd72d-4400-4325-9295-114a779d2690",
   "metadata": {},
   "outputs": [],
   "source": [
    "import json\n",
    "import glob\n",
    "import pandas as pd\n",
    "from os import walk\n",
    "from tqdm.auto import tqdm\n",
    "\n",
    "tqdm.pandas()"
   ]
  },
  {
   "cell_type": "code",
   "execution_count": 52,
   "id": "4fe8b5e2-6f25-4d61-931d-744c7a852cef",
   "metadata": {},
   "outputs": [],
   "source": [
    "# Get all the files within Data/Base_JSON\n",
    "# All files and directories ending with .json:\n",
    "\n",
    "def get_file_dict(data_folder_path):\n",
    "    \n",
    "    dic_file = {\"title\": [],\n",
    "               \"file_path\": []}\n",
    "    \n",
    "    f = []\n",
    "\n",
    "    for (dirpath, dirnames, filenames) in walk(data_folder_path):\n",
    "        f.extend([dirpath + '/' + filename for filename in filenames])\n",
    "\n",
    "    for file_path in f:\n",
    "\n",
    "        # Opening JSON file\n",
    "        f = open(file_path)\n",
    "\n",
    "        # returns JSON object as a dictionary\n",
    "        data = json.load(f)\n",
    "        title = data['title']\n",
    "\n",
    "        # Getting the title\n",
    "        dic_file['title'].append(title)\n",
    "        dic_file['file_path'].append(file_path)\n",
    "\n",
    "        # Closing file\n",
    "        f.close()\n",
    "        \n",
    "    return pd.DataFrame.from_dict(dic_file)"
   ]
  },
  {
   "cell_type": "code",
   "execution_count": 53,
   "id": "81d0439d-157f-4bb4-bdf1-5be13f066f3f",
   "metadata": {},
   "outputs": [],
   "source": [
    "df_file_path = get_file_dict(\"./Data/Base_JSON\")"
   ]
  },
  {
   "cell_type": "code",
   "execution_count": 54,
   "id": "961c26e5-984a-416c-be07-4c0fb6e3ef09",
   "metadata": {},
   "outputs": [],
   "source": [
    "df_file_path = df_file_path[df_file_path['title'] != \"\"]"
   ]
  },
  {
   "cell_type": "code",
   "execution_count": 55,
   "id": "2160e892-e628-445d-b04f-e3a0892c2f0d",
   "metadata": {},
   "outputs": [
    {
     "data": {
      "text/html": [
       "<div>\n",
       "<style scoped>\n",
       "    .dataframe tbody tr th:only-of-type {\n",
       "        vertical-align: middle;\n",
       "    }\n",
       "\n",
       "    .dataframe tbody tr th {\n",
       "        vertical-align: top;\n",
       "    }\n",
       "\n",
       "    .dataframe thead th {\n",
       "        text-align: right;\n",
       "    }\n",
       "</style>\n",
       "<table border=\"1\" class=\"dataframe\">\n",
       "  <thead>\n",
       "    <tr style=\"text-align: right;\">\n",
       "      <th></th>\n",
       "      <th>title</th>\n",
       "      <th>file_path</th>\n",
       "    </tr>\n",
       "  </thead>\n",
       "  <tbody>\n",
       "    <tr>\n",
       "      <th>1</th>\n",
       "      <td>BusTUC -A natural language bus route oracle</td>\n",
       "      <td>./Data/Base_JSON\\prefixA\\json\\A\\A00/A00-1001.json</td>\n",
       "    </tr>\n",
       "    <tr>\n",
       "      <th>2</th>\n",
       "      <td>Machine Translation of Very Close Languages</td>\n",
       "      <td>./Data/Base_JSON\\prefixA\\json\\A\\A00/A00-1002.json</td>\n",
       "    </tr>\n",
       "    <tr>\n",
       "      <th>3</th>\n",
       "      <td>Cross-Language Multimedia Information Retrieval</td>\n",
       "      <td>./Data/Base_JSON\\prefixA\\json\\A\\A00/A00-1003.json</td>\n",
       "    </tr>\n",
       "    <tr>\n",
       "      <th>4</th>\n",
       "      <td>Automatic construction of parallel English-Chi...</td>\n",
       "      <td>./Data/Base_JSON\\prefixA\\json\\A\\A00/A00-1004.json</td>\n",
       "    </tr>\n",
       "    <tr>\n",
       "      <th>5</th>\n",
       "      <td>PartslD: A Dialogue-Based System for Identifyi...</td>\n",
       "      <td>./Data/Base_JSON\\prefixA\\json\\A\\A00/A00-1005.json</td>\n",
       "    </tr>\n",
       "    <tr>\n",
       "      <th>...</th>\n",
       "      <td>...</td>\n",
       "      <td>...</td>\n",
       "    </tr>\n",
       "    <tr>\n",
       "      <th>73665</th>\n",
       "      <td>ANAPHORA RESOLUTION AS LEXICAL COHESION IDENTI...</td>\n",
       "      <td>./Data/Base_JSON\\prefixY\\json\\Y\\Y99/Y99-1032.json</td>\n",
       "    </tr>\n",
       "    <tr>\n",
       "      <th>73666</th>\n",
       "      <td>A Large-Vocabulary Bilingual Speech Recognitio...</td>\n",
       "      <td>./Data/Base_JSON\\prefixY\\json\\Y\\Y99/Y99-1033.json</td>\n",
       "    </tr>\n",
       "    <tr>\n",
       "      <th>73667</th>\n",
       "      <td>THE SYNTACTIC PROCESSING OF PARTICLES IN JAPAN...</td>\n",
       "      <td>./Data/Base_JSON\\prefixY\\json\\Y\\Y99/Y99-1034.json</td>\n",
       "    </tr>\n",
       "    <tr>\n",
       "      <th>73668</th>\n",
       "      <td>Automatic Selection of Synthesis Units from A ...</td>\n",
       "      <td>./Data/Base_JSON\\prefixY\\json\\Y\\Y99/Y99-1035.json</td>\n",
       "    </tr>\n",
       "    <tr>\n",
       "      <th>73669</th>\n",
       "      <td>PATTERN-BASED MACHINE TRANSLATION FOR ENGLISH-...</td>\n",
       "      <td>./Data/Base_JSON\\prefixY\\json\\Y\\Y99/Y99-1036.json</td>\n",
       "    </tr>\n",
       "  </tbody>\n",
       "</table>\n",
       "<p>70101 rows × 2 columns</p>\n",
       "</div>"
      ],
      "text/plain": [
       "                                                   title  \\\n",
       "1            BusTUC -A natural language bus route oracle   \n",
       "2            Machine Translation of Very Close Languages   \n",
       "3        Cross-Language Multimedia Information Retrieval   \n",
       "4      Automatic construction of parallel English-Chi...   \n",
       "5      PartslD: A Dialogue-Based System for Identifyi...   \n",
       "...                                                  ...   \n",
       "73665  ANAPHORA RESOLUTION AS LEXICAL COHESION IDENTI...   \n",
       "73666  A Large-Vocabulary Bilingual Speech Recognitio...   \n",
       "73667  THE SYNTACTIC PROCESSING OF PARTICLES IN JAPAN...   \n",
       "73668  Automatic Selection of Synthesis Units from A ...   \n",
       "73669  PATTERN-BASED MACHINE TRANSLATION FOR ENGLISH-...   \n",
       "\n",
       "                                               file_path  \n",
       "1      ./Data/Base_JSON\\prefixA\\json\\A\\A00/A00-1001.json  \n",
       "2      ./Data/Base_JSON\\prefixA\\json\\A\\A00/A00-1002.json  \n",
       "3      ./Data/Base_JSON\\prefixA\\json\\A\\A00/A00-1003.json  \n",
       "4      ./Data/Base_JSON\\prefixA\\json\\A\\A00/A00-1004.json  \n",
       "5      ./Data/Base_JSON\\prefixA\\json\\A\\A00/A00-1005.json  \n",
       "...                                                  ...  \n",
       "73665  ./Data/Base_JSON\\prefixY\\json\\Y\\Y99/Y99-1032.json  \n",
       "73666  ./Data/Base_JSON\\prefixY\\json\\Y\\Y99/Y99-1033.json  \n",
       "73667  ./Data/Base_JSON\\prefixY\\json\\Y\\Y99/Y99-1034.json  \n",
       "73668  ./Data/Base_JSON\\prefixY\\json\\Y\\Y99/Y99-1035.json  \n",
       "73669  ./Data/Base_JSON\\prefixY\\json\\Y\\Y99/Y99-1036.json  \n",
       "\n",
       "[70101 rows x 2 columns]"
      ]
     },
     "execution_count": 55,
     "metadata": {},
     "output_type": "execute_result"
    }
   ],
   "source": [
    "df_file_path"
   ]
  },
  {
   "cell_type": "code",
   "execution_count": 56,
   "id": "30c50039-76f4-44dc-a3e9-e82e955f3122",
   "metadata": {},
   "outputs": [],
   "source": [
    "df_file_path['title'] = df_file_path['title'].str.lower()"
   ]
  },
  {
   "cell_type": "code",
   "execution_count": 57,
   "id": "67b1fcd8-25a5-450c-b6f4-12b68906df7b",
   "metadata": {},
   "outputs": [],
   "source": [
    "df_file_path.to_csv(\"./Data/Reference/reference_file_path.csv\",index = False)"
   ]
  },
  {
   "cell_type": "markdown",
   "id": "4f5edf46-8138-49c5-8cf9-bb29ab19255d",
   "metadata": {
    "tags": []
   },
   "source": [
    "### Given a file path, give me a particular section that was listed"
   ]
  },
  {
   "cell_type": "code",
   "execution_count": 37,
   "id": "07d68283-c03e-4831-ab6b-fecb3db31a10",
   "metadata": {},
   "outputs": [],
   "source": [
    "test_path = \"./Data/Base_JSON\\prefixA\\json\\A\\A00/A00-1001.json\""
   ]
  },
  {
   "cell_type": "code",
   "execution_count": 38,
   "id": "8f8fac64-7a2f-4695-a6cf-0e608b61327b",
   "metadata": {},
   "outputs": [],
   "source": [
    "def get_section(file_path, section_interest):\n",
    "    \n",
    "    # Dictionary keeping track of which section\n",
    "    final_out = {i.lower().title(): \"\" for i in section_interest}\n",
    "    \n",
    "    # Opening JSON file\n",
    "    f = open(file_path)\n",
    "\n",
    "    # returns JSON object as a dictionary\n",
    "    data = json.load(f)\n",
    "\n",
    "    # Iterating through the json list\n",
    "    for text_body in data['pdf_parse']['body_text']:\n",
    "        if text_body[\"section\"].lower() in section_interest:\n",
    "            final_out[text_body[\"section\"].lower().title()] += text_body[\"text\"]\n",
    "\n",
    "    # Closing file\n",
    "    f.close()\n",
    "    \n",
    "    return final_out"
   ]
  },
  {
   "cell_type": "code",
   "execution_count": 39,
   "id": "de7e399e-dda3-42ed-b8d4-605f58ada7d0",
   "metadata": {},
   "outputs": [
    {
     "data": {
      "text/plain": [
       "{'Introduction': 'A natural language interface to a computer database provides users with the capability of obtaining information stored in the database by querying the system in a natural language (NL) . With a natural language as a means of communication with a computer system, the users can make a question or a statement in the way they normally think about the information being discussed, freeing them from having to know how the computer stores or processes the information.The present implementation represents a a major effort in bringing natural language into practical use. A system is developed that can answer queries about bus routes, stated as natural language texts, and made public through the Internet World Wide Web ( http : //www. idi. ntnu. no/bustuc/).Trondheim is a small city with a university and 140000 inhabitants. Its central bus systems has 42 bus lines, serving 590 stations, with 1900 departures per day (in average). That gives approximately 60000 scheduled bus station passings per day, which is somehow represented in the route data base.The starting point is to automate the function of a route information agent. The following example of a system response is using an actual request over telephone to the local route information company:Hi, I live in Nidarvoll and tonight i must reach a train to Oslo at 6 oclock.and a typical answer would follow quickly: In between the question and the answer is a process of lexical analysis, syntax analysis, semantic analysis, pragmatic reasoning and database query processing.One could argue that the information content could be solved by an interrogation, whereby the customer is asked to produce 4 items: station of departure, station of arrival, earliest departure timeand/or latest arrival time. It is a myth that natural language is a better way of communication because it is \"natural language\". The challenge is to prove by demonstration that an NL system can be made that will be preferred to the interrogative mode. To do that, the system has to be correct, user friendly and almost complete within the actual domain.',\n",
       " 'Conclusion': ''}"
      ]
     },
     "execution_count": 39,
     "metadata": {},
     "output_type": "execute_result"
    }
   ],
   "source": [
    "get_section(test_path, [\"introduction\", \"conclusion\"])"
   ]
  },
  {
   "cell_type": "markdown",
   "id": "30675eb7-4807-4441-aeca-e41d84eda857",
   "metadata": {
    "tags": []
   },
   "source": [
    "### Should check across all files are there common sections across all papers"
   ]
  },
  {
   "cell_type": "code",
   "execution_count": 45,
   "id": "78809563-7a7b-4289-bab0-3ede798375b4",
   "metadata": {},
   "outputs": [
    {
     "name": "stderr",
     "output_type": "stream",
     "text": [
      "100%|██████████████████████████████████████████████████████████████████████████| 70101/70101 [00:39<00:00, 1777.68it/s]\n"
     ]
    }
   ],
   "source": [
    "df_file_path[\"Intro_concl\"] = df_file_path['file_path'].progress_apply(get_section, args = [[\"introduction\", \"conclusion\"]])"
   ]
  },
  {
   "cell_type": "code",
   "execution_count": 46,
   "id": "0696826b-4f23-4385-ac9e-1415f9aa82b5",
   "metadata": {},
   "outputs": [
    {
     "data": {
      "text/html": [
       "<div>\n",
       "<style scoped>\n",
       "    .dataframe tbody tr th:only-of-type {\n",
       "        vertical-align: middle;\n",
       "    }\n",
       "\n",
       "    .dataframe tbody tr th {\n",
       "        vertical-align: top;\n",
       "    }\n",
       "\n",
       "    .dataframe thead th {\n",
       "        text-align: right;\n",
       "    }\n",
       "</style>\n",
       "<table border=\"1\" class=\"dataframe\">\n",
       "  <thead>\n",
       "    <tr style=\"text-align: right;\">\n",
       "      <th></th>\n",
       "      <th>title</th>\n",
       "      <th>file_path</th>\n",
       "      <th>Intro_concl</th>\n",
       "    </tr>\n",
       "  </thead>\n",
       "  <tbody>\n",
       "    <tr>\n",
       "      <th>1</th>\n",
       "      <td>BusTUC -A natural language bus route oracle</td>\n",
       "      <td>./Data/Base_JSON\\prefixA\\json\\A\\A00/A00-1001.json</td>\n",
       "      <td>{'Introduction': 'A natural language interface...</td>\n",
       "    </tr>\n",
       "    <tr>\n",
       "      <th>2</th>\n",
       "      <td>Machine Translation of Very Close Languages</td>\n",
       "      <td>./Data/Base_JSON\\prefixA\\json\\A\\A00/A00-1002.json</td>\n",
       "      <td>{'Introduction': 'Although the field of machin...</td>\n",
       "    </tr>\n",
       "    <tr>\n",
       "      <th>3</th>\n",
       "      <td>Cross-Language Multimedia Information Retrieval</td>\n",
       "      <td>./Data/Base_JSON\\prefixA\\json\\A\\A00/A00-1003.json</td>\n",
       "      <td>{'Introduction': 'contain strings of keywords....</td>\n",
       "    </tr>\n",
       "    <tr>\n",
       "      <th>4</th>\n",
       "      <td>Automatic construction of parallel English-Chi...</td>\n",
       "      <td>./Data/Base_JSON\\prefixA\\json\\A\\A00/A00-1004.json</td>\n",
       "      <td>{'Introduction': 'Parallel texts have been use...</td>\n",
       "    </tr>\n",
       "    <tr>\n",
       "      <th>5</th>\n",
       "      <td>PartslD: A Dialogue-Based System for Identifyi...</td>\n",
       "      <td>./Data/Base_JSON\\prefixA\\json\\A\\A00/A00-1005.json</td>\n",
       "      <td>{'Introduction': 'Currently people deal with c...</td>\n",
       "    </tr>\n",
       "    <tr>\n",
       "      <th>...</th>\n",
       "      <td>...</td>\n",
       "      <td>...</td>\n",
       "      <td>...</td>\n",
       "    </tr>\n",
       "    <tr>\n",
       "      <th>73665</th>\n",
       "      <td>ANAPHORA RESOLUTION AS LEXICAL COHESION IDENTI...</td>\n",
       "      <td>./Data/Base_JSON\\prefixY\\json\\Y\\Y99/Y99-1032.json</td>\n",
       "      <td>{'Introduction': 'It is realized that pieces o...</td>\n",
       "    </tr>\n",
       "    <tr>\n",
       "      <th>73666</th>\n",
       "      <td>A Large-Vocabulary Bilingual Speech Recognitio...</td>\n",
       "      <td>./Data/Base_JSON\\prefixY\\json\\Y\\Y99/Y99-1033.json</td>\n",
       "      <td>{'Introduction': '', 'Conclusion': ''}</td>\n",
       "    </tr>\n",
       "    <tr>\n",
       "      <th>73667</th>\n",
       "      <td>THE SYNTACTIC PROCESSING OF PARTICLES IN JAPAN...</td>\n",
       "      <td>./Data/Base_JSON\\prefixY\\json\\Y\\Y99/Y99-1034.json</td>\n",
       "      <td>{'Introduction': 'The treatment of particles i...</td>\n",
       "    </tr>\n",
       "    <tr>\n",
       "      <th>73668</th>\n",
       "      <td>Automatic Selection of Synthesis Units from A ...</td>\n",
       "      <td>./Data/Base_JSON\\prefixY\\json\\Y\\Y99/Y99-1035.json</td>\n",
       "      <td>{'Introduction': 'In past years, many studies ...</td>\n",
       "    </tr>\n",
       "    <tr>\n",
       "      <th>73669</th>\n",
       "      <td>PATTERN-BASED MACHINE TRANSLATION FOR ENGLISH-...</td>\n",
       "      <td>./Data/Base_JSON\\prefixY\\json\\Y\\Y99/Y99-1036.json</td>\n",
       "      <td>{'Introduction': 'Various efforts have been ma...</td>\n",
       "    </tr>\n",
       "  </tbody>\n",
       "</table>\n",
       "<p>70101 rows × 3 columns</p>\n",
       "</div>"
      ],
      "text/plain": [
       "                                                   title  \\\n",
       "1            BusTUC -A natural language bus route oracle   \n",
       "2            Machine Translation of Very Close Languages   \n",
       "3        Cross-Language Multimedia Information Retrieval   \n",
       "4      Automatic construction of parallel English-Chi...   \n",
       "5      PartslD: A Dialogue-Based System for Identifyi...   \n",
       "...                                                  ...   \n",
       "73665  ANAPHORA RESOLUTION AS LEXICAL COHESION IDENTI...   \n",
       "73666  A Large-Vocabulary Bilingual Speech Recognitio...   \n",
       "73667  THE SYNTACTIC PROCESSING OF PARTICLES IN JAPAN...   \n",
       "73668  Automatic Selection of Synthesis Units from A ...   \n",
       "73669  PATTERN-BASED MACHINE TRANSLATION FOR ENGLISH-...   \n",
       "\n",
       "                                               file_path  \\\n",
       "1      ./Data/Base_JSON\\prefixA\\json\\A\\A00/A00-1001.json   \n",
       "2      ./Data/Base_JSON\\prefixA\\json\\A\\A00/A00-1002.json   \n",
       "3      ./Data/Base_JSON\\prefixA\\json\\A\\A00/A00-1003.json   \n",
       "4      ./Data/Base_JSON\\prefixA\\json\\A\\A00/A00-1004.json   \n",
       "5      ./Data/Base_JSON\\prefixA\\json\\A\\A00/A00-1005.json   \n",
       "...                                                  ...   \n",
       "73665  ./Data/Base_JSON\\prefixY\\json\\Y\\Y99/Y99-1032.json   \n",
       "73666  ./Data/Base_JSON\\prefixY\\json\\Y\\Y99/Y99-1033.json   \n",
       "73667  ./Data/Base_JSON\\prefixY\\json\\Y\\Y99/Y99-1034.json   \n",
       "73668  ./Data/Base_JSON\\prefixY\\json\\Y\\Y99/Y99-1035.json   \n",
       "73669  ./Data/Base_JSON\\prefixY\\json\\Y\\Y99/Y99-1036.json   \n",
       "\n",
       "                                             Intro_concl  \n",
       "1      {'Introduction': 'A natural language interface...  \n",
       "2      {'Introduction': 'Although the field of machin...  \n",
       "3      {'Introduction': 'contain strings of keywords....  \n",
       "4      {'Introduction': 'Parallel texts have been use...  \n",
       "5      {'Introduction': 'Currently people deal with c...  \n",
       "...                                                  ...  \n",
       "73665  {'Introduction': 'It is realized that pieces o...  \n",
       "73666             {'Introduction': '', 'Conclusion': ''}  \n",
       "73667  {'Introduction': 'The treatment of particles i...  \n",
       "73668  {'Introduction': 'In past years, many studies ...  \n",
       "73669  {'Introduction': 'Various efforts have been ma...  \n",
       "\n",
       "[70101 rows x 3 columns]"
      ]
     },
     "execution_count": 46,
     "metadata": {},
     "output_type": "execute_result"
    }
   ],
   "source": [
    "df_file_path"
   ]
  },
  {
   "cell_type": "code",
   "execution_count": 47,
   "id": "dea1fdc0-0161-4a0c-a79a-f53652c65431",
   "metadata": {},
   "outputs": [],
   "source": [
    "df2 = pd.json_normalize(df_file_path['Intro_concl'])"
   ]
  }
 ],
 "metadata": {
  "kernelspec": {
   "display_name": "myenv",
   "language": "python",
   "name": "myenv"
  },
  "language_info": {
   "codemirror_mode": {
    "name": "ipython",
    "version": 3
   },
   "file_extension": ".py",
   "mimetype": "text/x-python",
   "name": "python",
   "nbconvert_exporter": "python",
   "pygments_lexer": "ipython3",
   "version": "3.9.15"
  }
 },
 "nbformat": 4,
 "nbformat_minor": 5
}
