{
 "cells": [
  {
   "cell_type": "markdown",
   "id": "b6d23571-73c7-41cf-a469-60514897b6fe",
   "metadata": {},
   "source": [
    "### Scraping results for ALC 2020 website"
   ]
  },
  {
   "cell_type": "code",
   "execution_count": 5,
   "id": "770a6b7d-33a0-4076-a61f-7226694da14b",
   "metadata": {},
   "outputs": [],
   "source": [
    "import pandas as pd\n",
    "from selenium import webdriver\n",
    "from selenium.webdriver.chrome.options import Options\n",
    "from selenium.webdriver.common.by import By\n",
    "from selenium.webdriver.support.ui import Select\n",
    "import time\n",
    "import re\n",
    "from tqdm.auto import tqdm\n",
    "import json\n",
    "# Importing own functions \n",
    "from importing_data import get_section, get_abstract"
   ]
  },
  {
   "cell_type": "code",
   "execution_count": 6,
   "id": "f076fa15-d6da-4c7e-a770-ab6f6ed8162d",
   "metadata": {},
   "outputs": [
    {
     "name": "stderr",
     "output_type": "stream",
     "text": [
      "C:\\Users\\Benjamin Aw\\AppData\\Local\\Temp\\ipykernel_5568\\3430102710.py:5: DeprecationWarning: executable_path has been deprecated, please pass in a Service object\n",
      "  driver = webdriver.Chrome(\"/usr/bin/chromedriver\", chrome_options=options)\n",
      "C:\\Users\\Benjamin Aw\\AppData\\Local\\Temp\\ipykernel_5568\\3430102710.py:5: DeprecationWarning: use options instead of chrome_options\n",
      "  driver = webdriver.Chrome(\"/usr/bin/chromedriver\", chrome_options=options)\n"
     ]
    }
   ],
   "source": [
    "options = webdriver.ChromeOptions()\n",
    "options.add_argument('--ignore-certificate-errors')\n",
    "options.add_argument('--incognito')\n",
    "#options.add_argument('--headless')\n",
    "driver = webdriver.Chrome(\"/usr/bin/chromedriver\", chrome_options=options)"
   ]
  },
  {
   "cell_type": "code",
   "execution_count": 7,
   "id": "12916e1b-e92c-4d45-98c9-a44da369b7d7",
   "metadata": {},
   "outputs": [],
   "source": [
    "driver.get(\"https://virtual.acl2020.org/papers.html?filter=titles&track=All+tracks\")\n",
    "dropdown = driver.find_element(By.CSS_SELECTOR, \"button.dropdown-toggle\")\n",
    "dropdown.click()\n",
    "\n",
    "# Clicking though all the dropdown boxes\n",
    "items = driver.find_elements(By.CSS_SELECTOR, \"a.dropdown-item\")\n",
    "names = [item.text for item in items]\n",
    "\n",
    "output = []\n",
    "\n",
    "for name in names:\n",
    "    select = Select(driver.find_element(By.ID, \"track_selector\"))\n",
    "    select.select_by_visible_text(name)\n",
    "    time.sleep(3)\n",
    "    \n",
    "    if name != \"All tracks\":\n",
    "        paper = driver.find_elements(By.CLASS_NAME, \"card-title\")\n",
    "        papernames = [item.text for item in paper]\n",
    "        author = driver.find_elements(By.CLASS_NAME, \"card-subtitle\")\n",
    "        authornames = [item.text for item in author]\n",
    "        \n",
    "        df = pd.DataFrame({'Labels': name,\n",
    "                           'Paper Name': papernames,\n",
    "                           'Author Names': authornames\n",
    "                          })\n",
    "        output.append(df)"
   ]
  },
  {
   "cell_type": "markdown",
   "id": "a12e52d7-76e6-4ea5-a2bd-c3075b38e394",
   "metadata": {},
   "source": [
    "Concat the list of dataframes"
   ]
  },
  {
   "cell_type": "code",
   "execution_count": 8,
   "id": "1948e282-42b8-49df-b9e5-0999ca6fea54",
   "metadata": {},
   "outputs": [],
   "source": [
    "df_ACL_2020 = pd.concat(output, axis = 0, ignore_index = True)"
   ]
  },
  {
   "cell_type": "code",
   "execution_count": 9,
   "id": "4d94e517-fad6-46f1-acdb-df7b96c8a7fb",
   "metadata": {},
   "outputs": [
    {
     "data": {
      "text/html": [
       "<div>\n",
       "<style scoped>\n",
       "    .dataframe tbody tr th:only-of-type {\n",
       "        vertical-align: middle;\n",
       "    }\n",
       "\n",
       "    .dataframe tbody tr th {\n",
       "        vertical-align: top;\n",
       "    }\n",
       "\n",
       "    .dataframe thead th {\n",
       "        text-align: right;\n",
       "    }\n",
       "</style>\n",
       "<table border=\"1\" class=\"dataframe\">\n",
       "  <thead>\n",
       "    <tr style=\"text-align: right;\">\n",
       "      <th></th>\n",
       "      <th>Labels</th>\n",
       "      <th>Paper Name</th>\n",
       "      <th>Author Names</th>\n",
       "    </tr>\n",
       "  </thead>\n",
       "  <tbody>\n",
       "    <tr>\n",
       "      <th>0</th>\n",
       "      <td>Cognitive Modeling and Psycholinguistics</td>\n",
       "      <td>A Systematic Assessment of Syntactic Generaliz...</td>\n",
       "      <td>Jennifer Hu, Jon Gauthier, Peng Qian, Ethan Wi...</td>\n",
       "    </tr>\n",
       "    <tr>\n",
       "      <th>1</th>\n",
       "      <td>Cognitive Modeling and Psycholinguistics</td>\n",
       "      <td>Learning to Understand Child-directed and Adul...</td>\n",
       "      <td>Lieke Gelderloos, Grzegorz Chrupała, Afra Alis...</td>\n",
       "    </tr>\n",
       "    <tr>\n",
       "      <th>2</th>\n",
       "      <td>Cognitive Modeling and Psycholinguistics</td>\n",
       "      <td>A Tale of Two Perplexities: Sensitivity of Neu...</td>\n",
       "      <td>Trevor Cohen, Serguei Pakhomov</td>\n",
       "    </tr>\n",
       "    <tr>\n",
       "      <th>3</th>\n",
       "      <td>Cognitive Modeling and Psycholinguistics</td>\n",
       "      <td>Speakers enhance contextually confusable words</td>\n",
       "      <td>Eric Meinhardt, Eric Bakovic, Leon Bergen</td>\n",
       "    </tr>\n",
       "    <tr>\n",
       "      <th>4</th>\n",
       "      <td>Cognitive Modeling and Psycholinguistics</td>\n",
       "      <td>Recollection versus Imagination: Exploring Hum...</td>\n",
       "      <td>Maarten Sap, Eric Horvitz, Yejin Choi, Noah A....</td>\n",
       "    </tr>\n",
       "    <tr>\n",
       "      <th>...</th>\n",
       "      <td>...</td>\n",
       "      <td>...</td>\n",
       "      <td>...</td>\n",
       "    </tr>\n",
       "    <tr>\n",
       "      <th>902</th>\n",
       "      <td>Student Research Workshop</td>\n",
       "      <td>AraDIC: Arabic Document Classification Using I...</td>\n",
       "      <td>Mahmoud Daif, Shunsuke Kitada, Hitoshi Iyatomi</td>\n",
       "    </tr>\n",
       "    <tr>\n",
       "      <th>903</th>\n",
       "      <td>Student Research Workshop</td>\n",
       "      <td>Checkpoint Reranking: An Approach to Select Be...</td>\n",
       "      <td>Vinay Pandramish, Dipti Misra Sharma</td>\n",
       "    </tr>\n",
       "    <tr>\n",
       "      <th>904</th>\n",
       "      <td>Student Research Workshop</td>\n",
       "      <td>Compositional Generalization by Factorizing Al...</td>\n",
       "      <td>Jacob Russin, Jason Jo, Randall O'Reilly, Yosh...</td>\n",
       "    </tr>\n",
       "    <tr>\n",
       "      <th>905</th>\n",
       "      <td>Student Research Workshop</td>\n",
       "      <td>Building a Japanese Typo Dataset from Wikipedi...</td>\n",
       "      <td>Yu Tanaka, Yugo Murawaki, Daisuke Kawahara, Sa...</td>\n",
       "    </tr>\n",
       "    <tr>\n",
       "      <th>906</th>\n",
       "      <td>Student Research Workshop</td>\n",
       "      <td>Efficient Neural Machine Translation for Low-R...</td>\n",
       "      <td>Vikrant Goyal, Sourav Kumar, Dipti Misra Sharma</td>\n",
       "    </tr>\n",
       "  </tbody>\n",
       "</table>\n",
       "<p>907 rows × 3 columns</p>\n",
       "</div>"
      ],
      "text/plain": [
       "                                       Labels  \\\n",
       "0    Cognitive Modeling and Psycholinguistics   \n",
       "1    Cognitive Modeling and Psycholinguistics   \n",
       "2    Cognitive Modeling and Psycholinguistics   \n",
       "3    Cognitive Modeling and Psycholinguistics   \n",
       "4    Cognitive Modeling and Psycholinguistics   \n",
       "..                                        ...   \n",
       "902                 Student Research Workshop   \n",
       "903                 Student Research Workshop   \n",
       "904                 Student Research Workshop   \n",
       "905                 Student Research Workshop   \n",
       "906                 Student Research Workshop   \n",
       "\n",
       "                                            Paper Name  \\\n",
       "0    A Systematic Assessment of Syntactic Generaliz...   \n",
       "1    Learning to Understand Child-directed and Adul...   \n",
       "2    A Tale of Two Perplexities: Sensitivity of Neu...   \n",
       "3       Speakers enhance contextually confusable words   \n",
       "4    Recollection versus Imagination: Exploring Hum...   \n",
       "..                                                 ...   \n",
       "902  AraDIC: Arabic Document Classification Using I...   \n",
       "903  Checkpoint Reranking: An Approach to Select Be...   \n",
       "904  Compositional Generalization by Factorizing Al...   \n",
       "905  Building a Japanese Typo Dataset from Wikipedi...   \n",
       "906  Efficient Neural Machine Translation for Low-R...   \n",
       "\n",
       "                                          Author Names  \n",
       "0    Jennifer Hu, Jon Gauthier, Peng Qian, Ethan Wi...  \n",
       "1    Lieke Gelderloos, Grzegorz Chrupała, Afra Alis...  \n",
       "2                       Trevor Cohen, Serguei Pakhomov  \n",
       "3            Eric Meinhardt, Eric Bakovic, Leon Bergen  \n",
       "4    Maarten Sap, Eric Horvitz, Yejin Choi, Noah A....  \n",
       "..                                                 ...  \n",
       "902     Mahmoud Daif, Shunsuke Kitada, Hitoshi Iyatomi  \n",
       "903               Vinay Pandramish, Dipti Misra Sharma  \n",
       "904  Jacob Russin, Jason Jo, Randall O'Reilly, Yosh...  \n",
       "905  Yu Tanaka, Yugo Murawaki, Daisuke Kawahara, Sa...  \n",
       "906    Vikrant Goyal, Sourav Kumar, Dipti Misra Sharma  \n",
       "\n",
       "[907 rows x 3 columns]"
      ]
     },
     "execution_count": 9,
     "metadata": {},
     "output_type": "execute_result"
    }
   ],
   "source": [
    "df_ACL_2020"
   ]
  },
  {
   "cell_type": "markdown",
   "id": "f6e4af61-c584-4938-8d39-1a2e89ff7627",
   "metadata": {},
   "source": [
    "### Scraping results for EMNLP 2020"
   ]
  },
  {
   "cell_type": "code",
   "execution_count": 10,
   "id": "21cd9373-1b72-4168-8c4e-48ebfbee07cd",
   "metadata": {},
   "outputs": [],
   "source": [
    "driver.get(\"https://virtual.2020.emnlp.org/papers.html?filter=titles&program=main&track=All+tracks\")\n",
    "dropdown = driver.find_element(By.CSS_SELECTOR, \"button.dropdown-toggle\")\n",
    "dropdown.click()\n",
    "\n",
    "# Clicking though all the dropdown boxes\n",
    "items = driver.find_elements(By.CSS_SELECTOR, \"a.dropdown-item\")\n",
    "names = [item.text for item in items]\n",
    "\n",
    "output = []\n",
    "\n",
    "for name in names:\n",
    "    select = Select(driver.find_element(By.ID, \"track_selector\"))\n",
    "    select.select_by_visible_text(name)\n",
    "    time.sleep(3)\n",
    "    \n",
    "    if name != \"All tracks\":\n",
    "        paper = driver.find_elements(By.CLASS_NAME, \"card-title\")\n",
    "        papernames = [item.text for item in paper]\n",
    "        author = driver.find_elements(By.CLASS_NAME, \"card-subtitle\")\n",
    "        authornames = [item.text for item in author]\n",
    "        \n",
    "        df = pd.DataFrame({'Labels': name,\n",
    "                           'Paper Name': papernames,\n",
    "                           'Author Names': authornames\n",
    "                          })\n",
    "        output.append(df)"
   ]
  },
  {
   "cell_type": "code",
   "execution_count": 11,
   "id": "d9a106fc-4c5c-4263-ae5a-489c6b53e999",
   "metadata": {},
   "outputs": [],
   "source": [
    "df_EMNLP_2020 = pd.concat(output, axis = 0, ignore_index = True)"
   ]
  },
  {
   "cell_type": "code",
   "execution_count": 12,
   "id": "e6f14bd9-cf8e-4f0c-a66c-514308937c29",
   "metadata": {},
   "outputs": [
    {
     "data": {
      "text/html": [
       "<div>\n",
       "<style scoped>\n",
       "    .dataframe tbody tr th:only-of-type {\n",
       "        vertical-align: middle;\n",
       "    }\n",
       "\n",
       "    .dataframe tbody tr th {\n",
       "        vertical-align: top;\n",
       "    }\n",
       "\n",
       "    .dataframe thead th {\n",
       "        text-align: right;\n",
       "    }\n",
       "</style>\n",
       "<table border=\"1\" class=\"dataframe\">\n",
       "  <thead>\n",
       "    <tr style=\"text-align: right;\">\n",
       "      <th></th>\n",
       "      <th>Labels</th>\n",
       "      <th>Paper Name</th>\n",
       "      <th>Author Names</th>\n",
       "    </tr>\n",
       "  </thead>\n",
       "  <tbody>\n",
       "    <tr>\n",
       "      <th>0</th>\n",
       "      <td>Computational Social Science and Social Media</td>\n",
       "      <td>An Embedding Model for Estimating Legislative ...</td>\n",
       "      <td>Gregory Spell, Brian Guay, Sunshine Hillygus, ...</td>\n",
       "    </tr>\n",
       "    <tr>\n",
       "      <th>1</th>\n",
       "      <td>Computational Social Science and Social Media</td>\n",
       "      <td>Hashtags, Emotions, and Comments: A Large-Scal...</td>\n",
       "      <td>Keyang Ding, Jing Li, Yuji Zhang</td>\n",
       "    </tr>\n",
       "    <tr>\n",
       "      <th>2</th>\n",
       "      <td>Computational Social Science and Social Media</td>\n",
       "      <td>Help! Need Advice on Identifying Advice</td>\n",
       "      <td>Venkata Subrahmanyan Govindarajan, Benjamin Ch...</td>\n",
       "    </tr>\n",
       "    <tr>\n",
       "      <th>3</th>\n",
       "      <td>Computational Social Science and Social Media</td>\n",
       "      <td>Investigating African-American Vernacular Engl...</td>\n",
       "      <td>Sophie Groenwold, Lily Ou, Aesha Parekh, Samhi...</td>\n",
       "    </tr>\n",
       "    <tr>\n",
       "      <th>4</th>\n",
       "      <td>Computational Social Science and Social Media</td>\n",
       "      <td>Named Entity Recognition for Social Media Text...</td>\n",
       "      <td>Yuyang Nie, Yuanhe Tian, Xiang Wan, Yan Song, ...</td>\n",
       "    </tr>\n",
       "    <tr>\n",
       "      <th>...</th>\n",
       "      <td>...</td>\n",
       "      <td>...</td>\n",
       "      <td>...</td>\n",
       "    </tr>\n",
       "    <tr>\n",
       "      <th>776</th>\n",
       "      <td>Syntax: Tagging, Chunking, and Parsing</td>\n",
       "      <td>Discontinuous Constituent Parsing as Sequence ...</td>\n",
       "      <td>David Vilares, Carlos Gómez-Rodríguez</td>\n",
       "    </tr>\n",
       "    <tr>\n",
       "      <th>777</th>\n",
       "      <td>Syntax: Tagging, Chunking, and Parsing</td>\n",
       "      <td>Span-based discontinuous constituency parsing:...</td>\n",
       "      <td>Caio Corro</td>\n",
       "    </tr>\n",
       "    <tr>\n",
       "      <th>778</th>\n",
       "      <td>Syntax: Tagging, Chunking, and Parsing</td>\n",
       "      <td>AIN: Fast and Accurate Sequence Labeling with ...</td>\n",
       "      <td>Xinyu Wang, Yong Jiang, Nguyen Bach, Tao Wang,...</td>\n",
       "    </tr>\n",
       "    <tr>\n",
       "      <th>779</th>\n",
       "      <td>Syntax: Tagging, Chunking, and Parsing</td>\n",
       "      <td>Unsupervised Parsing via Constituency Tests</td>\n",
       "      <td>Steven Cao, Nikita Kitaev, Dan Klein</td>\n",
       "    </tr>\n",
       "    <tr>\n",
       "      <th>780</th>\n",
       "      <td>Syntax: Tagging, Chunking, and Parsing</td>\n",
       "      <td>Interpretable Multi-dataset Evaluation for Nam...</td>\n",
       "      <td>Jinlan Fu, Pengfei Liu, Graham Neubig</td>\n",
       "    </tr>\n",
       "  </tbody>\n",
       "</table>\n",
       "<p>781 rows × 3 columns</p>\n",
       "</div>"
      ],
      "text/plain": [
       "                                            Labels  \\\n",
       "0    Computational Social Science and Social Media   \n",
       "1    Computational Social Science and Social Media   \n",
       "2    Computational Social Science and Social Media   \n",
       "3    Computational Social Science and Social Media   \n",
       "4    Computational Social Science and Social Media   \n",
       "..                                             ...   \n",
       "776         Syntax: Tagging, Chunking, and Parsing   \n",
       "777         Syntax: Tagging, Chunking, and Parsing   \n",
       "778         Syntax: Tagging, Chunking, and Parsing   \n",
       "779         Syntax: Tagging, Chunking, and Parsing   \n",
       "780         Syntax: Tagging, Chunking, and Parsing   \n",
       "\n",
       "                                            Paper Name  \\\n",
       "0    An Embedding Model for Estimating Legislative ...   \n",
       "1    Hashtags, Emotions, and Comments: A Large-Scal...   \n",
       "2              Help! Need Advice on Identifying Advice   \n",
       "3    Investigating African-American Vernacular Engl...   \n",
       "4    Named Entity Recognition for Social Media Text...   \n",
       "..                                                 ...   \n",
       "776  Discontinuous Constituent Parsing as Sequence ...   \n",
       "777  Span-based discontinuous constituency parsing:...   \n",
       "778  AIN: Fast and Accurate Sequence Labeling with ...   \n",
       "779        Unsupervised Parsing via Constituency Tests   \n",
       "780  Interpretable Multi-dataset Evaluation for Nam...   \n",
       "\n",
       "                                          Author Names  \n",
       "0    Gregory Spell, Brian Guay, Sunshine Hillygus, ...  \n",
       "1                     Keyang Ding, Jing Li, Yuji Zhang  \n",
       "2    Venkata Subrahmanyan Govindarajan, Benjamin Ch...  \n",
       "3    Sophie Groenwold, Lily Ou, Aesha Parekh, Samhi...  \n",
       "4    Yuyang Nie, Yuanhe Tian, Xiang Wan, Yan Song, ...  \n",
       "..                                                 ...  \n",
       "776              David Vilares, Carlos Gómez-Rodríguez  \n",
       "777                                         Caio Corro  \n",
       "778  Xinyu Wang, Yong Jiang, Nguyen Bach, Tao Wang,...  \n",
       "779               Steven Cao, Nikita Kitaev, Dan Klein  \n",
       "780              Jinlan Fu, Pengfei Liu, Graham Neubig  \n",
       "\n",
       "[781 rows x 3 columns]"
      ]
     },
     "execution_count": 12,
     "metadata": {},
     "output_type": "execute_result"
    }
   ],
   "source": [
    "df_EMNLP_2020"
   ]
  },
  {
   "cell_type": "markdown",
   "id": "b61c9e76-6efe-4c29-97b6-e9d28ed014a2",
   "metadata": {},
   "source": [
    "### Scraping results for EACL 2021"
   ]
  },
  {
   "cell_type": "code",
   "execution_count": 13,
   "id": "ae34d261-2742-4c0b-b706-96eab3f84be7",
   "metadata": {},
   "outputs": [],
   "source": [
    "driver.get(\"https://www.virtual2021.eacl.org/papers.html?filter=titles&program=main&track=All+tracks\")\n",
    "dropdown = driver.find_element(By.CSS_SELECTOR, \"button.dropdown-toggle\")\n",
    "dropdown.click()\n",
    "\n",
    "# Clicking though all the dropdown boxes\n",
    "items = driver.find_elements(By.CSS_SELECTOR, \"a.dropdown-item\")\n",
    "names = [item.text for item in items]\n",
    "\n",
    "output = []\n",
    "\n",
    "for name in names:\n",
    "    select = Select(driver.find_element(By.ID, \"track_selector\"))\n",
    "    select.select_by_visible_text(name)\n",
    "    time.sleep(3)\n",
    "    \n",
    "    if name != \"All tracks\":\n",
    "        paper = driver.find_elements(By.CLASS_NAME, \"card-title\")\n",
    "        papernames = [item.text for item in paper]\n",
    "        author = driver.find_elements(By.CLASS_NAME, \"card-subtitle\")\n",
    "        authornames = [item.text for item in author]\n",
    "        \n",
    "        df = pd.DataFrame({'Labels': name,\n",
    "                           'Paper Name': papernames,\n",
    "                           'Author Names': authornames\n",
    "                          })\n",
    "        output.append(df)"
   ]
  },
  {
   "cell_type": "code",
   "execution_count": 14,
   "id": "11643666-4e5c-4753-aa81-b69c895532eb",
   "metadata": {},
   "outputs": [],
   "source": [
    "df_EACL_2021 = pd.concat(output, axis = 0, ignore_index = True)"
   ]
  },
  {
   "cell_type": "markdown",
   "id": "7b6d17b6-260d-4c62-a7a9-bf3b49280a16",
   "metadata": {},
   "source": [
    "### Scraping results for ACL 2021"
   ]
  },
  {
   "cell_type": "code",
   "execution_count": 15,
   "id": "74b9890d-fce5-43be-b08b-c35c13a84c90",
   "metadata": {},
   "outputs": [],
   "source": [
    "driver.get(\"https://2021.aclweb.org/program/overview/\")\n",
    "table = driver.find_elements(By.XPATH, \"//table/tbody/tr/td\")\n",
    "text_list = [t.text for t in table]\n",
    "\n",
    "record = False\n",
    "topic = \"\"\n",
    "dic = {\"Labels\": [], \"Paper Name\": [], \"Author Names\": []}\n",
    "\n",
    "for t in text_list:\n",
    "    # When to start recording each entry. If the entry starts with Session X(digit)X(letter), start recording. Once it reaches '' stop recording.\n",
    "    if re.search(\"(Session|Poster) \\d\\D\", t):\n",
    "        record = True\n",
    "        topic = re.search(\"(?:(?<=Session \\d\\D: )|(?<=Poster \\d\\D: ))[^(\\d|\\n)]+\", t).group(0).strip()\n",
    "    elif len(t) == 0 or bool(re.search(\"Session \\d+$\", t)) or bool(re.search('Keynote \\d+', t)) or bool(re.search('(all times are)|(Lifetime Award)|(Best Paper Session)', t)):\n",
    "        record = False\n",
    "        \n",
    "    # If record is True, add to dictionary\n",
    "    if record:\n",
    "        if (not re.search(\"(Session|Poster) \\d\\D\", t)) and (not re.search(\"\\d+:\\d+\", t)):\n",
    "            paper, author = t.split('\\n')\n",
    "            \n",
    "            dic[\"Labels\"].append(topic)\n",
    "            dic[\"Paper Name\"].append(paper.strip())\n",
    "            dic[\"Author Names\"].append(author.strip())"
   ]
  },
  {
   "cell_type": "code",
   "execution_count": 16,
   "id": "c169d1a5-3387-443a-92df-eb7b2ebd236d",
   "metadata": {},
   "outputs": [],
   "source": [
    "df_ACL_JCNLP_2021 = pd.DataFrame(dic)"
   ]
  },
  {
   "cell_type": "markdown",
   "id": "fcf3192e-9a90-4ad4-a139-b82604d18eab",
   "metadata": {},
   "source": [
    "### Scraping results for Coling 2020"
   ]
  },
  {
   "cell_type": "code",
   "execution_count": 17,
   "id": "725d5677-5eb0-49c9-aa30-c6dd627f5ff0",
   "metadata": {},
   "outputs": [],
   "source": [
    "df_COLING_2020 = pd.read_csv(\"./Data/COLING 2020 paper titles, authors, abstracts, live session dates and times, and anthology URLs - coling_papers_and_anthology_ids.csv\")\n",
    "df_COLING_2020 = df_COLING_2020[['Title', 'Authors', 'COLING session']]\n",
    "df_COLING_2020.columns = ['Paper Name', 'Author Names', 'Labels']\n",
    "# Remove topics with NA\n",
    "df_COLING_2020 = df_COLING_2020[df_COLING_2020['Labels'] != 'N/A, maybe the title changed between acceptance and camera-ready?']\n",
    "\n",
    "# Cleaning up Topics text\n",
    "df_COLING_2020['Labels'] = df_COLING_2020['Labels'].str.extract('([^:]+$)')\n",
    "df_COLING_2020['Labels'] = df_COLING_2020['Labels'].str.replace('(INDUSTRY TRACK -|\\d|\\. .+)', '', regex = True)\n",
    "df_COLING_2020['Labels'] = df_COLING_2020['Labels'].str.strip()\n",
    "df_COLING_2020['Labels'] = df_COLING_2020['Labels'].str.capitalize()"
   ]
  },
  {
   "cell_type": "markdown",
   "id": "24277314-669b-4014-97c2-92790b4f8aeb",
   "metadata": {},
   "source": [
    "### Scraping results for NAACL 2021"
   ]
  },
  {
   "cell_type": "code",
   "execution_count": 18,
   "id": "14ad8f01-c69c-4f39-a39c-e9acb04c6886",
   "metadata": {},
   "outputs": [],
   "source": [
    "driver.get(\"https://2021.naacl.org/conference-program/main/program.html\")\n",
    "button_expand = driver.find_element(By.CSS_SELECTOR, \"#expand-all\")\n",
    "button_expand.click()\n",
    "\n",
    "table = driver.find_elements(By.XPATH, \"//table/tbody/tr/td\")\n",
    "text_list = [t.text for t in table]\n",
    "\n",
    "record = False\n",
    "topic = \"\"\n",
    "dic = {\"Labels\": [], \"Paper Name\": [], \"Author Names\": []}\n",
    "\n",
    "for t in text_list:\n",
    "    # When to start recording each entry. If the entry starts with Session X(digit)X(letter), start recording. Once it reaches '' stop recording.\n",
    "    if re.search(\"\\d{2}:\\d{2}.\\d{2}:\\d{2} \\d+\\D: \", t):\n",
    "        record = True\n",
    "        topic = re.search(\"(?:(?<=\\d{2}:\\d{2}.\\d{2}:\\d{2} \\d\\D: )|(?<=\\d{2}:\\d{2}.\\d{2}:\\d{2} \\d\\d\\D: ))[^(\\d|\\n)]+\", t).group(0).strip()\n",
    "    elif bool(re.search(\"\\d{2}:\\d{2}.\\d{2}:\\d{2} (Session|Keynote|Business Meeting|Best Paper Presentations)\", t)) or bool(re.search('all times PDT', t)):\n",
    "        record = False\n",
    "        \n",
    "    # If record is True, add to dictionary\n",
    "    if record:\n",
    "        if (not re.search(\"Session chair: \", t)) and (not t == \" \") and (not t == \"\") and (not re.search(\"\\d{2}:\\d{2}.\\d{2}:\\d{2} \\d+\\D: \", t)):\n",
    "            paper, author = t.split('\\n')\n",
    "            \n",
    "            dic[\"Labels\"].append(topic)\n",
    "            dic[\"Paper Name\"].append(paper.strip())\n",
    "            dic[\"Author Names\"].append(author.strip())"
   ]
  },
  {
   "cell_type": "code",
   "execution_count": 19,
   "id": "1df8695d-7bb3-4eef-9c3b-991a56ee02a7",
   "metadata": {},
   "outputs": [],
   "source": [
    "df_NAACL_2021 = pd.DataFrame(dic)"
   ]
  },
  {
   "cell_type": "code",
   "execution_count": 20,
   "id": "9bea1ab0-f87d-49d1-93fb-a0f722c2d33f",
   "metadata": {},
   "outputs": [
    {
     "data": {
      "text/plain": [
       "array(['Cognitive Modeling and Psycholinguistics',\n",
       "       'Computational Social Science and Social Media',\n",
       "       'Dialogue and Interactive Systems', 'Discourse and Pragmatics',\n",
       "       'Ethics and NLP', 'Generation', 'Information Extraction',\n",
       "       'Information Retrieval and Text Mining',\n",
       "       'Interpretability and Analysis of Models for NLP',\n",
       "       'Language Grounding to Vision, Robotics and Beyond',\n",
       "       'Machine Learning for NLP', 'Machine Translation',\n",
       "       'NLP Applications', 'Phonology, Morphology and Word Segmentation',\n",
       "       'Question Answering', 'Resources and Evaluation',\n",
       "       'Semantics: Lexical', 'Semantics: Sentence Level',\n",
       "       'Semantics: Textual Inference and Other Areas of Semantics',\n",
       "       'Sentiment Analysis, Stylistic Analysis, and Argument Mining',\n",
       "       'Speech and Multimodality', 'Summarization',\n",
       "       'Syntax: Tagging, Chunking and Parsing', 'Theme',\n",
       "       'Theory and Formalism in NLP (Linguistic and Mathematical)',\n",
       "       'System Demonstrations', 'Student Research Workshop'], dtype=object)"
      ]
     },
     "execution_count": 20,
     "metadata": {},
     "output_type": "execute_result"
    }
   ],
   "source": [
    "acl_labels = df_ACL_2020[\"Labels\"].unique()\n",
    "acl_labels"
   ]
  },
  {
   "cell_type": "code",
   "execution_count": 21,
   "id": "960caf5a-c0ec-4374-b211-ce23e24b4db7",
   "metadata": {},
   "outputs": [
    {
     "data": {
      "text/plain": [
       "array(['Computational Social Science and Social Media',\n",
       "       'Dialog and Interactive Systems', 'Discourse and Pragmatics',\n",
       "       'Information Extraction', 'Information Retrieval and Text Mining',\n",
       "       'Interpretability and Analysis of Models for NLP',\n",
       "       'Language Generation',\n",
       "       'Language Grounding to Vision, Robotics and Beyond',\n",
       "       'Linguistic Theories, Cognitive Modeling and Psycholinguistics',\n",
       "       'Machine Learning for NLP',\n",
       "       'Machine Translation and Multilinguality', 'NLP Applications',\n",
       "       'Phonology, Morphology and Word Segmentation',\n",
       "       'Question Answering', 'Semantics: Lexical Semantics',\n",
       "       'Semantics: Sentence-level Semantics, Textual Inference and Other areas',\n",
       "       'Sentiment Analysis, Stylistic Analysis, and Argument Mining',\n",
       "       'Speech and Multimodality', 'Summarization',\n",
       "       'Syntax: Tagging, Chunking, and Parsing'], dtype=object)"
      ]
     },
     "execution_count": 21,
     "metadata": {},
     "output_type": "execute_result"
    }
   ],
   "source": [
    "emnlp_labels = df_EMNLP_2020[\"Labels\"].unique()\n",
    "emnlp_labels"
   ]
  },
  {
   "cell_type": "code",
   "execution_count": 22,
   "id": "64fa694c-a7f4-4a8b-84e8-8d4d7679b1cb",
   "metadata": {},
   "outputs": [
    {
     "data": {
      "text/plain": [
       "array(['CL Track', 'Computational Social Science and Social Media',\n",
       "       'Dialogue and Interactive Systems', 'Discourse and Pragmatics',\n",
       "       'Document analysis including Text Categorization and Topic Models',\n",
       "       'Generation and Summarization', 'Green and Sustainable NLP',\n",
       "       'Information Extraction and Text Mining',\n",
       "       'Information Retrieval, Search and Question Answering',\n",
       "       'Interpretability and Analysis of Models for NLP',\n",
       "       'Language Grounding to Vision, Robotics and Beyond',\n",
       "       'Language Resources and Evaluation',\n",
       "       'Linguistic Theories, Cognitive Modeling and Psycholinguistics',\n",
       "       'Machine Learning for NLP', 'Machine Translation',\n",
       "       'Multidisciplinary and AC COI', 'Multilinguality',\n",
       "       'NLP Applications for Emergency Situations and Crisis Management',\n",
       "       'Phonology, Morphology and Word Segmentation',\n",
       "       'Semantics: Lexical Semantics',\n",
       "       'Semantics: Sentence-level Semantics, Textual Inference and Other areas',\n",
       "       'Sentiment Analysis, Stylistic Analysis, and Argument Mining',\n",
       "       'Speech', 'Student Research Workshop',\n",
       "       'Syntax: Tagging, Chunking, and Parsing', 'TACL Track'],\n",
       "      dtype=object)"
      ]
     },
     "execution_count": 22,
     "metadata": {},
     "output_type": "execute_result"
    }
   ],
   "source": [
    "eacl_2021_labels = df_EACL_2021[\"Labels\"].unique()\n",
    "eacl_2021_labels"
   ]
  },
  {
   "cell_type": "code",
   "execution_count": 23,
   "id": "03c8f8a4-bcab-4f9d-8724-8e1411b65578",
   "metadata": {},
   "outputs": [
    {
     "data": {
      "text/plain": [
       "['CL Track',\n",
       " 'Document analysis including Text Categorization and Topic Models',\n",
       " 'Generation and Summarization',\n",
       " 'Green and Sustainable NLP',\n",
       " 'Information Extraction and Text Mining',\n",
       " 'Information Retrieval, Search and Question Answering',\n",
       " 'Language Resources and Evaluation',\n",
       " 'Multidisciplinary and AC COI',\n",
       " 'Multilinguality',\n",
       " 'NLP Applications for Emergency Situations and Crisis Management',\n",
       " 'Speech',\n",
       " 'TACL Track']"
      ]
     },
     "execution_count": 23,
     "metadata": {},
     "output_type": "execute_result"
    }
   ],
   "source": [
    "# These are labels in eacl_2021 that are not present in the exisitng labels. To rename or drop from list?\n",
    "# Generation and Summarization -> Generation / Summarisation\n",
    "# Information Extraction and Text Mining -> Information Extraction\n",
    "# Information Retrieval, Search and Question Answering -> Information Retrieval and Text Mining\n",
    "# Multilinguality -> Machine Translation and Multilinguality\n",
    "# NLP Applications for Emergency Situations and Crisis Management -> NLP Applications\n",
    "# Speech -> Speech and Multimodality\n",
    "\n",
    "[labels for labels in eacl_2021_labels if labels not in set(list(acl_labels) + list(emnlp_labels))]"
   ]
  },
  {
   "cell_type": "code",
   "execution_count": 24,
   "id": "73a48d97-04b3-47da-ba74-4158cea302a8",
   "metadata": {},
   "outputs": [
    {
     "data": {
      "text/plain": [
       "array(['Language Generation', 'Dialog and Interactive Systems',\n",
       "       'Information Extraction',\n",
       "       'Machine Translation and Multilinguality',\n",
       "       'Sentiment Analysis, Stylistic Analysis, and Argument Mining',\n",
       "       'Summarization', 'Interpretability and Analysis of Models for NLP',\n",
       "       'Language Grounding to Vision, Robotics and Beyond',\n",
       "       'Machine Learning for NLP',\n",
       "       'Computational Social Science and Cultural Analytics',\n",
       "       'Semantics: Sentence-level Semantics, Textual Inference and Other areas',\n",
       "       'Linguistic Theories, Cognitive Modeling and Psycholinguistics',\n",
       "       'Semantics: Lexical Semantics',\n",
       "       'Phonology, Morphology and Word Segmentation',\n",
       "       'Speech and Multimodality', 'Ethics in NLP',\n",
       "       'Information Retrieval and Text Mining',\n",
       "       'Resources and Evaluation',\n",
       "       'Syntax: Tagging, Chunking, and Parsing', 'Theme',\n",
       "       'NLP Applications', 'Question Answering',\n",
       "       'Discourse and Pragmatics'], dtype=object)"
      ]
     },
     "execution_count": 24,
     "metadata": {},
     "output_type": "execute_result"
    }
   ],
   "source": [
    "acl_jcnlp_2021_labels = df_ACL_JCNLP_2021[\"Labels\"].unique()\n",
    "acl_jcnlp_2021_labels"
   ]
  },
  {
   "cell_type": "code",
   "execution_count": 25,
   "id": "27e6038a-4f7a-4f15-bebb-6fa26699db10",
   "metadata": {},
   "outputs": [
    {
     "data": {
      "text/plain": [
       "['Computational Social Science and Cultural Analytics', 'Ethics in NLP']"
      ]
     },
     "execution_count": 25,
     "metadata": {},
     "output_type": "execute_result"
    }
   ],
   "source": [
    "# These are labels in acl_jcnlp_2021 that are not present in the exisitng labels. To rename or drop from list?\n",
    "# Computational Social Science and Cultural Analytics -> Computational Social Science and Social Media\n",
    "# Ethics in NLP -> Ethics and NLP\n",
    "\n",
    "[labels for labels in acl_jcnlp_2021_labels if labels not in set(list(acl_labels) + list(emnlp_labels))]"
   ]
  },
  {
   "cell_type": "code",
   "execution_count": 26,
   "id": "5a8de09e-cf8c-409c-b71f-b1913916445b",
   "metadata": {},
   "outputs": [
    {
     "data": {
      "text/plain": [
       "array(['Language modelling', 'Information extraction',\n",
       "       'Sentiment and emotion', 'Applications', 'Dialogue',\n",
       "       'Sentiment analysis',\n",
       "       'Biomedical, health records and medical texts',\n",
       "       'Legal, financial, business, humanities', 'Multimodal',\n",
       "       'Machine learning', 'Semantics', 'Simplification',\n",
       "       'Machine learning methods',\n",
       "       'Information extraction and knowledge graphs', 'Multimodality',\n",
       "       'Language generation', 'Parsing and segmentation',\n",
       "       'Grammar correction, support for language and script writing',\n",
       "       'Text generation', 'Dialogue and  language generation',\n",
       "       'Dependency parsing', 'Question answering',\n",
       "       'Reading comprehension and spoken language understanding',\n",
       "       'Morphology', 'Scarce data and low resourced languages', 'Speech',\n",
       "       'Parsing', 'Neural machine translation',\n",
       "       'Computational linguistics and linguistic theories',\n",
       "       'Dialogue and interactive systems', 'Machine translation',\n",
       "       'Morphology and segmentation',\n",
       "       'Machine translation and transfer learning', 'Evaluation',\n",
       "       'Dialogue and understanding',\n",
       "       'Machine translation, quality and evaluation',\n",
       "       'Textual inference and question answering', 'Summarization',\n",
       "       'Fake news and rumours',\n",
       "       'Text classification, text mining and knowledge extraction',\n",
       "       'Discourse', 'Classification systems', 'Resources and datasets',\n",
       "       'Translation, crosslingual and multilingual systems',\n",
       "       'Text classification',\n",
       "       'Abusive language, bias, fake news and rumours detection',\n",
       "       'Relation extraction', 'Inference and comprehension',\n",
       "       'Language resources and evaluation',\n",
       "       'Discourse, parsing,  dialogue and others',\n",
       "       'Machine learning and language modelling',\n",
       "       'Tools with higher purpose (applications of nlp in other areas)',\n",
       "       'Tools useful in research and everyday use',\n",
       "       'Generation and question answering',\n",
       "       'Machine learning applications'], dtype=object)"
      ]
     },
     "execution_count": 26,
     "metadata": {},
     "output_type": "execute_result"
    }
   ],
   "source": [
    "coling_2020_labels = df_COLING_2020[\"Labels\"].unique()\n",
    "coling_2020_labels"
   ]
  },
  {
   "cell_type": "code",
   "execution_count": 27,
   "id": "5bd656f1-faf5-41f2-a13f-c88f9b9fdaeb",
   "metadata": {},
   "outputs": [
    {
     "data": {
      "text/plain": [
       "['Language modelling',\n",
       " 'Information extraction',\n",
       " 'Sentiment and emotion',\n",
       " 'Applications',\n",
       " 'Dialogue',\n",
       " 'Sentiment analysis',\n",
       " 'Biomedical, health records and medical texts',\n",
       " 'Legal, financial, business, humanities',\n",
       " 'Multimodal',\n",
       " 'Machine learning',\n",
       " 'Semantics',\n",
       " 'Simplification',\n",
       " 'Machine learning methods',\n",
       " 'Information extraction and knowledge graphs',\n",
       " 'Multimodality',\n",
       " 'Language generation',\n",
       " 'Parsing and segmentation',\n",
       " 'Grammar correction, support for language and script writing',\n",
       " 'Text generation',\n",
       " 'Dialogue and  language generation',\n",
       " 'Dependency parsing',\n",
       " 'Question answering',\n",
       " 'Reading comprehension and spoken language understanding',\n",
       " 'Morphology',\n",
       " 'Scarce data and low resourced languages',\n",
       " 'Speech',\n",
       " 'Parsing',\n",
       " 'Neural machine translation',\n",
       " 'Computational linguistics and linguistic theories',\n",
       " 'Dialogue and interactive systems',\n",
       " 'Machine translation',\n",
       " 'Morphology and segmentation',\n",
       " 'Machine translation and transfer learning',\n",
       " 'Evaluation',\n",
       " 'Dialogue and understanding',\n",
       " 'Machine translation, quality and evaluation',\n",
       " 'Textual inference and question answering',\n",
       " 'Fake news and rumours',\n",
       " 'Text classification, text mining and knowledge extraction',\n",
       " 'Discourse',\n",
       " 'Classification systems',\n",
       " 'Resources and datasets',\n",
       " 'Translation, crosslingual and multilingual systems',\n",
       " 'Text classification',\n",
       " 'Abusive language, bias, fake news and rumours detection',\n",
       " 'Relation extraction',\n",
       " 'Inference and comprehension',\n",
       " 'Language resources and evaluation',\n",
       " 'Discourse, parsing,  dialogue and others',\n",
       " 'Machine learning and language modelling',\n",
       " 'Tools with higher purpose (applications of nlp in other areas)',\n",
       " 'Tools useful in research and everyday use',\n",
       " 'Generation and question answering',\n",
       " 'Machine learning applications']"
      ]
     },
     "execution_count": 27,
     "metadata": {},
     "output_type": "execute_result"
    }
   ],
   "source": [
    "# These are labels in coling_2020 that are not present in the exisitng labels. To rename or drop from list?\n",
    "\n",
    "[labels for labels in coling_2020_labels if labels not in set(list(acl_labels) + list(emnlp_labels))]"
   ]
  },
  {
   "cell_type": "code",
   "execution_count": 28,
   "id": "1de4fd99-3df8-42d3-8db0-c70f38db545f",
   "metadata": {},
   "outputs": [
    {
     "data": {
      "text/plain": [
       "array(['Information Extraction',\n",
       "       'Interpretability and Analysis of Models for NLP',\n",
       "       'Machine Translation', 'NLP Applications',\n",
       "       'Sentence-level Semantics and Textual Inference',\n",
       "       'Language Generation', 'Multilinguality', 'Question Answering',\n",
       "       'Special Theme: New Challenges in NLP', 'Summarization',\n",
       "       'Dialogue and Interactive Systems',\n",
       "       'Language Grounding to Vision, Robotics and Beyond',\n",
       "       'Machine Learning for NLP: Classification and Structured Prediction Models',\n",
       "       'Syntax: Tagging, Chunking, and Parsing',\n",
       "       'Discourse and Pragmatics',\n",
       "       'Machine Learning for NLP: Language Modeling and Sequence to Sequence Models',\n",
       "       'Lexical Semantics', 'Sentiment Analysis and Stylistic Analysis',\n",
       "       'Speech', 'Language Resources and Evaluation',\n",
       "       'Computational Social Science and Cultural Analytics', 'Green NLP',\n",
       "       'Information Retrieval and Text Mining',\n",
       "       'Ethics, Bias, and Fairness',\n",
       "       'Linguistic Theories, Cognitive Modeling and Psycholinguistics',\n",
       "       'Generation and Summarization',\n",
       "       'Phonology, Morphology and Word Segmentation'], dtype=object)"
      ]
     },
     "execution_count": 28,
     "metadata": {},
     "output_type": "execute_result"
    }
   ],
   "source": [
    "naacl_2021_labels = df_NAACL_2021[\"Labels\"].unique()\n",
    "naacl_2021_labels"
   ]
  },
  {
   "cell_type": "code",
   "execution_count": 29,
   "id": "f9489f8e-0e35-4a73-b5e2-bf45596cfebb",
   "metadata": {},
   "outputs": [
    {
     "data": {
      "text/plain": [
       "['Sentence-level Semantics and Textual Inference',\n",
       " 'Multilinguality',\n",
       " 'Special Theme: New Challenges in NLP',\n",
       " 'Machine Learning for NLP: Classification and Structured Prediction Models',\n",
       " 'Machine Learning for NLP: Language Modeling and Sequence to Sequence Models',\n",
       " 'Lexical Semantics',\n",
       " 'Sentiment Analysis and Stylistic Analysis',\n",
       " 'Speech',\n",
       " 'Language Resources and Evaluation',\n",
       " 'Computational Social Science and Cultural Analytics',\n",
       " 'Green NLP',\n",
       " 'Ethics, Bias, and Fairness',\n",
       " 'Generation and Summarization']"
      ]
     },
     "execution_count": 29,
     "metadata": {},
     "output_type": "execute_result"
    }
   ],
   "source": [
    "# These are labels in naacl_2021 that are not present in the exisitng labels. To rename or drop from list?\n",
    "\n",
    "[labels for labels in naacl_2021_labels if labels not in set(list(acl_labels) + list(emnlp_labels))]"
   ]
  },
  {
   "cell_type": "code",
   "execution_count": 30,
   "id": "382d5cfe-043a-4a97-9b4e-e57753fbf6e5",
   "metadata": {},
   "outputs": [
    {
     "data": {
      "text/plain": [
       "{'Cognitive Modeling and Psycholinguistics',\n",
       " 'Computational Social Science and Social Media',\n",
       " 'Dialog and Interactive Systems',\n",
       " 'Dialogue and Interactive Systems',\n",
       " 'Discourse and Pragmatics',\n",
       " 'Ethics and NLP',\n",
       " 'Generation',\n",
       " 'Information Extraction',\n",
       " 'Information Retrieval and Text Mining',\n",
       " 'Interpretability and Analysis of Models for NLP',\n",
       " 'Language Generation',\n",
       " 'Language Grounding to Vision, Robotics and Beyond',\n",
       " 'Linguistic Theories, Cognitive Modeling and Psycholinguistics',\n",
       " 'Machine Learning for NLP',\n",
       " 'Machine Translation',\n",
       " 'Machine Translation and Multilinguality',\n",
       " 'NLP Applications',\n",
       " 'Phonology, Morphology and Word Segmentation',\n",
       " 'Question Answering',\n",
       " 'Resources and Evaluation',\n",
       " 'Semantics: Lexical',\n",
       " 'Semantics: Lexical Semantics',\n",
       " 'Semantics: Sentence Level',\n",
       " 'Semantics: Sentence-level Semantics, Textual Inference and Other areas',\n",
       " 'Semantics: Textual Inference and Other Areas of Semantics',\n",
       " 'Sentiment Analysis, Stylistic Analysis, and Argument Mining',\n",
       " 'Speech and Multimodality',\n",
       " 'Student Research Workshop',\n",
       " 'Summarization',\n",
       " 'Syntax: Tagging, Chunking and Parsing',\n",
       " 'Syntax: Tagging, Chunking, and Parsing',\n",
       " 'System Demonstrations',\n",
       " 'Theme',\n",
       " 'Theory and Formalism in NLP (Linguistic and Mathematical)'}"
      ]
     },
     "execution_count": 30,
     "metadata": {},
     "output_type": "execute_result"
    }
   ],
   "source": [
    "set(list(acl_labels) + list(emnlp_labels))"
   ]
  },
  {
   "cell_type": "code",
   "execution_count": 31,
   "id": "568002a9-d17a-4aa9-a32b-792f56896569",
   "metadata": {},
   "outputs": [],
   "source": [
    "# Will length affect how well the label does? Does it make a difference?"
   ]
  },
  {
   "cell_type": "code",
   "execution_count": 32,
   "id": "7502d66c-2b54-4253-bb94-2c2952a67fe6",
   "metadata": {},
   "outputs": [],
   "source": [
    "mapping = {'Dialog and Interactive Systems': 'Dialogue and Interactive Systems',\n",
    "          'Machine Translation': 'Machine Translation and Multilinguality',\n",
    "          'Cognitive Modeling and Psycholinguistics': 'Linguistic Theories, Cognitive Modeling and Psycholinguistics',\n",
    "           'Language Generation': 'Generation',\n",
    "           'Semantics: Lexical': 'Semantics: Lexical Semantics',\n",
    "           'Semantics: Sentence Level': 'Semantics: Sentence-level Semantics, Textual Inference and Other areas',\n",
    "           'Semantics: Textual Inference and Other Areas of Semantics': 'Semantics: Sentence-level Semantics, Textual Inference and Other areas',\n",
    "           'Syntax: Tagging, Chunking, and Parsing': 'Syntax: Tagging, Chunking and Parsing',\n",
    "           'Theory and Formalism in NLP (Linguistic and Mathematical)': 'Linguistic Theories, Cognitive Modeling and Psycholinguistics'}"
   ]
  },
  {
   "cell_type": "code",
   "execution_count": 33,
   "id": "4e03ebcb-8416-4afb-815d-5b8adc3e03ae",
   "metadata": {},
   "outputs": [
    {
     "data": {
      "text/html": [
       "<div>\n",
       "<style scoped>\n",
       "    .dataframe tbody tr th:only-of-type {\n",
       "        vertical-align: middle;\n",
       "    }\n",
       "\n",
       "    .dataframe tbody tr th {\n",
       "        vertical-align: top;\n",
       "    }\n",
       "\n",
       "    .dataframe thead th {\n",
       "        text-align: right;\n",
       "    }\n",
       "</style>\n",
       "<table border=\"1\" class=\"dataframe\">\n",
       "  <thead>\n",
       "    <tr style=\"text-align: right;\">\n",
       "      <th></th>\n",
       "      <th>Labels</th>\n",
       "      <th>Paper Name</th>\n",
       "      <th>Author Names</th>\n",
       "    </tr>\n",
       "  </thead>\n",
       "  <tbody>\n",
       "    <tr>\n",
       "      <th>0</th>\n",
       "      <td>Computational Social Science and Social Media</td>\n",
       "      <td>An Embedding Model for Estimating Legislative ...</td>\n",
       "      <td>Gregory Spell, Brian Guay, Sunshine Hillygus, ...</td>\n",
       "    </tr>\n",
       "    <tr>\n",
       "      <th>1</th>\n",
       "      <td>Computational Social Science and Social Media</td>\n",
       "      <td>Hashtags, Emotions, and Comments: A Large-Scal...</td>\n",
       "      <td>Keyang Ding, Jing Li, Yuji Zhang</td>\n",
       "    </tr>\n",
       "    <tr>\n",
       "      <th>2</th>\n",
       "      <td>Computational Social Science and Social Media</td>\n",
       "      <td>Help! Need Advice on Identifying Advice</td>\n",
       "      <td>Venkata Subrahmanyan Govindarajan, Benjamin Ch...</td>\n",
       "    </tr>\n",
       "    <tr>\n",
       "      <th>3</th>\n",
       "      <td>Computational Social Science and Social Media</td>\n",
       "      <td>Investigating African-American Vernacular Engl...</td>\n",
       "      <td>Sophie Groenwold, Lily Ou, Aesha Parekh, Samhi...</td>\n",
       "    </tr>\n",
       "    <tr>\n",
       "      <th>4</th>\n",
       "      <td>Computational Social Science and Social Media</td>\n",
       "      <td>Named Entity Recognition for Social Media Text...</td>\n",
       "      <td>Yuyang Nie, Yuanhe Tian, Xiang Wan, Yan Song, ...</td>\n",
       "    </tr>\n",
       "  </tbody>\n",
       "</table>\n",
       "</div>"
      ],
      "text/plain": [
       "                                          Labels  \\\n",
       "0  Computational Social Science and Social Media   \n",
       "1  Computational Social Science and Social Media   \n",
       "2  Computational Social Science and Social Media   \n",
       "3  Computational Social Science and Social Media   \n",
       "4  Computational Social Science and Social Media   \n",
       "\n",
       "                                          Paper Name  \\\n",
       "0  An Embedding Model for Estimating Legislative ...   \n",
       "1  Hashtags, Emotions, and Comments: A Large-Scal...   \n",
       "2            Help! Need Advice on Identifying Advice   \n",
       "3  Investigating African-American Vernacular Engl...   \n",
       "4  Named Entity Recognition for Social Media Text...   \n",
       "\n",
       "                                        Author Names  \n",
       "0  Gregory Spell, Brian Guay, Sunshine Hillygus, ...  \n",
       "1                   Keyang Ding, Jing Li, Yuji Zhang  \n",
       "2  Venkata Subrahmanyan Govindarajan, Benjamin Ch...  \n",
       "3  Sophie Groenwold, Lily Ou, Aesha Parekh, Samhi...  \n",
       "4  Yuyang Nie, Yuanhe Tian, Xiang Wan, Yan Song, ...  "
      ]
     },
     "execution_count": 33,
     "metadata": {},
     "output_type": "execute_result"
    }
   ],
   "source": [
    "df_EMNLP_2020.head()"
   ]
  },
  {
   "cell_type": "code",
   "execution_count": 34,
   "id": "dffbeadd-2fd6-496e-aec7-25c6a2e4a277",
   "metadata": {},
   "outputs": [
    {
     "data": {
      "text/html": [
       "<div>\n",
       "<style scoped>\n",
       "    .dataframe tbody tr th:only-of-type {\n",
       "        vertical-align: middle;\n",
       "    }\n",
       "\n",
       "    .dataframe tbody tr th {\n",
       "        vertical-align: top;\n",
       "    }\n",
       "\n",
       "    .dataframe thead th {\n",
       "        text-align: right;\n",
       "    }\n",
       "</style>\n",
       "<table border=\"1\" class=\"dataframe\">\n",
       "  <thead>\n",
       "    <tr style=\"text-align: right;\">\n",
       "      <th></th>\n",
       "      <th>Labels</th>\n",
       "      <th>Paper Name</th>\n",
       "      <th>Author Names</th>\n",
       "    </tr>\n",
       "  </thead>\n",
       "  <tbody>\n",
       "    <tr>\n",
       "      <th>0</th>\n",
       "      <td>Cognitive Modeling and Psycholinguistics</td>\n",
       "      <td>A Systematic Assessment of Syntactic Generaliz...</td>\n",
       "      <td>Jennifer Hu, Jon Gauthier, Peng Qian, Ethan Wi...</td>\n",
       "    </tr>\n",
       "    <tr>\n",
       "      <th>1</th>\n",
       "      <td>Cognitive Modeling and Psycholinguistics</td>\n",
       "      <td>Learning to Understand Child-directed and Adul...</td>\n",
       "      <td>Lieke Gelderloos, Grzegorz Chrupała, Afra Alis...</td>\n",
       "    </tr>\n",
       "    <tr>\n",
       "      <th>2</th>\n",
       "      <td>Cognitive Modeling and Psycholinguistics</td>\n",
       "      <td>A Tale of Two Perplexities: Sensitivity of Neu...</td>\n",
       "      <td>Trevor Cohen, Serguei Pakhomov</td>\n",
       "    </tr>\n",
       "    <tr>\n",
       "      <th>3</th>\n",
       "      <td>Cognitive Modeling and Psycholinguistics</td>\n",
       "      <td>Speakers enhance contextually confusable words</td>\n",
       "      <td>Eric Meinhardt, Eric Bakovic, Leon Bergen</td>\n",
       "    </tr>\n",
       "    <tr>\n",
       "      <th>4</th>\n",
       "      <td>Cognitive Modeling and Psycholinguistics</td>\n",
       "      <td>Recollection versus Imagination: Exploring Hum...</td>\n",
       "      <td>Maarten Sap, Eric Horvitz, Yejin Choi, Noah A....</td>\n",
       "    </tr>\n",
       "  </tbody>\n",
       "</table>\n",
       "</div>"
      ],
      "text/plain": [
       "                                     Labels  \\\n",
       "0  Cognitive Modeling and Psycholinguistics   \n",
       "1  Cognitive Modeling and Psycholinguistics   \n",
       "2  Cognitive Modeling and Psycholinguistics   \n",
       "3  Cognitive Modeling and Psycholinguistics   \n",
       "4  Cognitive Modeling and Psycholinguistics   \n",
       "\n",
       "                                          Paper Name  \\\n",
       "0  A Systematic Assessment of Syntactic Generaliz...   \n",
       "1  Learning to Understand Child-directed and Adul...   \n",
       "2  A Tale of Two Perplexities: Sensitivity of Neu...   \n",
       "3     Speakers enhance contextually confusable words   \n",
       "4  Recollection versus Imagination: Exploring Hum...   \n",
       "\n",
       "                                        Author Names  \n",
       "0  Jennifer Hu, Jon Gauthier, Peng Qian, Ethan Wi...  \n",
       "1  Lieke Gelderloos, Grzegorz Chrupała, Afra Alis...  \n",
       "2                     Trevor Cohen, Serguei Pakhomov  \n",
       "3          Eric Meinhardt, Eric Bakovic, Leon Bergen  \n",
       "4  Maarten Sap, Eric Horvitz, Yejin Choi, Noah A....  "
      ]
     },
     "execution_count": 34,
     "metadata": {},
     "output_type": "execute_result"
    }
   ],
   "source": [
    "df_ACL_2020.head()"
   ]
  },
  {
   "cell_type": "code",
   "execution_count": 35,
   "id": "d4cdd50e-40ed-45cf-b059-81b4157101ad",
   "metadata": {},
   "outputs": [],
   "source": [
    "df_ACL_2020_reduced = df_ACL_2020.replace({\"Labels\": mapping})\n",
    "df_EMNLP_2020_reduced = df_EMNLP_2020.replace({\"Labels\": mapping})"
   ]
  },
  {
   "cell_type": "code",
   "execution_count": 36,
   "id": "0786b04c-71fe-4b62-87af-5b9562302880",
   "metadata": {},
   "outputs": [
    {
     "data": {
      "text/plain": [
       "{'Computational Social Science and Social Media',\n",
       " 'Dialogue and Interactive Systems',\n",
       " 'Discourse and Pragmatics',\n",
       " 'Ethics and NLP',\n",
       " 'Generation',\n",
       " 'Information Extraction',\n",
       " 'Information Retrieval and Text Mining',\n",
       " 'Interpretability and Analysis of Models for NLP',\n",
       " 'Language Grounding to Vision, Robotics and Beyond',\n",
       " 'Linguistic Theories, Cognitive Modeling and Psycholinguistics',\n",
       " 'Machine Learning for NLP',\n",
       " 'Machine Translation and Multilinguality',\n",
       " 'NLP Applications',\n",
       " 'Phonology, Morphology and Word Segmentation',\n",
       " 'Question Answering',\n",
       " 'Resources and Evaluation',\n",
       " 'Semantics: Lexical Semantics',\n",
       " 'Semantics: Sentence-level Semantics, Textual Inference and Other areas',\n",
       " 'Sentiment Analysis, Stylistic Analysis, and Argument Mining',\n",
       " 'Speech and Multimodality',\n",
       " 'Student Research Workshop',\n",
       " 'Summarization',\n",
       " 'Syntax: Tagging, Chunking and Parsing',\n",
       " 'System Demonstrations',\n",
       " 'Theme'}"
      ]
     },
     "execution_count": 36,
     "metadata": {},
     "output_type": "execute_result"
    }
   ],
   "source": [
    "set(list(df_ACL_2020_reduced['Labels']) + list(df_EMNLP_2020_reduced['Labels']))"
   ]
  },
  {
   "cell_type": "code",
   "execution_count": 37,
   "id": "5d2eabff-6c7d-42a7-836d-f8fd2ae32d09",
   "metadata": {},
   "outputs": [],
   "source": [
    "## To remove \n",
    "#Theme\n",
    "#System Demonstrations\n",
    "#Student Research Workshop"
   ]
  },
  {
   "cell_type": "markdown",
   "id": "0276714d-765c-44bc-8954-b7aff57d55ac",
   "metadata": {},
   "source": [
    "### Cleaning up the three added datasets (EACL 2021, ACLJCNLP 2021, NAACL 2021)"
   ]
  },
  {
   "cell_type": "code",
   "execution_count": 38,
   "id": "7f2711a6-7f11-41fc-b45b-0bf398844012",
   "metadata": {},
   "outputs": [
    {
     "data": {
      "text/plain": [
       "array(['Information Extraction',\n",
       "       'Interpretability and Analysis of Models for NLP',\n",
       "       'Machine Translation', 'NLP Applications',\n",
       "       'Sentence-level Semantics and Textual Inference',\n",
       "       'Language Generation', 'Multilinguality', 'Question Answering',\n",
       "       'Special Theme: New Challenges in NLP', 'Summarization',\n",
       "       'Dialogue and Interactive Systems',\n",
       "       'Language Grounding to Vision, Robotics and Beyond',\n",
       "       'Machine Learning for NLP: Classification and Structured Prediction Models',\n",
       "       'Syntax: Tagging, Chunking, and Parsing',\n",
       "       'Discourse and Pragmatics',\n",
       "       'Machine Learning for NLP: Language Modeling and Sequence to Sequence Models',\n",
       "       'Lexical Semantics', 'Sentiment Analysis and Stylistic Analysis',\n",
       "       'Speech', 'Language Resources and Evaluation',\n",
       "       'Computational Social Science and Cultural Analytics', 'Green NLP',\n",
       "       'Information Retrieval and Text Mining',\n",
       "       'Ethics, Bias, and Fairness',\n",
       "       'Linguistic Theories, Cognitive Modeling and Psycholinguistics',\n",
       "       'Generation and Summarization',\n",
       "       'Phonology, Morphology and Word Segmentation'], dtype=object)"
      ]
     },
     "execution_count": 38,
     "metadata": {},
     "output_type": "execute_result"
    }
   ],
   "source": [
    "df_NAACL_2021.Labels.unique()"
   ]
  },
  {
   "cell_type": "code",
   "execution_count": 39,
   "id": "b59514ec-a195-4127-82c0-a97593aa1e83",
   "metadata": {},
   "outputs": [],
   "source": [
    "EACL_map = {'Document analysis including Text Categorization and Topic Models': 'Interpretability and Analysis of Models for NLP',\n",
    "            'Information Extraction and Text Mining': 'Information Extraction',\n",
    "            'Language Resources and Evaluation': 'Resources and Evaluation',\n",
    "            'Multilinguality': 'Machine Translation and Multilinguality',\n",
    "            'Semantics: Lexical': 'Semantics: Lexical Semantics',\n",
    "            'NLP Applications for Emergency Situations and Crisis Management': 'NLP Applications',\n",
    "            'Speech': 'Speech and Multimodality'}\n",
    "\n",
    "ACLJNCLP_map = {'Computational Social Science and Cultural Analytics': 'Computational Social Science and Social Media',\n",
    "                'Ethics in NLP': 'Ethics and NLP'}\n",
    "\n",
    "NAACL_map = {'Sentence-level Semantics and Textual Inference': 'Semantics: Sentence-level Semantics, Textual Inference and Other areas',\n",
    "             'Multilinguality': 'Machine Translation and Multilinguality',\n",
    "             'Cognitive Modeling and Psycholinguistics': 'Linguistic Theories, Cognitive Modeling and Psycholinguistics',\n",
    "             'Machine Learning for NLP: Classification and Structured Prediction Models': 'Machine Learning for NLP',\n",
    "             'Machine Learning for NLP: Language Modeling and Sequence to Sequence Models': 'Machine Learning for NLP',\n",
    "             'Lexical Semantics': 'Semantics: Lexical Semantics',\n",
    "             'Sentiment Analysis and Stylistic Analysis': 'Sentiment Analysis, Stylistic Analysis, and Argument Mining',\n",
    "             'Speech': 'Speech and Multimodality',\n",
    "             'Language Resources and Evaluation': 'Resources and Evaluation',\n",
    "             'Computational Social Science and Cultural Analytics': 'Computational Social Science and Social Media',\n",
    "             'Ethics, Bias, and Fairness': 'Ethics and NLP'}"
   ]
  },
  {
   "cell_type": "code",
   "execution_count": 40,
   "id": "6be08b42-bcbb-4485-b574-530c137c3865",
   "metadata": {},
   "outputs": [],
   "source": [
    "# Removing papers that are in ('CL Track', 'Green and Sustainable NLP', 'Multidisciplinary and AC COI', 'TACL Track')\n",
    "df_EACL_2021 = df_EACL_2021[~df_EACL_2021['Labels'].isin(['CL Track', 'Green and Sustainable NLP', 'Multidisciplinary and AC COI', 'TACL Track'])]\n",
    "\n",
    "# Removing papers that are in ('Special Theme: New Challenges in NLP', 'Green NLP')\n",
    "df_NAACL_2021 = df_NAACL_2021[~df_NAACL_2021['Labels'].isin(['Special Theme: New Challenges in NLP', 'Green NLP'])]\n",
    "\n",
    "# Mapping to the appropriate topics originally found in ACL and EMNLP 2020\n",
    "df_EACL_2021_reduced = df_EACL_2021.replace({\"Labels\": EACL_map})\n",
    "df_ACL_JCNLP_2021_reduced = df_ACL_JCNLP_2021.replace({\"Labels\": ACLJNCLP_map})\n",
    "df_NAACL_2021_reduced = df_NAACL_2021.replace({\"Labels\": NAACL_map})\n",
    "\n",
    "# Need to do the original mapping as well\n",
    "df_EACL_2021_reduced = df_EACL_2021_reduced.replace({\"Labels\": mapping})\n",
    "df_ACL_JCNLP_2021_reduced = df_ACL_JCNLP_2021_reduced.replace({\"Labels\": mapping})\n",
    "df_NAACL_2021_reduced = df_NAACL_2021_reduced.replace({\"Labels\": mapping})"
   ]
  },
  {
   "cell_type": "code",
   "execution_count": 41,
   "id": "f88fda07-746f-4f5d-9df2-71d6e44c4717",
   "metadata": {},
   "outputs": [],
   "source": [
    "df_EACL_2021_filt = df_EACL_2021_reduced[df_EACL_2021_reduced['Labels'].isin(['Information Retrieval, Search and Question Answering', 'Generation and Summarization'])]\n",
    "df_NAACL_2021_filt = df_NAACL_2021_reduced[df_NAACL_2021_reduced['Labels'] == 'Generation and Summarization']"
   ]
  },
  {
   "cell_type": "code",
   "execution_count": 42,
   "id": "37d6f8fc-44bd-40da-9cd7-f0aa199f1519",
   "metadata": {},
   "outputs": [],
   "source": [
    "df_EACL_2021_relabelled = pd.read_csv(\"./Data/Relabel/EACL_2021_to_relabel.csv\")\n",
    "df_NAACL_2021_relabelled = pd.read_csv(\"./Data/Relabel/NAACL_2021_to_relabel.csv\")"
   ]
  },
  {
   "cell_type": "code",
   "execution_count": 43,
   "id": "fff9561f-e035-4dea-9827-c671c35809f9",
   "metadata": {},
   "outputs": [],
   "source": [
    "# Bring back the remapped values\n",
    "df_EACL_2021_reduced = df_EACL_2021_reduced.merge(df_EACL_2021_relabelled, how='left', on=[\"Paper Name\", \"Author Names\"])\n",
    "df_NAACL_2021_reduced = df_NAACL_2021_reduced.merge(df_NAACL_2021_relabelled, how='left', on=[\"Paper Name\", \"Author Names\"])"
   ]
  },
  {
   "cell_type": "code",
   "execution_count": 44,
   "id": "2149e488-6397-425f-8f3e-c0250b3f97b9",
   "metadata": {},
   "outputs": [],
   "source": [
    "df_EACL_2021_reduced['Labels_y'] = df_EACL_2021_reduced['Labels_y'].fillna(df_EACL_2021_reduced['Labels_x'])\n",
    "df_EACL_2021_reduced = df_EACL_2021_reduced.drop(['Labels_x'], axis = 1)\n",
    "df_EACL_2021_reduced.columns = [\"Paper Name\", \"Author Names\", \"Labels\"]\n",
    "df_EACL_2021_reduced = df_EACL_2021_reduced[[\"Labels\", \"Paper Name\", \"Author Names\"]]"
   ]
  },
  {
   "cell_type": "code",
   "execution_count": 45,
   "id": "33e11bf1-6d79-4b98-bb45-6af7ddace4fd",
   "metadata": {},
   "outputs": [
    {
     "data": {
      "text/plain": [
       "array(['Computational Social Science and Social Media',\n",
       "       'Dialogue and Interactive Systems', 'Discourse and Pragmatics',\n",
       "       'Interpretability and Analysis of Models for NLP', 'Summarization',\n",
       "       'Generation', 'Information Extraction', 'Question Answering',\n",
       "       'Information Retrieval and Text Mining',\n",
       "       'Language Grounding to Vision, Robotics and Beyond',\n",
       "       'Resources and Evaluation',\n",
       "       'Linguistic Theories, Cognitive Modeling and Psycholinguistics',\n",
       "       'Machine Learning for NLP',\n",
       "       'Machine Translation and Multilinguality', 'NLP Applications',\n",
       "       'Phonology, Morphology and Word Segmentation',\n",
       "       'Semantics: Lexical Semantics',\n",
       "       'Semantics: Sentence-level Semantics, Textual Inference and Other areas',\n",
       "       'Sentiment Analysis, Stylistic Analysis, and Argument Mining',\n",
       "       'Speech and Multimodality', 'Student Research Workshop',\n",
       "       'Syntax: Tagging, Chunking and Parsing'], dtype=object)"
      ]
     },
     "execution_count": 45,
     "metadata": {},
     "output_type": "execute_result"
    }
   ],
   "source": [
    "df_EACL_2021_reduced.Labels.unique()"
   ]
  },
  {
   "cell_type": "code",
   "execution_count": 46,
   "id": "3847df75-04fd-4612-8a9f-bc0ca26047c1",
   "metadata": {},
   "outputs": [
    {
     "data": {
      "text/html": [
       "<div>\n",
       "<style scoped>\n",
       "    .dataframe tbody tr th:only-of-type {\n",
       "        vertical-align: middle;\n",
       "    }\n",
       "\n",
       "    .dataframe tbody tr th {\n",
       "        vertical-align: top;\n",
       "    }\n",
       "\n",
       "    .dataframe thead th {\n",
       "        text-align: right;\n",
       "    }\n",
       "</style>\n",
       "<table border=\"1\" class=\"dataframe\">\n",
       "  <thead>\n",
       "    <tr style=\"text-align: right;\">\n",
       "      <th></th>\n",
       "      <th>Labels</th>\n",
       "      <th>Paper Name</th>\n",
       "      <th>Author Names</th>\n",
       "    </tr>\n",
       "  </thead>\n",
       "  <tbody>\n",
       "  </tbody>\n",
       "</table>\n",
       "</div>"
      ],
      "text/plain": [
       "Empty DataFrame\n",
       "Columns: [Labels, Paper Name, Author Names]\n",
       "Index: []"
      ]
     },
     "execution_count": 46,
     "metadata": {},
     "output_type": "execute_result"
    }
   ],
   "source": [
    "df_EACL_2021_reduced[df_EACL_2021_reduced.Labels == \"Generation and Summarization\"]"
   ]
  },
  {
   "cell_type": "code",
   "execution_count": 47,
   "id": "2a029b90-7262-4777-9350-bbdec622cef8",
   "metadata": {},
   "outputs": [],
   "source": [
    "df_NAACL_2021_reduced['Labels_y'] = df_NAACL_2021_reduced['Labels_y'].fillna(df_NAACL_2021_reduced['Labels_x'])\n",
    "df_NAACL_2021_reduced = df_NAACL_2021_reduced.drop(['Labels_x'], axis = 1)\n",
    "df_NAACL_2021_reduced.columns = [\"Paper Name\", \"Author Names\", \"Labels\"]\n",
    "df_NAACL_2021_reduced = df_NAACL_2021_reduced[[\"Labels\", \"Paper Name\", \"Author Names\"]]"
   ]
  },
  {
   "cell_type": "code",
   "execution_count": 48,
   "id": "93b66843-3678-4ad4-84b7-59289030e6d4",
   "metadata": {},
   "outputs": [
    {
     "data": {
      "text/plain": [
       "array(['Information Extraction',\n",
       "       'Interpretability and Analysis of Models for NLP',\n",
       "       'Machine Translation and Multilinguality', 'NLP Applications',\n",
       "       'Semantics: Sentence-level Semantics, Textual Inference and Other areas',\n",
       "       'Generation', 'Question Answering', 'Summarization',\n",
       "       'Dialogue and Interactive Systems',\n",
       "       'Language Grounding to Vision, Robotics and Beyond',\n",
       "       'Machine Learning for NLP',\n",
       "       'Syntax: Tagging, Chunking and Parsing',\n",
       "       'Discourse and Pragmatics', 'Semantics: Lexical Semantics',\n",
       "       'Sentiment Analysis, Stylistic Analysis, and Argument Mining',\n",
       "       'Speech and Multimodality', 'Resources and Evaluation',\n",
       "       'Computational Social Science and Social Media',\n",
       "       'Information Retrieval and Text Mining', 'Ethics and NLP',\n",
       "       'Linguistic Theories, Cognitive Modeling and Psycholinguistics',\n",
       "       'Phonology, Morphology and Word Segmentation'], dtype=object)"
      ]
     },
     "execution_count": 48,
     "metadata": {},
     "output_type": "execute_result"
    }
   ],
   "source": [
    "df_NAACL_2021_reduced.Labels.unique()"
   ]
  },
  {
   "cell_type": "code",
   "execution_count": 49,
   "id": "1f695db1-aba8-40b7-be5e-1ce02056741e",
   "metadata": {},
   "outputs": [
    {
     "data": {
      "text/plain": [
       "array(['Information Extraction',\n",
       "       'Interpretability and Analysis of Models for NLP',\n",
       "       'Machine Translation and Multilinguality', 'NLP Applications',\n",
       "       'Semantics: Sentence-level Semantics, Textual Inference and Other areas',\n",
       "       'Generation', 'Question Answering', 'Summarization',\n",
       "       'Dialogue and Interactive Systems',\n",
       "       'Language Grounding to Vision, Robotics and Beyond',\n",
       "       'Machine Learning for NLP',\n",
       "       'Syntax: Tagging, Chunking and Parsing',\n",
       "       'Discourse and Pragmatics', 'Semantics: Lexical Semantics',\n",
       "       'Sentiment Analysis, Stylistic Analysis, and Argument Mining',\n",
       "       'Speech and Multimodality', 'Resources and Evaluation',\n",
       "       'Computational Social Science and Social Media',\n",
       "       'Information Retrieval and Text Mining', 'Ethics and NLP',\n",
       "       'Linguistic Theories, Cognitive Modeling and Psycholinguistics',\n",
       "       'Phonology, Morphology and Word Segmentation'], dtype=object)"
      ]
     },
     "execution_count": 49,
     "metadata": {},
     "output_type": "execute_result"
    }
   ],
   "source": [
    "df_NAACL_2021_reduced['Labels'].unique()"
   ]
  },
  {
   "cell_type": "code",
   "execution_count": 50,
   "id": "7b14c9e5-27d2-4ff0-86a6-5207ecae9230",
   "metadata": {},
   "outputs": [],
   "source": [
    "# Filtering out unnecessary topics from the original ACL and EMNLP papers\n",
    "\n",
    "df_ACL_2020_reduced = df_ACL_2020_reduced[(df_ACL_2020_reduced['Labels'] != 'Theme') & (df_ACL_2020_reduced['Labels'] != 'System Demonstrations') & (df_ACL_2020_reduced['Labels'] != 'Student Research Workshop')& (df_ACL_2020_reduced['Labels'] != 'NLP Applications')]\n",
    "df_EMNLP_2020_reduced = df_EMNLP_2020_reduced[(df_EMNLP_2020['Labels'] != 'Theme') & (df_EMNLP_2020_reduced['Labels'] != 'System Demonstrations') & (df_EMNLP_2020_reduced['Labels'] != 'Student Research Workshop')& (df_EMNLP_2020_reduced['Labels'] != 'NLP Applications')]\n",
    "df_EACL_2021_reduced = df_EACL_2021_reduced[(df_EACL_2021_reduced['Labels'] != 'Theme') & (df_EACL_2021_reduced['Labels'] != 'System Demonstrations') & (df_EACL_2021_reduced['Labels'] != 'Student Research Workshop')& (df_EACL_2021_reduced['Labels'] != 'NLP Applications')]\n",
    "df_ACL_JCNLP_2021_reduced = df_ACL_JCNLP_2021_reduced[(df_ACL_JCNLP_2021_reduced['Labels'] != 'Theme') & (df_ACL_JCNLP_2021_reduced['Labels'] != 'System Demonstrations') & (df_ACL_JCNLP_2021_reduced['Labels'] != 'Student Research Workshop')& (df_ACL_JCNLP_2021_reduced['Labels'] != 'NLP Applications')]\n",
    "df_NAACL_2021_reduced = df_NAACL_2021_reduced[(df_NAACL_2021_reduced['Labels'] != 'Theme') & (df_NAACL_2021_reduced['Labels'] != 'System Demonstrations') & (df_NAACL_2021_reduced['Labels'] != 'Student Research Workshop') & (df_NAACL_2021_reduced['Labels'] != 'NLP Applications')]"
   ]
  },
  {
   "cell_type": "code",
   "execution_count": 51,
   "id": "07709ff3-23d9-4ecf-a513-2716e8272bce",
   "metadata": {},
   "outputs": [],
   "source": [
    "df_ACL_2020_reduced.to_csv(\"./Data/ACL_2020.csv\", index = False)\n",
    "df_EMNLP_2020_reduced.to_csv(\"./Data/EMNLP_2020.csv\", index = False)\n",
    "df_EACL_2021_reduced.to_csv(\"./Data/EACL_2021.csv\", index = False)\n",
    "df_ACL_JCNLP_2021_reduced.to_csv(\"./Data/ACL_JCNLP_2021.csv\", index = False)\n",
    "df_NAACL_2021_reduced.to_csv(\"./Data/NAACL_2021.csv\", index = False)"
   ]
  },
  {
   "cell_type": "markdown",
   "id": "0f49489f-0b25-4860-b67e-b49884ff7ea8",
   "metadata": {},
   "source": [
    "### Creating consolidated dataset"
   ]
  },
  {
   "cell_type": "code",
   "execution_count": 52,
   "id": "bbbe2bc7-235f-433c-b3c8-2d6a8a75d954",
   "metadata": {},
   "outputs": [],
   "source": [
    "df_ACL_2020 = pd.read_csv(\"./Data/ACL_2020.csv\")\n",
    "df_EMNLP_2020 = pd.read_csv(\"./Data/EMNLP_2020.csv\")\n",
    "df_EACL_2021 = pd.read_csv(\"./Data/EACL_2021.csv\")\n",
    "df_ACL_JCNLP_2021 = pd.read_csv(\"./Data/ACL_JCNLP_2021.csv\")\n",
    "df_NAACL_2021 = pd.read_csv(\"./Data/NAACL_2021.csv\")"
   ]
  },
  {
   "cell_type": "code",
   "execution_count": 53,
   "id": "13336983-4d44-4f15-a900-462d6214e23d",
   "metadata": {},
   "outputs": [],
   "source": [
    "df_ACL_2020[\"Conference\"] = \"ACL2020\"\n",
    "df_EMNLP_2020[\"Conference\"] = \"EMNLP2020\"\n",
    "df_EACL_2021[\"Conference\"] = \"EACL2021\"\n",
    "df_ACL_JCNLP_2021[\"Conference\"] = \"ACLJCNLP2021\"\n",
    "df_NAACL_2021[\"Conference\"] = \"NAACL_2021\""
   ]
  },
  {
   "cell_type": "code",
   "execution_count": 54,
   "id": "fffd4d01-b082-4062-8d8a-81194049578c",
   "metadata": {},
   "outputs": [],
   "source": [
    "df = pd.concat([df_ACL_2020, df_EMNLP_2020, df_EACL_2021, df_ACL_JCNLP_2021, df_NAACL_2021])\n",
    "df = df[[\"Labels\", \"Paper Name\", \"Conference\"]]"
   ]
  },
  {
   "cell_type": "code",
   "execution_count": 55,
   "id": "9c6022ce-8329-4a93-9be6-60134916a4dd",
   "metadata": {},
   "outputs": [],
   "source": [
    "df['Paper Name'] = df['Paper Name'].str.lower()"
   ]
  },
  {
   "cell_type": "code",
   "execution_count": 56,
   "id": "6143e7ac-0e48-4878-bf04-f1cd32d9cc41",
   "metadata": {},
   "outputs": [],
   "source": [
    "# We want to bring in Intoduction and Conclusion of the papers\n",
    "reference_df = pd.read_csv(\"./Data/Reference/reference_file_path.csv\")\n",
    "df = df.merge(reference_df, how = 'left', left_on = 'Paper Name', right_on = 'title')"
   ]
  },
  {
   "cell_type": "code",
   "execution_count": 57,
   "id": "969035ed-eed2-466f-a583-458b1b565e74",
   "metadata": {},
   "outputs": [],
   "source": [
    "# Unable to match about 134 examples\n",
    "\n",
    "df = df[~df['title'].isna()]"
   ]
  },
  {
   "cell_type": "code",
   "execution_count": 58,
   "id": "d959e43d-cbf5-4c54-bdb7-3c39f365bd3f",
   "metadata": {},
   "outputs": [
    {
     "name": "stderr",
     "output_type": "stream",
     "text": [
      "100%|█████████████████████████████████████████████████████████████████████████████| 2545/2545 [00:03<00:00, 801.83it/s]\n",
      "100%|██████████████████████████████████████████████████████████████████████████| 2545/2545 [00:00<00:00, 254518.45it/s]\n",
      "100%|████████████████████████████████████████████████████████████████████████████| 2545/2545 [00:02<00:00, 1265.54it/s]\n",
      "100%|█████████████████████████████████████████████████████████████████████████████| 2545/2545 [00:03<00:00, 694.98it/s]\n"
     ]
    }
   ],
   "source": [
    "df[\"intro_concl\"] = df['file_path'].progress_apply(get_section, args = [[\"introduction\", \"conclusion\"]])\n",
    "df['intro_concl'] = df['intro_concl'].progress_apply(lambda x: ' '.join(x.values()))\n",
    "df[\"abstract\"] = df['file_path'].progress_apply(get_abstract)\n",
    "df[\"Whole Extract\"] = df['file_path'].progress_apply(lambda x: json.load(open(x)))"
   ]
  },
  {
   "cell_type": "code",
   "execution_count": 59,
   "id": "78c112d3-acdf-4ba8-bf2e-2eb6c9ca9377",
   "metadata": {},
   "outputs": [
    {
     "data": {
      "text/plain": [
       "'./Data/Base_JSON\\\\prefixA\\\\json\\\\acl/2020.acl-main.158.json'"
      ]
     },
     "execution_count": 59,
     "metadata": {},
     "output_type": "execute_result"
    }
   ],
   "source": [
    "df['file_path'].iloc[0]"
   ]
  },
  {
   "cell_type": "code",
   "execution_count": 60,
   "id": "f6bbcfb8-02ea-493b-8240-c848d6cf6b1c",
   "metadata": {},
   "outputs": [
    {
     "data": {
      "text/plain": [
       "<bound method StringMethods.replace of <pandas.core.strings.accessor.StringMethods object at 0x0000022AA3AC9700>>"
      ]
     },
     "execution_count": 60,
     "metadata": {},
     "output_type": "execute_result"
    }
   ],
   "source": [
    "df['file_path'].str.replace"
   ]
  },
  {
   "cell_type": "code",
   "execution_count": 61,
   "id": "c2da67e0-dcfe-44f5-b772-d61f442dee0d",
   "metadata": {},
   "outputs": [],
   "source": [
    "df = df[[\"Labels\", \"Paper Name\", \"Conference\", \"file_path\", \"intro_concl\", \"abstract\", \"Whole Extract\"]]\n",
    "df.columns = [\"Labels\", \"Paper Name\", \"Conference\", \"File Path\", \"Intro Concl\", \"Abstract\", \"Whole Extract\"]"
   ]
  },
  {
   "cell_type": "code",
   "execution_count": 62,
   "id": "af8f60ce-1857-4c26-835a-c58b5613720d",
   "metadata": {},
   "outputs": [],
   "source": [
    "df[\"Subset\"] = df.index % 5"
   ]
  },
  {
   "cell_type": "code",
   "execution_count": 63,
   "id": "137c54cf-2ff8-4c06-ae25-1cdef3dfabee",
   "metadata": {},
   "outputs": [
    {
     "data": {
      "text/html": [
       "<div>\n",
       "<style scoped>\n",
       "    .dataframe tbody tr th:only-of-type {\n",
       "        vertical-align: middle;\n",
       "    }\n",
       "\n",
       "    .dataframe tbody tr th {\n",
       "        vertical-align: top;\n",
       "    }\n",
       "\n",
       "    .dataframe thead th {\n",
       "        text-align: right;\n",
       "    }\n",
       "</style>\n",
       "<table border=\"1\" class=\"dataframe\">\n",
       "  <thead>\n",
       "    <tr style=\"text-align: right;\">\n",
       "      <th></th>\n",
       "      <th>Labels</th>\n",
       "      <th>Paper Name</th>\n",
       "      <th>Conference</th>\n",
       "      <th>File Path</th>\n",
       "      <th>Intro Concl</th>\n",
       "      <th>Abstract</th>\n",
       "      <th>Whole Extract</th>\n",
       "      <th>Subset</th>\n",
       "    </tr>\n",
       "  </thead>\n",
       "  <tbody>\n",
       "    <tr>\n",
       "      <th>0</th>\n",
       "      <td>Linguistic Theories, Cognitive Modeling and Ps...</td>\n",
       "      <td>a systematic assessment of syntactic generaliz...</td>\n",
       "      <td>ACL2020</td>\n",
       "      <td>./Data/Base_JSON\\prefixA\\json\\acl/2020.acl-mai...</td>\n",
       "      <td>A growing body of work advocates that assessme...</td>\n",
       "      <td>While state-of-the-art neural network models c...</td>\n",
       "      <td>{'paper_id': '2020', 'header': {'generated_wit...</td>\n",
       "      <td>0</td>\n",
       "    </tr>\n",
       "    <tr>\n",
       "      <th>1</th>\n",
       "      <td>Linguistic Theories, Cognitive Modeling and Ps...</td>\n",
       "      <td>learning to understand child-directed and adul...</td>\n",
       "      <td>ACL2020</td>\n",
       "      <td>./Data/Base_JSON\\prefixA\\json\\acl/2020.acl-mai...</td>\n",
       "      <td>Speech directed to children (CDS) differs from...</td>\n",
       "      <td>Speech directed to children differs from adult...</td>\n",
       "      <td>{'paper_id': '2020', 'header': {'generated_wit...</td>\n",
       "      <td>1</td>\n",
       "    </tr>\n",
       "    <tr>\n",
       "      <th>3</th>\n",
       "      <td>Linguistic Theories, Cognitive Modeling and Ps...</td>\n",
       "      <td>speakers enhance contextually confusable words</td>\n",
       "      <td>ACL2020</td>\n",
       "      <td>./Data/Base_JSON\\prefixA\\json\\acl/2020.acl-mai...</td>\n",
       "      <td>A major open question in the study of natural ...</td>\n",
       "      <td>Recent work has found evidence that natural la...</td>\n",
       "      <td>{'paper_id': '2020', 'header': {'generated_wit...</td>\n",
       "      <td>3</td>\n",
       "    </tr>\n",
       "    <tr>\n",
       "      <th>4</th>\n",
       "      <td>Linguistic Theories, Cognitive Modeling and Ps...</td>\n",
       "      <td>recollection versus imagination: exploring hum...</td>\n",
       "      <td>ACL2020</td>\n",
       "      <td>./Data/Base_JSON\\prefixA\\json\\acl/2020.acl-mai...</td>\n",
       "      <td>When telling stories, people draw from their o...</td>\n",
       "      <td>We investigate the use of NLP as a measure of ...</td>\n",
       "      <td>{'paper_id': '2020', 'header': {'generated_wit...</td>\n",
       "      <td>4</td>\n",
       "    </tr>\n",
       "    <tr>\n",
       "      <th>5</th>\n",
       "      <td>Linguistic Theories, Cognitive Modeling and Ps...</td>\n",
       "      <td>predicting depression in screening interviews ...</td>\n",
       "      <td>ACL2020</td>\n",
       "      <td>./Data/Base_JSON\\prefixA\\json\\acl/2020.acl-mai...</td>\n",
       "      <td>Depression is a dangerous disease that effects...</td>\n",
       "      <td>Despite the pervasiveness of clinical depressi...</td>\n",
       "      <td>{'paper_id': '2020', 'header': {'generated_wit...</td>\n",
       "      <td>0</td>\n",
       "    </tr>\n",
       "    <tr>\n",
       "      <th>...</th>\n",
       "      <td>...</td>\n",
       "      <td>...</td>\n",
       "      <td>...</td>\n",
       "      <td>...</td>\n",
       "      <td>...</td>\n",
       "      <td>...</td>\n",
       "      <td>...</td>\n",
       "      <td>...</td>\n",
       "    </tr>\n",
       "    <tr>\n",
       "      <th>2706</th>\n",
       "      <td>Summarization</td>\n",
       "      <td>qmsum: a new benchmark for query-based multi-d...</td>\n",
       "      <td>NAACL_2021</td>\n",
       "      <td>./Data/Base_JSON\\prefixN\\json\\naacl/2021.naacl...</td>\n",
       "      <td>Meetings remain the go-to tool for collaborati...</td>\n",
       "      <td>Meetings are a key component of human collabor...</td>\n",
       "      <td>{'paper_id': '2021', 'header': {'generated_wit...</td>\n",
       "      <td>1</td>\n",
       "    </tr>\n",
       "    <tr>\n",
       "      <th>2707</th>\n",
       "      <td>Summarization</td>\n",
       "      <td>mm-avs: a full-scale dataset for multi-modal s...</td>\n",
       "      <td>NAACL_2021</td>\n",
       "      <td>./Data/Base_JSON\\prefixN\\json\\naacl/2021.naacl...</td>\n",
       "      <td>Multimodal summarization refines salient infor...</td>\n",
       "      <td>Multimodal summarization becomes increasingly ...</td>\n",
       "      <td>{'paper_id': '2021', 'header': {'generated_wit...</td>\n",
       "      <td>2</td>\n",
       "    </tr>\n",
       "    <tr>\n",
       "      <th>2708</th>\n",
       "      <td>Summarization</td>\n",
       "      <td>mediasum: a large-scale media interview datase...</td>\n",
       "      <td>NAACL_2021</td>\n",
       "      <td>./Data/Base_JSON\\prefixN\\json\\naacl/2021.naacl...</td>\n",
       "      <td>Dialogue summarization can provide a succinct ...</td>\n",
       "      <td>This paper introduces MEDIASUM 1 , a largescal...</td>\n",
       "      <td>{'paper_id': '2021', 'header': {'generated_wit...</td>\n",
       "      <td>3</td>\n",
       "    </tr>\n",
       "    <tr>\n",
       "      <th>2709</th>\n",
       "      <td>Summarization</td>\n",
       "      <td>improving faithfulness in abstractive summariz...</td>\n",
       "      <td>NAACL_2021</td>\n",
       "      <td>./Data/Base_JSON\\prefixN\\json\\naacl/2021.naacl...</td>\n",
       "      <td>Abstractive Summarization is the task of produ...</td>\n",
       "      <td>Despite significant progress in neural abstrac...</td>\n",
       "      <td>{'paper_id': '2021', 'header': {'generated_wit...</td>\n",
       "      <td>4</td>\n",
       "    </tr>\n",
       "    <tr>\n",
       "      <th>2710</th>\n",
       "      <td>Summarization</td>\n",
       "      <td>inference time style control for summarization</td>\n",
       "      <td>NAACL_2021</td>\n",
       "      <td>./Data/Base_JSON\\prefixN\\json\\naacl/2021.naacl...</td>\n",
       "      <td>Generating summaries with different language s...</td>\n",
       "      <td>How to generate summaries of different styles ...</td>\n",
       "      <td>{'paper_id': '2021', 'header': {'generated_wit...</td>\n",
       "      <td>0</td>\n",
       "    </tr>\n",
       "  </tbody>\n",
       "</table>\n",
       "<p>2545 rows × 8 columns</p>\n",
       "</div>"
      ],
      "text/plain": [
       "                                                 Labels  \\\n",
       "0     Linguistic Theories, Cognitive Modeling and Ps...   \n",
       "1     Linguistic Theories, Cognitive Modeling and Ps...   \n",
       "3     Linguistic Theories, Cognitive Modeling and Ps...   \n",
       "4     Linguistic Theories, Cognitive Modeling and Ps...   \n",
       "5     Linguistic Theories, Cognitive Modeling and Ps...   \n",
       "...                                                 ...   \n",
       "2706                                      Summarization   \n",
       "2707                                      Summarization   \n",
       "2708                                      Summarization   \n",
       "2709                                      Summarization   \n",
       "2710                                      Summarization   \n",
       "\n",
       "                                             Paper Name  Conference  \\\n",
       "0     a systematic assessment of syntactic generaliz...     ACL2020   \n",
       "1     learning to understand child-directed and adul...     ACL2020   \n",
       "3        speakers enhance contextually confusable words     ACL2020   \n",
       "4     recollection versus imagination: exploring hum...     ACL2020   \n",
       "5     predicting depression in screening interviews ...     ACL2020   \n",
       "...                                                 ...         ...   \n",
       "2706  qmsum: a new benchmark for query-based multi-d...  NAACL_2021   \n",
       "2707  mm-avs: a full-scale dataset for multi-modal s...  NAACL_2021   \n",
       "2708  mediasum: a large-scale media interview datase...  NAACL_2021   \n",
       "2709  improving faithfulness in abstractive summariz...  NAACL_2021   \n",
       "2710     inference time style control for summarization  NAACL_2021   \n",
       "\n",
       "                                              File Path  \\\n",
       "0     ./Data/Base_JSON\\prefixA\\json\\acl/2020.acl-mai...   \n",
       "1     ./Data/Base_JSON\\prefixA\\json\\acl/2020.acl-mai...   \n",
       "3     ./Data/Base_JSON\\prefixA\\json\\acl/2020.acl-mai...   \n",
       "4     ./Data/Base_JSON\\prefixA\\json\\acl/2020.acl-mai...   \n",
       "5     ./Data/Base_JSON\\prefixA\\json\\acl/2020.acl-mai...   \n",
       "...                                                 ...   \n",
       "2706  ./Data/Base_JSON\\prefixN\\json\\naacl/2021.naacl...   \n",
       "2707  ./Data/Base_JSON\\prefixN\\json\\naacl/2021.naacl...   \n",
       "2708  ./Data/Base_JSON\\prefixN\\json\\naacl/2021.naacl...   \n",
       "2709  ./Data/Base_JSON\\prefixN\\json\\naacl/2021.naacl...   \n",
       "2710  ./Data/Base_JSON\\prefixN\\json\\naacl/2021.naacl...   \n",
       "\n",
       "                                            Intro Concl  \\\n",
       "0     A growing body of work advocates that assessme...   \n",
       "1     Speech directed to children (CDS) differs from...   \n",
       "3     A major open question in the study of natural ...   \n",
       "4     When telling stories, people draw from their o...   \n",
       "5     Depression is a dangerous disease that effects...   \n",
       "...                                                 ...   \n",
       "2706  Meetings remain the go-to tool for collaborati...   \n",
       "2707  Multimodal summarization refines salient infor...   \n",
       "2708  Dialogue summarization can provide a succinct ...   \n",
       "2709  Abstractive Summarization is the task of produ...   \n",
       "2710  Generating summaries with different language s...   \n",
       "\n",
       "                                               Abstract  \\\n",
       "0     While state-of-the-art neural network models c...   \n",
       "1     Speech directed to children differs from adult...   \n",
       "3     Recent work has found evidence that natural la...   \n",
       "4     We investigate the use of NLP as a measure of ...   \n",
       "5     Despite the pervasiveness of clinical depressi...   \n",
       "...                                                 ...   \n",
       "2706  Meetings are a key component of human collabor...   \n",
       "2707  Multimodal summarization becomes increasingly ...   \n",
       "2708  This paper introduces MEDIASUM 1 , a largescal...   \n",
       "2709  Despite significant progress in neural abstrac...   \n",
       "2710  How to generate summaries of different styles ...   \n",
       "\n",
       "                                          Whole Extract  Subset  \n",
       "0     {'paper_id': '2020', 'header': {'generated_wit...       0  \n",
       "1     {'paper_id': '2020', 'header': {'generated_wit...       1  \n",
       "3     {'paper_id': '2020', 'header': {'generated_wit...       3  \n",
       "4     {'paper_id': '2020', 'header': {'generated_wit...       4  \n",
       "5     {'paper_id': '2020', 'header': {'generated_wit...       0  \n",
       "...                                                 ...     ...  \n",
       "2706  {'paper_id': '2021', 'header': {'generated_wit...       1  \n",
       "2707  {'paper_id': '2021', 'header': {'generated_wit...       2  \n",
       "2708  {'paper_id': '2021', 'header': {'generated_wit...       3  \n",
       "2709  {'paper_id': '2021', 'header': {'generated_wit...       4  \n",
       "2710  {'paper_id': '2021', 'header': {'generated_wit...       0  \n",
       "\n",
       "[2545 rows x 8 columns]"
      ]
     },
     "execution_count": 63,
     "metadata": {},
     "output_type": "execute_result"
    }
   ],
   "source": [
    "df"
   ]
  },
  {
   "cell_type": "code",
   "execution_count": 64,
   "id": "29c125c3-1f2d-4a30-a802-81319653e8c3",
   "metadata": {},
   "outputs": [
    {
     "data": {
      "text/plain": [
       "0       Test\n",
       "1        NaN\n",
       "3        NaN\n",
       "4        NaN\n",
       "5       Test\n",
       "        ... \n",
       "2706     NaN\n",
       "2707     NaN\n",
       "2708     NaN\n",
       "2709     NaN\n",
       "2710    Test\n",
       "Name: Subset, Length: 2545, dtype: object"
      ]
     },
     "execution_count": 64,
     "metadata": {},
     "output_type": "execute_result"
    }
   ],
   "source": [
    "df[\"Subset\"].map({0: 'Test'})"
   ]
  },
  {
   "cell_type": "code",
   "execution_count": 65,
   "id": "ae9c38bd-ec78-4639-ae33-6000acd22a60",
   "metadata": {},
   "outputs": [],
   "source": [
    "for i in range(5):\n",
    "    df[f\"Train_test_{i}\"] = df[\"Subset\"].map({i: 'Test'})\n",
    "    df[f\"Train_test_{i}\"] = df[f\"Train_test_{i}\"].fillna('Train')"
   ]
  },
  {
   "cell_type": "code",
   "execution_count": 66,
   "id": "26b3bfe9-8160-4703-a9b4-4a6a32d481d4",
   "metadata": {},
   "outputs": [],
   "source": [
    "df = df.drop('Subset', axis = 1)"
   ]
  },
  {
   "cell_type": "code",
   "execution_count": 67,
   "id": "41d73fa8-f45e-4477-aff4-a2ee255e1e28",
   "metadata": {},
   "outputs": [],
   "source": [
    "df.to_csv(\"./Data/Collated_dataset_for_scientific_papers.csv\", index = False)"
   ]
  }
 ],
 "metadata": {
  "kernelspec": {
   "display_name": "myenv",
   "language": "python",
   "name": "myenv"
  },
  "language_info": {
   "codemirror_mode": {
    "name": "ipython",
    "version": 3
   },
   "file_extension": ".py",
   "mimetype": "text/x-python",
   "name": "python",
   "nbconvert_exporter": "python",
   "pygments_lexer": "ipython3",
   "version": "3.9.15"
  }
 },
 "nbformat": 4,
 "nbformat_minor": 5
}
