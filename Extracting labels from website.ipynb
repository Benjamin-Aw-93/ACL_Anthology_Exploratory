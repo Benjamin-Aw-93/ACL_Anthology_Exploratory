{
 "cells": [
  {
   "cell_type": "markdown",
   "id": "b6d23571-73c7-41cf-a469-60514897b6fe",
   "metadata": {},
   "source": [
    "### Scraping results for ALC 2020 website"
   ]
  },
  {
   "cell_type": "code",
   "execution_count": 2,
   "id": "770a6b7d-33a0-4076-a61f-7226694da14b",
   "metadata": {},
   "outputs": [],
   "source": [
    "import pandas as pd\n",
    "from selenium import webdriver\n",
    "from selenium.webdriver.chrome.options import Options\n",
    "from selenium.webdriver.common.by import By\n",
    "from selenium.webdriver.support.ui import Select\n",
    "import time"
   ]
  },
  {
   "cell_type": "code",
   "execution_count": 3,
   "id": "12916e1b-e92c-4d45-98c9-a44da369b7d7",
   "metadata": {},
   "outputs": [
    {
     "name": "stderr",
     "output_type": "stream",
     "text": [
      "/tmp/ipykernel_52481/1970383638.py:5: DeprecationWarning: executable_path has been deprecated, please pass in a Service object\n",
      "  driver = webdriver.Chrome(\"/usr/bin/chromedriver\", chrome_options=options)\n",
      "/tmp/ipykernel_52481/1970383638.py:5: DeprecationWarning: use options instead of chrome_options\n",
      "  driver = webdriver.Chrome(\"/usr/bin/chromedriver\", chrome_options=options)\n"
     ]
    }
   ],
   "source": [
    "options = webdriver.ChromeOptions()\n",
    "options.add_argument('--ignore-certificate-errors')\n",
    "options.add_argument('--incognito')\n",
    "#options.add_argument('--headless')\n",
    "driver = webdriver.Chrome(\"/usr/bin/chromedriver\", chrome_options=options)\n",
    "\n",
    "driver.get(\"https://virtual.acl2020.org/papers.html?filter=titles&track=All+tracks\")\n",
    "dropdown = driver.find_element(By.CSS_SELECTOR, \"button.dropdown-toggle\")\n",
    "dropdown.click()\n",
    "\n",
    "# Clicking though all the dropdown boxes\n",
    "items = driver.find_elements(By.CSS_SELECTOR, \"a.dropdown-item\")\n",
    "names = [item.text for item in items]\n",
    "\n",
    "output = []\n",
    "\n",
    "for name in names:\n",
    "    select = Select(driver.find_element(By.ID, \"track_selector\"))\n",
    "    select.select_by_visible_text(name)\n",
    "    time.sleep(3)\n",
    "    \n",
    "    if name != \"All tracks\":\n",
    "        paper = driver.find_elements(By.CLASS_NAME, \"card-title\")\n",
    "        papernames = [item.text for item in paper]\n",
    "        author = driver.find_elements(By.CLASS_NAME, \"card-subtitle\")\n",
    "        authornames = [item.text for item in author]\n",
    "        \n",
    "        df = pd.DataFrame({'Labels': name,\n",
    "                           'Paper Name': papernames,\n",
    "                           'Author Names': authornames\n",
    "                          })\n",
    "        output.append(df)"
   ]
  },
  {
   "cell_type": "markdown",
   "id": "a12e52d7-76e6-4ea5-a2bd-c3075b38e394",
   "metadata": {},
   "source": [
    "Concat the list of dataframes"
   ]
  },
  {
   "cell_type": "code",
   "execution_count": 4,
   "id": "1948e282-42b8-49df-b9e5-0999ca6fea54",
   "metadata": {},
   "outputs": [],
   "source": [
    "df_ACL_2020 = pd.concat(output, axis = 0, ignore_index = True)"
   ]
  },
  {
   "cell_type": "code",
   "execution_count": 5,
   "id": "4d94e517-fad6-46f1-acdb-df7b96c8a7fb",
   "metadata": {},
   "outputs": [
    {
     "data": {
      "text/html": [
       "<div>\n",
       "<style scoped>\n",
       "    .dataframe tbody tr th:only-of-type {\n",
       "        vertical-align: middle;\n",
       "    }\n",
       "\n",
       "    .dataframe tbody tr th {\n",
       "        vertical-align: top;\n",
       "    }\n",
       "\n",
       "    .dataframe thead th {\n",
       "        text-align: right;\n",
       "    }\n",
       "</style>\n",
       "<table border=\"1\" class=\"dataframe\">\n",
       "  <thead>\n",
       "    <tr style=\"text-align: right;\">\n",
       "      <th></th>\n",
       "      <th>Labels</th>\n",
       "      <th>Paper Name</th>\n",
       "      <th>Author Names</th>\n",
       "    </tr>\n",
       "  </thead>\n",
       "  <tbody>\n",
       "    <tr>\n",
       "      <th>0</th>\n",
       "      <td>Cognitive Modeling and Psycholinguistics</td>\n",
       "      <td>Inflecting When There's No Majority: Limitatio...</td>\n",
       "      <td>Kate McCurdy, Sharon Goldwater, Adam Lopez</td>\n",
       "    </tr>\n",
       "    <tr>\n",
       "      <th>1</th>\n",
       "      <td>Cognitive Modeling and Psycholinguistics</td>\n",
       "      <td>What determines the order of adjectives in Eng...</td>\n",
       "      <td>Richard Futrell, William Dyer, Greg Scontras</td>\n",
       "    </tr>\n",
       "    <tr>\n",
       "      <th>2</th>\n",
       "      <td>Cognitive Modeling and Psycholinguistics</td>\n",
       "      <td>Recurrent Neural Network Language Models Alway...</td>\n",
       "      <td>Forrest Davis, Marten van Schijndel</td>\n",
       "    </tr>\n",
       "    <tr>\n",
       "      <th>3</th>\n",
       "      <td>Cognitive Modeling and Psycholinguistics</td>\n",
       "      <td>A Tale of Two Perplexities: Sensitivity of Neu...</td>\n",
       "      <td>Trevor Cohen, Serguei Pakhomov</td>\n",
       "    </tr>\n",
       "    <tr>\n",
       "      <th>4</th>\n",
       "      <td>Cognitive Modeling and Psycholinguistics</td>\n",
       "      <td>You Don't Have Time to Read This: An Explorati...</td>\n",
       "      <td>Orion Weller, Jordan Hildebrandt, Ilya Reznik,...</td>\n",
       "    </tr>\n",
       "    <tr>\n",
       "      <th>...</th>\n",
       "      <td>...</td>\n",
       "      <td>...</td>\n",
       "      <td>...</td>\n",
       "    </tr>\n",
       "    <tr>\n",
       "      <th>902</th>\n",
       "      <td>Student Research Workshop</td>\n",
       "      <td>Enhancing Word Embeddings with Knowledge Extra...</td>\n",
       "      <td>Magdalena Biesialska, Bardia Rafieian, Marta R...</td>\n",
       "    </tr>\n",
       "    <tr>\n",
       "      <th>903</th>\n",
       "      <td>Student Research Workshop</td>\n",
       "      <td>Dominance as an Indicator of Rapport and Learn...</td>\n",
       "      <td>Amanda Buddemeyer, Xiaoyi Tian, Erin Walker</td>\n",
       "    </tr>\n",
       "    <tr>\n",
       "      <th>904</th>\n",
       "      <td>Student Research Workshop</td>\n",
       "      <td>Story-level Text Style Transfer: A Proposal</td>\n",
       "      <td>Yusu Qian</td>\n",
       "    </tr>\n",
       "    <tr>\n",
       "      <th>905</th>\n",
       "      <td>Student Research Workshop</td>\n",
       "      <td>#NotAWhore! A Computational Linguistic Perspec...</td>\n",
       "      <td>Ashima Suvarna, Grusha Bhalla</td>\n",
       "    </tr>\n",
       "    <tr>\n",
       "      <th>906</th>\n",
       "      <td>Student Research Workshop</td>\n",
       "      <td>Cross-Lingual Disaster-related Multi-label Twe...</td>\n",
       "      <td>Jishnu Ray Chowdhury, Cornelia Caragea, Doina ...</td>\n",
       "    </tr>\n",
       "  </tbody>\n",
       "</table>\n",
       "<p>907 rows × 3 columns</p>\n",
       "</div>"
      ],
      "text/plain": [
       "                                       Labels  \\\n",
       "0    Cognitive Modeling and Psycholinguistics   \n",
       "1    Cognitive Modeling and Psycholinguistics   \n",
       "2    Cognitive Modeling and Psycholinguistics   \n",
       "3    Cognitive Modeling and Psycholinguistics   \n",
       "4    Cognitive Modeling and Psycholinguistics   \n",
       "..                                        ...   \n",
       "902                 Student Research Workshop   \n",
       "903                 Student Research Workshop   \n",
       "904                 Student Research Workshop   \n",
       "905                 Student Research Workshop   \n",
       "906                 Student Research Workshop   \n",
       "\n",
       "                                            Paper Name  \\\n",
       "0    Inflecting When There's No Majority: Limitatio...   \n",
       "1    What determines the order of adjectives in Eng...   \n",
       "2    Recurrent Neural Network Language Models Alway...   \n",
       "3    A Tale of Two Perplexities: Sensitivity of Neu...   \n",
       "4    You Don't Have Time to Read This: An Explorati...   \n",
       "..                                                 ...   \n",
       "902  Enhancing Word Embeddings with Knowledge Extra...   \n",
       "903  Dominance as an Indicator of Rapport and Learn...   \n",
       "904        Story-level Text Style Transfer: A Proposal   \n",
       "905  #NotAWhore! A Computational Linguistic Perspec...   \n",
       "906  Cross-Lingual Disaster-related Multi-label Twe...   \n",
       "\n",
       "                                          Author Names  \n",
       "0           Kate McCurdy, Sharon Goldwater, Adam Lopez  \n",
       "1         Richard Futrell, William Dyer, Greg Scontras  \n",
       "2                  Forrest Davis, Marten van Schijndel  \n",
       "3                       Trevor Cohen, Serguei Pakhomov  \n",
       "4    Orion Weller, Jordan Hildebrandt, Ilya Reznik,...  \n",
       "..                                                 ...  \n",
       "902  Magdalena Biesialska, Bardia Rafieian, Marta R...  \n",
       "903        Amanda Buddemeyer, Xiaoyi Tian, Erin Walker  \n",
       "904                                          Yusu Qian  \n",
       "905                      Ashima Suvarna, Grusha Bhalla  \n",
       "906  Jishnu Ray Chowdhury, Cornelia Caragea, Doina ...  \n",
       "\n",
       "[907 rows x 3 columns]"
      ]
     },
     "execution_count": 5,
     "metadata": {},
     "output_type": "execute_result"
    }
   ],
   "source": [
    "df_ACL_2020"
   ]
  },
  {
   "cell_type": "markdown",
   "id": "f6e4af61-c584-4938-8d39-1a2e89ff7627",
   "metadata": {},
   "source": [
    "### Scraping results for EMNLP 2020"
   ]
  },
  {
   "cell_type": "code",
   "execution_count": 12,
   "id": "21cd9373-1b72-4168-8c4e-48ebfbee07cd",
   "metadata": {},
   "outputs": [],
   "source": [
    "driver.get(\"https://virtual.2020.emnlp.org/papers.html?filter=titles&program=main&track=All+tracks\")\n",
    "dropdown = driver.find_element(By.CSS_SELECTOR, \"button.dropdown-toggle\")\n",
    "dropdown.click()\n",
    "\n",
    "# Clicking though all the dropdown boxes\n",
    "items = driver.find_elements(By.CSS_SELECTOR, \"a.dropdown-item\")\n",
    "names = [item.text for item in items]\n",
    "\n",
    "output = []\n",
    "\n",
    "for name in names:\n",
    "    select = Select(driver.find_element(By.ID, \"track_selector\"))\n",
    "    select.select_by_visible_text(name)\n",
    "    time.sleep(3)\n",
    "    \n",
    "    if name != \"All tracks\":\n",
    "        paper = driver.find_elements(By.CLASS_NAME, \"card-title\")\n",
    "        papernames = [item.text for item in paper]\n",
    "        author = driver.find_elements(By.CLASS_NAME, \"card-subtitle\")\n",
    "        authornames = [item.text for item in author]\n",
    "        \n",
    "        df = pd.DataFrame({'Labels': name,\n",
    "                           'Paper Name': papernames,\n",
    "                           'Author Names': authornames\n",
    "                          })\n",
    "        output.append(df)"
   ]
  },
  {
   "cell_type": "code",
   "execution_count": 13,
   "id": "d9a106fc-4c5c-4263-ae5a-489c6b53e999",
   "metadata": {},
   "outputs": [],
   "source": [
    "df_EMNLP_2020 = pd.concat(output, axis = 0, ignore_index = True)"
   ]
  },
  {
   "cell_type": "code",
   "execution_count": 14,
   "id": "e6f14bd9-cf8e-4f0c-a66c-514308937c29",
   "metadata": {},
   "outputs": [
    {
     "data": {
      "text/html": [
       "<div>\n",
       "<style scoped>\n",
       "    .dataframe tbody tr th:only-of-type {\n",
       "        vertical-align: middle;\n",
       "    }\n",
       "\n",
       "    .dataframe tbody tr th {\n",
       "        vertical-align: top;\n",
       "    }\n",
       "\n",
       "    .dataframe thead th {\n",
       "        text-align: right;\n",
       "    }\n",
       "</style>\n",
       "<table border=\"1\" class=\"dataframe\">\n",
       "  <thead>\n",
       "    <tr style=\"text-align: right;\">\n",
       "      <th></th>\n",
       "      <th>Labels</th>\n",
       "      <th>Paper Name</th>\n",
       "      <th>Author Names</th>\n",
       "    </tr>\n",
       "  </thead>\n",
       "  <tbody>\n",
       "    <tr>\n",
       "      <th>0</th>\n",
       "      <td>Computational Social Science and Social Media</td>\n",
       "      <td>Cross-Media Keyphrase Prediction: A Unified Fr...</td>\n",
       "      <td>Yue Wang, Jing Li, Michael Lyu, Irwin King</td>\n",
       "    </tr>\n",
       "    <tr>\n",
       "      <th>1</th>\n",
       "      <td>Computational Social Science and Social Media</td>\n",
       "      <td>EmoTag1200: Understanding the Association betw...</td>\n",
       "      <td>Abu Awal Md Shoeb, Gerard de Melo</td>\n",
       "    </tr>\n",
       "    <tr>\n",
       "      <th>2</th>\n",
       "      <td>Computational Social Science and Social Media</td>\n",
       "      <td>Help! Need Advice on Identifying Advice</td>\n",
       "      <td>Venkata Subrahmanyan Govindarajan, Benjamin Ch...</td>\n",
       "    </tr>\n",
       "    <tr>\n",
       "      <th>3</th>\n",
       "      <td>Computational Social Science and Social Media</td>\n",
       "      <td>Modeling Protagonist Emotions for Emotion-Awar...</td>\n",
       "      <td>Faeze Brahman, Snigdha Chaturvedi</td>\n",
       "    </tr>\n",
       "    <tr>\n",
       "      <th>4</th>\n",
       "      <td>Computational Social Science and Social Media</td>\n",
       "      <td>Condolence and Empathy in Online Communities</td>\n",
       "      <td>Naitian Zhou, David Jurgens</td>\n",
       "    </tr>\n",
       "    <tr>\n",
       "      <th>...</th>\n",
       "      <td>...</td>\n",
       "      <td>...</td>\n",
       "      <td>...</td>\n",
       "    </tr>\n",
       "    <tr>\n",
       "      <th>776</th>\n",
       "      <td>Syntax: Tagging, Chunking, and Parsing</td>\n",
       "      <td>Discontinuous Constituent Parsing as Sequence ...</td>\n",
       "      <td>David Vilares, Carlos Gómez-Rodríguez</td>\n",
       "    </tr>\n",
       "    <tr>\n",
       "      <th>777</th>\n",
       "      <td>Syntax: Tagging, Chunking, and Parsing</td>\n",
       "      <td>On the Role of Supervision in Unsupervised Con...</td>\n",
       "      <td>Haoyue Shi, Karen Livescu, Kevin Gimpel</td>\n",
       "    </tr>\n",
       "    <tr>\n",
       "      <th>778</th>\n",
       "      <td>Syntax: Tagging, Chunking, and Parsing</td>\n",
       "      <td>Unsupervised Parsing via Constituency Tests</td>\n",
       "      <td>Steven Cao, Nikita Kitaev, Dan Klein</td>\n",
       "    </tr>\n",
       "    <tr>\n",
       "      <th>779</th>\n",
       "      <td>Syntax: Tagging, Chunking, and Parsing</td>\n",
       "      <td>Please Mind the Root: Decoding Arborescences f...</td>\n",
       "      <td>Ran Zmigrod, Tim Vieira, Ryan Cotterell</td>\n",
       "    </tr>\n",
       "    <tr>\n",
       "      <th>780</th>\n",
       "      <td>Syntax: Tagging, Chunking, and Parsing</td>\n",
       "      <td>Interpretable Multi-dataset Evaluation for Nam...</td>\n",
       "      <td>Jinlan Fu, Pengfei Liu, Graham Neubig</td>\n",
       "    </tr>\n",
       "  </tbody>\n",
       "</table>\n",
       "<p>781 rows × 3 columns</p>\n",
       "</div>"
      ],
      "text/plain": [
       "                                            Labels  \\\n",
       "0    Computational Social Science and Social Media   \n",
       "1    Computational Social Science and Social Media   \n",
       "2    Computational Social Science and Social Media   \n",
       "3    Computational Social Science and Social Media   \n",
       "4    Computational Social Science and Social Media   \n",
       "..                                             ...   \n",
       "776         Syntax: Tagging, Chunking, and Parsing   \n",
       "777         Syntax: Tagging, Chunking, and Parsing   \n",
       "778         Syntax: Tagging, Chunking, and Parsing   \n",
       "779         Syntax: Tagging, Chunking, and Parsing   \n",
       "780         Syntax: Tagging, Chunking, and Parsing   \n",
       "\n",
       "                                            Paper Name  \\\n",
       "0    Cross-Media Keyphrase Prediction: A Unified Fr...   \n",
       "1    EmoTag1200: Understanding the Association betw...   \n",
       "2              Help! Need Advice on Identifying Advice   \n",
       "3    Modeling Protagonist Emotions for Emotion-Awar...   \n",
       "4         Condolence and Empathy in Online Communities   \n",
       "..                                                 ...   \n",
       "776  Discontinuous Constituent Parsing as Sequence ...   \n",
       "777  On the Role of Supervision in Unsupervised Con...   \n",
       "778        Unsupervised Parsing via Constituency Tests   \n",
       "779  Please Mind the Root: Decoding Arborescences f...   \n",
       "780  Interpretable Multi-dataset Evaluation for Nam...   \n",
       "\n",
       "                                          Author Names  \n",
       "0           Yue Wang, Jing Li, Michael Lyu, Irwin King  \n",
       "1                    Abu Awal Md Shoeb, Gerard de Melo  \n",
       "2    Venkata Subrahmanyan Govindarajan, Benjamin Ch...  \n",
       "3                    Faeze Brahman, Snigdha Chaturvedi  \n",
       "4                          Naitian Zhou, David Jurgens  \n",
       "..                                                 ...  \n",
       "776              David Vilares, Carlos Gómez-Rodríguez  \n",
       "777            Haoyue Shi, Karen Livescu, Kevin Gimpel  \n",
       "778               Steven Cao, Nikita Kitaev, Dan Klein  \n",
       "779            Ran Zmigrod, Tim Vieira, Ryan Cotterell  \n",
       "780              Jinlan Fu, Pengfei Liu, Graham Neubig  \n",
       "\n",
       "[781 rows x 3 columns]"
      ]
     },
     "execution_count": 14,
     "metadata": {},
     "output_type": "execute_result"
    }
   ],
   "source": [
    "df_EMNLP_2020"
   ]
  },
  {
   "cell_type": "code",
   "execution_count": 23,
   "id": "9bea1ab0-f87d-49d1-93fb-a0f722c2d33f",
   "metadata": {},
   "outputs": [
    {
     "data": {
      "text/plain": [
       "array(['Cognitive Modeling and Psycholinguistics',\n",
       "       'Computational Social Science and Social Media',\n",
       "       'Dialogue and Interactive Systems', 'Discourse and Pragmatics',\n",
       "       'Ethics and NLP', 'Generation', 'Information Extraction',\n",
       "       'Information Retrieval and Text Mining',\n",
       "       'Interpretability and Analysis of Models for NLP',\n",
       "       'Language Grounding to Vision, Robotics and Beyond',\n",
       "       'Machine Learning for NLP', 'Machine Translation',\n",
       "       'NLP Applications', 'Phonology, Morphology and Word Segmentation',\n",
       "       'Question Answering', 'Resources and Evaluation',\n",
       "       'Semantics: Lexical', 'Semantics: Sentence Level',\n",
       "       'Semantics: Textual Inference and Other Areas of Semantics',\n",
       "       'Sentiment Analysis, Stylistic Analysis, and Argument Mining',\n",
       "       'Speech and Multimodality', 'Summarization',\n",
       "       'Syntax: Tagging, Chunking and Parsing', 'Theme',\n",
       "       'Theory and Formalism in NLP (Linguistic and Mathematical)',\n",
       "       'System Demonstrations', 'Student Research Workshop'], dtype=object)"
      ]
     },
     "execution_count": 23,
     "metadata": {},
     "output_type": "execute_result"
    }
   ],
   "source": [
    "acl_labels = df_ACL_2020[\"Labels\"].unique()\n",
    "acl_labels"
   ]
  },
  {
   "cell_type": "code",
   "execution_count": 24,
   "id": "960caf5a-c0ec-4374-b211-ce23e24b4db7",
   "metadata": {},
   "outputs": [
    {
     "data": {
      "text/plain": [
       "array(['Computational Social Science and Social Media',\n",
       "       'Dialog and Interactive Systems', 'Discourse and Pragmatics',\n",
       "       'Information Extraction', 'Information Retrieval and Text Mining',\n",
       "       'Interpretability and Analysis of Models for NLP',\n",
       "       'Language Generation',\n",
       "       'Language Grounding to Vision, Robotics and Beyond',\n",
       "       'Linguistic Theories, Cognitive Modeling and Psycholinguistics',\n",
       "       'Machine Learning for NLP',\n",
       "       'Machine Translation and Multilinguality', 'NLP Applications',\n",
       "       'Phonology, Morphology and Word Segmentation',\n",
       "       'Question Answering', 'Semantics: Lexical Semantics',\n",
       "       'Semantics: Sentence-level Semantics, Textual Inference and Other areas',\n",
       "       'Sentiment Analysis, Stylistic Analysis, and Argument Mining',\n",
       "       'Speech and Multimodality', 'Summarization',\n",
       "       'Syntax: Tagging, Chunking, and Parsing'], dtype=object)"
      ]
     },
     "execution_count": 24,
     "metadata": {},
     "output_type": "execute_result"
    }
   ],
   "source": [
    "emnlp_labels = df_EMNLP_2020[\"Labels\"].unique()\n",
    "emnlp_labels"
   ]
  },
  {
   "cell_type": "code",
   "execution_count": 27,
   "id": "382d5cfe-043a-4a97-9b4e-e57753fbf6e5",
   "metadata": {},
   "outputs": [
    {
     "data": {
      "text/plain": [
       "{'Cognitive Modeling and Psycholinguistics',\n",
       " 'Computational Social Science and Social Media',\n",
       " 'Dialog and Interactive Systems',\n",
       " 'Dialogue and Interactive Systems',\n",
       " 'Discourse and Pragmatics',\n",
       " 'Ethics and NLP',\n",
       " 'Generation',\n",
       " 'Information Extraction',\n",
       " 'Information Retrieval and Text Mining',\n",
       " 'Interpretability and Analysis of Models for NLP',\n",
       " 'Language Generation',\n",
       " 'Language Grounding to Vision, Robotics and Beyond',\n",
       " 'Linguistic Theories, Cognitive Modeling and Psycholinguistics',\n",
       " 'Machine Learning for NLP',\n",
       " 'Machine Translation',\n",
       " 'Machine Translation and Multilinguality',\n",
       " 'NLP Applications',\n",
       " 'Phonology, Morphology and Word Segmentation',\n",
       " 'Question Answering',\n",
       " 'Resources and Evaluation',\n",
       " 'Semantics: Lexical',\n",
       " 'Semantics: Lexical Semantics',\n",
       " 'Semantics: Sentence Level',\n",
       " 'Semantics: Sentence-level Semantics, Textual Inference and Other areas',\n",
       " 'Semantics: Textual Inference and Other Areas of Semantics',\n",
       " 'Sentiment Analysis, Stylistic Analysis, and Argument Mining',\n",
       " 'Speech and Multimodality',\n",
       " 'Student Research Workshop',\n",
       " 'Summarization',\n",
       " 'Syntax: Tagging, Chunking and Parsing',\n",
       " 'Syntax: Tagging, Chunking, and Parsing',\n",
       " 'System Demonstrations',\n",
       " 'Theme',\n",
       " 'Theory and Formalism in NLP (Linguistic and Mathematical)'}"
      ]
     },
     "execution_count": 27,
     "metadata": {},
     "output_type": "execute_result"
    }
   ],
   "source": [
    "set(list(acl_labels) + list(emnlp_labels))"
   ]
  },
  {
   "cell_type": "code",
   "execution_count": 18,
   "id": "568002a9-d17a-4aa9-a32b-792f56896569",
   "metadata": {},
   "outputs": [],
   "source": [
    "# Will length affect how well the label does? Does it make a difference?"
   ]
  },
  {
   "cell_type": "code",
   "execution_count": 19,
   "id": "7502d66c-2b54-4253-bb94-2c2952a67fe6",
   "metadata": {},
   "outputs": [],
   "source": [
    "mapping = {'Dialog and Interactive Systems': 'Dialogue and Interactive Systems',\n",
    "          'Machine Translation': 'Machine Translation and Multilinguality',\n",
    "          'Cognitive Modeling and Psycholinguistics': 'Linguistic Theories, Cognitive Modeling and Psycholinguistics',\n",
    "           'Language Generation': 'Generation',\n",
    "           'Semantics: Lexical': 'Semantics: Lexical Semantics',\n",
    "           'Semantics: Sentence Level': 'Semantics: Sentence-level Semantics, Textual Inference and Other areas',\n",
    "           'Semantics: Textual Inference and Other Areas of Semantics': 'Semantics: Sentence-level Semantics, Textual Inference and Other areas',\n",
    "           'Syntax: Tagging, Chunking, and Parsing': 'Syntax: Tagging, Chunking and Parsing'}"
   ]
  },
  {
   "cell_type": "code",
   "execution_count": 20,
   "id": "4e03ebcb-8416-4afb-815d-5b8adc3e03ae",
   "metadata": {},
   "outputs": [
    {
     "data": {
      "text/html": [
       "<div>\n",
       "<style scoped>\n",
       "    .dataframe tbody tr th:only-of-type {\n",
       "        vertical-align: middle;\n",
       "    }\n",
       "\n",
       "    .dataframe tbody tr th {\n",
       "        vertical-align: top;\n",
       "    }\n",
       "\n",
       "    .dataframe thead th {\n",
       "        text-align: right;\n",
       "    }\n",
       "</style>\n",
       "<table border=\"1\" class=\"dataframe\">\n",
       "  <thead>\n",
       "    <tr style=\"text-align: right;\">\n",
       "      <th></th>\n",
       "      <th>Labels</th>\n",
       "      <th>Paper Name</th>\n",
       "      <th>Author Names</th>\n",
       "    </tr>\n",
       "  </thead>\n",
       "  <tbody>\n",
       "    <tr>\n",
       "      <th>0</th>\n",
       "      <td>Computational Social Science and Social Media</td>\n",
       "      <td>Cross-Media Keyphrase Prediction: A Unified Fr...</td>\n",
       "      <td>Yue Wang, Jing Li, Michael Lyu, Irwin King</td>\n",
       "    </tr>\n",
       "    <tr>\n",
       "      <th>1</th>\n",
       "      <td>Computational Social Science and Social Media</td>\n",
       "      <td>EmoTag1200: Understanding the Association betw...</td>\n",
       "      <td>Abu Awal Md Shoeb, Gerard de Melo</td>\n",
       "    </tr>\n",
       "    <tr>\n",
       "      <th>2</th>\n",
       "      <td>Computational Social Science and Social Media</td>\n",
       "      <td>Help! Need Advice on Identifying Advice</td>\n",
       "      <td>Venkata Subrahmanyan Govindarajan, Benjamin Ch...</td>\n",
       "    </tr>\n",
       "    <tr>\n",
       "      <th>3</th>\n",
       "      <td>Computational Social Science and Social Media</td>\n",
       "      <td>Modeling Protagonist Emotions for Emotion-Awar...</td>\n",
       "      <td>Faeze Brahman, Snigdha Chaturvedi</td>\n",
       "    </tr>\n",
       "    <tr>\n",
       "      <th>4</th>\n",
       "      <td>Computational Social Science and Social Media</td>\n",
       "      <td>Condolence and Empathy in Online Communities</td>\n",
       "      <td>Naitian Zhou, David Jurgens</td>\n",
       "    </tr>\n",
       "  </tbody>\n",
       "</table>\n",
       "</div>"
      ],
      "text/plain": [
       "                                          Labels  \\\n",
       "0  Computational Social Science and Social Media   \n",
       "1  Computational Social Science and Social Media   \n",
       "2  Computational Social Science and Social Media   \n",
       "3  Computational Social Science and Social Media   \n",
       "4  Computational Social Science and Social Media   \n",
       "\n",
       "                                          Paper Name  \\\n",
       "0  Cross-Media Keyphrase Prediction: A Unified Fr...   \n",
       "1  EmoTag1200: Understanding the Association betw...   \n",
       "2            Help! Need Advice on Identifying Advice   \n",
       "3  Modeling Protagonist Emotions for Emotion-Awar...   \n",
       "4       Condolence and Empathy in Online Communities   \n",
       "\n",
       "                                        Author Names  \n",
       "0         Yue Wang, Jing Li, Michael Lyu, Irwin King  \n",
       "1                  Abu Awal Md Shoeb, Gerard de Melo  \n",
       "2  Venkata Subrahmanyan Govindarajan, Benjamin Ch...  \n",
       "3                  Faeze Brahman, Snigdha Chaturvedi  \n",
       "4                        Naitian Zhou, David Jurgens  "
      ]
     },
     "execution_count": 20,
     "metadata": {},
     "output_type": "execute_result"
    }
   ],
   "source": [
    "df_EMNLP_2020.head()"
   ]
  },
  {
   "cell_type": "code",
   "execution_count": 21,
   "id": "dffbeadd-2fd6-496e-aec7-25c6a2e4a277",
   "metadata": {},
   "outputs": [
    {
     "data": {
      "text/html": [
       "<div>\n",
       "<style scoped>\n",
       "    .dataframe tbody tr th:only-of-type {\n",
       "        vertical-align: middle;\n",
       "    }\n",
       "\n",
       "    .dataframe tbody tr th {\n",
       "        vertical-align: top;\n",
       "    }\n",
       "\n",
       "    .dataframe thead th {\n",
       "        text-align: right;\n",
       "    }\n",
       "</style>\n",
       "<table border=\"1\" class=\"dataframe\">\n",
       "  <thead>\n",
       "    <tr style=\"text-align: right;\">\n",
       "      <th></th>\n",
       "      <th>Labels</th>\n",
       "      <th>Paper Name</th>\n",
       "      <th>Author Names</th>\n",
       "    </tr>\n",
       "  </thead>\n",
       "  <tbody>\n",
       "    <tr>\n",
       "      <th>0</th>\n",
       "      <td>Cognitive Modeling and Psycholinguistics</td>\n",
       "      <td>Inflecting When There's No Majority: Limitatio...</td>\n",
       "      <td>Kate McCurdy, Sharon Goldwater, Adam Lopez</td>\n",
       "    </tr>\n",
       "    <tr>\n",
       "      <th>1</th>\n",
       "      <td>Cognitive Modeling and Psycholinguistics</td>\n",
       "      <td>What determines the order of adjectives in Eng...</td>\n",
       "      <td>Richard Futrell, William Dyer, Greg Scontras</td>\n",
       "    </tr>\n",
       "    <tr>\n",
       "      <th>2</th>\n",
       "      <td>Cognitive Modeling and Psycholinguistics</td>\n",
       "      <td>Recurrent Neural Network Language Models Alway...</td>\n",
       "      <td>Forrest Davis, Marten van Schijndel</td>\n",
       "    </tr>\n",
       "    <tr>\n",
       "      <th>3</th>\n",
       "      <td>Cognitive Modeling and Psycholinguistics</td>\n",
       "      <td>A Tale of Two Perplexities: Sensitivity of Neu...</td>\n",
       "      <td>Trevor Cohen, Serguei Pakhomov</td>\n",
       "    </tr>\n",
       "    <tr>\n",
       "      <th>4</th>\n",
       "      <td>Cognitive Modeling and Psycholinguistics</td>\n",
       "      <td>You Don't Have Time to Read This: An Explorati...</td>\n",
       "      <td>Orion Weller, Jordan Hildebrandt, Ilya Reznik,...</td>\n",
       "    </tr>\n",
       "  </tbody>\n",
       "</table>\n",
       "</div>"
      ],
      "text/plain": [
       "                                     Labels  \\\n",
       "0  Cognitive Modeling and Psycholinguistics   \n",
       "1  Cognitive Modeling and Psycholinguistics   \n",
       "2  Cognitive Modeling and Psycholinguistics   \n",
       "3  Cognitive Modeling and Psycholinguistics   \n",
       "4  Cognitive Modeling and Psycholinguistics   \n",
       "\n",
       "                                          Paper Name  \\\n",
       "0  Inflecting When There's No Majority: Limitatio...   \n",
       "1  What determines the order of adjectives in Eng...   \n",
       "2  Recurrent Neural Network Language Models Alway...   \n",
       "3  A Tale of Two Perplexities: Sensitivity of Neu...   \n",
       "4  You Don't Have Time to Read This: An Explorati...   \n",
       "\n",
       "                                        Author Names  \n",
       "0         Kate McCurdy, Sharon Goldwater, Adam Lopez  \n",
       "1       Richard Futrell, William Dyer, Greg Scontras  \n",
       "2                Forrest Davis, Marten van Schijndel  \n",
       "3                     Trevor Cohen, Serguei Pakhomov  \n",
       "4  Orion Weller, Jordan Hildebrandt, Ilya Reznik,...  "
      ]
     },
     "execution_count": 21,
     "metadata": {},
     "output_type": "execute_result"
    }
   ],
   "source": [
    "df_ACL_2020.head()"
   ]
  },
  {
   "cell_type": "code",
   "execution_count": 22,
   "id": "d4cdd50e-40ed-45cf-b059-81b4157101ad",
   "metadata": {},
   "outputs": [],
   "source": [
    "df_ACL_2020_reduced = df_ACL_2020.replace({\"Labels\": mapping})\n",
    "df_EMNLP_2020_reduced = df_EMNLP_2020.replace({\"Labels\": mapping})"
   ]
  },
  {
   "cell_type": "code",
   "execution_count": 19,
   "id": "07709ff3-23d9-4ecf-a513-2716e8272bce",
   "metadata": {},
   "outputs": [],
   "source": [
    "df_ACL_2020_reduced.to_csv(\"./Data/ACL_2022.csv\", index = False)\n",
    "df_EMNLP_2020_reduced.to_csv(\"./Data/EMNLP_2020.csv\", index = False)"
   ]
  },
  {
   "cell_type": "code",
   "execution_count": null,
   "id": "6738f11d-0280-4bec-aa8f-f9370c9050c5",
   "metadata": {},
   "outputs": [],
   "source": [
    "# Potentially difficult to filter out\n",
    "'Machine Learning for NLP',\n",
    "'Student Research Workshop',\n",
    "'Theme'"
   ]
  },
  {
   "cell_type": "code",
   "execution_count": 28,
   "id": "db0b2d1a-6f83-44cb-bbc5-7a86f58c97ce",
   "metadata": {},
   "outputs": [],
   "source": [
    "df_ACL_2020 = pd.read_csv(\"./Data/ACL_2022_bart_pred_231122.csv\")\n",
    "df_EMNLP_2020 = pd.read_csv(\"./Data/EMNLP_2020_bart_pred_231122.csv\")"
   ]
  },
  {
   "cell_type": "code",
   "execution_count": 51,
   "id": "a18319ca-f71b-4305-a357-9e40ed11b7f0",
   "metadata": {},
   "outputs": [
    {
     "data": {
      "text/plain": [
       "array([[11]])"
      ]
     },
     "execution_count": 51,
     "metadata": {},
     "output_type": "execute_result"
    }
   ],
   "source": [
    "y_true = df_ACL_2020['Labels']\n",
    "y_pred = df_ACL_2020['Max Label']\n",
    "confusion_matrix(y_true, y_pred, labels=[\"Linguistic Theories, Cognitive Modeling and Psycholinguistics\"])"
   ]
  },
  {
   "cell_type": "code",
   "execution_count": 46,
   "id": "ef3f376f-7b19-42c5-8247-375543c2f498",
   "metadata": {},
   "outputs": [
    {
     "data": {
      "text/plain": [
       "0      Linguistic Theories, Cognitive Modeling and Ps...\n",
       "1      Linguistic Theories, Cognitive Modeling and Ps...\n",
       "2      Linguistic Theories, Cognitive Modeling and Ps...\n",
       "3      Linguistic Theories, Cognitive Modeling and Ps...\n",
       "4      Linguistic Theories, Cognitive Modeling and Ps...\n",
       "                             ...                        \n",
       "854                            Student Research Workshop\n",
       "855                            Student Research Workshop\n",
       "856                            Student Research Workshop\n",
       "857                            Student Research Workshop\n",
       "858                            Student Research Workshop\n",
       "Name: Labels, Length: 859, dtype: object"
      ]
     },
     "execution_count": 46,
     "metadata": {},
     "output_type": "execute_result"
    }
   ],
   "source": [
    "df_ACL_2020['Labels']"
   ]
  },
  {
   "cell_type": "code",
   "execution_count": 47,
   "id": "7bcbd2b0-9a8f-4955-8750-5cc54754a618",
   "metadata": {},
   "outputs": [
    {
     "data": {
      "text/plain": [
       "0      Linguistic Theories, Cognitive Modeling and Ps...\n",
       "1      Linguistic Theories, Cognitive Modeling and Ps...\n",
       "2      Linguistic Theories, Cognitive Modeling and Ps...\n",
       "3      Linguistic Theories, Cognitive Modeling and Ps...\n",
       "4      Linguistic Theories, Cognitive Modeling and Ps...\n",
       "                             ...                        \n",
       "854    Linguistic Theories, Cognitive Modeling and Ps...\n",
       "855    Linguistic Theories, Cognitive Modeling and Ps...\n",
       "856    Linguistic Theories, Cognitive Modeling and Ps...\n",
       "857    Linguistic Theories, Cognitive Modeling and Ps...\n",
       "858    Linguistic Theories, Cognitive Modeling and Ps...\n",
       "Name: Max Label, Length: 859, dtype: object"
      ]
     },
     "execution_count": 47,
     "metadata": {},
     "output_type": "execute_result"
    }
   ],
   "source": [
    "df_ACL_2020['Max Label']"
   ]
  }
 ],
 "metadata": {
  "kernelspec": {
   "display_name": "myenv",
   "language": "python",
   "name": "myenv"
  },
  "language_info": {
   "codemirror_mode": {
    "name": "ipython",
    "version": 3
   },
   "file_extension": ".py",
   "mimetype": "text/x-python",
   "name": "python",
   "nbconvert_exporter": "python",
   "pygments_lexer": "ipython3",
   "version": "3.9.15"
  }
 },
 "nbformat": 4,
 "nbformat_minor": 5
}
